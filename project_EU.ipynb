{
 "cells": [
  {
   "cell_type": "markdown",
   "metadata": {},
   "source": [
    "# Are we consuming more local?\n",
    "\n",
    "## Research questions\n",
    "\n",
    "1. Where are the products we consume in our everyday life coming from?\n",
    "\n",
    "    - Which countries produce the primary resources (ground ingredients) consumed in Switzerland?\n",
    "    - Which countries manufacture most of the products consumed in Switzerland?\n",
    "\n",
    "\n",
    "2. Is there a trend over time to consume more local products?\n",
    "\n",
    "    - Are new products mostly using primary resources from Switzerland? Or from other countries inside Europe?\n",
    "    - Are new products mostly manufactured in Switzerland? Or from other countries inside Europe?\n",
    "    - Is there a trend over time to local products to promote their origin?\n",
    "\n",
    "## Datasets\n",
    "\n",
    "Open Food Facts (https://world.openfoodfacts.org/data)\n",
    "\n",
    "Additional datasets “Evolution de la consommation de denrées alimentaires en Suisse” (https://opendata.swiss/fr/dataset/entwicklung-des-nahrungsmittelverbrauches-in-der-schweiz-je-kopf-und-jahr1) and “Dépenses fédérales pour l’agriculture et l’alimentation” (https://opendata.swiss/fr/dataset/bundesausgaben-fur-die-landwirtschaft-und-die-ernahrung1) from https://opendata.swiss/fr/group/agriculture\n",
    "\n",
    "A last additional dataset for the second question of the project\n",
    "https://www.gate.ezv.admin.ch/swissimpex/public/bereiche/waren/result.xhtml\n",
    "Total of imports of agriculture, forestry and fishing goods\n"
   ]
  },
  {
   "cell_type": "code",
   "execution_count": 1,
   "metadata": {},
   "outputs": [],
   "source": [
    "import re\n",
    "import pandas as pd\n",
    "import numpy as np\n",
    "import scipy as sp\n",
    "import scipy.stats as stats\n",
    "import matplotlib.pyplot as plt\n",
    "from datetime import timedelta\n",
    "import findspark\n",
    "findspark.init()\n",
    "import pyspark\n",
    "\n",
    "from functools import reduce\n",
    "from pyspark.sql import *\n",
    "from pyspark.sql import functions as F\n",
    "from pyspark.sql import SQLContext\n",
    "from pyspark.sql.functions import *\n",
    "from pyspark.sql.functions import min\n",
    "from pyspark.sql.functions import to_date, last_day,date_add\n",
    "from datetime import timedelta\n",
    "\n",
    "spark = SparkSession.builder.getOrCreate()\n",
    "sc = spark.sparkContext"
   ]
  },
  {
   "cell_type": "code",
   "execution_count": 2,
   "metadata": {},
   "outputs": [],
   "source": [
    "DATA_FOLDER = 'data'\n",
    "openfood_file = \"/en.openfoodfacts.org.products.csv\"\n",
    "temp_file = 'output/temp.csv'\n",
    "countries_mapping_file = '/mapping_countries_revised.csv'\n",
    "cleaned_off_dataset = 'output/cleaned_off.csv'"
   ]
  },
  {
   "cell_type": "markdown",
   "metadata": {},
   "source": [
    "# Loading data"
   ]
  },
  {
   "cell_type": "code",
   "execution_count": 3,
   "metadata": {},
   "outputs": [
    {
     "name": "stdout",
     "output_type": "stream",
     "text": [
      "root\n",
      " |-- code: string (nullable = true)\n",
      " |-- manufacturing_places_tags: string (nullable = true)\n",
      " |-- countries_tags: string (nullable = true)\n",
      "\n"
     ]
    }
   ],
   "source": [
    "dataset_main = spark.read.csv(DATA_FOLDER + openfood_file, header=True, mode=\"DROPMALFORMED\", sep = '\\t')\n",
    "\n",
    "dataset_main.createOrReplaceTempView(\"data_main\")\n",
    "\n",
    "# Filter required columns\n",
    "p_id_col = \" code, \"\n",
    "geo_tags_cols = \" manufacturing_places_tags, countries_tags \"\n",
    "\n",
    "off_df = spark.sql(\"SELECT\" + p_id_col + geo_tags_cols + \" FROM data_main\")\n",
    "off_df.printSchema()"
   ]
  },
  {
   "cell_type": "markdown",
   "metadata": {},
   "source": [
    "## Data Cleaning and Preprocessing"
   ]
  },
  {
   "cell_type": "code",
   "execution_count": 4,
   "metadata": {},
   "outputs": [
    {
     "name": "stdout",
     "output_type": "stream",
     "text": [
      "Full GEO information data Size:\n",
      "3(columns) * 68672(rows)\n"
     ]
    }
   ],
   "source": [
    "off_df.createOrReplaceTempView(\"off_df\")\n",
    "\n",
    "sql_filter = \"SELECT * FROM off_df WHERE countries_tags is not NULL AND manufacturing_places_tags is not NULL\"\n",
    "off_p_df = spark.sql(sql_filter)\n",
    "\n",
    "off_p_all_size = off_p_df.count()\n",
    "off_p_cols_size = len(off_p_df.columns)\n",
    "print(\"Full GEO information data Size:\\n\" + str(off_p_cols_size) + \"(columns) * \" + str(off_p_all_size) + \"(rows)\")"
   ]
  },
  {
   "cell_type": "code",
   "execution_count": 5,
   "metadata": {},
   "outputs": [],
   "source": [
    "# Explode countries\n",
    "off_p_df = off_p_df\\\n",
    ".withColumn('manufacturing_places_tags', F.explode_outer(F.split('manufacturing_places_tags', ',')))\\\n",
    ".withColumn('countries_tags', F.explode_outer(F.split('countries_tags', ',')))\n",
    "\n",
    "# Remove \"en:\" occurances before name of each country in coutries_tags\n",
    "off_p_df = off_p_df.withColumn('countries_tags', F.regexp_replace('countries_tags', \"en:\", \"\"))\n",
    "\n",
    "# Remove - in name of countries\n",
    "off_p_df = off_p_df.withColumn('countries_tags', F.regexp_replace('countries_tags', \"-\", \" \"))\n",
    "off_p_df = off_p_df.withColumn('manufacturing_places_tags', F.regexp_replace('manufacturing_places_tags', \"-\", \" \"))\n",
    "\n",
    "# Remove numbers from name of countries\n",
    "off_p_df = off_p_df.withColumn('countries_tags', F.regexp_replace('countries_tags', \"\\d+\", \"\"))\n",
    "off_p_df = off_p_df.withColumn('manufacturing_places_tags', F.regexp_replace('manufacturing_places_tags', \"\\d+\", \"\"))"
   ]
  },
  {
   "cell_type": "code",
   "execution_count": 6,
   "metadata": {},
   "outputs": [
    {
     "name": "stdout",
     "output_type": "stream",
     "text": [
      "+-------------+-------------------------+--------------+\n",
      "|         code|manufacturing_places_tags|countries_tags|\n",
      "+-------------+-------------------------+--------------+\n",
      "|0000000020114|                   france|        france|\n",
      "|0000000274722|                   france|        france|\n",
      "|0000000290616|          brossard quebec|        canada|\n",
      "|0000000394710|          brossard quebec|        canada|\n",
      "|0000001071894|           united kingdom|united kingdom|\n",
      "+-------------+-------------------------+--------------+\n",
      "only showing top 5 rows\n",
      "\n"
     ]
    }
   ],
   "source": [
    "off_p_df.show(5)"
   ]
  },
  {
   "cell_type": "code",
   "execution_count": 7,
   "metadata": {},
   "outputs": [
    {
     "name": "stdout",
     "output_type": "stream",
     "text": [
      "root\n",
      " |-- code: string (nullable = true)\n",
      " |-- manufacturing_places_tags: string (nullable = true)\n",
      " |-- countries_tags: string (nullable = true)\n",
      " |-- countries: string (nullable = true)\n",
      " |-- manufacturing_places: string (nullable = true)\n",
      "\n"
     ]
    }
   ],
   "source": [
    "off_p_df = off_p_df.withColumn(\"countries\", off_p_df[\"countries_tags\"])\n",
    "off_p_df = off_p_df.withColumn(\"manufacturing_places\", off_p_df[\"manufacturing_places_tags\"])\n",
    "off_p_df.printSchema()"
   ]
  },
  {
   "cell_type": "code",
   "execution_count": 8,
   "metadata": {},
   "outputs": [
    {
     "name": "stdout",
     "output_type": "stream",
     "text": [
      "Full GEO information data Size:\n",
      "5(columns) * 128781(rows)\n"
     ]
    }
   ],
   "source": [
    "off_p_all_size = off_p_df.count()\n",
    "off_p_cols_size = len(off_p_df.columns)\n",
    "print(\"Full GEO information data Size:\\n\" + str(off_p_cols_size) + \"(columns) * \" + str(off_p_all_size) + \"(rows)\")"
   ]
  },
  {
   "cell_type": "code",
   "execution_count": 9,
   "metadata": {},
   "outputs": [
    {
     "data": {
      "text/html": [
       "<div>\n",
       "<style scoped>\n",
       "    .dataframe tbody tr th:only-of-type {\n",
       "        vertical-align: middle;\n",
       "    }\n",
       "\n",
       "    .dataframe tbody tr th {\n",
       "        vertical-align: top;\n",
       "    }\n",
       "\n",
       "    .dataframe thead th {\n",
       "        text-align: right;\n",
       "    }\n",
       "</style>\n",
       "<table border=\"1\" class=\"dataframe\">\n",
       "  <thead>\n",
       "    <tr style=\"text-align: right;\">\n",
       "      <th></th>\n",
       "      <th>input</th>\n",
       "      <th>country_code</th>\n",
       "    </tr>\n",
       "  </thead>\n",
       "  <tbody>\n",
       "    <tr>\n",
       "      <th>841</th>\n",
       "      <td>england</td>\n",
       "      <td>UK</td>\n",
       "    </tr>\n",
       "    <tr>\n",
       "      <th>842</th>\n",
       "      <td>scotland</td>\n",
       "      <td>UK</td>\n",
       "    </tr>\n",
       "    <tr>\n",
       "      <th>843</th>\n",
       "      <td>europe</td>\n",
       "      <td>EU</td>\n",
       "    </tr>\n",
       "    <tr>\n",
       "      <th>844</th>\n",
       "      <td>mexique</td>\n",
       "      <td>MX</td>\n",
       "    </tr>\n",
       "    <tr>\n",
       "      <th>845</th>\n",
       "      <td>hongrie</td>\n",
       "      <td>HU</td>\n",
       "    </tr>\n",
       "  </tbody>\n",
       "</table>\n",
       "</div>"
      ],
      "text/plain": [
       "        input country_code\n",
       "841   england           UK\n",
       "842  scotland           UK\n",
       "843    europe           EU\n",
       "844   mexique           MX\n",
       "845   hongrie           HU"
      ]
     },
     "execution_count": 9,
     "metadata": {},
     "output_type": "execute_result"
    }
   ],
   "source": [
    "# Clean countries\n",
    "cleaned_countries= pd.read_csv(DATA_FOLDER + countries_mapping_file, sep=',', error_bad_lines=False, encoding = \"utf-8\").dropna()\n",
    "cleaned_countries.tail()"
   ]
  },
  {
   "cell_type": "code",
   "execution_count": 10,
   "metadata": {},
   "outputs": [],
   "source": [
    "seen = 0"
   ]
  },
  {
   "cell_type": "code",
   "execution_count": 12,
   "metadata": {},
   "outputs": [
    {
     "name": "stdout",
     "output_type": "stream",
     "text": [
      "500\n",
      "600\n",
      "700\n",
      "800\n",
      "Seen: 845\n"
     ]
    }
   ],
   "source": [
    "interval = 501\n",
    "if seen:\n",
    "    off_p_df = spark.read.csv(temp_file, header=True)\n",
    "\n",
    "# Clean countries using mapping_countries\n",
    "for index, row in cleaned_countries.head(seen + interval).iterrows():\n",
    "        if index < seen:\n",
    "            continue\n",
    "        if index%100 == 0:\n",
    "            print(index)    \n",
    "        off_p_df = off_p_df.withColumn('manufacturing_places', F.regexp_replace('manufacturing_places', \"^\" + str(row['input']) + \"$\", row['country_code']))\n",
    "        off_p_df = off_p_df.withColumn('countries', F.regexp_replace('countries', \"^\" + str(row['input']) + \"$\", row['country_code']))\n",
    "        seen = index\n",
    "\n",
    "# Save Spark dataframe in the Parquet format\n",
    "off_p_df.toPandas().to_csv(temp_file, index=False)\n",
    "\n",
    "print(\"Seen: {0}\".format(seen))"
   ]
  },
  {
   "cell_type": "code",
   "execution_count": 13,
   "metadata": {},
   "outputs": [
    {
     "name": "stdout",
     "output_type": "stream",
     "text": [
      "+-------------+-------------------------+--------------+---------+--------------------+\n",
      "|         code|manufacturing_places_tags|countries_tags|countries|manufacturing_places|\n",
      "+-------------+-------------------------+--------------+---------+--------------------+\n",
      "|0000000020114|                   france|        france|       FR|                  FR|\n",
      "|0000000274722|                   france|        france|       FR|                  FR|\n",
      "|0000000290616|          brossard quebec|        canada|       CA|     brossard quebec|\n",
      "|0000000394710|          brossard quebec|        canada|       CA|     brossard quebec|\n",
      "|0000001071894|           united kingdom|united kingdom|       UK|                  UK|\n",
      "|0000001938067|          brossard quebec|        canada|       CA|     brossard quebec|\n",
      "|0000004302544|                 brossard|        canada|       CA|            brossard|\n",
      "|0000004302544|                   quebec|        canada|       CA|              quebec|\n",
      "|0000007020254|               etats unis|        france|       FR|          etats unis|\n",
      "|0000007020254|               etats unis| united states|       US|          etats unis|\n",
      "+-------------+-------------------------+--------------+---------+--------------------+\n",
      "only showing top 10 rows\n",
      "\n"
     ]
    }
   ],
   "source": [
    "off_p_df.show(10)"
   ]
  },
  {
   "cell_type": "code",
   "execution_count": 14,
   "metadata": {},
   "outputs": [
    {
     "name": "stdout",
     "output_type": "stream",
     "text": [
      "Full GEO information data Size:\n",
      "128781(columns) *5(rows)\n"
     ]
    }
   ],
   "source": [
    "print(\"Full GEO information data Size:\\n{0}(columns) *{1}(rows)\".format(off_p_df.count(),len(off_p_df.columns) ))"
   ]
  },
  {
   "cell_type": "code",
   "execution_count": 15,
   "metadata": {},
   "outputs": [],
   "source": [
    "#filter europe countries - using FIPS country code\n",
    "filter_EU ='AL|AN|AM|AU|AJ|BO|BE|BK|BU|HR|CY|EZ|DA|EN|FI|FR|GG|GM|GR|HU|IC|EI|IT|KZ|KV|LG|LS|LH|LU|MK|MT|MD|MN|YI|NL|NO|Pl|PO|RO|RS|SM|LO|SI|SP|SW|SZ|TU|UP|UK|VT'"
   ]
  },
  {
   "cell_type": "code",
   "execution_count": 16,
   "metadata": {},
   "outputs": [
    {
     "name": "stdout",
     "output_type": "stream",
     "text": [
      "eu_sold data Size:\n",
      "119047\n"
     ]
    }
   ],
   "source": [
    "# store products that are sold in european union (france as ct)\n",
    "eu_sold_data = off_p_df.filter(off_p_df[\"countries\"].rlike(filter_EU))\n",
    "print(\"eu_sold data Size:\\n{0}\".format(eu_sold_data.count()))"
   ]
  },
  {
   "cell_type": "code",
   "execution_count": 17,
   "metadata": {},
   "outputs": [
    {
     "name": "stdout",
     "output_type": "stream",
     "text": [
      "swiss_sold data Size:\n",
      "3936\n"
     ]
    }
   ],
   "source": [
    "# store products that are sold in Switzerland- using FIPS country code\n",
    "swiss_sold_data = off_p_df[off_p_df[\"countries\"] == \"SZ\"]\n",
    "print(\"swiss_sold data Size:\\n{0}\".format(swiss_sold_data.count()))"
   ]
  },
  {
   "cell_type": "markdown",
   "metadata": {},
   "source": [
    "Now that the two datasets of products sold in the European Union, and products sold in Switzerland are created, the analysis for each one is done. The study is going to focus in the behavior of the \"manufacturing place\" of those products."
   ]
  },
  {
   "cell_type": "markdown",
   "metadata": {},
   "source": [
    "## Find the most important importers in Europe"
   ]
  },
  {
   "cell_type": "code",
   "execution_count": 19,
   "metadata": {},
   "outputs": [
    {
     "name": "stdout",
     "output_type": "stream",
     "text": [
      "Number of Importers:\n",
      "10029\n",
      "+--------------------+-----+\n",
      "|manufacturing_places|Count|\n",
      "+--------------------+-----+\n",
      "|                  FR|45826|\n",
      "|                  SP| 7604|\n",
      "|                  GM| 4864|\n",
      "|                  IT| 4505|\n",
      "|                  SZ| 2672|\n",
      "+--------------------+-----+\n",
      "only showing top 5 rows\n",
      "\n"
     ]
    }
   ],
   "source": [
    "# Find the most important importers in Europe\n",
    "eu_sold_data.createOrReplaceTempView(\"eu_sold_data\")\n",
    "target_manufacture = spark.sql(\"SELECT manufacturing_places, COUNT(manufacturing_places) FROM eu_sold_data GROUP BY manufacturing_places ORDER BY COUNT(manufacturing_places) DESC\")\n",
    "target_manufacture = target_manufacture.withColumnRenamed('count(manufacturing_places)' , 'Count')\n",
    "print(\"Number of Importers:\\n\" + str(target_manufacture.count()))\n",
    "target_manufacture.show(5)"
   ]
  },
  {
   "cell_type": "code",
   "execution_count": 20,
   "metadata": {},
   "outputs": [
    {
     "data": {
      "image/png": "[encoded data removed]",
      "text/plain": [
       "<Figure size 432x288 with 1 Axes>"
      ]
     },
     "metadata": {
      "needs_background": "light"
     },
     "output_type": "display_data"
    }
   ],
   "source": [
    "# Extract the 15 most important countries and number of occurances in ingredients.\n",
    "manufacture_countries = target_manufacture.toPandas() \n",
    "manufacture_countries = manufacture_countries.head(15)\n",
    "\n",
    "# Plot the number of products imported by 15 most important countries\n",
    "fig, ax = plt.subplots()\n",
    "ax.grid(zorder=-1)\n",
    "plt.bar(manufacture_countries.manufacturing_places, manufacture_countries.Count, zorder=3, color='skyblue')\n",
    "plt.ylabel('Number of products')   \n",
    "plt.xticks(manufacture_countries.manufacturing_places)\n",
    "plt.title('Number of products the European Union import from country')\n",
    "plt.show()"
   ]
  },
  {
   "cell_type": "code",
   "execution_count": 21,
   "metadata": {},
   "outputs": [],
   "source": [
    "#Save all manufacturers in Europe\n",
    "manufacture_countries.to_csv(\"output/europe_manufacturers.csv\", index=False)"
   ]
  },
  {
   "cell_type": "markdown",
   "metadata": {},
   "source": [
    "## Find the most important importers in Switzerland"
   ]
  },
  {
   "cell_type": "code",
   "execution_count": 22,
   "metadata": {},
   "outputs": [
    {
     "name": "stdout",
     "output_type": "stream",
     "text": [
      "Number of Importers:\n",
      "717\n",
      "+--------------------+-----+\n",
      "|manufacturing_places|Count|\n",
      "+--------------------+-----+\n",
      "|                  SZ| 1312|\n",
      "|                  FR|  656|\n",
      "|                  GM|  244|\n",
      "|                  IT|  209|\n",
      "|                  UK|   76|\n",
      "+--------------------+-----+\n",
      "only showing top 5 rows\n",
      "\n"
     ]
    }
   ],
   "source": [
    "# Find dominant importers of ingredients\n",
    "swiss_sold_data.createOrReplaceTempView(\"swiss_sold_data\")\n",
    "target_swiss_manufacture = spark.sql(\"SELECT manufacturing_places, COUNT(manufacturing_places) FROM swiss_sold_data GROUP BY manufacturing_places ORDER BY COUNT(manufacturing_places) DESC\")\n",
    "target_swiss_manufacture = target_swiss_manufacture.withColumnRenamed('count(manufacturing_places)' , 'Count')\n",
    "print(\"Number of Importers:\\n\" + str(target_swiss_manufacture.count()))\n",
    "target_swiss_manufacture.show(5)"
   ]
  },
  {
   "cell_type": "code",
   "execution_count": 24,
   "metadata": {},
   "outputs": [
    {
     "data": {
      "image/png": "[encoded data removed]",
      "text/plain": [
       "<Figure size 432x288 with 1 Axes>"
      ]
     },
     "metadata": {
      "needs_background": "light"
     },
     "output_type": "display_data"
    }
   ],
   "source": [
    "# Extract the 10 most important countries and number of occurances in ingredients.\n",
    "manufacture_swiss_countries = target_swiss_manufacture.toPandas() \n",
    "manufacture_swiss_countries = manufacture_swiss_countries.head(15)\n",
    "\n",
    "# Plot the number of products imported by 10 most important countries\n",
    "fig, ax = plt.subplots()\n",
    "ax.grid(zorder=-1)\n",
    "plt.bar(manufacture_swiss_countries.manufacturing_places, manufacture_swiss_countries.Count, zorder=3, color='skyblue')\n",
    "plt.ylabel('Number of products')   \n",
    "plt.xticks(manufacture_swiss_countries.manufacturing_places)\n",
    "plt.title('Number of products Switzerland import from country')\n",
    "plt.show()"
   ]
  },
  {
   "cell_type": "code",
   "execution_count": 26,
   "metadata": {},
   "outputs": [],
   "source": [
    "#Save all manufacturers in Switzerland\n",
    "manufacture_swiss_countries.to_csv(\"output/switzerland_manufacturers.csv\", index=False)"
   ]
  },
  {
   "cell_type": "markdown",
   "metadata": {},
   "source": [
    "## Trade inside Europe"
   ]
  },
  {
   "cell_type": "code",
   "execution_count": null,
   "metadata": {},
   "outputs": [],
   "source": [
    "eu_data = eu_sold_data.filter(eu_sold_data[\"manufacturing_places\"].rlike(filter_EU))\n",
    "print(\"Numbe of data about trade inside the Europe:\\n{0}\".format(eu_data.count()))"
   ]
  },
  {
   "cell_type": "code",
   "execution_count": null,
   "metadata": {},
   "outputs": [],
   "source": [
    "eu_data.show(5)"
   ]
  },
  {
   "cell_type": "code",
   "execution_count": null,
   "metadata": {},
   "outputs": [],
   "source": []
  },
  {
   "cell_type": "markdown",
   "metadata": {},
   "source": [
    "### Generate the network of the trade inside Europe "
   ]
  },
  {
   "cell_type": "code",
   "execution_count": null,
   "metadata": {},
   "outputs": [],
   "source": []
  },
  {
   "cell_type": "code",
   "execution_count": null,
   "metadata": {},
   "outputs": [],
   "source": []
  },
  {
   "cell_type": "code",
   "execution_count": null,
   "metadata": {},
   "outputs": [],
   "source": []
  },
  {
   "cell_type": "code",
   "execution_count": null,
   "metadata": {},
   "outputs": [],
   "source": []
  },
  {
   "cell_type": "code",
   "execution_count": null,
   "metadata": {},
   "outputs": [],
   "source": []
  },
  {
   "cell_type": "code",
   "execution_count": null,
   "metadata": {},
   "outputs": [],
   "source": []
  },
  {
   "cell_type": "code",
   "execution_count": null,
   "metadata": {},
   "outputs": [],
   "source": [
    "eu_sold_df = eu_sold_data.toPandas()\n",
    "swiss_sold_df = swiss_sold_data.toPandas()"
   ]
  },
  {
   "cell_type": "markdown",
   "metadata": {},
   "source": [
    "## Principal categories of products"
   ]
  },
  {
   "cell_type": "markdown",
   "metadata": {},
   "source": [
    "In order to have information about the categories, the dataset with categories is added"
   ]
  },
  {
   "cell_type": "code",
   "execution_count": null,
   "metadata": {},
   "outputs": [],
   "source": [
    "extra_info_df = ' categories '\n",
    "categories_df = spark.sql(\"SELECT\" + p_id_col + extra_info_df + \" FROM data_main\")"
   ]
  },
  {
   "cell_type": "code",
   "execution_count": null,
   "metadata": {},
   "outputs": [],
   "source": [
    "eu_categories = eu_sold_data.join(categories_df, eu_sold_data.code == categories_df.code)\n",
    "eu_categories.show(5)"
   ]
  },
  {
   "cell_type": "code",
   "execution_count": null,
   "metadata": {},
   "outputs": [],
   "source": [
    "eu_categories.count()"
   ]
  },
  {
   "cell_type": "code",
   "execution_count": null,
   "metadata": {},
   "outputs": [],
   "source": [
    "eu_categories.createOrReplaceTempView(\"eu_categories\")\n",
    "sql_filter = \"SELECT * FROM eu_categories WHERE categories is not NULL\"\n",
    "eu_categories = spark.sql(sql_filter)\n",
    "\n",
    "print(\"Number of Products sold in European Union with categories:\\n\" + str(eu_categories.count()))"
   ]
  },
  {
   "cell_type": "code",
   "execution_count": null,
   "metadata": {},
   "outputs": [],
   "source": [
    "# Flatten categories column\n",
    "eu_categories = eu_categories.withColumn('categories', F.explode_outer(F.split('categories', ',')))"
   ]
  },
  {
   "cell_type": "code",
   "execution_count": null,
   "metadata": {},
   "outputs": [],
   "source": [
    "# Find dominant categories\n",
    "eu_categories.createOrReplaceTempView(\"eu_categories\")\n",
    "eu_top_categories = spark.sql(\"SELECT categories, COUNT(categories) FROM eu_categories GROUP BY categories ORDER BY COUNT(categories) DESC\")\n",
    "eu_top_categories = eu_top_categories.withColumnRenamed('count(categories)' , 'Count')\n",
    "eu_top_categories.show()\n",
    "\n",
    "print(\"Number of Categories:\\n\" + str(eu_top_categories.count()))"
   ]
  },
  {
   "cell_type": "markdown",
   "metadata": {},
   "source": [
    "As there are more than 18000 categories, it is decided to filter the products in order that they are classified just in 20 categories. "
   ]
  },
  {
   "cell_type": "markdown",
   "metadata": {},
   "source": [
    "TODO: Problem categories are the same name product"
   ]
  },
  {
   "cell_type": "markdown",
   "metadata": {},
   "source": [
    "##### Second approach-WORKING"
   ]
  },
  {
   "cell_type": "code",
   "execution_count": null,
   "metadata": {},
   "outputs": [],
   "source": [
    "#filter for identifying products from european countries\n",
    "# Clean countries\n",
    "cleaned_categories= pd.read_csv(\"cleaning_data/categories_db.csv\",sep=',', error_bad_lines=False, encoding = \"utf-8\")\n",
    "cleaned_categories.head()"
   ]
  },
  {
   "cell_type": "code",
   "execution_count": null,
   "metadata": {},
   "outputs": [],
   "source": [
    "np.shape(cleaned_categories)"
   ]
  },
  {
   "cell_type": "code",
   "execution_count": null,
   "metadata": {},
   "outputs": [],
   "source": [
    "#filter with 21 categories (with or structure)\n",
    "cleaned_categories['filterCat'] = cleaned_categories['categories']\n",
    "for i in range (0,len(cleaned_categories)):\n",
    "    cleaned_categories['filterCat'][i] = cleaned_categories['categories'][i].replace(\", \",\"|\")"
   ]
  },
  {
   "cell_type": "markdown",
   "metadata": {},
   "source": [
    "### European Union"
   ]
  },
  {
   "cell_type": "code",
   "execution_count": null,
   "metadata": {},
   "outputs": [],
   "source": [
    "eu_categories_df = eu_categories.toPandas()"
   ]
  },
  {
   "cell_type": "code",
   "execution_count": null,
   "metadata": {},
   "outputs": [],
   "source": [
    "for i in range (0,len(cleaned_categories)):\n",
    "    cleaned_categories['Count'][i] = (eu_categories_df.product_name.str.contains(cleaned_categories['filterCat'][i],regex=True) | (eu_categories_df.categories.str.contains(cleaned_categories['filterCat'][i],regex=True))).sum() \n",
    "    print('Total products in category ',i,\" :\",cleaned_categories['Count'][i])"
   ]
  },
  {
   "cell_type": "code",
   "execution_count": null,
   "metadata": {},
   "outputs": [],
   "source": [
    "# Extract the 15 most frequent categories and number of occurances.\n",
    "categories = cleaned_categories.sort_values(by='Count',ascending = False)#target_categories.toPandas() \n",
    "categories = categories.head(15)\n",
    "\n",
    "# Plot the most frequent categories\n",
    "fig, ax = plt.subplots()\n",
    "ax.grid(zorder=-1)\n",
    "plt.barh(categories.category_main, categories.Count, zorder=3, color='skyblue')\n",
    "plt.xlabel('Number of products')   \n",
    "plt.title('Number of products sold in European Union by category')\n",
    "ax.invert_yaxis() \n",
    "plt.show()"
   ]
  },
  {
   "cell_type": "markdown",
   "metadata": {},
   "source": [
    "No products with category for Bulgaria"
   ]
  },
  {
   "cell_type": "code",
   "execution_count": null,
   "metadata": {},
   "outputs": [],
   "source": [
    "#Previous work"
   ]
  },
  {
   "cell_type": "code",
   "execution_count": null,
   "metadata": {},
   "outputs": [],
   "source": [
    "eu_categories = eu_sold_data.join(categories_df, eu_sold_data.code == categories_df.code)\n",
    "eu_categories.show(5)"
   ]
  },
  {
   "cell_type": "code",
   "execution_count": null,
   "metadata": {},
   "outputs": [],
   "source": [
    "categories_df.show()"
   ]
  },
  {
   "cell_type": "code",
   "execution_count": null,
   "metadata": {},
   "outputs": [],
   "source": [
    "eu_categories_df = eu_sold_data.join(categories_df, eu_sold_data.code == categories_df.code).toPandas()"
   ]
  },
  {
   "cell_type": "code",
   "execution_count": null,
   "metadata": {},
   "outputs": [],
   "source": [
    "eu_categories_df.head(10)"
   ]
  },
  {
   "cell_type": "markdown",
   "metadata": {},
   "source": [
    "Then the filters are formed"
   ]
  },
  {
   "cell_type": "markdown",
   "metadata": {},
   "source": [
    "### European Union Countries"
   ]
  },
  {
   "cell_type": "code",
   "execution_count": null,
   "metadata": {},
   "outputs": [],
   "source": []
  },
  {
   "cell_type": "markdown",
   "metadata": {},
   "source": [
    "#### Belgique"
   ]
  },
  {
   "cell_type": "code",
   "execution_count": null,
   "metadata": {},
   "outputs": [],
   "source": [
    "target_products_categories_p.show(5)"
   ]
  },
  {
   "cell_type": "code",
   "execution_count": null,
   "metadata": {},
   "outputs": [],
   "source": [
    "# Flatten categories column\n",
    "target_products_categories_p = target_products_categories_p.withColumn('categories', F.explode_outer(F.split('categories', ',')))\n",
    "\n",
    "# Remove occurances of en: in name of categories\n",
    "target_products_categories_p = target_products_categories_p.withColumn('categories', F.regexp_replace('categories', 'en:', ''))\n",
    "\n",
    "target_products_categories_p.show(5)"
   ]
  },
  {
   "cell_type": "code",
   "execution_count": null,
   "metadata": {},
   "outputs": [],
   "source": [
    "# Find dominant categories\n",
    "target_products_categories_p.createOrReplaceTempView(\"target_products_categories_p\")\n",
    "target_categories = spark.sql(\"SELECT categories, COUNT(categories) FROM target_products_categories_p GROUP BY categories ORDER BY COUNT(categories) DESC\")\n",
    "target_categories = target_categories.withColumnRenamed('count(categories)' , 'Count')\n",
    "target_categories.show()\n",
    "\n",
    "print(\"Number of Categories:\\n\" + str(target_categories.count()))"
   ]
  },
  {
   "cell_type": "markdown",
   "metadata": {},
   "source": [
    "Filter for reducing number of categories, for a 20-categories one"
   ]
  },
  {
   "cell_type": "code",
   "execution_count": null,
   "metadata": {},
   "outputs": [],
   "source": [
    "cleaned_categories = spark.read.csv(\"cleaning_data/categories_db.csv\", header=True, mode=\"DROPMALFORMED\", sep = ',')"
   ]
  },
  {
   "cell_type": "code",
   "execution_count": null,
   "metadata": {},
   "outputs": [],
   "source": [
    "# Flatten categories column\n",
    "cleaned_categories_p = cleaned_categories.withColumn('categories', F.explode_outer(F.split('categories', ',')))"
   ]
  },
  {
   "cell_type": "code",
   "execution_count": null,
   "metadata": {
    "scrolled": true
   },
   "outputs": [],
   "source": [
    "cleaned_categories_p.show(5)"
   ]
  },
  {
   "cell_type": "code",
   "execution_count": null,
   "metadata": {},
   "outputs": [],
   "source": [
    "cleaned_categories = cleaned_categories_p.toPandas()"
   ]
  },
  {
   "cell_type": "markdown",
   "metadata": {},
   "source": [
    "Now map categories of dataset to category_main"
   ]
  },
  {
   "cell_type": "code",
   "execution_count": null,
   "metadata": {},
   "outputs": [],
   "source": [
    "seen = 0"
   ]
  },
  {
   "cell_type": "code",
   "execution_count": null,
   "metadata": {},
   "outputs": [],
   "source": [
    "interval = 501\n",
    "if seen:\n",
    "    off_p_df = spark.read.csv(temp_file, header=True)\n",
    "\n",
    "# Clean origins countries\n",
    "for index, row in cleaned_categories.head(seen + interval).iterrows():\n",
    "        if index < seen:\n",
    "            continue\n",
    "        if index%100 == 0:\n",
    "            print(index)\n",
    "        target_categories = target_categories.withColumn('category_main', F.regexp_replace('categories', \"^\" + str(row['categories']) + \"$\", row['category_main']))\n",
    "        seen = index\n",
    "\n",
    "# Save Spark dataframe in the Parquet format\n",
    "#off_p_df.toPandas().to_csv(temp_file, index=False)\n",
    "\n",
    "print(\"Seen: {0}\".format(seen))"
   ]
  },
  {
   "cell_type": "code",
   "execution_count": null,
   "metadata": {},
   "outputs": [],
   "source": [
    "target_categories.show(5)"
   ]
  },
  {
   "cell_type": "code",
   "execution_count": null,
   "metadata": {},
   "outputs": [],
   "source": []
  },
  {
   "cell_type": "code",
   "execution_count": null,
   "metadata": {},
   "outputs": [],
   "source": []
  },
  {
   "cell_type": "code",
   "execution_count": null,
   "metadata": {},
   "outputs": [],
   "source": []
  },
  {
   "cell_type": "code",
   "execution_count": null,
   "metadata": {},
   "outputs": [],
   "source": [
    "be_sold_data = off_p_df.filter(off_p_df[\"countries\"].rlike('be'))\n",
    "be_sold_data_df = be_sold_data.toPandas()"
   ]
  },
  {
   "cell_type": "code",
   "execution_count": null,
   "metadata": {},
   "outputs": [],
   "source": [
    "openfood['code'] = pd.to_numeric(openfood['code'], errors='coerce')\n",
    "be_sold_data_df['code'] = pd.to_numeric(be_sold_data_df['code'], errors='coerce')"
   ]
  },
  {
   "cell_type": "code",
   "execution_count": null,
   "metadata": {},
   "outputs": [],
   "source": [
    "catBE = be_sold_data_df.join(openfood,on='code',how='left',lsuffix='eu',rsuffix='raw')['categories']"
   ]
  },
  {
   "cell_type": "code",
   "execution_count": null,
   "metadata": {},
   "outputs": [],
   "source": [
    "new_df = off_p_df.join(be_sold_data, on=['code'], how='inner')"
   ]
  },
  {
   "cell_type": "code",
   "execution_count": null,
   "metadata": {},
   "outputs": [],
   "source": [
    "new_df.count()"
   ]
  },
  {
   "cell_type": "code",
   "execution_count": null,
   "metadata": {},
   "outputs": [],
   "source": [
    "new_df.show(10)"
   ]
  },
  {
   "cell_type": "code",
   "execution_count": null,
   "metadata": {},
   "outputs": [],
   "source": [
    "Filer by category"
   ]
  },
  {
   "cell_type": "code",
   "execution_count": null,
   "metadata": {},
   "outputs": [],
   "source": []
  },
  {
   "cell_type": "code",
   "execution_count": null,
   "metadata": {},
   "outputs": [],
   "source": [
    "extra_info_df = ' categories '\n",
    "categories_df = spark.sql(\"SELECT\" + p_id_col + extra_info_df + \" FROM data_main\")\n",
    "categories_df.show(10)"
   ]
  },
  {
   "cell_type": "code",
   "execution_count": null,
   "metadata": {},
   "outputs": [],
   "source": [
    "eu_sold_data.createOrReplaceTempView(\"target_products_df\")\n",
    "categories_df.createOrReplaceTempView(\"categories_df\")\n",
    "joined_df = spark.sql(\"SELECT p.code, c.categories, p.origins, p.manufacturing_places, p.countries  FROM target_products_df p INNER JOIN categories_df c ON p.code = c.code\")"
   ]
  },
  {
   "cell_type": "code",
   "execution_count": null,
   "metadata": {},
   "outputs": [],
   "source": [
    "joined_df.select([count(when(isnan(c) | col(c).isNull(), c)).alias(c) for c in joined_df.columns]).show()"
   ]
  },
  {
   "cell_type": "markdown",
   "metadata": {},
   "source": [
    "According to above table, 1096 products do not have any category. "
   ]
  },
  {
   "cell_type": "code",
   "execution_count": null,
   "metadata": {},
   "outputs": [],
   "source": [
    "joined_df.createOrReplaceTempView(\"target_products_cats\")\n",
    "sql_filter = \"SELECT * FROM target_products_cats WHERE categories is not NULL\"\n",
    "target_products_categories_p = spark.sql(sql_filter)\n",
    "\n",
    "print(\"Number of Products sold in European Union with categories:\\n\" + str(target_products_categories_p.count()))"
   ]
  },
  {
   "cell_type": "code",
   "execution_count": null,
   "metadata": {},
   "outputs": [],
   "source": [
    "target_products_categories_p.show(5)"
   ]
  },
  {
   "cell_type": "code",
   "execution_count": null,
   "metadata": {},
   "outputs": [],
   "source": [
    "# Flatten categories column\n",
    "target_products_categories_p = target_products_categories_p.withColumn('categories', F.explode_outer(F.split('categories', ',')))\n",
    "\n",
    "# Remove occurances of en: in name of categories\n",
    "target_products_categories_p = target_products_categories_p.withColumn('categories', F.regexp_replace('categories', 'en:', ''))\n",
    "\n",
    "target_products_categories_p.show(5)"
   ]
  },
  {
   "cell_type": "code",
   "execution_count": null,
   "metadata": {},
   "outputs": [],
   "source": [
    "# Find dominant categories\n",
    "target_products_categories_p.createOrReplaceTempView(\"target_products_categories_p\")\n",
    "target_categories = spark.sql(\"SELECT categories, COUNT(categories) FROM target_products_categories_p GROUP BY categories ORDER BY COUNT(categories) DESC\")\n",
    "target_categories = target_categories.withColumnRenamed('count(categories)' , 'Count')\n",
    "target_categories.show()\n",
    "\n",
    "print(\"Number of Categories:\\n\" + str(target_categories.count()))"
   ]
  },
  {
   "cell_type": "markdown",
   "metadata": {},
   "source": [
    "From above is seen that there are more than 9500 categories of aliments. For this reason, an additional categorization is made. Trying to map those 9742 categories to the most general 20 categories."
   ]
  },
  {
   "cell_type": "code",
   "execution_count": null,
   "metadata": {},
   "outputs": [],
   "source": [
    "raw_categories = target_categories.toPandas()"
   ]
  },
  {
   "cell_type": "code",
   "execution_count": null,
   "metadata": {},
   "outputs": [],
   "source": [
    "raw_categories.head()"
   ]
  },
  {
   "cell_type": "code",
   "execution_count": null,
   "metadata": {},
   "outputs": [],
   "source": [
    "cleaned_categories = pd.read_csv(\"cleaning_data/categories_db.csv\")"
   ]
  },
  {
   "cell_type": "code",
   "execution_count": null,
   "metadata": {},
   "outputs": [],
   "source": [
    "cleaned_categories['count_category'] = np.zeros(len(cleaned_categories))"
   ]
  },
  {
   "cell_type": "code",
   "execution_count": null,
   "metadata": {},
   "outputs": [],
   "source": [
    "cleaned_categories['categories'][0]"
   ]
  },
  {
   "cell_type": "code",
   "execution_count": null,
   "metadata": {},
   "outputs": [],
   "source": [
    "for i in range (0,len(raw_categories):\n",
    "    if (raw_categories['categorires'][])\n",
    "    cleaned_categories['categories'][i] = cleaned_categories['categories'][i]+raw_categories['Count'][i]"
   ]
  },
  {
   "cell_type": "code",
   "execution_count": null,
   "metadata": {},
   "outputs": [],
   "source": [
    "# Extract the 15 most frequent categories and number of occurances.\n",
    "categories = cleaned_categories#target_categories.toPandas() \n",
    "categories = categories.head(15)\n",
    "\n",
    "# Plot the most frequent categories\n",
    "fig, ax = plt.subplots()\n",
    "ax.grid(zorder=-1)\n",
    "plt.barh(categories.category_main, categories.Count, zorder=3, color='skyblue')\n",
    "plt.xlabel('Number of products')   \n",
    "plt.title('Fig. The number of products sold in European Union')\n",
    "ax.invert_yaxis() \n",
    "plt.show()"
   ]
  },
  {
   "cell_type": "markdown",
   "metadata": {},
   "source": [
    "### Working with products' categories"
   ]
  },
  {
   "cell_type": "markdown",
   "metadata": {},
   "source": [
    "We would like to find which countries import what products. In order to answer to this question, first we extract categories corresponding to the products sold in Switzerland but not manufactured in this country. Then we will combine the information provided for manufacturing places of these products with corresponding category. \n",
    "\n",
    "In the end we will extract the 5 most important importers of each category."
   ]
  },
  {
   "cell_type": "code",
   "execution_count": null,
   "metadata": {},
   "outputs": [],
   "source": [
    "extra_info_df = ' categories '\n",
    "categories_df = spark.sql(\"SELECT\" + p_id_col + extra_info_df + \" FROM data_main\")\n",
    "categories_df.show(10)"
   ]
  },
  {
   "cell_type": "code",
   "execution_count": null,
   "metadata": {},
   "outputs": [],
   "source": [
    "categories_df.select([count(when(isnan(c) | col(c).isNull(), c)).alias(c) for c in traces_df.columns]).show()"
   ]
  },
  {
   "cell_type": "code",
   "execution_count": null,
   "metadata": {},
   "outputs": [],
   "source": [
    "# Join table of categories with table of target products (Sold in Switzerland but not manufactured in it)\n",
    "non_swiss_sold.createOrReplaceTempView(\"target_products_df\")\n",
    "categories_df.createOrReplaceTempView(\"categories_df\")\n",
    "joined_df = spark.sql(\"SELECT p.code, c.categories, p.origins, p.manufacturing_places, p.countries  FROM target_products_df p INNER JOIN categories_df c ON p.code = c.code\")"
   ]
  },
  {
   "cell_type": "code",
   "execution_count": null,
   "metadata": {},
   "outputs": [],
   "source": [
    "joined_df.select([count(when(isnan(c) | col(c).isNull(), c)).alias(c) for c in joined_df.columns]).show()"
   ]
  },
  {
   "cell_type": "markdown",
   "metadata": {},
   "source": [
    "According to above table, just 15 products do not have category. "
   ]
  },
  {
   "cell_type": "code",
   "execution_count": null,
   "metadata": {},
   "outputs": [],
   "source": [
    "joined_df.createOrReplaceTempView(\"target_products_cats\")\n",
    "sql_filter = \"SELECT * FROM target_products_cats WHERE categories is not NULL\"\n",
    "target_products_categories_p = spark.sql(sql_filter)\n",
    "\n",
    "print(\"Number of Products sold in Switzerland with categories:\\n\" + str(target_products_categories_p.count()))"
   ]
  },
  {
   "cell_type": "code",
   "execution_count": null,
   "metadata": {},
   "outputs": [],
   "source": [
    "target_products_categories_p.show(5)"
   ]
  },
  {
   "cell_type": "code",
   "execution_count": null,
   "metadata": {},
   "outputs": [],
   "source": [
    "# Flatten categories column\n",
    "target_products_categories_p = target_products_categories_p.withColumn('categories', F.explode_outer(F.split('categories', ',')))\n",
    "\n",
    "# Remove occurances of en: in name of categories\n",
    "target_products_categories_p = target_products_categories_p.withColumn('categories', F.regexp_replace('categories', 'en:', ''))\n",
    "\n",
    "target_products_categories_p.show(5)"
   ]
  },
  {
   "cell_type": "code",
   "execution_count": null,
   "metadata": {},
   "outputs": [],
   "source": [
    "# Find dominant categories\n",
    "target_products_categories_p.createOrReplaceTempView(\"target_products_categories_p\")\n",
    "target_categories = spark.sql(\"SELECT categories, COUNT(categories) FROM target_products_categories_p GROUP BY categories ORDER BY COUNT(categories) DESC\")\n",
    "target_categories = target_categories.withColumnRenamed('count(categories)' , 'Count')\n",
    "target_categories.show()\n",
    "\n",
    "print(\"Number of Categories:\\n\" + str(target_categories.count()))"
   ]
  },
  {
   "cell_type": "markdown",
   "metadata": {},
   "source": [
    "According to above table not all categories are independant and they may contain similar products. We did not change categories for this milestone but we would like to merge some categories in future to have better distinction between countries which import these products. "
   ]
  },
  {
   "cell_type": "code",
   "execution_count": null,
   "metadata": {},
   "outputs": [],
   "source": [
    "# Export Categories to CSV \n",
    "target_categories.toPandas().to_csv('output/categories.csv')"
   ]
  },
  {
   "cell_type": "code",
   "execution_count": null,
   "metadata": {},
   "outputs": [],
   "source": [
    "# Extract the 15 most frequent categories and number of occurances.\n",
    "categories = target_categories.toPandas() \n",
    "categories = categories.head(15)\n",
    "\n",
    "# Plot the most frequent categories\n",
    "fig, ax = plt.subplots()\n",
    "ax.grid(zorder=-1)\n",
    "plt.barh(categories.categories, categories.Count, zorder=3, color='skyblue')\n",
    "plt.xlabel('Number of products')   \n",
    "plt.title('Fig. The number of products sold in Switzerland')\n",
    "ax.invert_yaxis() \n",
    "plt.show()"
   ]
  },
  {
   "cell_type": "code",
   "execution_count": null,
   "metadata": {},
   "outputs": [],
   "source": [
    "# Extract the most important manufacturer countries for 15 most frequent categories\n",
    "\n",
    "categories_countires_p = target_products_categories_p.withColumn('manufacturing_places', F.explode_outer(F.split('manufacturing_places', ',')))\n",
    "\n",
    "# Clean manufacturers countries\n",
    "for index, row in cleaned_countries.iterrows():\n",
    "    if(str(row['replace_with']) != \"nan\"):\n",
    "        categories_countires_p = categories_countires_p.withColumn('manufacturing_places', F.regexp_replace('manufacturing_places', \"^\" + row['origins'] + \"$\", row['replace_with']))\n",
    "    else:\n",
    "        categories_countires_p = categories_countires_p.withColumn('manufacturing_places', F.regexp_replace('manufacturing_places', row['origins'], \"Not Specified\"))\n",
    "\n",
    "categories_countires_p = categories_countires_p.withColumn('categories', F.explode_outer(F.split('categories', ',')))\n",
    "products_cats_df = categories_countires_p.toPandas()\n",
    "\n",
    "countries_cats = []\n",
    "cat = \"Snacks sucrés\"\n",
    "for index, row in categories.iterrows():\n",
    "    temp_df = products_cats_df[(products_cats_df.categories == row.categories)].groupby('manufacturing_places').count().sort_values(by=['code'], ascending=False).head(5)\n",
    "    countries_cats.append(temp_df)\n",
    "\n",
    "# Each element of countries_cats is a dataframe containing the most important manufacturers\n",
    "# of the corresponding category\n",
    "\n",
    "i = 0\n",
    "print(\"category: \" + str(categories.iloc[i].categories))\n",
    "print(\"The most important manufacturers:\")\n",
    "print(countries_cats[0].head(3).index.values)"
   ]
  },
  {
   "cell_type": "markdown",
   "metadata": {},
   "source": [
    "We will use extracted information about the most important manufacturer countries for 15 most frequent categories for our visualization."
   ]
  }
 ],
 "metadata": {
  "kernelspec": {
   "display_name": "Python 3",
   "language": "python",
   "name": "python3"
  },
  "language_info": {
   "codemirror_mode": {
    "name": "ipython",
    "version": 3
   },
   "file_extension": ".py",
   "mimetype": "text/x-python",
   "name": "python",
   "nbconvert_exporter": "python",
   "pygments_lexer": "ipython3",
   "version": "3.6.6"
  }
 },
 "nbformat": 4,
 "nbformat_minor": 2
}
