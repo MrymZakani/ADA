{
 "cells": [
  {
   "cell_type": "markdown",
   "metadata": {},
   "source": [
    "# Are we consuming more local?\n",
    "\n",
    "## Research questions\n",
    "\n",
    "1. Where are the products we consume in our everyday life coming from?\n",
    "\n",
    "    - Which countries produce the primary resources (ground ingredients) consumed in Switzerland?\n",
    "    - Which countries manufacture most of the products consumed in Switzerland?\n",
    "\n",
    "\n",
    "2. Is there a trend over time to consume more local products?\n",
    "\n",
    "    - Are new products mostly using primary resources from Switzerland? Or from other countries inside Europe?\n",
    "    - Are new products mostly manufactured in Switzerland? Or from other countries inside Europe?\n",
    "    - Is there a trend over time to local products to promote their origin?\n",
    "\n",
    "## Datasets\n",
    "\n",
    "Open Food Facts (https://world.openfoodfacts.org/data)\n",
    "\n",
    "Additional datasets “Evolution de la consommation de denrées alimentaires en Suisse” (https://opendata.swiss/fr/dataset/entwicklung-des-nahrungsmittelverbrauches-in-der-schweiz-je-kopf-und-jahr1) and “Dépenses fédérales pour l’agriculture et l’alimentation” (https://opendata.swiss/fr/dataset/bundesausgaben-fur-die-landwirtschaft-und-die-ernahrung1) from https://opendata.swiss/fr/group/agriculture\n",
    "\n",
    "A last additional dataset for the second question of the project\n",
    "https://www.gate.ezv.admin.ch/swissimpex/public/bereiche/waren/result.xhtml\n",
    "Total of imports of agriculture, forestry and fishing goods\n"
   ]
  },
  {
   "cell_type": "code",
   "execution_count": 1,
   "metadata": {},
   "outputs": [],
   "source": [
    "import re\n",
    "import pandas as pd\n",
    "import numpy as np\n",
    "import scipy as sp\n",
    "import scipy.stats as stats\n",
    "import matplotlib.pyplot as plt\n",
    "from datetime import timedelta\n",
    "import findspark\n",
    "findspark.init()\n",
    "import pyspark\n",
    "\n",
    "from functools import reduce\n",
    "from pyspark.sql import *\n",
    "from pyspark.sql import functions as F\n",
    "from pyspark.sql import SQLContext\n",
    "from pyspark.sql.functions import *\n",
    "from pyspark.sql.functions import min\n",
    "from pyspark.sql.functions import to_date, last_day,date_add\n",
    "from datetime import timedelta\n",
    "\n",
    "spark = SparkSession.builder.getOrCreate()\n",
    "sc = spark.sparkContext"
   ]
  },
  {
   "cell_type": "code",
   "execution_count": 2,
   "metadata": {},
   "outputs": [],
   "source": [
    "DATA_FOLDER = 'data'\n",
    "openfood_file = \"/en.openfoodfacts.org.products.csv\"\n",
    "temp_file = 'output/temp.csv'\n",
    "countries_mapping_file = '/mapping_countries_revised.csv'\n",
    "cleaned_off_dataset = 'output/cleaned_off.csv'"
   ]
  },
  {
   "cell_type": "markdown",
   "metadata": {},
   "source": [
    "# Loading data"
   ]
  },
  {
   "cell_type": "code",
   "execution_count": 3,
   "metadata": {},
   "outputs": [
    {
     "name": "stdout",
     "output_type": "stream",
     "text": [
      "root\n",
      " |-- code: string (nullable = true)\n",
      " |-- manufacturing_places_tags: string (nullable = true)\n",
      " |-- countries_tags: string (nullable = true)\n",
      "\n"
     ]
    }
   ],
   "source": [
    "dataset_main = spark.read.csv(DATA_FOLDER + openfood_file, header=True, mode=\"DROPMALFORMED\", sep = '\\t')\n",
    "\n",
    "dataset_main.createOrReplaceTempView(\"data_main\")\n",
    "\n",
    "# Filter required columns\n",
    "p_id_col = \" code, \"\n",
    "geo_tags_cols = \" manufacturing_places_tags, countries_tags \"\n",
    "\n",
    "off_df = spark.sql(\"SELECT\" + p_id_col + geo_tags_cols + \" FROM data_main\")\n",
    "off_df.printSchema()"
   ]
  },
  {
   "cell_type": "markdown",
   "metadata": {},
   "source": [
    "## Data Cleaning and Preprocessing"
   ]
  },
  {
   "cell_type": "code",
   "execution_count": 4,
   "metadata": {},
   "outputs": [
    {
     "name": "stdout",
     "output_type": "stream",
     "text": [
      "Full GEO information data Size:\n",
      "3(columns) * 68672(rows)\n"
     ]
    }
   ],
   "source": [
    "off_df.createOrReplaceTempView(\"off_df\")\n",
    "\n",
    "sql_filter = \"SELECT * FROM off_df WHERE countries_tags is not NULL AND manufacturing_places_tags is not NULL\"\n",
    "off_p_df = spark.sql(sql_filter)\n",
    "\n",
    "off_p_all_size = off_p_df.count()\n",
    "off_p_cols_size = len(off_p_df.columns)\n",
    "print(\"Full GEO information data Size:\\n\" + str(off_p_cols_size) + \"(columns) * \" + str(off_p_all_size) + \"(rows)\")"
   ]
  },
  {
   "cell_type": "code",
   "execution_count": 5,
   "metadata": {},
   "outputs": [],
   "source": [
    "# Explode countries\n",
    "off_p_df = off_p_df\\\n",
    ".withColumn('manufacturing_places_tags', F.explode_outer(F.split('manufacturing_places_tags', ',')))\\\n",
    ".withColumn('countries_tags', F.explode_outer(F.split('countries_tags', ',')))\n",
    "\n",
    "# Remove \"en:\" occurances before name of each country in coutries_tags\n",
    "off_p_df = off_p_df.withColumn('countries_tags', F.regexp_replace('countries_tags', \"en:\", \"\"))\n",
    "\n",
    "# Remove - in name of countries\n",
    "off_p_df = off_p_df.withColumn('countries_tags', F.regexp_replace('countries_tags', \"-\", \" \"))\n",
    "off_p_df = off_p_df.withColumn('manufacturing_places_tags', F.regexp_replace('manufacturing_places_tags', \"-\", \" \"))\n",
    "\n",
    "# Remove numbers from name of countries\n",
    "off_p_df = off_p_df.withColumn('countries_tags', F.regexp_replace('countries_tags', \"\\d+\", \"\"))\n",
    "off_p_df = off_p_df.withColumn('manufacturing_places_tags', F.regexp_replace('manufacturing_places_tags', \"\\d+\", \"\"))"
   ]
  },
  {
   "cell_type": "code",
   "execution_count": 6,
   "metadata": {},
   "outputs": [
    {
     "name": "stdout",
     "output_type": "stream",
     "text": [
      "+-------------+-------------------------+--------------+\n",
      "|         code|manufacturing_places_tags|countries_tags|\n",
      "+-------------+-------------------------+--------------+\n",
      "|0000000020114|                   france|        france|\n",
      "|0000000274722|                   france|        france|\n",
      "|0000000290616|          brossard quebec|        canada|\n",
      "|0000000394710|          brossard quebec|        canada|\n",
      "|0000001071894|           united kingdom|united kingdom|\n",
      "+-------------+-------------------------+--------------+\n",
      "only showing top 5 rows\n",
      "\n"
     ]
    }
   ],
   "source": [
    "off_p_df.show(5)"
   ]
  },
  {
   "cell_type": "code",
   "execution_count": 7,
   "metadata": {},
   "outputs": [
    {
     "name": "stdout",
     "output_type": "stream",
     "text": [
      "root\n",
      " |-- code: string (nullable = true)\n",
      " |-- manufacturing_places_tags: string (nullable = true)\n",
      " |-- countries_tags: string (nullable = true)\n",
      " |-- countries: string (nullable = true)\n",
      " |-- manufacturing_places: string (nullable = true)\n",
      "\n"
     ]
    }
   ],
   "source": [
    "off_p_df = off_p_df.withColumn(\"countries\", off_p_df[\"countries_tags\"])\n",
    "off_p_df = off_p_df.withColumn(\"manufacturing_places\", off_p_df[\"manufacturing_places_tags\"])\n",
    "off_p_df.printSchema()"
   ]
  },
  {
   "cell_type": "code",
   "execution_count": 8,
   "metadata": {},
   "outputs": [
    {
     "name": "stdout",
     "output_type": "stream",
     "text": [
      "Full GEO information data Size:\n",
      "5(columns) * 128781(rows)\n"
     ]
    }
   ],
   "source": [
    "off_p_all_size = off_p_df.count()\n",
    "off_p_cols_size = len(off_p_df.columns)\n",
    "print(\"Full GEO information data Size:\\n\" + str(off_p_cols_size) + \"(columns) * \" + str(off_p_all_size) + \"(rows)\")"
   ]
  },
  {
   "cell_type": "code",
   "execution_count": 9,
   "metadata": {},
   "outputs": [
    {
     "data": {
      "text/html": [
       "<div>\n",
       "<style scoped>\n",
       "    .dataframe tbody tr th:only-of-type {\n",
       "        vertical-align: middle;\n",
       "    }\n",
       "\n",
       "    .dataframe tbody tr th {\n",
       "        vertical-align: top;\n",
       "    }\n",
       "\n",
       "    .dataframe thead th {\n",
       "        text-align: right;\n",
       "    }\n",
       "</style>\n",
       "<table border=\"1\" class=\"dataframe\">\n",
       "  <thead>\n",
       "    <tr style=\"text-align: right;\">\n",
       "      <th></th>\n",
       "      <th>input</th>\n",
       "      <th>country_code</th>\n",
       "    </tr>\n",
       "  </thead>\n",
       "  <tbody>\n",
       "    <tr>\n",
       "      <th>841</th>\n",
       "      <td>england</td>\n",
       "      <td>UK</td>\n",
       "    </tr>\n",
       "    <tr>\n",
       "      <th>842</th>\n",
       "      <td>scotland</td>\n",
       "      <td>UK</td>\n",
       "    </tr>\n",
       "    <tr>\n",
       "      <th>843</th>\n",
       "      <td>europe</td>\n",
       "      <td>EU</td>\n",
       "    </tr>\n",
       "    <tr>\n",
       "      <th>844</th>\n",
       "      <td>mexique</td>\n",
       "      <td>MX</td>\n",
       "    </tr>\n",
       "    <tr>\n",
       "      <th>845</th>\n",
       "      <td>hongrie</td>\n",
       "      <td>HU</td>\n",
       "    </tr>\n",
       "  </tbody>\n",
       "</table>\n",
       "</div>"
      ],
      "text/plain": [
       "        input country_code\n",
       "841   england           UK\n",
       "842  scotland           UK\n",
       "843    europe           EU\n",
       "844   mexique           MX\n",
       "845   hongrie           HU"
      ]
     },
     "execution_count": 9,
     "metadata": {},
     "output_type": "execute_result"
    }
   ],
   "source": [
    "# Clean countries\n",
    "cleaned_countries= pd.read_csv(DATA_FOLDER + countries_mapping_file, sep=',', error_bad_lines=False, encoding = \"utf-8\").dropna()\n",
    "cleaned_countries.tail()"
   ]
  },
  {
   "cell_type": "code",
   "execution_count": 10,
   "metadata": {},
   "outputs": [],
   "source": [
    "seen = 0"
   ]
  },
  {
   "cell_type": "code",
   "execution_count": 12,
   "metadata": {},
   "outputs": [
    {
     "name": "stdout",
     "output_type": "stream",
     "text": [
      "500\n",
      "600\n",
      "700\n",
      "800\n",
      "Seen: 845\n"
     ]
    }
   ],
   "source": [
    "interval = 501\n",
    "if seen:\n",
    "    off_p_df = spark.read.csv(temp_file, header=True)\n",
    "\n",
    "# Clean countries using mapping_countries\n",
    "for index, row in cleaned_countries.head(seen + interval).iterrows():\n",
    "        if index < seen:\n",
    "            continue\n",
    "        if index%100 == 0:\n",
    "            print(index)    \n",
    "        off_p_df = off_p_df.withColumn('manufacturing_places', F.regexp_replace('manufacturing_places', \"^\" + str(row['input']) + \"$\", row['country_code']))\n",
    "        off_p_df = off_p_df.withColumn('countries', F.regexp_replace('countries', \"^\" + str(row['input']) + \"$\", row['country_code']))\n",
    "        seen = index\n",
    "\n",
    "# Save Spark dataframe in the Parquet format\n",
    "off_p_df.toPandas().to_csv(temp_file, index=False)\n",
    "\n",
    "print(\"Seen: {0}\".format(seen))"
   ]
  },
  {
   "cell_type": "code",
   "execution_count": 13,
   "metadata": {},
   "outputs": [
    {
     "name": "stdout",
     "output_type": "stream",
     "text": [
      "+-------------+-------------------------+--------------+---------+--------------------+\n",
      "|         code|manufacturing_places_tags|countries_tags|countries|manufacturing_places|\n",
      "+-------------+-------------------------+--------------+---------+--------------------+\n",
      "|0000000020114|                   france|        france|       FR|                  FR|\n",
      "|0000000274722|                   france|        france|       FR|                  FR|\n",
      "|0000000290616|          brossard quebec|        canada|       CA|     brossard quebec|\n",
      "|0000000394710|          brossard quebec|        canada|       CA|     brossard quebec|\n",
      "|0000001071894|           united kingdom|united kingdom|       UK|                  UK|\n",
      "|0000001938067|          brossard quebec|        canada|       CA|     brossard quebec|\n",
      "|0000004302544|                 brossard|        canada|       CA|            brossard|\n",
      "|0000004302544|                   quebec|        canada|       CA|              quebec|\n",
      "|0000007020254|               etats unis|        france|       FR|          etats unis|\n",
      "|0000007020254|               etats unis| united states|       US|          etats unis|\n",
      "+-------------+-------------------------+--------------+---------+--------------------+\n",
      "only showing top 10 rows\n",
      "\n"
     ]
    }
   ],
   "source": [
    "off_p_df.show(10)"
   ]
  },
  {
   "cell_type": "code",
   "execution_count": 14,
   "metadata": {},
   "outputs": [
    {
     "name": "stdout",
     "output_type": "stream",
     "text": [
      "Full GEO information data Size:\n",
      "128781(columns) *5(rows)\n"
     ]
    }
   ],
   "source": [
    "print(\"Full GEO information data Size:\\n{0}(columns) *{1}(rows)\".format(off_p_df.count(),len(off_p_df.columns) ))"
   ]
  },
  {
   "cell_type": "code",
   "execution_count": 15,
   "metadata": {},
   "outputs": [],
   "source": [
    "#filter europe countries - using FIPS country code\n",
    "filter_EU ='AL|AN|AM|AU|AJ|BO|BE|BK|BU|HR|CY|EZ|DA|EN|FI|FR|GG|GM|GR|HU|IC|EI|IT|KZ|KV|LG|LS|LH|LU|MK|MT|MD|MN|YI|NL|NO|Pl|PO|RO|RS|SM|LO|SI|SP|SW|SZ|TU|UP|UK|VT'"
   ]
  },
  {
   "cell_type": "code",
   "execution_count": 16,
   "metadata": {},
   "outputs": [
    {
     "name": "stdout",
     "output_type": "stream",
     "text": [
      "eu_sold data Size:\n",
      "119047\n"
     ]
    }
   ],
   "source": [
    "# store products that are sold in european union (france as ct)\n",
    "eu_sold_data = off_p_df.filter(off_p_df[\"countries\"].rlike(filter_EU))\n",
    "print(\"eu_sold data Size:\\n{0}\".format(eu_sold_data.count()))"
   ]
  },
  {
   "cell_type": "code",
   "execution_count": 17,
   "metadata": {},
   "outputs": [
    {
     "name": "stdout",
     "output_type": "stream",
     "text": [
      "swiss_sold data Size:\n",
      "3936\n"
     ]
    }
   ],
   "source": [
    "# store products that are sold in Switzerland- using FIPS country code\n",
    "swiss_sold_data = off_p_df[off_p_df[\"countries\"] == \"SZ\"]\n",
    "print(\"swiss_sold data Size:\\n{0}\".format(swiss_sold_data.count()))"
   ]
  },
  {
   "cell_type": "markdown",
   "metadata": {},
   "source": [
    "Now that the two datasets of products sold in the European Union, and products sold in Switzerland are created, the analysis for each one is done. The study is going to focus in the behavior of the \"manufacturing place\" of those products."
   ]
  },
  {
   "cell_type": "markdown",
   "metadata": {},
   "source": [
    "## Find the most important importers in Europe"
   ]
  },
  {
   "cell_type": "code",
   "execution_count": 19,
   "metadata": {},
   "outputs": [
    {
     "name": "stdout",
     "output_type": "stream",
     "text": [
      "Number of Importers:\n",
      "10029\n",
      "+--------------------+-----+\n",
      "|manufacturing_places|Count|\n",
      "+--------------------+-----+\n",
      "|                  FR|45826|\n",
      "|                  SP| 7604|\n",
      "|                  GM| 4864|\n",
      "|                  IT| 4505|\n",
      "|                  SZ| 2672|\n",
      "+--------------------+-----+\n",
      "only showing top 5 rows\n",
      "\n"
     ]
    }
   ],
   "source": [
    "# Find the most important importers in Europe\n",
    "eu_sold_data.createOrReplaceTempView(\"eu_sold_data\")\n",
    "target_manufacture = spark.sql(\"SELECT manufacturing_places, COUNT(manufacturing_places) FROM eu_sold_data GROUP BY manufacturing_places ORDER BY COUNT(manufacturing_places) DESC\")\n",
    "target_manufacture = target_manufacture.withColumnRenamed('count(manufacturing_places)' , 'Count')\n",
    "print(\"Number of Importers:\\n\" + str(target_manufacture.count()))\n",
    "target_manufacture.show(5)"
   ]
  },
  {
   "cell_type": "code",
   "execution_count": 20,
   "metadata": {},
   "outputs": [
    {
     "data": {
      "image/png": "[encoded data removed]",
      "text/plain": [
       "<Figure size 432x288 with 1 Axes>"
      ]
     },
     "metadata": {
      "needs_background": "light"
     },
     "output_type": "display_data"
    }
   ],
   "source": [
    "# Extract the 15 most important countries and number of occurances in ingredients.\n",
    "manufacture_countries = target_manufacture.toPandas() \n",
    "manufacture_countries = manufacture_countries.head(15)\n",
    "\n",
    "# Plot the number of products imported by 15 most important countries\n",
    "fig, ax = plt.subplots()\n",
    "ax.grid(zorder=-1)\n",
    "plt.bar(manufacture_countries.manufacturing_places, manufacture_countries.Count, zorder=3, color='skyblue')\n",
    "plt.ylabel('Number of products')   \n",
    "plt.xticks(manufacture_countries.manufacturing_places)\n",
    "plt.title('Number of products the European Union import from country')\n",
    "plt.show()"
   ]
  },
  {
   "cell_type": "code",
   "execution_count": 21,
   "metadata": {},
   "outputs": [],
   "source": [
    "#Save all manufacturers in Europe\n",
    "manufacture_countries.to_csv(\"output/europe_manufacturers.csv\", index=False)"
   ]
  },
  {
   "cell_type": "markdown",
   "metadata": {},
   "source": [
    "## Find the most important importers in Switzerland"
   ]
  },
  {
   "cell_type": "code",
   "execution_count": 22,
   "metadata": {},
   "outputs": [
    {
     "name": "stdout",
     "output_type": "stream",
     "text": [
      "Number of Importers:\n",
      "717\n",
      "+--------------------+-----+\n",
      "|manufacturing_places|Count|\n",
      "+--------------------+-----+\n",
      "|                  SZ| 1312|\n",
      "|                  FR|  656|\n",
      "|                  GM|  244|\n",
      "|                  IT|  209|\n",
      "|                  UK|   76|\n",
      "+--------------------+-----+\n",
      "only showing top 5 rows\n",
      "\n"
     ]
    }
   ],
   "source": [
    "# Find dominant importers of ingredients\n",
    "swiss_sold_data.createOrReplaceTempView(\"swiss_sold_data\")\n",
    "target_swiss_manufacture = spark.sql(\"SELECT manufacturing_places, COUNT(manufacturing_places) FROM swiss_sold_data GROUP BY manufacturing_places ORDER BY COUNT(manufacturing_places) DESC\")\n",
    "target_swiss_manufacture = target_swiss_manufacture.withColumnRenamed('count(manufacturing_places)' , 'Count')\n",
    "print(\"Number of Importers:\\n\" + str(target_swiss_manufacture.count()))\n",
    "target_swiss_manufacture.show(5)"
   ]
  },
  {
   "cell_type": "code",
   "execution_count": 24,
   "metadata": {},
   "outputs": [
    {
     "data": {
      "image/png": "[encoded data removed]",
      "text/plain": [
       "<Figure size 432x288 with 1 Axes>"
      ]
     },
     "metadata": {
      "needs_background": "light"
     },
     "output_type": "display_data"
    }
   ],
   "source": [
    "# Extract the 10 most important countries and number of occurances in ingredients.\n",
    "manufacture_swiss_countries = target_swiss_manufacture.toPandas() \n",
    "manufacture_swiss_countries = manufacture_swiss_countries.head(15)\n",
    "\n",
    "# Plot the number of products imported by 10 most important countries\n",
    "fig, ax = plt.subplots()\n",
    "ax.grid(zorder=-1)\n",
    "plt.bar(manufacture_swiss_countries.manufacturing_places, manufacture_swiss_countries.Count, zorder=3, color='skyblue')\n",
    "plt.ylabel('Number of products')   \n",
    "plt.xticks(manufacture_swiss_countries.manufacturing_places)\n",
    "plt.title('Number of products Switzerland import from country')\n",
    "plt.show()"
   ]
  },
  {
   "cell_type": "code",
   "execution_count": 26,
   "metadata": {},
   "outputs": [],
   "source": [
    "#Save all manufacturers in Switzerland\n",
    "manufacture_swiss_countries.to_csv(\"output/switzerland_manufacturers.csv\", index=False)"
   ]
  },
  {
   "cell_type": "markdown",
   "metadata": {},
   "source": [
    "## Trade inside Europe"
   ]
  },
  {
   "cell_type": "code",
   "execution_count": 27,
   "metadata": {},
   "outputs": [
    {
     "name": "stdout",
     "output_type": "stream",
     "text": [
      "Numbe of data about trade inside the Europe:\n",
      "74324\n"
     ]
    }
   ],
   "source": [
    "eu_data = eu_sold_data.filter(eu_sold_data[\"manufacturing_places\"].rlike(filter_EU))\n",
    "print(\"Number of data about trade inside the Europe:\\n{0}\".format(eu_data.count()))"
   ]
  },
  {
   "cell_type": "code",
   "execution_count": 29,
   "metadata": {},
   "outputs": [
    {
     "name": "stdout",
     "output_type": "stream",
     "text": [
      "+-------------+-------------------------+--------------+---------+--------------------+\n",
      "|         code|manufacturing_places_tags|countries_tags|countries|manufacturing_places|\n",
      "+-------------+-------------------------+--------------+---------+--------------------+\n",
      "|0000000020114|                   france|        france|       FR|                  FR|\n",
      "|0000000274722|                   france|        france|       FR|                  FR|\n",
      "|0000001071894|           united kingdom|united kingdom|       UK|                  UK|\n",
      "|0000007730009|                   france|        france|       FR|                  FR|\n",
      "|0000010090206|                   france|        france|       FR|                  FR|\n",
      "|0000020004552|                   france|        france|       FR|                  FR|\n",
      "|0000020424640|                  belgien|       germany|       GM|                  BE|\n",
      "|0000027533024|           united kingdom|united kingdom|       UK|                  UK|\n",
      "|0000027533048|           united kingdom|united kingdom|       UK|                  UK|\n",
      "|0000084154071|       castilla la mancha|         spain|       SP|                  SP|\n",
      "|0000084154071|                   espana|         spain|       SP|                  SP|\n",
      "|       000010|                   france|        france|       FR|                  FR|\n",
      "|0000204286484|                  germany|       germany|       GM|                  GM|\n",
      "|0000204286644|                  germany|       germany|       GM|                  GM|\n",
      "|0000250632969|                  germany|       germany|       GM|                  GM|\n",
      "|       000030|                   france|        france|       FR|                  FR|\n",
      "|       000031|                   france|        france|       FR|                  FR|\n",
      "|     00003100|                   france|        france|       FR|                  FR|\n",
      "|0000460938714|                  germany|       germany|       GM|                  GM|\n",
      "|0000470322800|                  germany|       germany|       GM|                  GM|\n",
      "+-------------+-------------------------+--------------+---------+--------------------+\n",
      "only showing top 20 rows\n",
      "\n"
     ]
    }
   ],
   "source": [
    "eu_data.show(20)"
   ]
  },
  {
   "cell_type": "markdown",
   "metadata": {},
   "source": [
    "### Generate the network of the trade inside Europe "
   ]
  },
  {
   "cell_type": "code",
   "execution_count": null,
   "metadata": {},
   "outputs": [],
   "source": []
  },
  {
   "cell_type": "code",
   "execution_count": null,
   "metadata": {},
   "outputs": [],
   "source": []
  },
  {
   "cell_type": "code",
   "execution_count": null,
   "metadata": {},
   "outputs": [],
   "source": []
  },
  {
   "cell_type": "code",
   "execution_count": null,
   "metadata": {},
   "outputs": [],
   "source": []
  },
  {
   "cell_type": "markdown",
   "metadata": {},
   "source": [
    "## Products' categories"
   ]
  },
  {
   "cell_type": "markdown",
   "metadata": {},
   "source": [
    "We would like to find which countries import what products. \n",
    "We will extract the 5 most important importers of each category."
   ]
  },
  {
   "cell_type": "code",
   "execution_count": 30,
   "metadata": {},
   "outputs": [
    {
     "name": "stdout",
     "output_type": "stream",
     "text": [
      "+-------------+----------+\n",
      "|         code|categories|\n",
      "+-------------+----------+\n",
      "|0000000000017|      null|\n",
      "|0000000000031|      null|\n",
      "|0000000000123|      null|\n",
      "|0000000000178|      null|\n",
      "|0000000000208|      null|\n",
      "|0000000000291|      null|\n",
      "|0000000000949|      null|\n",
      "|0000000000970|      null|\n",
      "|0000000001001|      null|\n",
      "|0000000001007|      null|\n",
      "+-------------+----------+\n",
      "only showing top 10 rows\n",
      "\n"
     ]
    }
   ],
   "source": [
    "extra_info_df = ' categories '\n",
    "categories_df = spark.sql(\"SELECT\" + p_id_col + extra_info_df + \" FROM data_main\")"
   ]
  },
  {
   "cell_type": "code",
   "execution_count": 32,
   "metadata": {},
   "outputs": [
    {
     "name": "stdout",
     "output_type": "stream",
     "text": [
      "+----+----------+\n",
      "|code|categories|\n",
      "+----+----------+\n",
      "|   0|    519878|\n",
      "+----+----------+\n",
      "\n"
     ]
    }
   ],
   "source": [
    "# Find number of missing data\n",
    "categories_df.select([count(when(isnan(c) | col(c).isNull(), c)).alias(c) for c in categories_df.columns]).show()"
   ]
  },
  {
   "cell_type": "code",
   "execution_count": 39,
   "metadata": {},
   "outputs": [
    {
     "name": "stdout",
     "output_type": "stream",
     "text": [
      "+-------------+-------------------------+--------------+---------+--------------------+--------------------+\n",
      "|         code|manufacturing_places_tags|countries_tags|countries|manufacturing_places|          categories|\n",
      "+-------------+-------------------------+--------------+---------+--------------------+--------------------+\n",
      "|0000000020114|                   france|        france|       FR|                  FR|Compléments alime...|\n",
      "|0000000274722|                   france|        france|       FR|                  FR|Plats préparés, P...|\n",
      "|0000001071894|           united kingdom|united kingdom|       UK|                  UK|Plant-based foods...|\n",
      "|0000007730009|                   france|        france|       FR|                  FR|Snacks sucrés, Bi...|\n",
      "|0000010090206|                   france|        france|       FR|                  FR|Aliments et boiss...|\n",
      "+-------------+-------------------------+--------------+---------+--------------------+--------------------+\n",
      "only showing top 5 rows\n",
      "\n"
     ]
    }
   ],
   "source": [
    "# Join table of categories with table of target products (Europe trade)\n",
    "eu_categories = eu_data.join(categories_df, eu_data.code == categories_df.code).drop(categories_df.code)\n",
    "eu_categories.show(5)"
   ]
  },
  {
   "cell_type": "code",
   "execution_count": 40,
   "metadata": {},
   "outputs": [
    {
     "name": "stdout",
     "output_type": "stream",
     "text": [
      "+----+-------------------------+--------------+---------+--------------------+----------+\n",
      "|code|manufacturing_places_tags|countries_tags|countries|manufacturing_places|categories|\n",
      "+----+-------------------------+--------------+---------+--------------------+----------+\n",
      "|   0|                        0|             0|        0|                   0|      1405|\n",
      "+----+-------------------------+--------------+---------+--------------------+----------+\n",
      "\n"
     ]
    }
   ],
   "source": [
    "eu_categories.select([count(when(isnan(c) | col(c).isNull(), c)).alias(c) for c in eu_categories.columns]).show()"
   ]
  },
  {
   "cell_type": "code",
   "execution_count": 41,
   "metadata": {},
   "outputs": [
    {
     "name": "stdout",
     "output_type": "stream",
     "text": [
      "Number of target products with categories:\n",
      "72940\n"
     ]
    }
   ],
   "source": [
    "eu_categories.createOrReplaceTempView(\"eu_categories\")\n",
    "sql_filter = \"SELECT * FROM eu_categories WHERE categories is not NULL\"\n",
    "eu_categories = spark.sql(sql_filter)\n",
    "\n",
    "print(\"Number of target products with categories:\\n{0}\".format(eu_categories.count()))"
   ]
  },
  {
   "cell_type": "code",
   "execution_count": 43,
   "metadata": {},
   "outputs": [
    {
     "name": "stdout",
     "output_type": "stream",
     "text": [
      "+-------------+-------------------------+--------------+---------+--------------------+--------------------+\n",
      "|         code|manufacturing_places_tags|countries_tags|countries|manufacturing_places|          categories|\n",
      "+-------------+-------------------------+--------------+---------+--------------------+--------------------+\n",
      "|0000000020114|                   france|        france|       FR|                  FR|Compléments alime...|\n",
      "|0000000274722|                   france|        france|       FR|                  FR|      Plats préparés|\n",
      "|0000000274722|                   france|        france|       FR|                  FR| Produits à la vi...|\n",
      "|0000000274722|                   france|        france|       FR|                  FR| Plats à base de ...|\n",
      "|0000000274722|                   france|        france|       FR|                  FR| Plats préparés à...|\n",
      "+-------------+-------------------------+--------------+---------+--------------------+--------------------+\n",
      "only showing top 5 rows\n",
      "\n"
     ]
    }
   ],
   "source": [
    "# Flatten categories column\n",
    "eu_categories = eu_categories.withColumn('categories', F.explode_outer(F.split('categories', ',')))\n",
    "\n",
    "# Remove occurances of en: in name of categories\n",
    "eu_categories = eu_categories.withColumn('categories', F.regexp_replace('categories', 'en:', ''))\n",
    "\n",
    "eu_categories.show(5)"
   ]
  },
  {
   "cell_type": "code",
   "execution_count": 44,
   "metadata": {},
   "outputs": [
    {
     "name": "stdout",
     "output_type": "stream",
     "text": [
      "+--------------------+-----+\n",
      "|          categories|Count|\n",
      "+--------------------+-----+\n",
      "|Aliments et boiss...|13425|\n",
      "| Aliments d'origi...|11865|\n",
      "|   Produits laitiers| 8225|\n",
      "|               Frais| 7916|\n",
      "|       Snacks sucrés| 6891|\n",
      "|  Produits fermentés| 6742|\n",
      "| Produits laitier...| 6729|\n",
      "|             Viandes| 6222|\n",
      "| Biscuits et gâteaux| 5195|\n",
      "|Alimentos y bebid...| 5087|\n",
      "| Alimentos de ori...| 5020|\n",
      "| Céréales et pomm...| 5014|\n",
      "|      Plats préparés| 4559|\n",
      "|        Charcuteries| 4459|\n",
      "|      Plats préparés| 4263|\n",
      "|            Fromages| 4187|\n",
      "| Aliments à base ...| 4180|\n",
      "|            Boissons| 4108|\n",
      "| Céréales et dérivés| 3228|\n",
      "|            Desserts| 3088|\n",
      "+--------------------+-----+\n",
      "only showing top 20 rows\n",
      "\n",
      "Number of Categories:\n",
      "12846\n"
     ]
    }
   ],
   "source": [
    "# Find dominant categories\n",
    "eu_categories.createOrReplaceTempView(\"target_products_categories_p\")\n",
    "target_categories = spark.sql(\"SELECT categories, COUNT(categories) FROM target_products_categories_p GROUP BY categories ORDER BY COUNT(categories) DESC\")\n",
    "target_categories = target_categories.withColumnRenamed('count(categories)' , 'Count')\n",
    "target_categories.show()\n",
    "\n",
    "print(\"Number of Categories:\\n\" + str(target_categories.count()))"
   ]
  },
  {
   "cell_type": "code",
   "execution_count": 46,
   "metadata": {},
   "outputs": [
    {
     "data": {
      "image/png": "[encoded data removed]",
      "text/plain": [
       "<Figure size 432x288 with 1 Axes>"
      ]
     },
     "metadata": {
      "needs_background": "light"
     },
     "output_type": "display_data"
    }
   ],
   "source": [
    "# Extract the 15 most frequent categories and number of occurances.\n",
    "categories = target_categories.toPandas() \n",
    "categories = categories.head(15)\n",
    "\n",
    "# Plot the most frequent categories\n",
    "fig, ax = plt.subplots()\n",
    "ax.grid(zorder=-1)\n",
    "plt.barh(categories.categories, categories.Count, zorder=3, color='skyblue')\n",
    "plt.xlabel('Number of products')   \n",
    "plt.title('Fig. The number of products associated with their category')\n",
    "ax.invert_yaxis() \n",
    "plt.show()"
   ]
  },
  {
   "cell_type": "code",
   "execution_count": 48,
   "metadata": {},
   "outputs": [
    {
     "data": {
      "text/plain": [
       "0     Aliments et boissons à base de végétaux\n",
       "1                 Aliments d'origine végétale\n",
       "2                           Produits laitiers\n",
       "3                                       Frais\n",
       "4                               Snacks sucrés\n",
       "5                          Produits fermentés\n",
       "6                 Produits laitiers fermentés\n",
       "7                                     Viandes\n",
       "8                         Biscuits et gâteaux\n",
       "9       Alimentos y bebidas de origen vegetal\n",
       "10                Alimentos de origen vegetal\n",
       "11                Céréales et pommes de terre\n",
       "12                             Plats préparés\n",
       "13                               Charcuteries\n",
       "14                             Plats préparés\n",
       "Name: categories, dtype: object"
      ]
     },
     "execution_count": 48,
     "metadata": {},
     "output_type": "execute_result"
    }
   ],
   "source": [
    "categories.categories.head(20)"
   ]
  },
  {
   "cell_type": "code",
   "execution_count": 49,
   "metadata": {},
   "outputs": [
    {
     "name": "stdout",
     "output_type": "stream",
     "text": [
      "category: Aliments et boissons à base de végétaux\n",
      "The most important manufacturers:\n",
      "['FR' 'IT' 'SZ']\n"
     ]
    }
   ],
   "source": [
    "# Extract the most important manufacturer countries for 15 most frequent categories\n",
    "\n",
    "products_cats_df = eu_categories.toPandas()\n",
    "\n",
    "countries_cats = []\n",
    "\n",
    "for index, row in categories.iterrows():\n",
    "    temp_df = products_cats_df[(products_cats_df.categories == row.categories)].groupby('manufacturing_places').count().sort_values(by=['code'], ascending=False).head(5)\n",
    "    countries_cats.append(temp_df)\n",
    "\n",
    "# Each element of countries_cats is a dataframe containing the most important manufacturers\n",
    "# of the corresponding category"
   ]
  },
  {
   "cell_type": "code",
   "execution_count": 59,
   "metadata": {},
   "outputs": [
    {
     "name": "stdout",
     "output_type": "stream",
     "text": [
      "category: Aliments et boissons à base de végétaux\n",
      "['FR' 'IT' 'SZ' 'SP' 'GM']\n",
      "\n",
      "\n",
      "category:  Aliments d'origine végétale\n",
      "['FR' 'IT' 'SZ' 'SP' 'GM']\n",
      "\n",
      "\n",
      "category: Produits laitiers\n",
      "['FR' 'IT' 'SZ' 'SP' 'GM']\n",
      "\n",
      "\n",
      "category:  Frais\n",
      "['FR' 'IT' 'SZ' 'SP' 'GM']\n",
      "\n",
      "\n",
      "category: Snacks sucrés\n",
      "['FR' 'IT' 'SZ' 'SP' 'GM']\n",
      "\n",
      "\n",
      "category:  Produits fermentés\n",
      "['FR' 'IT' 'SZ' 'SP' 'GM']\n",
      "\n",
      "\n",
      "category:  Produits laitiers fermentés\n",
      "['FR' 'IT' 'SZ' 'SP' 'GM']\n",
      "\n",
      "\n",
      "category: Viandes\n",
      "['FR' 'IT' 'SZ' 'SP' 'GM']\n",
      "\n",
      "\n",
      "category:  Biscuits et gâteaux\n",
      "['FR' 'IT' 'SZ' 'SP' 'GM']\n",
      "\n",
      "\n",
      "category: Alimentos y bebidas de origen vegetal\n",
      "['FR' 'IT' 'SZ' 'SP' 'GM']\n",
      "\n",
      "\n",
      "category:  Alimentos de origen vegetal\n",
      "['FR' 'IT' 'SZ' 'SP' 'GM']\n",
      "\n",
      "\n",
      "category:  Céréales et pommes de terre\n",
      "['FR' 'IT' 'SZ' 'SP' 'GM']\n",
      "\n",
      "\n",
      "category: Plats préparés\n",
      "['FR' 'IT' 'SZ' 'SP' 'GM']\n",
      "\n",
      "\n",
      "category:  Charcuteries\n",
      "['FR' 'IT' 'SZ' 'SP' 'GM']\n",
      "\n",
      "\n",
      "category:  Plats préparés\n",
      "['FR' 'IT' 'SZ' 'SP' 'GM']\n",
      "\n",
      "\n"
     ]
    }
   ],
   "source": [
    "for i in range(len(countries_cats)):\n",
    "    print(\"category: \" + str(categories.iloc[i].categories))\n",
    "    print(countries_cats[0].head(5).index.values)\n",
    "    print(\"\\n\")"
   ]
  },
  {
   "cell_type": "code",
   "execution_count": null,
   "metadata": {},
   "outputs": [],
   "source": []
  },
  {
   "cell_type": "markdown",
   "metadata": {},
   "source": [
    "We will use extracted information about the most important manufacturer countries for 15 most frequent categories for our visualization."
   ]
  }
 ],
 "metadata": {
  "kernelspec": {
   "display_name": "Python 3",
   "language": "python",
   "name": "python3"
  },
  "language_info": {
   "codemirror_mode": {
    "name": "ipython",
    "version": 3
   },
   "file_extension": ".py",
   "mimetype": "text/x-python",
   "name": "python",
   "nbconvert_exporter": "python",
   "pygments_lexer": "ipython3",
   "version": "3.6.6"
  }
 },
 "nbformat": 4,
 "nbformat_minor": 2
}
