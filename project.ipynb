{
 "cells": [
  {
   "cell_type": "markdown",
   "metadata": {},
   "source": [
    "# Are we consuming more local?\n",
    "\n",
    "## Research questions\n",
    "\n",
    "1. Where are the products we consume in our everyday life coming from?\n",
    "\n",
    "    - Which countries produce the primary resources (ground ingredients) consumed in Switzerland?\n",
    "    - Which countries manufacture most of the products consumed in Switzerland?\n",
    "\n",
    "\n",
    "2. Is there a trend over time to consume more local products?\n",
    "\n",
    "    - Are new products mostly using primary resources from Switzerland? Or from other countries inside Europe?\n",
    "    - Are new products mostly manufactured in Switzerland? Or from other countries inside Europe?\n",
    "    - Is there a trend over time to local products to promote their origin?\n",
    "\n",
    "## Datasets\n",
    "\n",
    "Open Food Facts (https://world.openfoodfacts.org/data)\n",
    "\n",
    "Additional datasets “Evolution de la consommation de denrées alimentaires en Suisse” (https://opendata.swiss/fr/dataset/entwicklung-des-nahrungsmittelverbrauches-in-der-schweiz-je-kopf-und-jahr1) and “Dépenses fédérales pour l’agriculture et l’alimentation” (https://opendata.swiss/fr/dataset/bundesausgaben-fur-die-landwirtschaft-und-die-ernahrung1) from https://opendata.swiss/fr/group/agriculture\n",
    "\n",
    "A last additional dataset for the second question of the project\n",
    "https://www.gate.ezv.admin.ch/swissimpex/public/bereiche/waren/result.xhtml\n",
    "Total of imports of agriculture, forestry and fishing goods\n"
   ]
  },
  {
   "cell_type": "code",
   "execution_count": 2,
   "metadata": {},
   "outputs": [],
   "source": [
    "#imports\n",
    "import re\n",
    "import pandas as pd\n",
    "import numpy as np\n",
    "import scipy as sp\n",
    "import scipy.stats as stats\n",
    "import matplotlib.pyplot as plt\n",
    "\n",
    "import findspark\n",
    "findspark.init()\n",
    "import pyspark\n",
    "\n",
    "from functools import reduce\n",
    "from pyspark.sql import *\n",
    "from pyspark.sql import functions as F\n",
    "from pyspark.sql import SQLContext\n",
    "from pyspark.sql.functions import *\n",
    "from pyspark.sql.functions import min\n",
    "from pyspark.sql.functions import to_date, last_day,date_add\n",
    "from datetime import timedelta\n",
    "\n",
    "spark = SparkSession.builder.getOrCreate()\n",
    "sc = spark.sparkContext"
   ]
  },
  {
   "cell_type": "code",
   "execution_count": 3,
   "metadata": {},
   "outputs": [],
   "source": [
    "DATA_FOLDER = 'data'"
   ]
  },
  {
   "cell_type": "markdown",
   "metadata": {},
   "source": [
    "# Loading data"
   ]
  },
  {
   "cell_type": "markdown",
   "metadata": {},
   "source": [
    "## Open Food Fact data"
   ]
  },
  {
   "cell_type": "markdown",
   "metadata": {},
   "source": [
    "General information about columns of OpenFoodFact dataset are available on:\n",
    "\n",
    "https://static.openfoodfacts.org/data/data-fields.txt\n",
    "\n",
    "__General information__\n",
    "- __code__: barcode of the product (can be EAN-13 or internal codes for some food stores), for products without a barcode, Open Food Facts assigns a number starting with the 200 reserved prefix\n",
    "- __product_name__: name of the product\n",
    "\n",
    "__Geo information__\n",
    "- __origins__: origins of ingredients\n",
    "- __manufacturing_places__: places where manufactured or transformed\n",
    "- __countries__: list of countries where the product is sold\n"
   ]
  },
  {
   "cell_type": "code",
   "execution_count": 4,
   "metadata": {},
   "outputs": [
    {
     "name": "stdout",
     "output_type": "stream",
     "text": [
      "root\n",
      " |-- code: string (nullable = true)\n",
      " |-- product_name: string (nullable = true)\n",
      " |-- origins: string (nullable = true)\n",
      " |-- manufacturing_places: string (nullable = true)\n",
      " |-- countries: string (nullable = true)\n",
      "\n"
     ]
    }
   ],
   "source": [
    "dataset_main = spark.read.csv(DATA_FOLDER+\"/en.openfoodfacts.org.products.csv\", header=True, mode=\"DROPMALFORMED\", sep = '\\t')\n",
    "\n",
    "dataset_main.createOrReplaceTempView(\"data_main\")\n",
    "\n",
    "# Filter required columns\n",
    "p_id_col = \" code, product_name, \"\n",
    "general_cols = \" brands, brands_tags, categories, categories_tags, origins, origins_tags, manufacturing_places, manufacturing_places_tags,labels,labels_tags,emb_codes,emb_codes_tags,first_packaging_code_geo,cities,cities_tags,purchase_places,stores,countries,countries_tags \"\n",
    "geo_cols = \" origins, manufacturing_places, countries \"\n",
    "geo_tags_cols = \" origins_tags, manufacturing_places_tags, countries_tags \"\n",
    "\n",
    "off_df = spark.sql(\"SELECT\" + p_id_col + geo_cols + \" FROM data_main\")\n",
    "off_df.printSchema()"
   ]
  },
  {
   "cell_type": "code",
   "execution_count": 5,
   "metadata": {},
   "outputs": [
    {
     "name": "stdout",
     "output_type": "stream",
     "text": [
      "All data Size:\n",
      "5(columns) * 693829(rows)\n"
     ]
    }
   ],
   "source": [
    "off_all_size = off_df.count()\n",
    "off_cols_size = len(off_df.columns)\n",
    "print(\"All data Size:\\n\" + str(off_cols_size) + \"(columns) * \" + str(off_all_size) + \"(rows)\")"
   ]
  },
  {
   "cell_type": "markdown",
   "metadata": {},
   "source": [
    "### Data Cleaning and Preprocessing"
   ]
  },
  {
   "cell_type": "code",
   "execution_count": 41,
   "metadata": {},
   "outputs": [
    {
     "name": "stdout",
     "output_type": "stream",
     "text": [
      "+----+------------+-------+--------------------+---------+\n",
      "|code|product_name|origins|manufacturing_places|countries|\n",
      "+----+------------+-------+--------------------+---------+\n",
      "|   0|       25982| 651635|              626848|      561|\n",
      "+----+------------+-------+--------------------+---------+\n",
      "\n"
     ]
    }
   ],
   "source": [
    "# Find number of missing data\n",
    "\n",
    "off_df.select([count(when(isnan(c) | col(c).isNull(), c)).alias(c) for c in off_df.columns]).show()"
   ]
  },
  {
   "cell_type": "code",
   "execution_count": 6,
   "metadata": {},
   "outputs": [
    {
     "name": "stdout",
     "output_type": "stream",
     "text": [
      "Full GEO information data Size:\n",
      "5(columns) * 26986(rows)\n"
     ]
    }
   ],
   "source": [
    "off_df.createOrReplaceTempView(\"off_df\")\n",
    "\n",
    "sql_filter = \"SELECT * FROM off_df WHERE countries is not NULL AND manufacturing_places is not NULL AND origins is not NULL\"\n",
    "\n",
    "off_p_df = spark.sql(sql_filter)\n",
    "off_p_all_size = off_p_df.count()\n",
    "off_p_cols_size = len(off_p_df.columns)\n",
    "print(\"Full GEO information data Size:\\n\" + str(off_p_cols_size) + \"(columns) * \" + str(off_p_all_size) + \"(rows)\")"
   ]
  },
  {
   "cell_type": "code",
   "execution_count": 44,
   "metadata": {},
   "outputs": [
    {
     "name": "stdout",
     "output_type": "stream",
     "text": [
      "+-------------+--------------------+-------------+--------------------+--------------+\n",
      "|         code|        product_name|      origins|manufacturing_places|     countries|\n",
      "+-------------+--------------------+-------------+--------------------+--------------+\n",
      "|0000000274722|Blanquette de Vol...|       France|              France|        France|\n",
      "|0000000290616|        Salade Cesar|       Québec|     Brossard Québec|        Canada|\n",
      "|0000000394710|Danoises à la can...|       Québec|     Brossard Québec|        Canada|\n",
      "|0000001071894|               Flute|       France|      United Kingdom|United Kingdom|\n",
      "|0000001938067|Chaussons tressés...|       Québec|     Brossard Québec|        Canada|\n",
      "|0000004302544| Pain Burger Artisan|       Québec|     Brossard,Québec|        Canada|\n",
      "|0000008237798|     Quiche Lorraine|       Québec|     Brossard,Québec|        Canada|\n",
      "|0000008240095|      Pâté au poulet|       Québec|     Brossard Québec|        Canada|\n",
      "|0000012167005|Brioches roulées ...|Québec,Canada|     Brossars,Québec|        Canada|\n",
      "|0000020004552|Côtes du Rhône Vi...|       France|              France|        France|\n",
      "+-------------+--------------------+-------------+--------------------+--------------+\n",
      "only showing top 10 rows\n",
      "\n"
     ]
    }
   ],
   "source": [
    "off_p_df.show(10)"
   ]
  },
  {
   "cell_type": "markdown",
   "metadata": {},
   "source": [
    "We should determine the list of products that are sold in Switzerland"
   ]
  },
  {
   "cell_type": "code",
   "execution_count": 7,
   "metadata": {},
   "outputs": [],
   "source": [
    "# create a specific filter for Swiss occurences\n",
    "\n",
    "filter_ch = '[Ss]witzerland|[Ss]uisse|[Ss]chweiz|[Ss]vizerra'"
   ]
  },
  {
   "cell_type": "code",
   "execution_count": 8,
   "metadata": {},
   "outputs": [
    {
     "name": "stdout",
     "output_type": "stream",
     "text": [
      "swiss_sold data Size:\n",
      "762\n"
     ]
    }
   ],
   "source": [
    "# store products that are sold in Switzerland\n",
    "swiss_sold_data = off_p_df.filter(off_p_df[\"countries\"].rlike(filter_ch))\n",
    "\n",
    "swiss_sold_size = swiss_sold_data.count()\n",
    "print(\"swiss_sold data Size:\\n\" + str(swiss_sold_size))"
   ]
  },
  {
   "cell_type": "markdown",
   "metadata": {},
   "source": [
    "From now we work on products sold in Switzerland. \n",
    "We classify these products under different categories:\n",
    "- products manufactured in Switzerland\n",
    "- products not manufactured Switzerland to find which countries manufacture the most products consumed in Switzerland.\n",
    "- products not originating from Switzerland to find which countries produce the ground ingredients for products sold in Switzerland."
   ]
  },
  {
   "cell_type": "code",
   "execution_count": 50,
   "metadata": {},
   "outputs": [
    {
     "name": "stdout",
     "output_type": "stream",
     "text": [
      "swiss_origin data Size:\n",
      "482\n"
     ]
    }
   ],
   "source": [
    "# store products which ingredients originate from Switzerland\n",
    "swiss_origin_data = off_p_df.filter(off_p_df[\"origins\"].rlike(filter_ch))\n",
    "\n",
    "swiss_origin_size = swiss_origin_data.count()\n",
    "print(\"swiss_origin data Size:\\n\" + str(swiss_origin_size))"
   ]
  },
  {
   "cell_type": "code",
   "execution_count": 51,
   "metadata": {},
   "outputs": [
    {
     "name": "stdout",
     "output_type": "stream",
     "text": [
      "swiss_manufactored data Size:\n",
      "545\n"
     ]
    }
   ],
   "source": [
    "# store products that are manufactured in Switzerland\n",
    "swiss_manu_data = off_p_df.filter(off_p_df[\"manufacturing_places\"].rlike(filter_ch))\n",
    "\n",
    "swiss_manu_size = swiss_manu_data.count()\n",
    "print(\"swiss_manufactored data Size:\\n\" + str(swiss_manu_size))"
   ]
  },
  {
   "cell_type": "code",
   "execution_count": 52,
   "metadata": {},
   "outputs": [
    {
     "name": "stdout",
     "output_type": "stream",
     "text": [
      "swiss_origin_manufactored data Size:\n",
      "379\n"
     ]
    }
   ],
   "source": [
    "# store products that are both manufactured and originate from Switzerland\n",
    "swiss_origin_manu_data = off_p_df.filter(off_p_df[\"origins\"].rlike(filter_ch) & off_p_df[\"manufacturing_places\"].rlike(filter_ch))\n",
    "\n",
    "swiss_origin_manu_size = swiss_origin_manu_data.count()\n",
    "print(\"swiss_origin_manufactored data Size:\\n\" + str(swiss_origin_manu_size))"
   ]
  },
  {
   "cell_type": "code",
   "execution_count": 173,
   "metadata": {},
   "outputs": [
    {
     "data": {
      "image/png": "[encoded data removed]",
      "text/plain": [
       "<Figure size 432x288 with 1 Axes>"
      ]
     },
     "metadata": {},
     "output_type": "display_data"
    }
   ],
   "source": [
    "#count products whose ingredients from switzerland but which were not manufactured in Switzerland\n",
    "swiss_origin_tot = swiss_origin_data.filter(~ swiss_origin_data[\"manufacturing_places\"].rlike(filter_ch)).count()\n",
    "\n",
    "#Total of products sold in Switzerland\n",
    "swiss_sold_tot = swiss_sold_data.count()\n",
    "\n",
    "#count products that do not have swiss ingredients\n",
    "swiss_manu_tot = swiss_manu_data.filter(~ swiss_manu_data[\"origins\"].rlike(filter_ch)).count()\n",
    "\n",
    "#products that are sold in Switzerland but that were not manufactured in CH and that do not have swiss ingredients\n",
    "non_swiss_sold_tot = swiss_sold_data.filter(~ swiss_sold_data[\"manufacturing_places\"].rlike(filter_ch) & ~swiss_sold_data[\"origins\"].rlike(filter_ch)).count()\n",
    "\n",
    "#total of products that are both manufactured and has ingredients from Switzerland\n",
    "swiss_origin_manu_tot = swiss_origin_manu_data.count()\n",
    "\n",
    "labels = 'Swiss ingredients (but not manufactured in Switzerland)', 'Manufactured in Switzerland (with no swiss ingredients)', 'Completely foreign products', 'Both swiss ingredients and manufactured in Switzerland'\n",
    "sizes = [swiss_origin_tot, swiss_manu_tot, non_swiss_sold_tot, swiss_origin_manu_tot]\n",
    "fig1, ax1 = plt.subplots()\n",
    "ax1.pie(sizes, labels=labels, autopct='%1.1f%%', startangle=90)\n",
    "ax1.axis('equal')  # Equal aspect ratio ensures that pie is drawn as a circle.\n",
    "plt.title('Proportions for a total of ' + str(swiss_sold_tot) + ' products sold in Switzerland')\n",
    "\n",
    "plt.show()"
   ]
  },
  {
   "cell_type": "markdown",
   "metadata": {},
   "source": [
    "According to above chart, we can see that Switzerland tend to use local ingredients to manufacture products. Since most of products manufactured in Switzerland are produced by mostly Swiss ingredients."
   ]
  },
  {
   "cell_type": "code",
   "execution_count": 9,
   "metadata": {},
   "outputs": [
    {
     "name": "stdout",
     "output_type": "stream",
     "text": [
      "Non swiss/Sold in Switzerland data Size:\n",
      "373\n"
     ]
    }
   ],
   "source": [
    "#Store products that are not manufactured in Switzerland\n",
    "non_swiss_sold = swiss_sold_data.filter(~swiss_sold_data[\"manufacturing_places\"].rlike(filter_ch))\n",
    "\n",
    "non_swiss_sold_size = non_swiss_sold.count()\n",
    "print(\"Non swiss/Sold in Switzerland data Size:\\n\" + str(non_swiss_sold_size))"
   ]
  },
  {
   "cell_type": "code",
   "execution_count": 168,
   "metadata": {},
   "outputs": [
    {
     "name": "stdout",
     "output_type": "stream",
     "text": [
      "Swiss/Sold in Switzerland data Size:\n",
      "389\n"
     ]
    }
   ],
   "source": [
    "#Store products that are manufactured in Switzerland\n",
    "swiss_m_sold = swiss_sold_data.filter(swiss_sold_data[\"manufacturing_places\"].rlike(filter_ch))\n",
    "\n",
    "swiss_m_sold_size = swiss_m_sold.count()\n",
    "print(\"Swiss/Sold in Switzerland data Size:\\n\" + str(swiss_m_sold_size))"
   ]
  },
  {
   "cell_type": "code",
   "execution_count": 171,
   "metadata": {},
   "outputs": [
    {
     "data": {
      "image/png": "[encoded data removed]",
      "text/plain": [
       "<Figure size 432x288 with 1 Axes>"
      ]
     },
     "metadata": {
      "needs_background": "light"
     },
     "output_type": "display_data"
    }
   ],
   "source": [
    "# Plot the number Swiss vs non-swiss products (Manufacturing)\n",
    "fig, ax = plt.subplots()\n",
    "titles = ['Manufactured in Switzerland', 'Not manufactured in Switzerland']\n",
    "plt.bar(titles, [swiss_m_sold_size, non_swiss_sold_size])\n",
    "plt.ylabel('Number of products')   \n",
    "plt.xticks(titles)\n",
    "plt.title('Fig. The number of products imported by 10 most important countries')\n",
    "plt.show()"
   ]
  },
  {
   "cell_type": "markdown",
   "metadata": {},
   "source": [
    "Out of __762__ products sold in Switzerland, Just about __51%__ of them was manufactured in Switzerland."
   ]
  },
  {
   "cell_type": "markdown",
   "metadata": {},
   "source": [
    "The dataset is not concistent with the country or places name, therefore, we have to clean the data by trying to unify a maximum the places names. First the database http://download.geonames.org/export/dump/ was used in order to match all the different ways of naming a country to a single convention but since there are some rows which need human intelligence to process(for example some fields contain name of ingredient or details) in the end we prefered to clean data manually. "
   ]
  },
  {
   "cell_type": "code",
   "execution_count": 129,
   "metadata": {},
   "outputs": [],
   "source": [
    "cleaned_countries = pd.read_csv(\"cleaning_data/origins_cleaning.csv\")\n",
    "\n",
    "# Clean origins countries\n",
    "\n",
    "for index, row in cleaned_countries[::-1].iterrows():\n",
    "    if(str(row['replace_with']) != \"nan\"):\n",
    "        non_swiss_sold = non_swiss_sold.withColumn('origins', F.regexp_replace('origins', row['origins'], row['replace_with']))\n",
    "    else:\n",
    "        non_swiss_sold = non_swiss_sold.withColumn('origins', F.regexp_replace('origins', row['origins'], \"\"))\n",
    "\n",
    "    "
   ]
  },
  {
   "cell_type": "code",
   "execution_count": 155,
   "metadata": {},
   "outputs": [
    {
     "name": "stdout",
     "output_type": "stream",
     "text": [
      "Number of ingredient importers:\n",
      "80\n"
     ]
    }
   ],
   "source": [
    "# Find dominant importers of ingredients\n",
    "\n",
    "# Flatten origins column\n",
    "origins_p = non_swiss_sold.withColumn('origins', F.explode_outer(F.split('origins', ',')))\n",
    "origins_p.createOrReplaceTempView(\"origins_p\")\n",
    "target_origins = spark.sql(\"SELECT origins, COUNT(origins) FROM origins_p GROUP BY origins ORDER BY COUNT(origins) DESC\")\n",
    "target_origins = target_origins.withColumnRenamed('count(origins)' , 'Count')\n",
    "\n",
    "print(\"Number of ingredient importers:\\n\" + str(target_origins.count()))"
   ]
  },
  {
   "cell_type": "code",
   "execution_count": 156,
   "metadata": {},
   "outputs": [
    {
     "data": {
      "image/png": "[encoded data removed]",
      "text/plain": [
       "<Figure size 432x288 with 1 Axes>"
      ]
     },
     "metadata": {
      "needs_background": "light"
     },
     "output_type": "display_data"
    }
   ],
   "source": [
    "# Extract the 10 most important countries and number of occurances in ingredients.\n",
    "origin_countries = target_origins.toPandas() \n",
    "origin_countries = origin_countries.head(10)\n",
    "\n",
    "# Plot the number of products imported by 10 most important countries\n",
    "fig, ax = plt.subplots()\n",
    "ax.grid(zorder=-1)\n",
    "plt.bar(origin_countries.origins, origin_countries.Count, zorder=3, color='skyblue')\n",
    "plt.ylabel('Number of products')   \n",
    "plt.xticks(origin_countries.origins, rotation='80')\n",
    "plt.title('Fig. The number of products imported by 10 most important countries')\n",
    "plt.show()"
   ]
  },
  {
   "cell_type": "code",
   "execution_count": 119,
   "metadata": {},
   "outputs": [],
   "source": [
    "# Export origins to CSV \n",
    "target_origins.select(\"origins\").toPandas().to_csv('output/origins.csv')"
   ]
  },
  {
   "cell_type": "code",
   "execution_count": 150,
   "metadata": {},
   "outputs": [],
   "source": [
    "# Clean manufacturers countries\n",
    "\n",
    "for index, row in cleaned_countries[::-1].iterrows():\n",
    "    if(str(row['replace_with']) != \"nan\"):\n",
    "        non_swiss_sold = non_swiss_sold.withColumn('manufacturing_places', F.regexp_replace('manufacturing_places', row['origins'], row['replace_with']))\n",
    "    else:\n",
    "        non_swiss_sold = non_swiss_sold.withColumn('manufacturing_places', F.regexp_replace('manufacturing_places', row['origins'], \"\"))\n"
   ]
  },
  {
   "cell_type": "markdown",
   "metadata": {},
   "source": [
    "### TODO: clean manufactring_places manually!"
   ]
  },
  {
   "cell_type": "code",
   "execution_count": 157,
   "metadata": {},
   "outputs": [
    {
     "name": "stdout",
     "output_type": "stream",
     "text": [
      "Number of Manufacturers:\n",
      "263\n"
     ]
    }
   ],
   "source": [
    "# Find dominant importers (manufacturers)\n",
    "\n",
    "# Flatten manufacturers column\n",
    "manufacturers_p = non_swiss_sold.withColumn('manufacturing_places', F.explode_outer(F.split('manufacturing_places', ',')))\n",
    "manufacturers_p.createOrReplaceTempView(\"manufacturers_p\")\n",
    "target_manufacturers = spark.sql(\"SELECT manufacturing_places, COUNT(manufacturing_places) FROM manufacturers_p GROUP BY manufacturing_places ORDER BY COUNT(manufacturing_places) DESC\")\n",
    "target_manufacturers = target_manufacturers.withColumnRenamed('count(manufacturing_places)' , 'Count')\n",
    "# target_manufacturers.show()\n",
    "\n",
    "print(\"Number of Manufacturers:\\n\" + str(target_manufacturers.count()))"
   ]
  },
  {
   "cell_type": "code",
   "execution_count": 161,
   "metadata": {},
   "outputs": [
    {
     "data": {
      "image/png": "[encoded data removed]",
      "text/plain": [
       "<Figure size 432x288 with 1 Axes>"
      ]
     },
     "metadata": {
      "needs_background": "light"
     },
     "output_type": "display_data"
    }
   ],
   "source": [
    "# Extract the 10 most important manufacturers countries and number of occurances.\n",
    "manufacturer_countries = target_manufacturers.toPandas() \n",
    "manufacturer_countries = manufacturer_countries.head(10)\n",
    "\n",
    "# Plot the number of products manufactured by 10 most important countries\n",
    "fig, ax = plt.subplots()\n",
    "ax.grid(zorder=-1)\n",
    "plt.bar(manufacturer_countries.manufacturing_places, manufacturer_countries.Count, zorder=3, color='skyblue')\n",
    "plt.ylabel('Number of products')   \n",
    "plt.xticks(manufacturer_countries.manufacturing_places, rotation='80')\n",
    "plt.title('Fig. The number of products manufactured by 10 most important countries')\n",
    "plt.show()"
   ]
  },
  {
   "cell_type": "code",
   "execution_count": 154,
   "metadata": {},
   "outputs": [],
   "source": [
    "# Export manufacturing_places to CSV \n",
    "target_manufacturers.select(\"manufacturing_places\").toPandas().to_csv('output/manufacturing_places.csv')"
   ]
  },
  {
   "cell_type": "markdown",
   "metadata": {},
   "source": [
    "### Working with products' categories"
   ]
  },
  {
   "cell_type": "code",
   "execution_count": 12,
   "metadata": {},
   "outputs": [
    {
     "name": "stdout",
     "output_type": "stream",
     "text": [
      "+-------------+--------------------+----------+\n",
      "|         code|        product_name|categories|\n",
      "+-------------+--------------------+----------+\n",
      "|0000000000017|    Vitória crackers|      null|\n",
      "|0000000000031|               Cacao|      null|\n",
      "|0000000000123|Sauce Sweety chil...|      null|\n",
      "|0000000000291|           Mendiants|      null|\n",
      "|0000000000949|Salade de carotte...|      null|\n",
      "|0000000000970|Fromage blanc aux...|      null|\n",
      "|0000000001001|                null|      null|\n",
      "|0000000001007|            Vainilla|      null|\n",
      "|0000000001137|   Baguette parisien|      null|\n",
      "|0000000001151|&quot;Baguette Ly...|      null|\n",
      "+-------------+--------------------+----------+\n",
      "only showing top 10 rows\n",
      "\n"
     ]
    }
   ],
   "source": [
    "extra_info_df = ' categories '\n",
    "categories_df = spark.sql(\"SELECT\" + p_id_col + extra_info_df + \" FROM data_main\")\n",
    "categories_df.show(10)"
   ]
  },
  {
   "cell_type": "code",
   "execution_count": 13,
   "metadata": {},
   "outputs": [
    {
     "name": "stdout",
     "output_type": "stream",
     "text": [
      "+----+------------+----------+\n",
      "|code|product_name|categories|\n",
      "+----+------------+----------+\n",
      "|   0|       25982|    514895|\n",
      "+----+------------+----------+\n",
      "\n"
     ]
    }
   ],
   "source": [
    "categories_df.select([count(when(isnan(c) | col(c).isNull(), c)).alias(c) for c in traces_df.columns]).show()"
   ]
  },
  {
   "cell_type": "code",
   "execution_count": 14,
   "metadata": {},
   "outputs": [],
   "source": [
    "non_swiss_sold.createOrReplaceTempView(\"target_products_df\")\n",
    "categories_df.createOrReplaceTempView(\"categories_df\")\n",
    "joined_df = spark.sql(\"SELECT p.code, c.categories, p.origins, p.manufacturing_places, p.countries  FROM target_products_df p INNER JOIN categories_df c ON p.code = c.code\")\n"
   ]
  },
  {
   "cell_type": "code",
   "execution_count": 15,
   "metadata": {},
   "outputs": [
    {
     "name": "stdout",
     "output_type": "stream",
     "text": [
      "+----+----------+-------+--------------------+---------+\n",
      "|code|categories|origins|manufacturing_places|countries|\n",
      "+----+----------+-------+--------------------+---------+\n",
      "|   0|        15|      0|                   0|        0|\n",
      "+----+----------+-------+--------------------+---------+\n",
      "\n"
     ]
    }
   ],
   "source": [
    "joined_df.select([count(when(isnan(c) | col(c).isNull(), c)).alias(c) for c in joined_df.columns]).show()"
   ]
  },
  {
   "cell_type": "code",
   "execution_count": 16,
   "metadata": {},
   "outputs": [
    {
     "name": "stdout",
     "output_type": "stream",
     "text": [
      "Number of Products sold in Switzerland with categories:\n",
      "358\n"
     ]
    }
   ],
   "source": [
    "joined_df.createOrReplaceTempView(\"target_products_cats\")\n",
    "sql_filter = \"SELECT * FROM target_products_cats WHERE categories is not NULL\"\n",
    "target_products_categories_p = spark.sql(sql_filter)\n",
    "\n",
    "print(\"Number of Products sold in Switzerland with categories:\\n\" + str(target_products_categories_p.count()))"
   ]
  },
  {
   "cell_type": "code",
   "execution_count": 17,
   "metadata": {},
   "outputs": [
    {
     "name": "stdout",
     "output_type": "stream",
     "text": [
      "+-------------+--------------------+--------------------+--------------------+--------------------+\n",
      "|         code|          categories|             origins|manufacturing_places|           countries|\n",
      "+-------------+--------------------+--------------------+--------------------+--------------------+\n",
      "|4104420209114|Snacks sucrés,Bis...|Agriculture UE/No...|            Pays-Bas|    Allemagne,Suisse|\n",
      "|7613331285263|    Nectar de fruits|Bulgarie,Roumanie...|           Allemagne|              Suisse|\n",
      "|8076809513388|Epicerie,Sauces,S...|Italie,Tomates d'...|BARILLA ALIMENTAR...|Autriche,France,A...|\n",
      "|9310055917996|Rice Crackers,Sna...|United States,Imp...|       United States|Australia, en:fra...|\n",
      "|3256540011465|Snacks sucrés,Vie...|              France|              France|       France,Suisse|\n",
      "+-------------+--------------------+--------------------+--------------------+--------------------+\n",
      "only showing top 5 rows\n",
      "\n"
     ]
    }
   ],
   "source": [
    "target_products_categories_p.show(5)"
   ]
  },
  {
   "cell_type": "code",
   "execution_count": 44,
   "metadata": {},
   "outputs": [
    {
     "name": "stdout",
     "output_type": "stream",
     "text": [
      "+-------------+-------------------+--------------------+--------------------+----------------+\n",
      "|         code|         categories|             origins|manufacturing_places|       countries|\n",
      "+-------------+-------------------+--------------------+--------------------+----------------+\n",
      "|4104420209114|      Snacks sucrés|Agriculture UE/No...|            Pays-Bas|Allemagne,Suisse|\n",
      "|4104420209114|Biscuits et gâteaux|Agriculture UE/No...|            Pays-Bas|Allemagne,Suisse|\n",
      "|4104420209114|        Pâtisseries|Agriculture UE/No...|            Pays-Bas|Allemagne,Suisse|\n",
      "|4104420209114|            Gaufres|Agriculture UE/No...|            Pays-Bas|Allemagne,Suisse|\n",
      "|7613331285263|   Nectar de fruits|Bulgarie,Roumanie...|           Allemagne|          Suisse|\n",
      "+-------------+-------------------+--------------------+--------------------+----------------+\n",
      "only showing top 5 rows\n",
      "\n"
     ]
    }
   ],
   "source": [
    "# Flatten categories column\n",
    "target_products_categories_p = target_products_categories_p.withColumn('categories', F.explode_outer(F.split('categories', ',')))\n",
    "\n",
    "# Remove occurances of en: in name of categories\n",
    "target_products_categories_p = target_products_categories_p.withColumn('categories', F.regexp_replace('categories', 'en:', ''))\n",
    "\n",
    "target_products_categories_p.show(5)"
   ]
  },
  {
   "cell_type": "code",
   "execution_count": 24,
   "metadata": {},
   "outputs": [
    {
     "name": "stdout",
     "output_type": "stream",
     "text": [
      "+--------------------+-----+\n",
      "|          categories|Count|\n",
      "+--------------------+-----+\n",
      "|   Produits laitiers|   41|\n",
      "|Aliments et boiss...|   40|\n",
      "|Aliments d'origin...|   37|\n",
      "|               Frais|   33|\n",
      "|            Boissons|   31|\n",
      "|            Fromages|   28|\n",
      "|  Produits fermentés|   19|\n",
      "|      Plats préparés|   18|\n",
      "|Fromages pasteurisés|   17|\n",
      "|   Fromages de vache|   16|\n",
      "|Produits laitiers...|   16|\n",
      "|Fromages industriels|   15|\n",
      "|Boissons non sucrées|   15|\n",
      "|  Fromages de France|   13|\n",
      "|            Desserts|   13|\n",
      "|Céréales et pomme...|   13|\n",
      "|  Produits de la mer|   12|\n",
      "|     Petit-déjeuners|   12|\n",
      "|            Poissons|   11|\n",
      "|       Snacks sucrés|   11|\n",
      "+--------------------+-----+\n",
      "only showing top 20 rows\n",
      "\n",
      "Number of Categories:\n",
      "831\n"
     ]
    }
   ],
   "source": [
    "# Find dominant importers of ingredients\n",
    "target_products_categories_p.createOrReplaceTempView(\"target_products_categories_p\")\n",
    "target_categories = spark.sql(\"SELECT categories, COUNT(categories) FROM target_products_categories_p GROUP BY categories ORDER BY COUNT(categories) DESC\")\n",
    "target_categories = target_categories.withColumnRenamed('count(categories)' , 'Count')\n",
    "target_categories.show()\n",
    "\n",
    "print(\"Number of Categories:\\n\" + str(target_categories.count()))"
   ]
  },
  {
   "cell_type": "code",
   "execution_count": 25,
   "metadata": {},
   "outputs": [],
   "source": [
    "# Export Categories to CSV \n",
    "target_categories.toPandas().to_csv('output/categories.csv')"
   ]
  },
  {
   "cell_type": "code",
   "execution_count": 31,
   "metadata": {},
   "outputs": [
    {
     "name": "stdout",
     "output_type": "stream",
     "text": [
      "+--------------------+-----+\n",
      "|          categories|Count|\n",
      "+--------------------+-----+\n",
      "|   Produits laitiers|   41|\n",
      "|Aliments et boiss...|   40|\n",
      "|Aliments d'origin...|   37|\n",
      "|               Frais|   33|\n",
      "|            Boissons|   31|\n",
      "|            Fromages|   28|\n",
      "|  Produits fermentés|   19|\n",
      "|      Plats préparés|   18|\n",
      "|Fromages pasteurisés|   17|\n",
      "|   Fromages de vache|   16|\n",
      "|Produits laitiers...|   16|\n",
      "|Fromages industriels|   15|\n",
      "|Boissons non sucrées|   15|\n",
      "|  Fromages de France|   13|\n",
      "|            Desserts|   13|\n",
      "|Céréales et pomme...|   13|\n",
      "|  Produits de la mer|   12|\n",
      "|     Petit-déjeuners|   12|\n",
      "|            Poissons|   11|\n",
      "|       Snacks sucrés|   11|\n",
      "+--------------------+-----+\n",
      "only showing top 20 rows\n",
      "\n"
     ]
    }
   ],
   "source": [
    "target_categories.show()"
   ]
  },
  {
   "cell_type": "code",
   "execution_count": 43,
   "metadata": {},
   "outputs": [
    {
     "data": {
      "image/png": "[encoded data removed]",
      "text/plain": [
       "<Figure size 432x288 with 1 Axes>"
      ]
     },
     "metadata": {
      "needs_background": "light"
     },
     "output_type": "display_data"
    }
   ],
   "source": [
    "# Extract the 15 most frequent categories and number of occurances.\n",
    "categories = target_categories.toPandas() \n",
    "categories = categories.head(15)\n",
    "\n",
    "# Plot the most frequent categories\n",
    "fig, ax = plt.subplots()\n",
    "ax.grid(zorder=-1)\n",
    "plt.barh(categories.categories, categories.Count, zorder=3, color='skyblue')\n",
    "plt.xlabel('Number of products')   \n",
    "plt.title('Fig. The number of products sold in Switzerland')\n",
    "ax.invert_yaxis() \n",
    "plt.show()"
   ]
  },
  {
   "cell_type": "code",
   "execution_count": 81,
   "metadata": {},
   "outputs": [
    {
     "name": "stdout",
     "output_type": "stream",
     "text": [
      "category: Produits laitiers\n",
      "The most important manufacturers:\n",
      "['France' 'Italie' 'Pays de la Loire' 'Mayenne' 'Ille-et-Vilaine']\n"
     ]
    }
   ],
   "source": [
    "# Extract the most important manufacturer countries for 15 most frequent categories\n",
    "\n",
    "categories_countires_p = target_products_categories_p.withColumn('manufacturing_places', F.explode_outer(F.split('manufacturing_places', ',')))\n",
    "products_cats_df = categories_countires_p.toPandas()\n",
    "\n",
    "countries_cats = []\n",
    "cat = \"Snacks sucrés\"\n",
    "for index, row in categories.iterrows():\n",
    "    temp_df = products_cats_df[(products_cats_df.categories == row.categories)].groupby('manufacturing_places').count().sort_values(by=['code'], ascending=False).head(5)\n",
    "    countries_cats.append(temp_df)\n",
    "\n",
    "# Each element of countries_cats is a dataframe containing the most important manufacturers\n",
    "# of the corresponding category\n",
    "\n",
    "i = 0\n",
    "print(\"category: \" + str(categories.iloc[i].categories))\n",
    "print(\"The most important manufacturers:\")\n",
    "print(countries_cats[0].index.values)"
   ]
  },
  {
   "cell_type": "markdown",
   "metadata": {},
   "source": [
    "We will use extracted information about the most important manufacturer countries for 15 most frequent categories for our visualization."
   ]
  },
  {
   "cell_type": "code",
   "execution_count": null,
   "metadata": {},
   "outputs": [],
   "source": []
  },
  {
   "cell_type": "markdown",
   "metadata": {},
   "source": [
    "## Descriptive Analysis"
   ]
  },
  {
   "cell_type": "code",
   "execution_count": null,
   "metadata": {},
   "outputs": [],
   "source": []
  },
  {
   "cell_type": "markdown",
   "metadata": {},
   "source": [
    "## Data Preprocessing"
   ]
  },
  {
   "cell_type": "code",
   "execution_count": null,
   "metadata": {},
   "outputs": [],
   "source": []
  }
 ],
 "metadata": {
  "kernelspec": {
   "display_name": "Python 3",
   "language": "python",
   "name": "python3"
  },
  "language_info": {
   "codemirror_mode": {
    "name": "ipython",
    "version": 3
   },
   "file_extension": ".py",
   "mimetype": "text/x-python",
   "name": "python",
   "nbconvert_exporter": "python",
   "pygments_lexer": "ipython3",
   "version": "3.6.6"
  }
 },
 "nbformat": 4,
 "nbformat_minor": 2
}
