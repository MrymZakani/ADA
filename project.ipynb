{
 "cells": [
  {
   "cell_type": "markdown",
   "metadata": {},
   "source": [
    "# Are we consuming more local?\n",
    "\n",
    "## Research questions\n",
    "\n",
    "1. Where are the products we consume in our everyday life coming from?\n",
    "\n",
    "    - Which countries produce the primary resources (ground ingredients) consumed in Switzerland?\n",
    "    - Which countries manufacture most of the products consumed in Switzerland?\n",
    "\n",
    "\n",
    "2. Is there a trend over time to consume more local products?\n",
    "\n",
    "    - Are new products mostly using primary resources from Switzerland? Or from other countries inside Europe?\n",
    "    - Are new products mostly manufactured in Switzerland? Or from other countries inside Europe?\n",
    "    - Is there a trend over time to local products to promote their origin?\n",
    "\n",
    "## Datasets\n",
    "\n",
    "Open Food Facts (https://world.openfoodfacts.org/data)\n",
    "\n",
    "Additional datasets “Evolution de la consommation de denrées alimentaires en Suisse” (https://opendata.swiss/fr/dataset/entwicklung-des-nahrungsmittelverbrauches-in-der-schweiz-je-kopf-und-jahr1) and “Dépenses fédérales pour l’agriculture et l’alimentation” (https://opendata.swiss/fr/dataset/bundesausgaben-fur-die-landwirtschaft-und-die-ernahrung1) from https://opendata.swiss/fr/group/agriculture\n",
    "\n",
    "## TODO\n",
    "\n",
    "   - Cleaning/Exploring dataset\n",
    "   - Descriptive analysis\n",
    "   - We should determine the list of products that are sold in Switzerland\n",
    "   - We should then classify these products under different categories:\n",
    "        - products entirely originating from Switzerland\n",
    "        - products partially originating from Switzerland (manufactured in Switzerland but ingredients are from another country)\n",
    "        - products not originating from Switzerland\n",
    "   - Draw statistics from the importation balances, determining which are the countries producing most of the ground ingredients and manufacturing the products consumed in Switzerland.\n"
   ]
  },
  {
   "cell_type": "markdown",
   "metadata": {},
   "source": [
    "## Data Cleaning and Preprocessing"
   ]
  },
  {
   "cell_type": "code",
   "execution_count": 13,
   "metadata": {},
   "outputs": [],
   "source": [
    "#imports\n",
    "import re\n",
    "import pandas as pd\n",
    "import numpy as np\n",
    "import scipy as sp\n",
    "import scipy.stats as stats\n",
    "import matplotlib.pyplot as plt\n",
    "\n",
    "import findspark\n",
    "findspark.init()\n",
    "import pyspark\n",
    "\n",
    "from functools import reduce\n",
    "from pyspark.sql import *\n",
    "from pyspark.sql import functions as F\n",
    "from pyspark.sql import SQLContext\n",
    "from pyspark.sql.functions import *\n",
    "from pyspark.sql.functions import min\n",
    "from pyspark.sql.functions import to_date, last_day,date_add\n",
    "from datetime import timedelta\n",
    "\n",
    "spark = SparkSession.builder.getOrCreate()\n",
    "sc = spark.sparkContext"
   ]
  },
  {
   "cell_type": "code",
   "execution_count": 14,
   "metadata": {},
   "outputs": [],
   "source": [
    "DATA_FOLDER = 'data'"
   ]
  },
  {
   "cell_type": "code",
   "execution_count": 15,
   "metadata": {},
   "outputs": [],
   "source": [
    "dataset_main = spark.read.csv(DATA_FOLDER+\"/en.openfoodfacts.org.products.csv\", header=True, mode=\"DROPMALFORMED\", sep = '\\t')"
   ]
  },
  {
   "cell_type": "code",
   "execution_count": 16,
   "metadata": {},
   "outputs": [
    {
     "name": "stdout",
     "output_type": "stream",
     "text": [
      "root\n",
      " |-- code: string (nullable = true)\n",
      " |-- url: string (nullable = true)\n",
      " |-- creator: string (nullable = true)\n",
      " |-- created_t: string (nullable = true)\n",
      " |-- created_datetime: string (nullable = true)\n",
      " |-- last_modified_t: string (nullable = true)\n",
      " |-- last_modified_datetime: string (nullable = true)\n",
      " |-- product_name: string (nullable = true)\n",
      " |-- generic_name: string (nullable = true)\n",
      " |-- quantity: string (nullable = true)\n",
      " |-- packaging: string (nullable = true)\n",
      " |-- packaging_tags: string (nullable = true)\n",
      " |-- brands: string (nullable = true)\n",
      " |-- brands_tags: string (nullable = true)\n",
      " |-- categories: string (nullable = true)\n",
      " |-- categories_tags: string (nullable = true)\n",
      " |-- categories_en: string (nullable = true)\n",
      " |-- origins: string (nullable = true)\n",
      " |-- origins_tags: string (nullable = true)\n",
      " |-- manufacturing_places: string (nullable = true)\n",
      " |-- manufacturing_places_tags: string (nullable = true)\n",
      " |-- labels: string (nullable = true)\n",
      " |-- labels_tags: string (nullable = true)\n",
      " |-- labels_en: string (nullable = true)\n",
      " |-- emb_codes: string (nullable = true)\n",
      " |-- emb_codes_tags: string (nullable = true)\n",
      " |-- first_packaging_code_geo: string (nullable = true)\n",
      " |-- cities: string (nullable = true)\n",
      " |-- cities_tags: string (nullable = true)\n",
      " |-- purchase_places: string (nullable = true)\n",
      " |-- stores: string (nullable = true)\n",
      " |-- countries: string (nullable = true)\n",
      " |-- countries_tags: string (nullable = true)\n",
      " |-- countries_en: string (nullable = true)\n",
      " |-- ingredients_text: string (nullable = true)\n",
      " |-- allergens: string (nullable = true)\n",
      " |-- allergens_en: string (nullable = true)\n",
      " |-- traces: string (nullable = true)\n",
      " |-- traces_tags: string (nullable = true)\n",
      " |-- traces_en: string (nullable = true)\n",
      " |-- serving_size: string (nullable = true)\n",
      " |-- serving_quantity: string (nullable = true)\n",
      " |-- no_nutriments: string (nullable = true)\n",
      " |-- additives_n: string (nullable = true)\n",
      " |-- additives: string (nullable = true)\n",
      " |-- additives_tags: string (nullable = true)\n",
      " |-- additives_en: string (nullable = true)\n",
      " |-- ingredients_from_palm_oil_n: string (nullable = true)\n",
      " |-- ingredients_from_palm_oil: string (nullable = true)\n",
      " |-- ingredients_from_palm_oil_tags: string (nullable = true)\n",
      " |-- ingredients_that_may_be_from_palm_oil_n: string (nullable = true)\n",
      " |-- ingredients_that_may_be_from_palm_oil: string (nullable = true)\n",
      " |-- ingredients_that_may_be_from_palm_oil_tags: string (nullable = true)\n",
      " |-- nutrition_grade_uk: string (nullable = true)\n",
      " |-- nutrition_grade_fr: string (nullable = true)\n",
      " |-- pnns_groups_1: string (nullable = true)\n",
      " |-- pnns_groups_2: string (nullable = true)\n",
      " |-- states: string (nullable = true)\n",
      " |-- states_tags: string (nullable = true)\n",
      " |-- states_en: string (nullable = true)\n",
      " |-- main_category: string (nullable = true)\n",
      " |-- main_category_en: string (nullable = true)\n",
      " |-- image_url: string (nullable = true)\n",
      " |-- image_small_url: string (nullable = true)\n",
      " |-- image_ingredients_url: string (nullable = true)\n",
      " |-- image_ingredients_small_url: string (nullable = true)\n",
      " |-- image_nutrition_url: string (nullable = true)\n",
      " |-- image_nutrition_small_url: string (nullable = true)\n",
      " |-- energy_100g: string (nullable = true)\n",
      " |-- energy-from-fat_100g: string (nullable = true)\n",
      " |-- fat_100g: string (nullable = true)\n",
      " |-- saturated-fat_100g: string (nullable = true)\n",
      " |-- -butyric-acid_100g: string (nullable = true)\n",
      " |-- -caproic-acid_100g: string (nullable = true)\n",
      " |-- -caprylic-acid_100g: string (nullable = true)\n",
      " |-- -capric-acid_100g: string (nullable = true)\n",
      " |-- -lauric-acid_100g: string (nullable = true)\n",
      " |-- -myristic-acid_100g: string (nullable = true)\n",
      " |-- -palmitic-acid_100g: string (nullable = true)\n",
      " |-- -stearic-acid_100g: string (nullable = true)\n",
      " |-- -arachidic-acid_100g: string (nullable = true)\n",
      " |-- -behenic-acid_100g: string (nullable = true)\n",
      " |-- -lignoceric-acid_100g: string (nullable = true)\n",
      " |-- -cerotic-acid_100g: string (nullable = true)\n",
      " |-- -montanic-acid_100g: string (nullable = true)\n",
      " |-- -melissic-acid_100g: string (nullable = true)\n",
      " |-- monounsaturated-fat_100g: string (nullable = true)\n",
      " |-- polyunsaturated-fat_100g: string (nullable = true)\n",
      " |-- omega-3-fat_100g: string (nullable = true)\n",
      " |-- -alpha-linolenic-acid_100g: string (nullable = true)\n",
      " |-- -eicosapentaenoic-acid_100g: string (nullable = true)\n",
      " |-- -docosahexaenoic-acid_100g: string (nullable = true)\n",
      " |-- omega-6-fat_100g: string (nullable = true)\n",
      " |-- -linoleic-acid_100g: string (nullable = true)\n",
      " |-- -arachidonic-acid_100g: string (nullable = true)\n",
      " |-- -gamma-linolenic-acid_100g: string (nullable = true)\n",
      " |-- -dihomo-gamma-linolenic-acid_100g: string (nullable = true)\n",
      " |-- omega-9-fat_100g: string (nullable = true)\n",
      " |-- -oleic-acid_100g: string (nullable = true)\n",
      " |-- -elaidic-acid_100g: string (nullable = true)\n",
      " |-- -gondoic-acid_100g: string (nullable = true)\n",
      " |-- -mead-acid_100g: string (nullable = true)\n",
      " |-- -erucic-acid_100g: string (nullable = true)\n",
      " |-- -nervonic-acid_100g: string (nullable = true)\n",
      " |-- trans-fat_100g: string (nullable = true)\n",
      " |-- cholesterol_100g: string (nullable = true)\n",
      " |-- carbohydrates_100g: string (nullable = true)\n",
      " |-- sugars_100g: string (nullable = true)\n",
      " |-- -sucrose_100g: string (nullable = true)\n",
      " |-- -glucose_100g: string (nullable = true)\n",
      " |-- -fructose_100g: string (nullable = true)\n",
      " |-- -lactose_100g: string (nullable = true)\n",
      " |-- -maltose_100g: string (nullable = true)\n",
      " |-- -maltodextrins_100g: string (nullable = true)\n",
      " |-- starch_100g: string (nullable = true)\n",
      " |-- polyols_100g: string (nullable = true)\n",
      " |-- fiber_100g: string (nullable = true)\n",
      " |-- proteins_100g: string (nullable = true)\n",
      " |-- casein_100g: string (nullable = true)\n",
      " |-- serum-proteins_100g: string (nullable = true)\n",
      " |-- nucleotides_100g: string (nullable = true)\n",
      " |-- salt_100g: string (nullable = true)\n",
      " |-- sodium_100g: string (nullable = true)\n",
      " |-- alcohol_100g: string (nullable = true)\n",
      " |-- vitamin-a_100g: string (nullable = true)\n",
      " |-- beta-carotene_100g: string (nullable = true)\n",
      " |-- vitamin-d_100g: string (nullable = true)\n",
      " |-- vitamin-e_100g: string (nullable = true)\n",
      " |-- vitamin-k_100g: string (nullable = true)\n",
      " |-- vitamin-c_100g: string (nullable = true)\n",
      " |-- vitamin-b1_100g: string (nullable = true)\n",
      " |-- vitamin-b2_100g: string (nullable = true)\n",
      " |-- vitamin-pp_100g: string (nullable = true)\n",
      " |-- vitamin-b6_100g: string (nullable = true)\n",
      " |-- vitamin-b9_100g: string (nullable = true)\n",
      " |-- folates_100g: string (nullable = true)\n",
      " |-- vitamin-b12_100g: string (nullable = true)\n",
      " |-- biotin_100g: string (nullable = true)\n",
      " |-- pantothenic-acid_100g: string (nullable = true)\n",
      " |-- silica_100g: string (nullable = true)\n",
      " |-- bicarbonate_100g: string (nullable = true)\n",
      " |-- potassium_100g: string (nullable = true)\n",
      " |-- chloride_100g: string (nullable = true)\n",
      " |-- calcium_100g: string (nullable = true)\n",
      " |-- phosphorus_100g: string (nullable = true)\n",
      " |-- iron_100g: string (nullable = true)\n",
      " |-- magnesium_100g: string (nullable = true)\n",
      " |-- zinc_100g: string (nullable = true)\n",
      " |-- copper_100g: string (nullable = true)\n",
      " |-- manganese_100g: string (nullable = true)\n",
      " |-- fluoride_100g: string (nullable = true)\n",
      " |-- selenium_100g: string (nullable = true)\n",
      " |-- chromium_100g: string (nullable = true)\n",
      " |-- molybdenum_100g: string (nullable = true)\n",
      " |-- iodine_100g: string (nullable = true)\n",
      " |-- caffeine_100g: string (nullable = true)\n",
      " |-- taurine_100g: string (nullable = true)\n",
      " |-- ph_100g: string (nullable = true)\n",
      " |-- fruits-vegetables-nuts_100g: string (nullable = true)\n",
      " |-- fruits-vegetables-nuts-estimate_100g: string (nullable = true)\n",
      " |-- collagen-meat-protein-ratio_100g: string (nullable = true)\n",
      " |-- cocoa_100g: string (nullable = true)\n",
      " |-- chlorophyl_100g: string (nullable = true)\n",
      " |-- carbon-footprint_100g: string (nullable = true)\n",
      " |-- nutrition-score-fr_100g: string (nullable = true)\n",
      " |-- nutrition-score-uk_100g: string (nullable = true)\n",
      " |-- glycemic-index_100g: string (nullable = true)\n",
      " |-- water-hardness_100g: string (nullable = true)\n",
      " |-- choline_100g: string (nullable = true)\n",
      " |-- phylloquinone_100g: string (nullable = true)\n",
      " |-- beta-glucan_100g: string (nullable = true)\n",
      " |-- inositol_100g: string (nullable = true)\n",
      " |-- carnitine_100g: string (nullable = true)\n",
      "\n"
     ]
    }
   ],
   "source": [
    "dataset_main.printSchema()"
   ]
  },
  {
   "cell_type": "code",
   "execution_count": 22,
   "metadata": {},
   "outputs": [
    {
     "data": {
      "text/html": [
       "<div>\n",
       "<style scoped>\n",
       "    .dataframe tbody tr th:only-of-type {\n",
       "        vertical-align: middle;\n",
       "    }\n",
       "\n",
       "    .dataframe tbody tr th {\n",
       "        vertical-align: top;\n",
       "    }\n",
       "\n",
       "    .dataframe thead th {\n",
       "        text-align: right;\n",
       "    }\n",
       "</style>\n",
       "<table border=\"1\" class=\"dataframe\">\n",
       "  <thead>\n",
       "    <tr style=\"text-align: right;\">\n",
       "      <th></th>\n",
       "      <th>Etat des produits</th>\n",
       "      <th>2007</th>\n",
       "      <th>2008</th>\n",
       "      <th>2009</th>\n",
       "      <th>2010</th>\n",
       "      <th>2011</th>\n",
       "      <th>2012</th>\n",
       "      <th>2013</th>\n",
       "      <th>2014</th>\n",
       "      <th>2015</th>\n",
       "      <th>2016 p</th>\n",
       "    </tr>\n",
       "  </thead>\n",
       "  <tbody>\n",
       "    <tr>\n",
       "      <th>Céréales</th>\n",
       "      <td>Grain</td>\n",
       "      <td>98.013754</td>\n",
       "      <td>93.737296</td>\n",
       "      <td>96.762305</td>\n",
       "      <td>93.884316</td>\n",
       "      <td>99.974945</td>\n",
       "      <td>91.893762</td>\n",
       "      <td>90.099344</td>\n",
       "      <td>89.972571</td>\n",
       "      <td>92.587820</td>\n",
       "      <td>87.750283</td>\n",
       "    </tr>\n",
       "    <tr>\n",
       "      <th>Pommes de terre</th>\n",
       "      <td>Fraîches, non parées</td>\n",
       "      <td>41.778600</td>\n",
       "      <td>46.869346</td>\n",
       "      <td>46.268682</td>\n",
       "      <td>47.817157</td>\n",
       "      <td>44.481201</td>\n",
       "      <td>48.713089</td>\n",
       "      <td>51.708254</td>\n",
       "      <td>41.844096</td>\n",
       "      <td>50.635046</td>\n",
       "      <td>47.440420</td>\n",
       "    </tr>\n",
       "    <tr>\n",
       "      <th>Sucre</th>\n",
       "      <td>Sucre raffiné</td>\n",
       "      <td>43.167207</td>\n",
       "      <td>43.590842</td>\n",
       "      <td>40.974560</td>\n",
       "      <td>37.465394</td>\n",
       "      <td>37.445127</td>\n",
       "      <td>36.370639</td>\n",
       "      <td>40.214113</td>\n",
       "      <td>37.856708</td>\n",
       "      <td>38.065779</td>\n",
       "      <td>36.721525</td>\n",
       "    </tr>\n",
       "    <tr>\n",
       "      <th>Miel</th>\n",
       "      <td>Miel</td>\n",
       "      <td>1.348237</td>\n",
       "      <td>1.210427</td>\n",
       "      <td>1.288076</td>\n",
       "      <td>1.321601</td>\n",
       "      <td>1.432108</td>\n",
       "      <td>1.158042</td>\n",
       "      <td>1.392348</td>\n",
       "      <td>1.136757</td>\n",
       "      <td>1.435543</td>\n",
       "      <td>1.132838</td>\n",
       "    </tr>\n",
       "    <tr>\n",
       "      <th>Légumes 1</th>\n",
       "      <td>Frais, non parés</td>\n",
       "      <td>103.237925</td>\n",
       "      <td>105.738089</td>\n",
       "      <td>108.198836</td>\n",
       "      <td>107.227660</td>\n",
       "      <td>108.150723</td>\n",
       "      <td>106.543807</td>\n",
       "      <td>105.200511</td>\n",
       "      <td>104.577329</td>\n",
       "      <td>104.155867</td>\n",
       "      <td>102.678961</td>\n",
       "    </tr>\n",
       "  </tbody>\n",
       "</table>\n",
       "</div>"
      ],
      "text/plain": [
       "                    Etat des produits        2007        2008        2009  \\\n",
       "Céréales                        Grain   98.013754   93.737296   96.762305   \n",
       "Pommes de terre  Fraîches, non parées   41.778600   46.869346   46.268682   \n",
       "Sucre                   Sucre raffiné   43.167207   43.590842   40.974560   \n",
       "Miel                             Miel    1.348237    1.210427    1.288076   \n",
       "Légumes 1            Frais, non parés  103.237925  105.738089  108.198836   \n",
       "\n",
       "                       2010        2011        2012        2013        2014  \\\n",
       "Céréales          93.884316   99.974945   91.893762   90.099344   89.972571   \n",
       "Pommes de terre   47.817157   44.481201   48.713089   51.708254   41.844096   \n",
       "Sucre             37.465394   37.445127   36.370639   40.214113   37.856708   \n",
       "Miel               1.321601    1.432108    1.158042    1.392348    1.136757   \n",
       "Légumes 1        107.227660  108.150723  106.543807  105.200511  104.577329   \n",
       "\n",
       "                       2015      2016 p  \n",
       "Céréales          92.587820   87.750283  \n",
       "Pommes de terre   50.635046   47.440420  \n",
       "Sucre             38.065779   36.721525  \n",
       "Miel               1.435543    1.132838  \n",
       "Légumes 1        104.155867  102.678961  "
      ]
     },
     "execution_count": 22,
     "metadata": {},
     "output_type": "execute_result"
    }
   ],
   "source": [
    "#Additional datasets “Evolution de la consommation de denrées alimentaires en Suisse”\n",
    "df_ev_conso = pd.read_excel(DATA_FOLDER+\"/je-f-07.06.02.xlsx\", header=4, sheet_name='Dès 2007')\n",
    "df_ev_conso = df_ev_conso.dropna(how='all')\n",
    "df_ev_conso.head()"
   ]
  },
  {
   "cell_type": "code",
   "execution_count": 23,
   "metadata": {},
   "outputs": [
    {
     "data": {
      "text/html": [
       "<div>\n",
       "<style scoped>\n",
       "    .dataframe tbody tr th:only-of-type {\n",
       "        vertical-align: middle;\n",
       "    }\n",
       "\n",
       "    .dataframe tbody tr th {\n",
       "        vertical-align: top;\n",
       "    }\n",
       "\n",
       "    .dataframe thead th {\n",
       "        text-align: right;\n",
       "    }\n",
       "</style>\n",
       "<table border=\"1\" class=\"dataframe\">\n",
       "  <thead>\n",
       "    <tr style=\"text-align: right;\">\n",
       "      <th></th>\n",
       "      <th>1990</th>\n",
       "      <th>1991</th>\n",
       "      <th>1992</th>\n",
       "      <th>1993</th>\n",
       "      <th>1994</th>\n",
       "      <th>1995</th>\n",
       "      <th>1996</th>\n",
       "      <th>1997</th>\n",
       "      <th>1998</th>\n",
       "      <th>1999</th>\n",
       "      <th>...</th>\n",
       "      <th>2008</th>\n",
       "      <th>2009</th>\n",
       "      <th>2010</th>\n",
       "      <th>2011</th>\n",
       "      <th>2012</th>\n",
       "      <th>2013</th>\n",
       "      <th>2014</th>\n",
       "      <th>2015</th>\n",
       "      <th>2016</th>\n",
       "      <th>2017</th>\n",
       "    </tr>\n",
       "  </thead>\n",
       "  <tbody>\n",
       "    <tr>\n",
       "      <th>En millions de francs</th>\n",
       "      <td>2513.28</td>\n",
       "      <td>2902.51</td>\n",
       "      <td>2966.54</td>\n",
       "      <td>3223.44</td>\n",
       "      <td>3304.16</td>\n",
       "      <td>3355.62</td>\n",
       "      <td>3764.54</td>\n",
       "      <td>3728.49</td>\n",
       "      <td>3742.99</td>\n",
       "      <td>4028.13</td>\n",
       "      <td>...</td>\n",
       "      <td>3550.87</td>\n",
       "      <td>3692.28</td>\n",
       "      <td>3665.7</td>\n",
       "      <td>3663.02</td>\n",
       "      <td>3711.11</td>\n",
       "      <td>3705.97</td>\n",
       "      <td>3692.51</td>\n",
       "      <td>3667.27</td>\n",
       "      <td>3658.02</td>\n",
       "      <td>3651.97</td>\n",
       "    </tr>\n",
       "    <tr>\n",
       "      <th>Indice 1990 = 100</th>\n",
       "      <td>100</td>\n",
       "      <td>115.487</td>\n",
       "      <td>118.034</td>\n",
       "      <td>128.256</td>\n",
       "      <td>131.468</td>\n",
       "      <td>133.515</td>\n",
       "      <td>149.786</td>\n",
       "      <td>148.351</td>\n",
       "      <td>148.928</td>\n",
       "      <td>160.273</td>\n",
       "      <td>...</td>\n",
       "      <td>141.284</td>\n",
       "      <td>146.911</td>\n",
       "      <td>145.853</td>\n",
       "      <td>145.746</td>\n",
       "      <td>147.66</td>\n",
       "      <td>147.455</td>\n",
       "      <td>146.92</td>\n",
       "      <td>145.915</td>\n",
       "      <td>145.547</td>\n",
       "      <td>145.307</td>\n",
       "    </tr>\n",
       "    <tr>\n",
       "      <th>Administration, exécution et contrôle</th>\n",
       "      <td>25.5316</td>\n",
       "      <td>27.9445</td>\n",
       "      <td>34.5693</td>\n",
       "      <td>34.9648</td>\n",
       "      <td>34.5059</td>\n",
       "      <td>33.7511</td>\n",
       "      <td>33.9551</td>\n",
       "      <td>35.3384</td>\n",
       "      <td>37.5954</td>\n",
       "      <td>40.9842</td>\n",
       "      <td>...</td>\n",
       "      <td>103.99</td>\n",
       "      <td>110.646</td>\n",
       "      <td>115.068</td>\n",
       "      <td>118.362</td>\n",
       "      <td>122.594</td>\n",
       "      <td>121.58</td>\n",
       "      <td>122.639</td>\n",
       "      <td>121.9</td>\n",
       "      <td>119.066</td>\n",
       "      <td>115.32</td>\n",
       "    </tr>\n",
       "    <tr>\n",
       "      <th>Administration</th>\n",
       "      <td>25.5316</td>\n",
       "      <td>27.9445</td>\n",
       "      <td>34.5693</td>\n",
       "      <td>34.9648</td>\n",
       "      <td>34.5059</td>\n",
       "      <td>33.7511</td>\n",
       "      <td>33.9551</td>\n",
       "      <td>35.3384</td>\n",
       "      <td>37.5954</td>\n",
       "      <td>40.9842</td>\n",
       "      <td>...</td>\n",
       "      <td>47.7666</td>\n",
       "      <td>51.8475</td>\n",
       "      <td>55.2193</td>\n",
       "      <td>55.1342</td>\n",
       "      <td>54.5769</td>\n",
       "      <td>54.2367</td>\n",
       "      <td>55.8413</td>\n",
       "      <td>54.6635</td>\n",
       "      <td>53.7946</td>\n",
       "      <td>51.8627</td>\n",
       "    </tr>\n",
       "    <tr>\n",
       "      <th>Vulgarisation</th>\n",
       "      <td>0</td>\n",
       "      <td>0</td>\n",
       "      <td>0</td>\n",
       "      <td>0</td>\n",
       "      <td>0</td>\n",
       "      <td>0</td>\n",
       "      <td>0</td>\n",
       "      <td>0</td>\n",
       "      <td>0</td>\n",
       "      <td>0</td>\n",
       "      <td>...</td>\n",
       "      <td>11.3264</td>\n",
       "      <td>11.15</td>\n",
       "      <td>12.1774</td>\n",
       "      <td>12.0389</td>\n",
       "      <td>12</td>\n",
       "      <td>11.9972</td>\n",
       "      <td>11.9907</td>\n",
       "      <td>11.8702</td>\n",
       "      <td>11.5978</td>\n",
       "      <td>11.6199</td>\n",
       "    </tr>\n",
       "  </tbody>\n",
       "</table>\n",
       "<p>5 rows × 28 columns</p>\n",
       "</div>"
      ],
      "text/plain": [
       "                                          1990     1991     1992     1993  \\\n",
       "En millions de francs                  2513.28  2902.51  2966.54  3223.44   \n",
       "Indice 1990 = 100                          100  115.487  118.034  128.256   \n",
       "Administration, exécution et contrôle  25.5316  27.9445  34.5693  34.9648   \n",
       "Administration                         25.5316  27.9445  34.5693  34.9648   \n",
       "Vulgarisation                                0        0        0        0   \n",
       "\n",
       "                                          1994     1995     1996     1997  \\\n",
       "En millions de francs                  3304.16  3355.62  3764.54  3728.49   \n",
       "Indice 1990 = 100                      131.468  133.515  149.786  148.351   \n",
       "Administration, exécution et contrôle  34.5059  33.7511  33.9551  35.3384   \n",
       "Administration                         34.5059  33.7511  33.9551  35.3384   \n",
       "Vulgarisation                                0        0        0        0   \n",
       "\n",
       "                                          1998     1999   ...        2008  \\\n",
       "En millions de francs                  3742.99  4028.13   ...     3550.87   \n",
       "Indice 1990 = 100                      148.928  160.273   ...     141.284   \n",
       "Administration, exécution et contrôle  37.5954  40.9842   ...      103.99   \n",
       "Administration                         37.5954  40.9842   ...     47.7666   \n",
       "Vulgarisation                                0        0   ...     11.3264   \n",
       "\n",
       "                                          2009     2010     2011     2012  \\\n",
       "En millions de francs                  3692.28   3665.7  3663.02  3711.11   \n",
       "Indice 1990 = 100                      146.911  145.853  145.746   147.66   \n",
       "Administration, exécution et contrôle  110.646  115.068  118.362  122.594   \n",
       "Administration                         51.8475  55.2193  55.1342  54.5769   \n",
       "Vulgarisation                            11.15  12.1774  12.0389       12   \n",
       "\n",
       "                                          2013     2014     2015     2016  \\\n",
       "En millions de francs                  3705.97  3692.51  3667.27  3658.02   \n",
       "Indice 1990 = 100                      147.455   146.92  145.915  145.547   \n",
       "Administration, exécution et contrôle   121.58  122.639    121.9  119.066   \n",
       "Administration                         54.2367  55.8413  54.6635  53.7946   \n",
       "Vulgarisation                          11.9972  11.9907  11.8702  11.5978   \n",
       "\n",
       "                                          2017  \n",
       "En millions de francs                  3651.97  \n",
       "Indice 1990 = 100                      145.307  \n",
       "Administration, exécution et contrôle   115.32  \n",
       "Administration                         51.8627  \n",
       "Vulgarisation                          11.6199  \n",
       "\n",
       "[5 rows x 28 columns]"
      ]
     },
     "execution_count": 23,
     "metadata": {},
     "output_type": "execute_result"
    }
   ],
   "source": [
    "#Additional datasets “Dépenses fédérales pour l’agriculture et l’alimentation” \n",
    "dep_fed_al = pd.read_excel(DATA_FOLDER+\"/je-f-07.02.03.02.04.xlsx\", header=3, sheet_name='T 07.02.03.02.04')\n",
    "dep_fed_al = dep_fed_al.dropna(how='all')\n",
    "dep_fed_al.head()"
   ]
  },
  {
   "cell_type": "code",
   "execution_count": 29,
   "metadata": {},
   "outputs": [
    {
     "name": "stdout",
     "output_type": "stream",
     "text": [
      "root\n",
      " |-- product_name: string (nullable = true)\n",
      " |-- brands: string (nullable = true)\n",
      " |-- brands_tags: string (nullable = true)\n",
      " |-- categories: string (nullable = true)\n",
      " |-- categories_tags: string (nullable = true)\n",
      " |-- origins: string (nullable = true)\n",
      " |-- origins_tags: string (nullable = true)\n",
      " |-- manufacturing_places: string (nullable = true)\n",
      " |-- manufacturing_places_tags: string (nullable = true)\n",
      " |-- labels: string (nullable = true)\n",
      " |-- labels_tags: string (nullable = true)\n",
      " |-- emb_codes: string (nullable = true)\n",
      " |-- emb_codes_tags: string (nullable = true)\n",
      " |-- first_packaging_code_geo: string (nullable = true)\n",
      " |-- cities: string (nullable = true)\n",
      " |-- cities_tags: string (nullable = true)\n",
      " |-- purchase_places: string (nullable = true)\n",
      " |-- stores: string (nullable = true)\n",
      " |-- countries: string (nullable = true)\n",
      " |-- countries_tags: string (nullable = true)\n",
      "\n"
     ]
    }
   ],
   "source": [
    "#For the sake of the project, we will focus on features related to the origin of the manufacture and ingredients of the products\n",
    "dataset_main.createOrReplaceTempView(\"data_main\")\n",
    "focus_df = spark.sql(\"SELECT product_name, brands, brands_tags, categories, categories_tags, origins, origins_tags, manufacturing_places, manufacturing_places_tags,labels,labels_tags,emb_codes,emb_codes_tags,first_packaging_code_geo,cities,cities_tags,purchase_places,stores,countries,countries_tags FROM data_main\")\n",
    "focus_df.printSchema()"
   ]
  },
  {
   "cell_type": "code",
   "execution_count": 26,
   "metadata": {},
   "outputs": [],
   "source": [
    "#create a specific filter for Swiss occurences\n",
    "filter_ch = '[Ss]witzerland|[Ss]uisse|[Ss]chweiz|[Ss]vizerra'\n",
    "#store products that are sold in Switzerland\n",
    "swiss_sold_data = focus_df.filter(focus_df[\"countries\"].rlike(filter_ch))\n",
    "#store products which ingredients originate from Switzerland\n",
    "swiss_origin_data = focus_df.filter(focus_df[\"origins\"].rlike(filter_ch))\n",
    "#store products that are manufactured in Switzerland\n",
    "swiss_manu_data = focus_df.filter(focus_df[\"manufacturing_places\"].rlike(filter_ch))\n",
    "#store products that are both manufactured and originate from Switzerland\n",
    "swiss_origin_manu_data = focus_df.filter(focus_df[\"origins\"].rlike(filter_ch) & focus_df[\"manufacturing_places\"].rlike(filter_ch))"
   ]
  },
  {
   "cell_type": "code",
   "execution_count": 27,
   "metadata": {},
   "outputs": [],
   "source": [
    "######## DATA PREPARATION FOR PIE ########\n",
    "#\n",
    "#count products whose ingredients from switzerland but which were not manufactured in Switzerland\n",
    "swiss_origin_tot = swiss_origin_data.filter(~ swiss_origin_data[\"manufacturing_places\"].rlike(filter_ch)).count()\n",
    "#Total of products sold in Switzerland\n",
    "swiss_sold_tot = swiss_sold_data.count()\n",
    "#count products that do not have swiss ingredients\n",
    "swiss_manu_tot = swiss_manu_data.filter(~ swiss_manu_data[\"origins\"].rlike(filter_ch)).count()\n",
    "#products that are sold in Switzerland but that were not manufactured in CH and that do not have swiss ingredients\n",
    "non_swiss_sold_tot = swiss_sold_data.filter(~ swiss_sold_data[\"manufacturing_places\"].rlike(filter_ch) & ~swiss_sold_data[\"origins\"].rlike(filter_ch)).count()\n",
    "#total of products that are both manufactured and has ingredients from Switzerland\n",
    "swiss_origin_manu_tot = swiss_origin_manu_data.count()\n"
   ]
  },
  {
   "cell_type": "code",
   "execution_count": 28,
   "metadata": {},
   "outputs": [
    {
     "data": {
      "image/png": "[encoded data removed]",
      "text/plain": [
       "<Figure size 432x288 with 1 Axes>"
      ]
     },
     "metadata": {},
     "output_type": "display_data"
    }
   ],
   "source": [
    "labels = 'Swiss ingredients (but not manufactured in Switzerland)', 'Manufactured in Switzerland (with no swiss ingredients)', 'Completely foreign products', 'Both swiss ingredients and manufactured in Switzerland'\n",
    "sizes = [swiss_origin_tot, swiss_manu_tot, non_swiss_sold_tot, swiss_origin_manu_tot]\n",
    "fig1, ax1 = plt.subplots()\n",
    "ax1.pie(sizes, labels=labels, autopct='%1.1f%%', startangle=90)\n",
    "ax1.axis('equal')  # Equal aspect ratio ensures that pie is drawn as a circle.\n",
    "plt.title('Proportions for a total of ' + str(swiss_sold_tot) + ' products sold in Switzerland')\n",
    "\n",
    "plt.show()"
   ]
  },
  {
   "cell_type": "code",
   "execution_count": 30,
   "metadata": {},
   "outputs": [],
   "source": [
    "#About foreign products\n",
    "#Store products that are neither manufactured nor have ingredients from Switzerland\n",
    "non_swiss_sold = swiss_sold_data.filter(~ swiss_sold_data[\"manufacturing_places\"].rlike(filter_ch) & ~swiss_sold_data[\"origins\"].rlike(filter_ch))"
   ]
  },
  {
   "cell_type": "code",
   "execution_count": 32,
   "metadata": {},
   "outputs": [
    {
     "name": "stdout",
     "output_type": "stream",
     "text": [
      "+--------------------+--------------+\n",
      "|             origins|count(origins)|\n",
      "+--------------------+--------------+\n",
      "|       Non spécifiée|             1|\n",
      "|                Inde|             1|\n",
      "|Maine-et-Loire,Pa...|             1|\n",
      "|Riz,Camargue,Fran...|             1|\n",
      "|Sri Lanka,Inde du...|             1|\n",
      "|             Italie?|             1|\n",
      "|Vietnam,Europe,Am...|             1|\n",
      "|         Scandinavie|             1|\n",
      "|Bulgarie,Roumanie...|             1|\n",
      "|            Autriche|             1|\n",
      "|            Finlande|             1|\n",
      "|              Italia|             1|\n",
      "|     Amérique du Sud|             1|\n",
      "|     France,Pays-Bas|             1|\n",
      "|            Bulgarie|             1|\n",
      "|     Soja de Francia|             2|\n",
      "|              Russie|             1|\n",
      "|              España|             1|\n",
      "|         Porc,France|             1|\n",
      "|    Allemagne,Italie|             1|\n",
      "+--------------------+--------------+\n",
      "only showing top 20 rows\n",
      "\n"
     ]
    }
   ],
   "source": [
    "non_swiss_sold.createOrReplaceTempView(\"non_swiss_sold\")\n",
    "non_swiss_categories = spark.sql(\"SELECT origins, COUNT(origins) FROM non_swiss_sold GROUP BY origins\")\n",
    "non_swiss_categories.show()"
   ]
  },
  {
   "cell_type": "markdown",
   "metadata": {},
   "source": [
    "The dataset is not concistent with the country or places name, therefore, we have to clean the data by trying to unify a maximum the places names. The database http://download.geonames.org/export/dump/ is used in order to match all the different way of naming a country to a single convention"
   ]
  },
  {
   "cell_type": "code",
   "execution_count": 33,
   "metadata": {},
   "outputs": [],
   "source": [
    "#cleaning up the different foreign countries to better count them\n",
    "non_swiss_categories = non_swiss_categories.withColumn('origins', F.explode_outer(F.split('origins', ',')))\n",
    "non_swiss_categories = non_swiss_categories.withColumn('origins', F.regexp_replace('origins', ',|\\\\?', ''))"
   ]
  },
  {
   "cell_type": "code",
   "execution_count": 35,
   "metadata": {},
   "outputs": [],
   "source": [
    "#Import dataset country from http://download.geonames.org/export/dump/\n",
    "dataset_country_names = spark.read.option(\"header\", \"false\") \\\n",
    "    .option(\"delimiter\", '\\t') \\\n",
    "    .option(\"inferSchema\", \"true\") \\\n",
    "    .csv(DATA_FOLDER+\"/allCountries.txt\")"
   ]
  },
  {
   "cell_type": "code",
   "execution_count": 37,
   "metadata": {},
   "outputs": [
    {
     "name": "stdout",
     "output_type": "stream",
     "text": [
      "root\n",
      " |-- _c0: integer (nullable = true)\n",
      " |-- _c1: string (nullable = true)\n",
      " |-- _c2: string (nullable = true)\n",
      " |-- _c3: string (nullable = true)\n",
      " |-- _c4: double (nullable = true)\n",
      " |-- _c5: double (nullable = true)\n",
      " |-- _c6: string (nullable = true)\n",
      " |-- _c7: string (nullable = true)\n",
      " |-- _c8: string (nullable = true)\n",
      " |-- _c9: string (nullable = true)\n",
      " |-- _c10: string (nullable = true)\n",
      " |-- _c11: string (nullable = true)\n",
      " |-- _c12: string (nullable = true)\n",
      " |-- _c13: string (nullable = true)\n",
      " |-- _c14: long (nullable = true)\n",
      " |-- _c15: integer (nullable = true)\n",
      " |-- _c16: integer (nullable = true)\n",
      " |-- _c17: string (nullable = true)\n",
      " |-- _c18: timestamp (nullable = true)\n",
      "\n"
     ]
    }
   ],
   "source": [
    "dataset_country_names.printSchema()"
   ]
  },
  {
   "cell_type": "code",
   "execution_count": 39,
   "metadata": {},
   "outputs": [
    {
     "name": "stdout",
     "output_type": "stream",
     "text": [
      "+-------+------------------+------------------+--------------------+--------+-------+---+---+---+-----+----+----+----+----+----+----+----+--------------+-------------------+\n",
      "|    _c0|               _c1|               _c2|                 _c3|     _c4|    _c5|_c6|_c7|_c8|  _c9|_c10|_c11|_c12|_c13|_c14|_c15|_c16|          _c17|               _c18|\n",
      "+-------+------------------+------------------+--------------------+--------+-------+---+---+---+-----+----+----+----+----+----+----+----+--------------+-------------------+\n",
      "|2986043|Pic de Font Blanca|Pic de Font Blanca|Pic de Font Blanc...|42.64991|1.53335|  T| PK| AD| null|  00|null|null|null|   0|null|2860|Europe/Andorra|2014-11-05 00:00:00|\n",
      "|2994701|          Roc Mélé|          Roc Mele|Roc Mele,Roc Mele...|42.58765|1.74028|  T| MT| AD|AD,FR|  00|null|null|null|   0|null|2803|Europe/Andorra|2014-11-05 00:00:00|\n",
      "+-------+------------------+------------------+--------------------+--------+-------+---+---+---+-----+----+----+----+----+----+----+----+--------------+-------------------+\n",
      "only showing top 2 rows\n",
      "\n"
     ]
    }
   ],
   "source": [
    "dataset_country_names.show(2)"
   ]
  },
  {
   "cell_type": "code",
   "execution_count": 40,
   "metadata": {},
   "outputs": [],
   "source": [
    "#Import all the alternativeNames from the dataset http://download.geonames.org/export/dump/ \n",
    "dataset_alt_names = spark.read.option(\"header\", \"false\") \\\n",
    "    .option(\"delimiter\", '\\t') \\\n",
    "    .option(\"inferSchema\", \"true\") \\\n",
    "    .csv(DATA_FOLDER+\"/alternateNames.txt\")"
   ]
  },
  {
   "cell_type": "code",
   "execution_count": 41,
   "metadata": {},
   "outputs": [
    {
     "name": "stdout",
     "output_type": "stream",
     "text": [
      "+-------+-------+----+------------------+----+----+----+----+\n",
      "|    _c0|    _c1| _c2|               _c3| _c4| _c5| _c6| _c7|\n",
      "+-------+-------+----+------------------+----+----+----+----+\n",
      "|1282063|2986043|null|       Pic du Port|null|null|null|null|\n",
      "|4274490|2986043|null|Pic de Font Blanca|null|null|null|null|\n",
      "+-------+-------+----+------------------+----+----+----+----+\n",
      "only showing top 2 rows\n",
      "\n"
     ]
    }
   ],
   "source": [
    "dataset_alt_names.show(2)"
   ]
  },
  {
   "cell_type": "code",
   "execution_count": 45,
   "metadata": {},
   "outputs": [
    {
     "name": "stdout",
     "output_type": "stream",
     "text": [
      "root\n",
      " |-- geonameid: integer (nullable = true)\n",
      " |-- name: string (nullable = true)\n",
      " |-- asciiname: string (nullable = true)\n",
      " |-- alternatenames: string (nullable = true)\n",
      " |-- latitude: double (nullable = true)\n",
      " |-- longitude: double (nullable = true)\n",
      " |-- feature_class: string (nullable = true)\n",
      " |-- feature_code: string (nullable = true)\n",
      " |-- country_code: string (nullable = true)\n",
      " |-- cc2: string (nullable = true)\n",
      " |-- admin1_code: string (nullable = true)\n",
      " |-- admin2_code: string (nullable = true)\n",
      " |-- admin3_code: string (nullable = true)\n",
      " |-- admin4_code: string (nullable = true)\n",
      " |-- population: long (nullable = true)\n",
      " |-- elevation: integer (nullable = true)\n",
      " |-- dem: integer (nullable = true)\n",
      " |-- timezone: string (nullable = true)\n",
      " |-- modification_date: timestamp (nullable = true)\n",
      "\n",
      "+---------+------------------+------------------+--------------------+--------+---------+-------------+------------+------------+-----+-----------+-----------+-----------+-----------+----------+---------+----+--------------+-------------------+\n",
      "|geonameid|              name|         asciiname|      alternatenames|latitude|longitude|feature_class|feature_code|country_code|  cc2|admin1_code|admin2_code|admin3_code|admin4_code|population|elevation| dem|      timezone|  modification_date|\n",
      "+---------+------------------+------------------+--------------------+--------+---------+-------------+------------+------------+-----+-----------+-----------+-----------+-----------+----------+---------+----+--------------+-------------------+\n",
      "|  2986043|Pic de Font Blanca|Pic de Font Blanca|Pic de Font Blanc...|42.64991|  1.53335|            T|          PK|          AD| null|         00|       null|       null|       null|         0|     null|2860|Europe/Andorra|2014-11-05 00:00:00|\n",
      "|  2994701|          Roc Mélé|          Roc Mele|Roc Mele,Roc Mele...|42.58765|  1.74028|            T|          MT|          AD|AD,FR|         00|       null|       null|       null|         0|     null|2803|Europe/Andorra|2014-11-05 00:00:00|\n",
      "+---------+------------------+------------------+--------------------+--------+---------+-------------+------------+------------+-----+-----------+-----------+-----------+-----------+----------+---------+----+--------------+-------------------+\n",
      "only showing top 2 rows\n",
      "\n"
     ]
    }
   ],
   "source": [
    "#Arrange the dataset with correct column names (the dataset is under the form of a txt file with no header)\n",
    "#Header names are directly retrieved from the siteweb explanations\n",
    "oldColumns = dataset_country_names.schema.names\n",
    "newColumns = [\"geonameid\", \"name\", \"asciiname\",\"alternatenames\",\"latitude\",\"longitude\",\"feature_class\", \"feature_code\", \"country_code\",\"cc2\",\"admin1_code\",\"admin2_code\",\"admin3_code\",\"admin4_code\",\"population\",\"elevation\",\"dem\",\"timezone\",\"modification_date\"]\n",
    "\n",
    "dataset_country_names = reduce(lambda dataset_country_names, idx: dataset_country_names.withColumnRenamed(oldColumns[idx], newColumns[idx]), range(len(oldColumns)), dataset_country_names)\n",
    "dataset_country_names.printSchema()\n",
    "dataset_country_names.show(2)"
   ]
  },
  {
   "cell_type": "code",
   "execution_count": 44,
   "metadata": {},
   "outputs": [
    {
     "name": "stdout",
     "output_type": "stream",
     "text": [
      "root\n",
      " |-- alternateNameId: integer (nullable = true)\n",
      " |-- geonameid: integer (nullable = true)\n",
      " |-- isolanguage: string (nullable = true)\n",
      " |-- alternate_name: string (nullable = true)\n",
      " |-- isPreferredName: integer (nullable = true)\n",
      " |-- isShortName: integer (nullable = true)\n",
      " |-- isColloquial: integer (nullable = true)\n",
      " |-- isHistoric: integer (nullable = true)\n",
      "\n",
      "+---------------+---------+-----------+------------------+---------------+-----------+------------+----------+\n",
      "|alternateNameId|geonameid|isolanguage|    alternate_name|isPreferredName|isShortName|isColloquial|isHistoric|\n",
      "+---------------+---------+-----------+------------------+---------------+-----------+------------+----------+\n",
      "|        1282063|  2986043|       null|       Pic du Port|           null|       null|        null|      null|\n",
      "|        4274490|  2986043|       null|Pic de Font Blanca|           null|       null|        null|      null|\n",
      "+---------------+---------+-----------+------------------+---------------+-----------+------------+----------+\n",
      "only showing top 2 rows\n",
      "\n"
     ]
    }
   ],
   "source": [
    "#Arrange the dataset with correct column names (the dataset is under the form of a txt file with no header)\n",
    "#Header names are directly retrieved from the siteweb explanations\n",
    "oldColumns = dataset_alt_names.schema.names\n",
    "newColumns = [\"alternateNameId\", \"geonameid\", \"isolanguage\",\"alternate_name\",\"isPreferredName\",\"isShortName\",\"isColloquial\", \"isHistoric\", \"from\",\"to\"]\n",
    "\n",
    "dataset_alt_names = reduce(lambda dataset_alt_names, idx: dataset_alt_names.withColumnRenamed(oldColumns[idx], newColumns[idx]), range(len(oldColumns)), dataset_alt_names)\n",
    "dataset_alt_names.printSchema()\n",
    "dataset_alt_names.show(2)"
   ]
  },
  {
   "cell_type": "code",
   "execution_count": 46,
   "metadata": {},
   "outputs": [],
   "source": [
    "#Create temporary View for SQL work\n",
    "non_swiss_categories.createOrReplaceTempView(\"non_swiss_data\")\n",
    "dataset_country_names.createOrReplaceTempView(\"country_names\")"
   ]
  },
  {
   "cell_type": "code",
   "execution_count": 47,
   "metadata": {},
   "outputs": [],
   "source": [
    "#Here we match all the alternative names with the alternateName dataset, we add a column with corresponding name id\n",
    "dataset_alt_names.createOrReplaceTempView(\"alter_names\")\n",
    "non_swiss_renamed = spark.sql(\"SELECT d1.origins, d2.geonameid FROM non_swiss_data d1, alter_names d2 WHERE d2.alternate_name LIKE d1.origins\")"
   ]
  },
  {
   "cell_type": "code",
   "execution_count": 48,
   "metadata": {},
   "outputs": [
    {
     "name": "stdout",
     "output_type": "stream",
     "text": [
      "+----------------+---------+\n",
      "|         origins|geonameid|\n",
      "+----------------+---------+\n",
      "|            Inde|  2896125|\n",
      "|            Inde|  1269750|\n",
      "|            Inde|  1269750|\n",
      "|            Inde|  1269750|\n",
      "|            Inde|  1322163|\n",
      "|            Inde|  1322171|\n",
      "|            Inde|  8767343|\n",
      "|            Inde|  8767346|\n",
      "|          France|  8052720|\n",
      "|          France|  8226141|\n",
      "|  Maine-et-Loire|  2996663|\n",
      "|  Maine-et-Loire|  2996663|\n",
      "|  Maine-et-Loire|  2996663|\n",
      "|Pays de la Loire|  2988289|\n",
      "|Pays de la Loire|  2988289|\n",
      "|Pays de la Loire|  2988289|\n",
      "|          France|  3017382|\n",
      "|          France|  3017382|\n",
      "|          France|  3017382|\n",
      "|          France|  3017382|\n",
      "+----------------+---------+\n",
      "only showing top 20 rows\n",
      "\n"
     ]
    }
   ],
   "source": [
    "non_swiss_renamed.show()"
   ]
  },
  {
   "cell_type": "code",
   "execution_count": 49,
   "metadata": {},
   "outputs": [],
   "source": [
    "non_swiss_renamed.createOrReplaceTempView(\"country_id_names\")"
   ]
  },
  {
   "cell_type": "code",
   "execution_count": 50,
   "metadata": {},
   "outputs": [
    {
     "ename": "KeyboardInterrupt",
     "evalue": "",
     "output_type": "error",
     "traceback": [
      "\u001b[0;31m---------------------------------------------------------------------------\u001b[0m",
      "\u001b[0;31mKeyboardInterrupt\u001b[0m                         Traceback (most recent call last)",
      "\u001b[0;32m<ipython-input-50-fd6be8acb148>\u001b[0m in \u001b[0;36m<module>\u001b[0;34m\u001b[0m\n\u001b[1;32m      1\u001b[0m \u001b[0;31m#Match the id with the name in the allCountries dataset --this took approx. 50 minutes to compute\u001b[0m\u001b[0;34m\u001b[0m\u001b[0;34m\u001b[0m\u001b[0m\n\u001b[1;32m      2\u001b[0m \u001b[0mnon_swiss_db\u001b[0m \u001b[0;34m=\u001b[0m \u001b[0mspark\u001b[0m\u001b[0;34m.\u001b[0m\u001b[0msql\u001b[0m\u001b[0;34m(\u001b[0m\u001b[0;34m\"SELECT country_id_names.origins, country_names.country_code FROM country_id_names LEFT JOIN country_names ON country_id_names.geonameid = country_names.geonameid\"\u001b[0m\u001b[0;34m)\u001b[0m\u001b[0;34m\u001b[0m\u001b[0m\n\u001b[0;32m----> 3\u001b[0;31m \u001b[0mnon_swiss_db\u001b[0m\u001b[0;34m.\u001b[0m\u001b[0mshow\u001b[0m\u001b[0;34m(\u001b[0m\u001b[0;34m)\u001b[0m\u001b[0;34m\u001b[0m\u001b[0m\n\u001b[0m",
      "\u001b[0;32m/usr/local/opt/apache-spark/libexec/python/pyspark/sql/dataframe.py\u001b[0m in \u001b[0;36mshow\u001b[0;34m(self, n, truncate, vertical)\u001b[0m\n\u001b[1;32m    348\u001b[0m         \"\"\"\n\u001b[1;32m    349\u001b[0m         \u001b[0;32mif\u001b[0m \u001b[0misinstance\u001b[0m\u001b[0;34m(\u001b[0m\u001b[0mtruncate\u001b[0m\u001b[0;34m,\u001b[0m \u001b[0mbool\u001b[0m\u001b[0;34m)\u001b[0m \u001b[0;32mand\u001b[0m \u001b[0mtruncate\u001b[0m\u001b[0;34m:\u001b[0m\u001b[0;34m\u001b[0m\u001b[0m\n\u001b[0;32m--> 350\u001b[0;31m             \u001b[0mprint\u001b[0m\u001b[0;34m(\u001b[0m\u001b[0mself\u001b[0m\u001b[0;34m.\u001b[0m\u001b[0m_jdf\u001b[0m\u001b[0;34m.\u001b[0m\u001b[0mshowString\u001b[0m\u001b[0;34m(\u001b[0m\u001b[0mn\u001b[0m\u001b[0;34m,\u001b[0m \u001b[0;36m20\u001b[0m\u001b[0;34m,\u001b[0m \u001b[0mvertical\u001b[0m\u001b[0;34m)\u001b[0m\u001b[0;34m)\u001b[0m\u001b[0;34m\u001b[0m\u001b[0m\n\u001b[0m\u001b[1;32m    351\u001b[0m         \u001b[0;32melse\u001b[0m\u001b[0;34m:\u001b[0m\u001b[0;34m\u001b[0m\u001b[0m\n\u001b[1;32m    352\u001b[0m             \u001b[0mprint\u001b[0m\u001b[0;34m(\u001b[0m\u001b[0mself\u001b[0m\u001b[0;34m.\u001b[0m\u001b[0m_jdf\u001b[0m\u001b[0;34m.\u001b[0m\u001b[0mshowString\u001b[0m\u001b[0;34m(\u001b[0m\u001b[0mn\u001b[0m\u001b[0;34m,\u001b[0m \u001b[0mint\u001b[0m\u001b[0;34m(\u001b[0m\u001b[0mtruncate\u001b[0m\u001b[0;34m)\u001b[0m\u001b[0;34m,\u001b[0m \u001b[0mvertical\u001b[0m\u001b[0;34m)\u001b[0m\u001b[0;34m)\u001b[0m\u001b[0;34m\u001b[0m\u001b[0m\n",
      "\u001b[0;32m/usr/local/opt/apache-spark/libexec/python/lib/py4j-0.10.7-src.zip/py4j/java_gateway.py\u001b[0m in \u001b[0;36m__call__\u001b[0;34m(self, *args)\u001b[0m\n\u001b[1;32m   1253\u001b[0m             \u001b[0mproto\u001b[0m\u001b[0;34m.\u001b[0m\u001b[0mEND_COMMAND_PART\u001b[0m\u001b[0;34m\u001b[0m\u001b[0m\n\u001b[1;32m   1254\u001b[0m \u001b[0;34m\u001b[0m\u001b[0m\n\u001b[0;32m-> 1255\u001b[0;31m         \u001b[0manswer\u001b[0m \u001b[0;34m=\u001b[0m \u001b[0mself\u001b[0m\u001b[0;34m.\u001b[0m\u001b[0mgateway_client\u001b[0m\u001b[0;34m.\u001b[0m\u001b[0msend_command\u001b[0m\u001b[0;34m(\u001b[0m\u001b[0mcommand\u001b[0m\u001b[0;34m)\u001b[0m\u001b[0;34m\u001b[0m\u001b[0m\n\u001b[0m\u001b[1;32m   1256\u001b[0m         return_value = get_return_value(\n\u001b[1;32m   1257\u001b[0m             answer, self.gateway_client, self.target_id, self.name)\n",
      "\u001b[0;32m/usr/local/opt/apache-spark/libexec/python/lib/py4j-0.10.7-src.zip/py4j/java_gateway.py\u001b[0m in \u001b[0;36msend_command\u001b[0;34m(self, command, retry, binary)\u001b[0m\n\u001b[1;32m    983\u001b[0m         \u001b[0mconnection\u001b[0m \u001b[0;34m=\u001b[0m \u001b[0mself\u001b[0m\u001b[0;34m.\u001b[0m\u001b[0m_get_connection\u001b[0m\u001b[0;34m(\u001b[0m\u001b[0;34m)\u001b[0m\u001b[0;34m\u001b[0m\u001b[0m\n\u001b[1;32m    984\u001b[0m         \u001b[0;32mtry\u001b[0m\u001b[0;34m:\u001b[0m\u001b[0;34m\u001b[0m\u001b[0m\n\u001b[0;32m--> 985\u001b[0;31m             \u001b[0mresponse\u001b[0m \u001b[0;34m=\u001b[0m \u001b[0mconnection\u001b[0m\u001b[0;34m.\u001b[0m\u001b[0msend_command\u001b[0m\u001b[0;34m(\u001b[0m\u001b[0mcommand\u001b[0m\u001b[0;34m)\u001b[0m\u001b[0;34m\u001b[0m\u001b[0m\n\u001b[0m\u001b[1;32m    986\u001b[0m             \u001b[0;32mif\u001b[0m \u001b[0mbinary\u001b[0m\u001b[0;34m:\u001b[0m\u001b[0;34m\u001b[0m\u001b[0m\n\u001b[1;32m    987\u001b[0m                 \u001b[0;32mreturn\u001b[0m \u001b[0mresponse\u001b[0m\u001b[0;34m,\u001b[0m \u001b[0mself\u001b[0m\u001b[0;34m.\u001b[0m\u001b[0m_create_connection_guard\u001b[0m\u001b[0;34m(\u001b[0m\u001b[0mconnection\u001b[0m\u001b[0;34m)\u001b[0m\u001b[0;34m\u001b[0m\u001b[0m\n",
      "\u001b[0;32m/usr/local/opt/apache-spark/libexec/python/lib/py4j-0.10.7-src.zip/py4j/java_gateway.py\u001b[0m in \u001b[0;36msend_command\u001b[0;34m(self, command)\u001b[0m\n\u001b[1;32m   1150\u001b[0m \u001b[0;34m\u001b[0m\u001b[0m\n\u001b[1;32m   1151\u001b[0m         \u001b[0;32mtry\u001b[0m\u001b[0;34m:\u001b[0m\u001b[0;34m\u001b[0m\u001b[0m\n\u001b[0;32m-> 1152\u001b[0;31m             \u001b[0manswer\u001b[0m \u001b[0;34m=\u001b[0m \u001b[0msmart_decode\u001b[0m\u001b[0;34m(\u001b[0m\u001b[0mself\u001b[0m\u001b[0;34m.\u001b[0m\u001b[0mstream\u001b[0m\u001b[0;34m.\u001b[0m\u001b[0mreadline\u001b[0m\u001b[0;34m(\u001b[0m\u001b[0;34m)\u001b[0m\u001b[0;34m[\u001b[0m\u001b[0;34m:\u001b[0m\u001b[0;34m-\u001b[0m\u001b[0;36m1\u001b[0m\u001b[0;34m]\u001b[0m\u001b[0;34m)\u001b[0m\u001b[0;34m\u001b[0m\u001b[0m\n\u001b[0m\u001b[1;32m   1153\u001b[0m             \u001b[0mlogger\u001b[0m\u001b[0;34m.\u001b[0m\u001b[0mdebug\u001b[0m\u001b[0;34m(\u001b[0m\u001b[0;34m\"Answer received: {0}\"\u001b[0m\u001b[0;34m.\u001b[0m\u001b[0mformat\u001b[0m\u001b[0;34m(\u001b[0m\u001b[0manswer\u001b[0m\u001b[0;34m)\u001b[0m\u001b[0;34m)\u001b[0m\u001b[0;34m\u001b[0m\u001b[0m\n\u001b[1;32m   1154\u001b[0m             \u001b[0;32mif\u001b[0m \u001b[0manswer\u001b[0m\u001b[0;34m.\u001b[0m\u001b[0mstartswith\u001b[0m\u001b[0;34m(\u001b[0m\u001b[0mproto\u001b[0m\u001b[0;34m.\u001b[0m\u001b[0mRETURN_MESSAGE\u001b[0m\u001b[0;34m)\u001b[0m\u001b[0;34m:\u001b[0m\u001b[0;34m\u001b[0m\u001b[0m\n",
      "\u001b[0;32m/Library/Frameworks/Python.framework/Versions/3.6/lib/python3.6/socket.py\u001b[0m in \u001b[0;36mreadinto\u001b[0;34m(self, b)\u001b[0m\n\u001b[1;32m    584\u001b[0m         \u001b[0;32mwhile\u001b[0m \u001b[0;32mTrue\u001b[0m\u001b[0;34m:\u001b[0m\u001b[0;34m\u001b[0m\u001b[0m\n\u001b[1;32m    585\u001b[0m             \u001b[0;32mtry\u001b[0m\u001b[0;34m:\u001b[0m\u001b[0;34m\u001b[0m\u001b[0m\n\u001b[0;32m--> 586\u001b[0;31m                 \u001b[0;32mreturn\u001b[0m \u001b[0mself\u001b[0m\u001b[0;34m.\u001b[0m\u001b[0m_sock\u001b[0m\u001b[0;34m.\u001b[0m\u001b[0mrecv_into\u001b[0m\u001b[0;34m(\u001b[0m\u001b[0mb\u001b[0m\u001b[0;34m)\u001b[0m\u001b[0;34m\u001b[0m\u001b[0m\n\u001b[0m\u001b[1;32m    587\u001b[0m             \u001b[0;32mexcept\u001b[0m \u001b[0mtimeout\u001b[0m\u001b[0;34m:\u001b[0m\u001b[0;34m\u001b[0m\u001b[0m\n\u001b[1;32m    588\u001b[0m                 \u001b[0mself\u001b[0m\u001b[0;34m.\u001b[0m\u001b[0m_timeout_occurred\u001b[0m \u001b[0;34m=\u001b[0m \u001b[0;32mTrue\u001b[0m\u001b[0;34m\u001b[0m\u001b[0m\n",
      "\u001b[0;31mKeyboardInterrupt\u001b[0m: "
     ]
    }
   ],
   "source": [
    "#Match the id with the name in the allCountries dataset --this took approx. 50 minutes to compute\n",
    "non_swiss_db = spark.sql(\"SELECT country_id_names.origins, country_names.country_code FROM country_id_names LEFT JOIN country_names ON country_id_names.geonameid = country_names.geonameid\")\n",
    "non_swiss_db.show()"
   ]
  },
  {
   "cell_type": "code",
   "execution_count": 103,
   "metadata": {},
   "outputs": [],
   "source": [
    "#save that in csv files\n",
    "non_swiss_db.write.csv('non_swiss_country_names.csv')           "
   ]
  },
  {
   "cell_type": "markdown",
   "metadata": {},
   "source": [
    "## Descriptive Analysis"
   ]
  },
  {
   "cell_type": "code",
   "execution_count": 126,
   "metadata": {},
   "outputs": [],
   "source": [
    "non_swiss_db.createOrReplaceTempView(\"non_swiss_origins\")\n",
    "non_swiss_tot = spark.sql(\"SELECT country_code, COUNT(country_code) AS tot FROM non_swiss_origins GROUP BY country_code\")"
   ]
  },
  {
   "cell_type": "code",
   "execution_count": 127,
   "metadata": {},
   "outputs": [],
   "source": [
    "non_swiss_pd = non_swiss_tot.toPandas() "
   ]
  },
  {
   "cell_type": "code",
   "execution_count": 138,
   "metadata": {},
   "outputs": [
    {
     "data": {
      "text/plain": [
       "46    382\n",
       "87    246\n",
       "19    126\n",
       "89    121\n",
       "41    120\n",
       "13    113\n",
       "54    102\n",
       "24     91\n",
       "21     80\n",
       "69     74\n",
       "60     73\n",
       "82     73\n",
       "44     71\n",
       "14     62\n",
       "20     50\n",
       "47     48\n",
       "36     42\n",
       "79     41\n",
       "32     35\n",
       "81     34\n",
       "22     28\n",
       "26     24\n",
       "27     21\n",
       "35     21\n",
       "43     18\n",
       "16     17\n",
       "64     17\n",
       "10     17\n",
       "28     15\n",
       "23     15\n",
       "     ... \n",
       "52      3\n",
       "83      3\n",
       "50      3\n",
       "8       2\n",
       "18      2\n",
       "91      2\n",
       "30      2\n",
       "92      2\n",
       "33      2\n",
       "0       2\n",
       "48      2\n",
       "71      2\n",
       "70      2\n",
       "40      2\n",
       "51      2\n",
       "66      2\n",
       "56      2\n",
       "1       2\n",
       "34      1\n",
       "90      1\n",
       "3       1\n",
       "88      1\n",
       "84      1\n",
       "7       1\n",
       "61      1\n",
       "75      1\n",
       "62      1\n",
       "42      1\n",
       "53      1\n",
       "17      0\n",
       "Name: tot, Length: 94, dtype: int64"
      ]
     },
     "execution_count": 138,
     "metadata": {},
     "output_type": "execute_result"
    }
   ],
   "source": [
    "non_swiss_pd_sorted.tot"
   ]
  },
  {
   "cell_type": "code",
   "execution_count": 139,
   "metadata": {},
   "outputs": [
    {
     "ename": "TypeError",
     "evalue": "None is not a string",
     "output_type": "error",
     "traceback": [
      "\u001b[0;31m---------------------------------------------------------------------------\u001b[0m",
      "\u001b[0;31mTypeError\u001b[0m                                 Traceback (most recent call last)",
      "\u001b[0;32m<ipython-input-139-61d726c8049d>\u001b[0m in \u001b[0;36m<module>\u001b[0;34m\u001b[0m\n\u001b[1;32m      1\u001b[0m \u001b[0mfig\u001b[0m\u001b[0;34m,\u001b[0m \u001b[0max\u001b[0m \u001b[0;34m=\u001b[0m \u001b[0mplt\u001b[0m\u001b[0;34m.\u001b[0m\u001b[0msubplots\u001b[0m\u001b[0;34m(\u001b[0m\u001b[0;34m)\u001b[0m\u001b[0;34m\u001b[0m\u001b[0;34m\u001b[0m\u001b[0m\n\u001b[0;32m----> 2\u001b[0;31m \u001b[0mplt\u001b[0m\u001b[0;34m.\u001b[0m\u001b[0mbar\u001b[0m\u001b[0;34m(\u001b[0m\u001b[0mnon_swiss_pd_sorted\u001b[0m\u001b[0;34m.\u001b[0m\u001b[0mcountry_code\u001b[0m\u001b[0;34m,\u001b[0m \u001b[0mnon_swiss_pd_sorted\u001b[0m\u001b[0;34m.\u001b[0m\u001b[0mtot\u001b[0m\u001b[0;34m)\u001b[0m\u001b[0;34m\u001b[0m\u001b[0;34m\u001b[0m\u001b[0m\n\u001b[0m\u001b[1;32m      3\u001b[0m \u001b[0mplt\u001b[0m\u001b[0;34m.\u001b[0m\u001b[0mylabel\u001b[0m\u001b[0;34m(\u001b[0m\u001b[0;34m'Total'\u001b[0m\u001b[0;34m)\u001b[0m\u001b[0;34m\u001b[0m\u001b[0;34m\u001b[0m\u001b[0m\n\u001b[1;32m      4\u001b[0m \u001b[0mplt\u001b[0m\u001b[0;34m.\u001b[0m\u001b[0mxlabel\u001b[0m\u001b[0;34m(\u001b[0m\u001b[0;34m'Countries'\u001b[0m\u001b[0;34m)\u001b[0m\u001b[0;34m\u001b[0m\u001b[0;34m\u001b[0m\u001b[0m\n\u001b[1;32m      5\u001b[0m \u001b[0mplt\u001b[0m\u001b[0;34m.\u001b[0m\u001b[0mxticks\u001b[0m\u001b[0;34m(\u001b[0m\u001b[0mnon_swiss_pd_sorted\u001b[0m\u001b[0;34m.\u001b[0m\u001b[0mcountry_code\u001b[0m\u001b[0;34m,\u001b[0m \u001b[0mrotation\u001b[0m\u001b[0;34m=\u001b[0m\u001b[0;34m'vertical'\u001b[0m\u001b[0;34m)\u001b[0m\u001b[0;34m\u001b[0m\u001b[0;34m\u001b[0m\u001b[0m\n",
      "\u001b[0;32m/anaconda3/envs/ada/lib/python3.6/site-packages/matplotlib/pyplot.py\u001b[0m in \u001b[0;36mbar\u001b[0;34m(x, height, width, bottom, align, data, **kwargs)\u001b[0m\n\u001b[1;32m   2457\u001b[0m     return gca().bar(\n\u001b[1;32m   2458\u001b[0m         \u001b[0mx\u001b[0m\u001b[0;34m,\u001b[0m \u001b[0mheight\u001b[0m\u001b[0;34m,\u001b[0m \u001b[0mwidth\u001b[0m\u001b[0;34m=\u001b[0m\u001b[0mwidth\u001b[0m\u001b[0;34m,\u001b[0m \u001b[0mbottom\u001b[0m\u001b[0;34m=\u001b[0m\u001b[0mbottom\u001b[0m\u001b[0;34m,\u001b[0m \u001b[0malign\u001b[0m\u001b[0;34m=\u001b[0m\u001b[0malign\u001b[0m\u001b[0;34m,\u001b[0m\u001b[0;34m\u001b[0m\u001b[0;34m\u001b[0m\u001b[0m\n\u001b[0;32m-> 2459\u001b[0;31m         **({\"data\": data} if data is not None else {}), **kwargs)\n\u001b[0m\u001b[1;32m   2460\u001b[0m \u001b[0;34m\u001b[0m\u001b[0m\n\u001b[1;32m   2461\u001b[0m \u001b[0;34m\u001b[0m\u001b[0m\n",
      "\u001b[0;32m/anaconda3/envs/ada/lib/python3.6/site-packages/matplotlib/__init__.py\u001b[0m in \u001b[0;36minner\u001b[0;34m(ax, data, *args, **kwargs)\u001b[0m\n\u001b[1;32m   1803\u001b[0m                         \u001b[0;34m\"the Matplotlib list!)\"\u001b[0m \u001b[0;34m%\u001b[0m \u001b[0;34m(\u001b[0m\u001b[0mlabel_namer\u001b[0m\u001b[0;34m,\u001b[0m \u001b[0mfunc\u001b[0m\u001b[0;34m.\u001b[0m\u001b[0m__name__\u001b[0m\u001b[0;34m)\u001b[0m\u001b[0;34m,\u001b[0m\u001b[0;34m\u001b[0m\u001b[0;34m\u001b[0m\u001b[0m\n\u001b[1;32m   1804\u001b[0m                         RuntimeWarning, stacklevel=2)\n\u001b[0;32m-> 1805\u001b[0;31m             \u001b[0;32mreturn\u001b[0m \u001b[0mfunc\u001b[0m\u001b[0;34m(\u001b[0m\u001b[0max\u001b[0m\u001b[0;34m,\u001b[0m \u001b[0;34m*\u001b[0m\u001b[0margs\u001b[0m\u001b[0;34m,\u001b[0m \u001b[0;34m**\u001b[0m\u001b[0mkwargs\u001b[0m\u001b[0;34m)\u001b[0m\u001b[0;34m\u001b[0m\u001b[0;34m\u001b[0m\u001b[0m\n\u001b[0m\u001b[1;32m   1806\u001b[0m \u001b[0;34m\u001b[0m\u001b[0m\n\u001b[1;32m   1807\u001b[0m         inner.__doc__ = _add_data_doc(inner.__doc__,\n",
      "\u001b[0;32m/anaconda3/envs/ada/lib/python3.6/site-packages/matplotlib/axes/_axes.py\u001b[0m in \u001b[0;36mbar\u001b[0;34m(self, x, height, width, bottom, align, **kwargs)\u001b[0m\n\u001b[1;32m   2215\u001b[0m \u001b[0;34m\u001b[0m\u001b[0m\n\u001b[1;32m   2216\u001b[0m         \u001b[0;32mif\u001b[0m \u001b[0morientation\u001b[0m \u001b[0;34m==\u001b[0m \u001b[0;34m'vertical'\u001b[0m\u001b[0;34m:\u001b[0m\u001b[0;34m\u001b[0m\u001b[0;34m\u001b[0m\u001b[0m\n\u001b[0;32m-> 2217\u001b[0;31m             \u001b[0mself\u001b[0m\u001b[0;34m.\u001b[0m\u001b[0m_process_unit_info\u001b[0m\u001b[0;34m(\u001b[0m\u001b[0mxdata\u001b[0m\u001b[0;34m=\u001b[0m\u001b[0mx\u001b[0m\u001b[0;34m,\u001b[0m \u001b[0mydata\u001b[0m\u001b[0;34m=\u001b[0m\u001b[0mheight\u001b[0m\u001b[0;34m,\u001b[0m \u001b[0mkwargs\u001b[0m\u001b[0;34m=\u001b[0m\u001b[0mkwargs\u001b[0m\u001b[0;34m)\u001b[0m\u001b[0;34m\u001b[0m\u001b[0;34m\u001b[0m\u001b[0m\n\u001b[0m\u001b[1;32m   2218\u001b[0m             \u001b[0;32mif\u001b[0m \u001b[0mlog\u001b[0m\u001b[0;34m:\u001b[0m\u001b[0;34m\u001b[0m\u001b[0;34m\u001b[0m\u001b[0m\n\u001b[1;32m   2219\u001b[0m                 \u001b[0mself\u001b[0m\u001b[0;34m.\u001b[0m\u001b[0mset_yscale\u001b[0m\u001b[0;34m(\u001b[0m\u001b[0;34m'log'\u001b[0m\u001b[0;34m,\u001b[0m \u001b[0mnonposy\u001b[0m\u001b[0;34m=\u001b[0m\u001b[0;34m'clip'\u001b[0m\u001b[0;34m)\u001b[0m\u001b[0;34m\u001b[0m\u001b[0;34m\u001b[0m\u001b[0m\n",
      "\u001b[0;32m/anaconda3/envs/ada/lib/python3.6/site-packages/matplotlib/axes/_base.py\u001b[0m in \u001b[0;36m_process_unit_info\u001b[0;34m(self, xdata, ydata, kwargs)\u001b[0m\n\u001b[1;32m   2115\u001b[0m             \u001b[0;32mreturn\u001b[0m \u001b[0mkwargs\u001b[0m\u001b[0;34m\u001b[0m\u001b[0;34m\u001b[0m\u001b[0m\n\u001b[1;32m   2116\u001b[0m \u001b[0;34m\u001b[0m\u001b[0m\n\u001b[0;32m-> 2117\u001b[0;31m         \u001b[0mkwargs\u001b[0m \u001b[0;34m=\u001b[0m \u001b[0m_process_single_axis\u001b[0m\u001b[0;34m(\u001b[0m\u001b[0mxdata\u001b[0m\u001b[0;34m,\u001b[0m \u001b[0mself\u001b[0m\u001b[0;34m.\u001b[0m\u001b[0mxaxis\u001b[0m\u001b[0;34m,\u001b[0m \u001b[0;34m'xunits'\u001b[0m\u001b[0;34m,\u001b[0m \u001b[0mkwargs\u001b[0m\u001b[0;34m)\u001b[0m\u001b[0;34m\u001b[0m\u001b[0;34m\u001b[0m\u001b[0m\n\u001b[0m\u001b[1;32m   2118\u001b[0m         \u001b[0mkwargs\u001b[0m \u001b[0;34m=\u001b[0m \u001b[0m_process_single_axis\u001b[0m\u001b[0;34m(\u001b[0m\u001b[0mydata\u001b[0m\u001b[0;34m,\u001b[0m \u001b[0mself\u001b[0m\u001b[0;34m.\u001b[0m\u001b[0myaxis\u001b[0m\u001b[0;34m,\u001b[0m \u001b[0;34m'yunits'\u001b[0m\u001b[0;34m,\u001b[0m \u001b[0mkwargs\u001b[0m\u001b[0;34m)\u001b[0m\u001b[0;34m\u001b[0m\u001b[0;34m\u001b[0m\u001b[0m\n\u001b[1;32m   2119\u001b[0m         \u001b[0;32mreturn\u001b[0m \u001b[0mkwargs\u001b[0m\u001b[0;34m\u001b[0m\u001b[0;34m\u001b[0m\u001b[0m\n",
      "\u001b[0;32m/anaconda3/envs/ada/lib/python3.6/site-packages/matplotlib/axes/_base.py\u001b[0m in \u001b[0;36m_process_single_axis\u001b[0;34m(data, axis, unit_name, kwargs)\u001b[0m\n\u001b[1;32m   2098\u001b[0m                 \u001b[0;31m# We only need to update if there is nothing set yet.\u001b[0m\u001b[0;34m\u001b[0m\u001b[0;34m\u001b[0m\u001b[0;34m\u001b[0m\u001b[0m\n\u001b[1;32m   2099\u001b[0m                 \u001b[0;32mif\u001b[0m \u001b[0;32mnot\u001b[0m \u001b[0maxis\u001b[0m\u001b[0;34m.\u001b[0m\u001b[0mhave_units\u001b[0m\u001b[0;34m(\u001b[0m\u001b[0;34m)\u001b[0m\u001b[0;34m:\u001b[0m\u001b[0;34m\u001b[0m\u001b[0;34m\u001b[0m\u001b[0m\n\u001b[0;32m-> 2100\u001b[0;31m                     \u001b[0maxis\u001b[0m\u001b[0;34m.\u001b[0m\u001b[0mupdate_units\u001b[0m\u001b[0;34m(\u001b[0m\u001b[0mdata\u001b[0m\u001b[0;34m)\u001b[0m\u001b[0;34m\u001b[0m\u001b[0;34m\u001b[0m\u001b[0m\n\u001b[0m\u001b[1;32m   2101\u001b[0m \u001b[0;34m\u001b[0m\u001b[0m\n\u001b[1;32m   2102\u001b[0m             \u001b[0;31m# Check for units in the kwargs, and if present update axis\u001b[0m\u001b[0;34m\u001b[0m\u001b[0;34m\u001b[0m\u001b[0;34m\u001b[0m\u001b[0m\n",
      "\u001b[0;32m/anaconda3/envs/ada/lib/python3.6/site-packages/matplotlib/axis.py\u001b[0m in \u001b[0;36mupdate_units\u001b[0;34m(self, data)\u001b[0m\n\u001b[1;32m   1471\u001b[0m         \u001b[0mneednew\u001b[0m \u001b[0;34m=\u001b[0m \u001b[0mself\u001b[0m\u001b[0;34m.\u001b[0m\u001b[0mconverter\u001b[0m \u001b[0;34m!=\u001b[0m \u001b[0mconverter\u001b[0m\u001b[0;34m\u001b[0m\u001b[0;34m\u001b[0m\u001b[0m\n\u001b[1;32m   1472\u001b[0m         \u001b[0mself\u001b[0m\u001b[0;34m.\u001b[0m\u001b[0mconverter\u001b[0m \u001b[0;34m=\u001b[0m \u001b[0mconverter\u001b[0m\u001b[0;34m\u001b[0m\u001b[0;34m\u001b[0m\u001b[0m\n\u001b[0;32m-> 1473\u001b[0;31m         \u001b[0mdefault\u001b[0m \u001b[0;34m=\u001b[0m \u001b[0mself\u001b[0m\u001b[0;34m.\u001b[0m\u001b[0mconverter\u001b[0m\u001b[0;34m.\u001b[0m\u001b[0mdefault_units\u001b[0m\u001b[0;34m(\u001b[0m\u001b[0mdata\u001b[0m\u001b[0;34m,\u001b[0m \u001b[0mself\u001b[0m\u001b[0;34m)\u001b[0m\u001b[0;34m\u001b[0m\u001b[0;34m\u001b[0m\u001b[0m\n\u001b[0m\u001b[1;32m   1474\u001b[0m         \u001b[0;32mif\u001b[0m \u001b[0mdefault\u001b[0m \u001b[0;32mis\u001b[0m \u001b[0;32mnot\u001b[0m \u001b[0;32mNone\u001b[0m \u001b[0;32mand\u001b[0m \u001b[0mself\u001b[0m\u001b[0;34m.\u001b[0m\u001b[0munits\u001b[0m \u001b[0;32mis\u001b[0m \u001b[0;32mNone\u001b[0m\u001b[0;34m:\u001b[0m\u001b[0;34m\u001b[0m\u001b[0;34m\u001b[0m\u001b[0m\n\u001b[1;32m   1475\u001b[0m             \u001b[0mself\u001b[0m\u001b[0;34m.\u001b[0m\u001b[0mset_units\u001b[0m\u001b[0;34m(\u001b[0m\u001b[0mdefault\u001b[0m\u001b[0;34m)\u001b[0m\u001b[0;34m\u001b[0m\u001b[0;34m\u001b[0m\u001b[0m\n",
      "\u001b[0;32m/anaconda3/envs/ada/lib/python3.6/site-packages/matplotlib/category.py\u001b[0m in \u001b[0;36mdefault_units\u001b[0;34m(data, axis)\u001b[0m\n\u001b[1;32m    101\u001b[0m         \u001b[0;31m# default_units->axis_info->convert\u001b[0m\u001b[0;34m\u001b[0m\u001b[0;34m\u001b[0m\u001b[0;34m\u001b[0m\u001b[0m\n\u001b[1;32m    102\u001b[0m         \u001b[0;32mif\u001b[0m \u001b[0maxis\u001b[0m\u001b[0;34m.\u001b[0m\u001b[0munits\u001b[0m \u001b[0;32mis\u001b[0m \u001b[0;32mNone\u001b[0m\u001b[0;34m:\u001b[0m\u001b[0;34m\u001b[0m\u001b[0;34m\u001b[0m\u001b[0m\n\u001b[0;32m--> 103\u001b[0;31m             \u001b[0maxis\u001b[0m\u001b[0;34m.\u001b[0m\u001b[0mset_units\u001b[0m\u001b[0;34m(\u001b[0m\u001b[0mUnitData\u001b[0m\u001b[0;34m(\u001b[0m\u001b[0mdata\u001b[0m\u001b[0;34m)\u001b[0m\u001b[0;34m)\u001b[0m\u001b[0;34m\u001b[0m\u001b[0;34m\u001b[0m\u001b[0m\n\u001b[0m\u001b[1;32m    104\u001b[0m         \u001b[0;32melse\u001b[0m\u001b[0;34m:\u001b[0m\u001b[0;34m\u001b[0m\u001b[0;34m\u001b[0m\u001b[0m\n\u001b[1;32m    105\u001b[0m             \u001b[0maxis\u001b[0m\u001b[0;34m.\u001b[0m\u001b[0munits\u001b[0m\u001b[0;34m.\u001b[0m\u001b[0mupdate\u001b[0m\u001b[0;34m(\u001b[0m\u001b[0mdata\u001b[0m\u001b[0;34m)\u001b[0m\u001b[0;34m\u001b[0m\u001b[0;34m\u001b[0m\u001b[0m\n",
      "\u001b[0;32m/anaconda3/envs/ada/lib/python3.6/site-packages/matplotlib/category.py\u001b[0m in \u001b[0;36m__init__\u001b[0;34m(self, data)\u001b[0m\n\u001b[1;32m    167\u001b[0m         \u001b[0mself\u001b[0m\u001b[0;34m.\u001b[0m\u001b[0m_counter\u001b[0m \u001b[0;34m=\u001b[0m \u001b[0mitertools\u001b[0m\u001b[0;34m.\u001b[0m\u001b[0mcount\u001b[0m\u001b[0;34m(\u001b[0m\u001b[0;34m)\u001b[0m\u001b[0;34m\u001b[0m\u001b[0;34m\u001b[0m\u001b[0m\n\u001b[1;32m    168\u001b[0m         \u001b[0;32mif\u001b[0m \u001b[0mdata\u001b[0m \u001b[0;32mis\u001b[0m \u001b[0;32mnot\u001b[0m \u001b[0;32mNone\u001b[0m\u001b[0;34m:\u001b[0m\u001b[0;34m\u001b[0m\u001b[0;34m\u001b[0m\u001b[0m\n\u001b[0;32m--> 169\u001b[0;31m             \u001b[0mself\u001b[0m\u001b[0;34m.\u001b[0m\u001b[0mupdate\u001b[0m\u001b[0;34m(\u001b[0m\u001b[0mdata\u001b[0m\u001b[0;34m)\u001b[0m\u001b[0;34m\u001b[0m\u001b[0;34m\u001b[0m\u001b[0m\n\u001b[0m\u001b[1;32m    170\u001b[0m \u001b[0;34m\u001b[0m\u001b[0m\n\u001b[1;32m    171\u001b[0m     \u001b[0;32mdef\u001b[0m \u001b[0mupdate\u001b[0m\u001b[0;34m(\u001b[0m\u001b[0mself\u001b[0m\u001b[0;34m,\u001b[0m \u001b[0mdata\u001b[0m\u001b[0;34m)\u001b[0m\u001b[0;34m:\u001b[0m\u001b[0;34m\u001b[0m\u001b[0;34m\u001b[0m\u001b[0m\n",
      "\u001b[0;32m/anaconda3/envs/ada/lib/python3.6/site-packages/matplotlib/category.py\u001b[0m in \u001b[0;36mupdate\u001b[0;34m(self, data)\u001b[0m\n\u001b[1;32m    186\u001b[0m         \u001b[0;32mfor\u001b[0m \u001b[0mval\u001b[0m \u001b[0;32min\u001b[0m \u001b[0mOrderedDict\u001b[0m\u001b[0;34m.\u001b[0m\u001b[0mfromkeys\u001b[0m\u001b[0;34m(\u001b[0m\u001b[0mdata\u001b[0m\u001b[0;34m)\u001b[0m\u001b[0;34m:\u001b[0m\u001b[0;34m\u001b[0m\u001b[0;34m\u001b[0m\u001b[0m\n\u001b[1;32m    187\u001b[0m             \u001b[0;32mif\u001b[0m \u001b[0;32mnot\u001b[0m \u001b[0misinstance\u001b[0m\u001b[0;34m(\u001b[0m\u001b[0mval\u001b[0m\u001b[0;34m,\u001b[0m \u001b[0;34m(\u001b[0m\u001b[0mstr\u001b[0m\u001b[0;34m,\u001b[0m \u001b[0mbytes\u001b[0m\u001b[0;34m)\u001b[0m\u001b[0;34m)\u001b[0m\u001b[0;34m:\u001b[0m\u001b[0;34m\u001b[0m\u001b[0;34m\u001b[0m\u001b[0m\n\u001b[0;32m--> 188\u001b[0;31m                 \u001b[0;32mraise\u001b[0m \u001b[0mTypeError\u001b[0m\u001b[0;34m(\u001b[0m\u001b[0;34m\"{val!r} is not a string\"\u001b[0m\u001b[0;34m.\u001b[0m\u001b[0mformat\u001b[0m\u001b[0;34m(\u001b[0m\u001b[0mval\u001b[0m\u001b[0;34m=\u001b[0m\u001b[0mval\u001b[0m\u001b[0;34m)\u001b[0m\u001b[0;34m)\u001b[0m\u001b[0;34m\u001b[0m\u001b[0;34m\u001b[0m\u001b[0m\n\u001b[0m\u001b[1;32m    189\u001b[0m             \u001b[0;32mif\u001b[0m \u001b[0mval\u001b[0m \u001b[0;32mnot\u001b[0m \u001b[0;32min\u001b[0m \u001b[0mself\u001b[0m\u001b[0;34m.\u001b[0m\u001b[0m_mapping\u001b[0m\u001b[0;34m:\u001b[0m\u001b[0;34m\u001b[0m\u001b[0;34m\u001b[0m\u001b[0m\n\u001b[1;32m    190\u001b[0m                 \u001b[0mself\u001b[0m\u001b[0;34m.\u001b[0m\u001b[0m_mapping\u001b[0m\u001b[0;34m[\u001b[0m\u001b[0mval\u001b[0m\u001b[0;34m]\u001b[0m \u001b[0;34m=\u001b[0m \u001b[0mnext\u001b[0m\u001b[0;34m(\u001b[0m\u001b[0mself\u001b[0m\u001b[0;34m.\u001b[0m\u001b[0m_counter\u001b[0m\u001b[0;34m)\u001b[0m\u001b[0;34m\u001b[0m\u001b[0;34m\u001b[0m\u001b[0m\n",
      "\u001b[0;31mTypeError\u001b[0m: None is not a string"
     ]
    },
    {
     "data": {
      "image/png": "[encoded data removed]",
      "text/plain": [
       "<Figure size 432x288 with 1 Axes>"
      ]
     },
     "metadata": {
      "needs_background": "light"
     },
     "output_type": "display_data"
    }
   ],
   "source": [
    "fig, ax = plt.subplots()\n",
    "plt.bar(non_swiss_pd_sorted.country_code, non_swiss_pd_sorted.tot)\n",
    "plt.ylabel('Total')  \n",
    "plt.xlabel('Countries')  \n",
    "plt.xticks(non_swiss_pd_sorted.country_code, rotation='vertical')\n",
    "plt.title('Origin of 10 bigger ingredients imports')\n",
    "plt.show()"
   ]
  },
  {
   "cell_type": "code",
   "execution_count": 128,
   "metadata": {},
   "outputs": [],
   "source": [
    "non_swiss_pd_sorted = non_swiss_pd.sort_values(by=['tot'], ascending=False)\n",
    "twenty_bigger_import = non_swiss_pd_sorted.head(20)"
   ]
  },
  {
   "cell_type": "code",
   "execution_count": 130,
   "metadata": {},
   "outputs": [
    {
     "data": {
      "image/png": "[encoded data removed]",
      "text/plain": [
       "<Figure size 432x288 with 1 Axes>"
      ]
     },
     "metadata": {
      "needs_background": "light"
     },
     "output_type": "display_data"
    }
   ],
   "source": [
    "fig, ax = plt.subplots()\n",
    "plt.bar(twenty_bigger_import.country_code, twenty_bigger_import.tot)\n",
    "plt.ylabel('Total')  \n",
    "plt.xlabel('Countries')  \n",
    "plt.xticks(twenty_bigger_import.country_code, rotation='vertical')\n",
    "plt.title('Origin of 10 bigger ingredients imports')\n",
    "plt.show()"
   ]
  },
  {
   "cell_type": "code",
   "execution_count": null,
   "metadata": {},
   "outputs": [],
   "source": [
    "#RUBISH\n",
    "non_swiss_categories.createOrReplaceTempView(\"non_swiss_categories\")\n",
    "non_swiss_origins = spark.sql(\"SELECT origins, CASE WHEN origins ='^Ita|Italie$' THEN 'Italy'\\\n",
    "WHEN origins REGEXP '^[Ff]r' THEN 'France' \\\n",
    "WHEN origins REGEXP '^[Gg]e|^[Dd]e|^[Aa]l' THEN 'Germany' \\\n",
    "WHEN origins REGEXP '^[Bb]ul' THEN 'Bulgary' \\\n",
    "WHEN origins REGEXP '^[Aa]r' THEN 'Argentinia' \\\n",
    "WHEN origins REGEXP '^[Pp]ar' THEN 'Paraguay' \\\n",
    "WHEN origins REGEXP '^[Aa]ut|^[Oo]es|Austria' THEN 'Austria' \\\n",
    "WHEN origins REGEXP '^[Rr]o' THEN 'Romania' \\\n",
    "WHEN origins REGEXP '^[Ii]nd' THEN 'India' \\\n",
    "WHEN origins REGEXP '^Pays Bas|^[Nn]eth|^[Nn]ieder|^[Hh]oll' THEN 'Netherlands'\\\n",
    "WHEN origins REGEXP '^Esp|^Spain$|^Span' THEN 'Spain'\\\n",
    "WHEN origins REGEXP '^Bel' THEN 'Belgium'\\\n",
    "WHEN origins REGEXP '^Port|Portugal$' THEN 'Portugal'\\\n",
    "WHEN origins REGEXP '^Rus' THEN 'Russia' ELSE ''+ origins END AS Countries_origin FROM non_swiss_categories\")\n",
    "non_swiss_origins.show(20)\n",
    "non_swiss_origins = non_swiss_origins.withColumn(\"Countries_origin\",coalesce(non_swiss_origins.Countries_origin,non_swiss_origins.origins))"
   ]
  },
  {
   "cell_type": "markdown",
   "metadata": {},
   "source": [
    "## Data Preprocessing"
   ]
  },
  {
   "cell_type": "code",
   "execution_count": null,
   "metadata": {},
   "outputs": [],
   "source": []
  }
 ],
 "metadata": {
  "kernelspec": {
   "display_name": "Python 3",
   "language": "python",
   "name": "python3"
  },
  "language_info": {
   "codemirror_mode": {
    "name": "ipython",
    "version": 3
   },
   "file_extension": ".py",
   "mimetype": "text/x-python",
   "name": "python",
   "nbconvert_exporter": "python",
   "pygments_lexer": "ipython3",
   "version": "3.6.6"
  }
 },
 "nbformat": 4,
 "nbformat_minor": 2
}
