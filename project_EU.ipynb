{
 "cells": [
  {
   "cell_type": "markdown",
   "metadata": {},
   "source": [
    "# Are we consuming more local?\n",
    "\n",
    "## Research questions\n",
    "\n",
    "1. Where are the products we consume in our everyday life coming from?\n",
    "\n",
    "    - Which countries produce the primary resources (ground ingredients) consumed in Switzerland?\n",
    "    - Which countries manufacture most of the products consumed in Switzerland?\n",
    "\n",
    "\n",
    "2. Is there a trend over time to consume more local products?\n",
    "\n",
    "    - Are new products mostly using primary resources from Switzerland? Or from other countries inside Europe?\n",
    "    - Are new products mostly manufactured in Switzerland? Or from other countries inside Europe?\n",
    "    - Is there a trend over time to local products to promote their origin?\n",
    "\n",
    "## Dataset\n",
    "\n",
    "Open Food Facts (https://world.openfoodfacts.org/data)\n",
    "\n",
    "Additional datasets “Evolution de la consommation de denrées alimentaires en Suisse” (https://opendata.swiss/fr/dataset/entwicklung-des-nahrungsmittelverbrauches-in-der-schweiz-je-kopf-und-jahr1) and “Dépenses fédérales pour l’agriculture et l’alimentation” (https://opendata.swiss/fr/dataset/bundesausgaben-fur-die-landwirtschaft-und-die-ernahrung1) from https://opendata.swiss/fr/group/agriculture\n",
    "\n",
    "A last additional dataset for the second question of the project\n",
    "https://www.gate.ezv.admin.ch/swissimpex/public/bereiche/waren/result.xhtml\n",
    "Total of imports of agriculture, forestry and fishing goods\n"
   ]
  },
  {
   "cell_type": "code",
   "execution_count": 164,
   "metadata": {},
   "outputs": [],
   "source": [
    "import re\n",
    "import pandas as pd\n",
    "import numpy as np\n",
    "import scipy as sp\n",
    "import scipy.stats as stats\n",
    "import matplotlib.pyplot as plt\n",
    "from datetime import timedelta\n",
    "import findspark\n",
    "findspark.init()\n",
    "import pyspark\n",
    "\n",
    "from functools import reduce\n",
    "from pyspark.sql import *\n",
    "from pyspark.sql import functions as F\n",
    "from pyspark.sql import SQLContext\n",
    "from pyspark.sql.functions import *\n",
    "from pyspark.sql.functions import min\n",
    "from pyspark.sql.functions import to_date, last_day,date_add\n",
    "from datetime import timedelta\n",
    "\n",
    "spark = SparkSession.builder.getOrCreate()\n",
    "sc = spark.sparkContext"
   ]
  },
  {
   "cell_type": "code",
   "execution_count": 165,
   "metadata": {},
   "outputs": [],
   "source": [
    "DATA_FOLDER = 'data'\n",
    "openfood_file = \"/en.openfoodfacts.org.products.csv\"\n",
    "temp_file = 'output/temp.csv'\n",
    "countries_mapping_file = '/mapping_countries_revised.csv'\n",
    "cleaned_off_dataset = 'output/cleaned_off.csv'\n",
    "\n",
    "#Cleaning the countries\n",
    "cities_file = \"data/countries_cleaning/cities.csv\"\n",
    "countries_file = \"data/countries_cleaning/countries.csv\"\n",
    "output_mapping_just_countries = \"data/countries_cleaning/output/mapping_just_countries.csv\""
   ]
  },
  {
   "cell_type": "code",
   "execution_count": 166,
   "metadata": {},
   "outputs": [],
   "source": [
    "import warnings\n",
    "warnings.filterwarnings(\"ignore\", 'This pattern has match groups')"
   ]
  },
  {
   "cell_type": "markdown",
   "metadata": {},
   "source": [
    "# Cleaning countries"
   ]
  },
  {
   "cell_type": "code",
   "execution_count": 168,
   "metadata": {},
   "outputs": [
    {
     "name": "stdout",
     "output_type": "stream",
     "text": [
      "root\n",
      " |-- code: string (nullable = true)\n",
      " |-- manufacturing_places_tags: string (nullable = true)\n",
      " |-- countries_tags: string (nullable = true)\n",
      "\n"
     ]
    }
   ],
   "source": [
    "dataset_main = spark.read.csv(DATA_FOLDER + openfood_file, header=True, mode=\"DROPMALFORMED\", sep = '\\t')\n",
    "\n",
    "dataset_main.createOrReplaceTempView(\"data_main\")\n",
    "\n",
    "# Filter required columns\n",
    "p_id_col = \" code, \"\n",
    "geo_tags_cols = \" manufacturing_places_tags, countries_tags \"\n",
    "\n",
    "off_df = spark.sql(\"SELECT\" + p_id_col + geo_tags_cols + \" FROM data_main\")\n",
    "off_df.printSchema()"
   ]
  },
  {
   "cell_type": "code",
   "execution_count": 169,
   "metadata": {},
   "outputs": [
    {
     "name": "stdout",
     "output_type": "stream",
     "text": [
      "All data Size:\n",
      "3(columns) * 709945(rows)\n"
     ]
    }
   ],
   "source": [
    "off_all_size = off_df.count()\n",
    "off_cols_size = len(off_df.columns)\n",
    "print(\"All data Size:\\n\" + str(off_cols_size) + \"(columns) * \" + str(off_all_size) + \"(rows)\")"
   ]
  },
  {
   "cell_type": "code",
   "execution_count": 170,
   "metadata": {},
   "outputs": [
    {
     "name": "stdout",
     "output_type": "stream",
     "text": [
      "+----+-------------------------+--------------+\n",
      "|code|manufacturing_places_tags|countries_tags|\n",
      "+----+-------------------------+--------------+\n",
      "|   0|                   641206|           554|\n",
      "+----+-------------------------+--------------+\n",
      "\n"
     ]
    }
   ],
   "source": [
    "# Find number of missing data\n",
    "off_df.select([count(when(isnan(c) | col(c).isNull(), c)).alias(c) for c in off_df.columns]).show()"
   ]
  },
  {
   "cell_type": "code",
   "execution_count": 171,
   "metadata": {},
   "outputs": [
    {
     "name": "stdout",
     "output_type": "stream",
     "text": [
      "Full GEO information data Size:\n",
      "3(columns) * 68672(rows)\n"
     ]
    }
   ],
   "source": [
    "off_df.createOrReplaceTempView(\"off_df\")\n",
    "\n",
    "sql_filter = \"SELECT * FROM off_df WHERE \\\n",
    "            countries_tags is not NULL AND manufacturing_places_tags is not NULL \"\n",
    "\n",
    "off_p_df = spark.sql(sql_filter)\n",
    "off_p_all_size = off_p_df.count()\n",
    "off_p_cols_size = len(off_p_df.columns)\n",
    "print(\"Full GEO information data Size:\\n\" + str(off_p_cols_size) + \"(columns) * \" + str(off_p_all_size) + \"(rows)\")"
   ]
  },
  {
   "cell_type": "code",
   "execution_count": 172,
   "metadata": {},
   "outputs": [
    {
     "name": "stdout",
     "output_type": "stream",
     "text": [
      "+-------------+-------------------------+-----------------+\n",
      "|         code|manufacturing_places_tags|   countries_tags|\n",
      "+-------------+-------------------------+-----------------+\n",
      "|0000000020114|                   france|        en:france|\n",
      "|0000000274722|                   france|        en:france|\n",
      "|0000000290616|          brossard-quebec|        en:canada|\n",
      "|0000000394710|          brossard-quebec|        en:canada|\n",
      "|0000001071894|           united-kingdom|en:united-kingdom|\n",
      "+-------------+-------------------------+-----------------+\n",
      "only showing top 5 rows\n",
      "\n"
     ]
    }
   ],
   "source": [
    "off_p_df.show(5)"
   ]
  },
  {
   "cell_type": "code",
   "execution_count": 173,
   "metadata": {},
   "outputs": [
    {
     "name": "stdout",
     "output_type": "stream",
     "text": [
      "+-------------+-------------------------+--------------+\n",
      "|         code|manufacturing_places_tags|countries_tags|\n",
      "+-------------+-------------------------+--------------+\n",
      "|0000000020114|                   france|        france|\n",
      "|0000000274722|                   france|        france|\n",
      "|0000000290616|          brossard-quebec|        canada|\n",
      "|0000000394710|          brossard-quebec|        canada|\n",
      "|0000001071894|           united-kingdom|united-kingdom|\n",
      "+-------------+-------------------------+--------------+\n",
      "only showing top 5 rows\n",
      "\n"
     ]
    }
   ],
   "source": [
    "# Remove \"en:\" occurances before name of each country in coutries_tags\n",
    "off_p_df = off_p_df.withColumn('countries_tags', F.regexp_replace('countries_tags', \"en:\", \"\"))\n",
    "off_p_df.show(5)"
   ]
  },
  {
   "cell_type": "code",
   "execution_count": 174,
   "metadata": {},
   "outputs": [
    {
     "data": {
      "text/html": [
       "<div>\n",
       "<style scoped>\n",
       "    .dataframe tbody tr th:only-of-type {\n",
       "        vertical-align: middle;\n",
       "    }\n",
       "\n",
       "    .dataframe tbody tr th {\n",
       "        vertical-align: top;\n",
       "    }\n",
       "\n",
       "    .dataframe thead th {\n",
       "        text-align: right;\n",
       "    }\n",
       "</style>\n",
       "<table border=\"1\" class=\"dataframe\">\n",
       "  <thead>\n",
       "    <tr style=\"text-align: right;\">\n",
       "      <th></th>\n",
       "      <th>code</th>\n",
       "      <th>manufacturing_places_tags</th>\n",
       "      <th>countries_tags</th>\n",
       "    </tr>\n",
       "  </thead>\n",
       "  <tbody>\n",
       "    <tr>\n",
       "      <th>0</th>\n",
       "      <td>0000000020114</td>\n",
       "      <td>france</td>\n",
       "      <td>france</td>\n",
       "    </tr>\n",
       "    <tr>\n",
       "      <th>1</th>\n",
       "      <td>0000000274722</td>\n",
       "      <td>france</td>\n",
       "      <td>france</td>\n",
       "    </tr>\n",
       "    <tr>\n",
       "      <th>2</th>\n",
       "      <td>0000000290616</td>\n",
       "      <td>brossard-quebec</td>\n",
       "      <td>canada</td>\n",
       "    </tr>\n",
       "    <tr>\n",
       "      <th>3</th>\n",
       "      <td>0000000394710</td>\n",
       "      <td>brossard-quebec</td>\n",
       "      <td>canada</td>\n",
       "    </tr>\n",
       "    <tr>\n",
       "      <th>4</th>\n",
       "      <td>0000001071894</td>\n",
       "      <td>united-kingdom</td>\n",
       "      <td>united-kingdom</td>\n",
       "    </tr>\n",
       "  </tbody>\n",
       "</table>\n",
       "</div>"
      ],
      "text/plain": [
       "            code manufacturing_places_tags  countries_tags\n",
       "0  0000000020114                    france          france\n",
       "1  0000000274722                    france          france\n",
       "2  0000000290616           brossard-quebec          canada\n",
       "3  0000000394710           brossard-quebec          canada\n",
       "4  0000001071894            united-kingdom  united-kingdom"
      ]
     },
     "execution_count": 174,
     "metadata": {},
     "output_type": "execute_result"
    }
   ],
   "source": [
    "countries_mapping = off_p_df.toPandas()\n",
    "countries_mapping.head()"
   ]
  },
  {
   "cell_type": "code",
   "execution_count": 175,
   "metadata": {},
   "outputs": [],
   "source": [
    "# create a new database mapping each country to some labels\n",
    "\n",
    "countries_mapping['all_countries'] = countries_mapping.manufacturing_places_tags +\",\" + countries_mapping.countries_tags"
   ]
  },
  {
   "cell_type": "code",
   "execution_count": 176,
   "metadata": {},
   "outputs": [
    {
     "data": {
      "text/html": [
       "<div>\n",
       "<style scoped>\n",
       "    .dataframe tbody tr th:only-of-type {\n",
       "        vertical-align: middle;\n",
       "    }\n",
       "\n",
       "    .dataframe tbody tr th {\n",
       "        vertical-align: top;\n",
       "    }\n",
       "\n",
       "    .dataframe thead th {\n",
       "        text-align: right;\n",
       "    }\n",
       "</style>\n",
       "<table border=\"1\" class=\"dataframe\">\n",
       "  <thead>\n",
       "    <tr style=\"text-align: right;\">\n",
       "      <th></th>\n",
       "      <th>code</th>\n",
       "      <th>manufacturing_places_tags</th>\n",
       "      <th>countries_tags</th>\n",
       "      <th>all_countries</th>\n",
       "    </tr>\n",
       "  </thead>\n",
       "  <tbody>\n",
       "    <tr>\n",
       "      <th>0</th>\n",
       "      <td>0000000020114</td>\n",
       "      <td>france</td>\n",
       "      <td>france</td>\n",
       "      <td>france,france</td>\n",
       "    </tr>\n",
       "    <tr>\n",
       "      <th>1</th>\n",
       "      <td>0000000274722</td>\n",
       "      <td>france</td>\n",
       "      <td>france</td>\n",
       "      <td>france,france</td>\n",
       "    </tr>\n",
       "    <tr>\n",
       "      <th>2</th>\n",
       "      <td>0000000290616</td>\n",
       "      <td>brossard-quebec</td>\n",
       "      <td>canada</td>\n",
       "      <td>brossard-quebec,canada</td>\n",
       "    </tr>\n",
       "    <tr>\n",
       "      <th>3</th>\n",
       "      <td>0000000394710</td>\n",
       "      <td>brossard-quebec</td>\n",
       "      <td>canada</td>\n",
       "      <td>brossard-quebec,canada</td>\n",
       "    </tr>\n",
       "    <tr>\n",
       "      <th>4</th>\n",
       "      <td>0000001071894</td>\n",
       "      <td>united-kingdom</td>\n",
       "      <td>united-kingdom</td>\n",
       "      <td>united-kingdom,united-kingdom</td>\n",
       "    </tr>\n",
       "  </tbody>\n",
       "</table>\n",
       "</div>"
      ],
      "text/plain": [
       "            code manufacturing_places_tags  countries_tags  \\\n",
       "0  0000000020114                    france          france   \n",
       "1  0000000274722                    france          france   \n",
       "2  0000000290616           brossard-quebec          canada   \n",
       "3  0000000394710           brossard-quebec          canada   \n",
       "4  0000001071894            united-kingdom  united-kingdom   \n",
       "\n",
       "                   all_countries  \n",
       "0                  france,france  \n",
       "1                  france,france  \n",
       "2         brossard-quebec,canada  \n",
       "3         brossard-quebec,canada  \n",
       "4  united-kingdom,united-kingdom  "
      ]
     },
     "execution_count": 176,
     "metadata": {},
     "output_type": "execute_result"
    }
   ],
   "source": [
    "countries_mapping.head()"
   ]
  },
  {
   "cell_type": "code",
   "execution_count": 177,
   "metadata": {},
   "outputs": [
    {
     "data": {
      "text/plain": [
       "0             france\n",
       "1             france\n",
       "2             france\n",
       "3             france\n",
       "4    brossard-quebec\n",
       "dtype: object"
      ]
     },
     "execution_count": 177,
     "metadata": {},
     "output_type": "execute_result"
    }
   ],
   "source": [
    "countries = pd.concat([pd.Series(row['all_countries'].split(','))              \n",
    "                    for _, row in countries_mapping.iterrows()]).reset_index(drop=True)\n",
    "countries.head()"
   ]
  },
  {
   "cell_type": "code",
   "execution_count": 178,
   "metadata": {},
   "outputs": [
    {
     "data": {
      "text/plain": [
       "192203"
      ]
     },
     "execution_count": 178,
     "metadata": {},
     "output_type": "execute_result"
    }
   ],
   "source": [
    "len(countries)"
   ]
  },
  {
   "cell_type": "code",
   "execution_count": 179,
   "metadata": {},
   "outputs": [
    {
     "name": "stdout",
     "output_type": "stream",
     "text": [
      "12357\n"
     ]
    }
   ],
   "source": [
    "countries = countries.drop_duplicates().reset_index(drop=True)\n",
    "countries = countries.str.replace(\"-\", \" \") \n",
    "\n",
    "# Remove numbers from name of countries\n",
    "countries = countries.str.replace('\\d+', '')\n",
    "\n",
    "print(len(countries))"
   ]
  },
  {
   "cell_type": "code",
   "execution_count": 180,
   "metadata": {},
   "outputs": [
    {
     "data": {
      "text/plain": [
       "0             france\n",
       "1    brossard quebec\n",
       "2             canada\n",
       "3     united kingdom\n",
       "4           brossard\n",
       "dtype: object"
      ]
     },
     "execution_count": 180,
     "metadata": {},
     "output_type": "execute_result"
    }
   ],
   "source": [
    "countries.head()"
   ]
  },
  {
   "cell_type": "markdown",
   "metadata": {},
   "source": [
    "We have extracted all unique values in country_tags and manufacturing_places_tags columns. We have 12357 unique entry. Now we should map each of these entries to a country code."
   ]
  },
  {
   "cell_type": "code",
   "execution_count": 181,
   "metadata": {},
   "outputs": [],
   "source": [
    "# map_countries will keep the mappings\n",
    "map_countries = pd.DataFrame(columns=['input', 'country_code'])\n",
    "remained_countries = countries.copy()"
   ]
  },
  {
   "cell_type": "code",
   "execution_count": 182,
   "metadata": {},
   "outputs": [],
   "source": [
    "def print_cleaning_status():\n",
    "    print(\"{0} name of countries have been detected in uncleaned dataset\".format(len(map_countries)))\n",
    "    print(\"{0} name of countries have remained\".format(len(remained_countries)))    "
   ]
  },
  {
   "cell_type": "code",
   "execution_count": 183,
   "metadata": {},
   "outputs": [
    {
     "name": "stdout",
     "output_type": "stream",
     "text": [
      "0 name of countries have been detected in uncleaned dataset\n",
      "12357 name of countries have remained\n"
     ]
    }
   ],
   "source": [
    "print_cleaning_status()"
   ]
  },
  {
   "cell_type": "markdown",
   "metadata": {},
   "source": [
    "Two external databases were used for mapping of country names and city names. https://www.geodatasource.com"
   ]
  },
  {
   "cell_type": "markdown",
   "metadata": {},
   "source": [
    "### Using country name"
   ]
  },
  {
   "cell_type": "code",
   "execution_count": 184,
   "metadata": {},
   "outputs": [
    {
     "data": {
      "text/html": [
       "<div>\n",
       "<style scoped>\n",
       "    .dataframe tbody tr th:only-of-type {\n",
       "        vertical-align: middle;\n",
       "    }\n",
       "\n",
       "    .dataframe tbody tr th {\n",
       "        vertical-align: top;\n",
       "    }\n",
       "\n",
       "    .dataframe thead th {\n",
       "        text-align: right;\n",
       "    }\n",
       "</style>\n",
       "<table border=\"1\" class=\"dataframe\">\n",
       "  <thead>\n",
       "    <tr style=\"text-align: right;\">\n",
       "      <th></th>\n",
       "      <th>CC_FIPS</th>\n",
       "      <th>COUNTRY_NAME</th>\n",
       "    </tr>\n",
       "  </thead>\n",
       "  <tbody>\n",
       "    <tr>\n",
       "      <th>0</th>\n",
       "      <td>AA</td>\n",
       "      <td>Aruba</td>\n",
       "    </tr>\n",
       "    <tr>\n",
       "      <th>1</th>\n",
       "      <td>AC</td>\n",
       "      <td>Antigua and Barbuda</td>\n",
       "    </tr>\n",
       "    <tr>\n",
       "      <th>2</th>\n",
       "      <td>AE</td>\n",
       "      <td>United Arab Emirates</td>\n",
       "    </tr>\n",
       "    <tr>\n",
       "      <th>3</th>\n",
       "      <td>AF</td>\n",
       "      <td>Afghanistan</td>\n",
       "    </tr>\n",
       "    <tr>\n",
       "      <th>4</th>\n",
       "      <td>AG</td>\n",
       "      <td>Algeria</td>\n",
       "    </tr>\n",
       "  </tbody>\n",
       "</table>\n",
       "</div>"
      ],
      "text/plain": [
       "  CC_FIPS          COUNTRY_NAME\n",
       "0      AA                 Aruba\n",
       "1      AC   Antigua and Barbuda\n",
       "2      AE  United Arab Emirates\n",
       "3      AF           Afghanistan\n",
       "4      AG               Algeria"
      ]
     },
     "execution_count": 184,
     "metadata": {},
     "output_type": "execute_result"
    }
   ],
   "source": [
    "dataset_countries = pd.read_csv(countries_file, error_bad_lines=False)\n",
    "dataset_countries.head()"
   ]
  },
  {
   "cell_type": "code",
   "execution_count": 185,
   "metadata": {},
   "outputs": [],
   "source": [
    "def map_country(data, country_code):\n",
    "    global map_countries\n",
    "    map_countries = map_countries.append({'input': data, 'country_code': country_code}, ignore_index=True)\n",
    "\n",
    "def find_country(data):\n",
    "    # map data with country code\n",
    "    output = dataset_countries[dataset_countries.CC_FIPS.str.match(data, case=False)]\n",
    "    \n",
    "    if len(data) <=2:\n",
    "        # If length of data is less than 3 and has not been matched with a country code, data is not valid\n",
    "        return 0\n",
    "    \n",
    "    if not len(output):\n",
    "        # map data with name of a country \n",
    "        output = dataset_countries[dataset_countries.COUNTRY_NAME.str.match(data, case=False)]\n",
    "        \n",
    "    if not len(output):\n",
    "        # map data with name of a country \n",
    "        output = dataset_countries[dataset_countries.COUNTRY_NAME.str.contains(data, case=False)]\n",
    "        \n",
    "    if len(output):\n",
    "        return output.iloc[0].CC_FIPS\n",
    "    return 0\n",
    "\n",
    "def assign_country_code(row):\n",
    "    output = find_country(row)\n",
    "    if output:\n",
    "        map_country(row, output)\n",
    "        return True\n",
    "    return False"
   ]
  },
  {
   "cell_type": "code",
   "execution_count": 186,
   "metadata": {},
   "outputs": [],
   "source": [
    "for i in range(len(remained_countries)):\n",
    "    if assign_country_code(remained_countries[i]):\n",
    "        remained_countries = remained_countries.drop([i])\n",
    "        i -=1"
   ]
  },
  {
   "cell_type": "code",
   "execution_count": 187,
   "metadata": {},
   "outputs": [
    {
     "name": "stdout",
     "output_type": "stream",
     "text": [
      "204 name of countries have been detected in uncleaned dataset\n",
      "12153 name of countries have remained\n"
     ]
    }
   ],
   "source": [
    "print_cleaning_status()"
   ]
  },
  {
   "cell_type": "markdown",
   "metadata": {},
   "source": [
    "#### Find entries which contain name of a country"
   ]
  },
  {
   "cell_type": "code",
   "execution_count": 188,
   "metadata": {},
   "outputs": [],
   "source": [
    "for index, row in dataset_countries.iterrows():\n",
    "    # If data contains name of a country before other words\n",
    "    output = remained_countries[remained_countries.str.contains(row.COUNTRY_NAME + \" \", case=False, na=False)]\n",
    "    \n",
    "    if not len(output):\n",
    "        # If data contains name of a country after other words\n",
    "         output = remained_countries[remained_countries.str.contains(\" \" + row.COUNTRY_NAME, case=False, na=False)]   \n",
    "    \n",
    "    for i in range(len(output)):\n",
    "        map_country(output.iloc[i], row.CC_FIPS)\n",
    "        remained_countries = remained_countries.drop(remained_countries[remained_countries == output.iloc[i]].index[0])"
   ]
  },
  {
   "cell_type": "code",
   "execution_count": 189,
   "metadata": {},
   "outputs": [
    {
     "name": "stdout",
     "output_type": "stream",
     "text": [
      "446 name of countries have been detected in uncleaned dataset\n",
      "11911 name of countries have remained\n"
     ]
    }
   ],
   "source": [
    "print_cleaning_status()"
   ]
  },
  {
   "cell_type": "code",
   "execution_count": 190,
   "metadata": {},
   "outputs": [
    {
     "data": {
      "text/html": [
       "<div>\n",
       "<style scoped>\n",
       "    .dataframe tbody tr th:only-of-type {\n",
       "        vertical-align: middle;\n",
       "    }\n",
       "\n",
       "    .dataframe tbody tr th {\n",
       "        vertical-align: top;\n",
       "    }\n",
       "\n",
       "    .dataframe thead th {\n",
       "        text-align: right;\n",
       "    }\n",
       "</style>\n",
       "<table border=\"1\" class=\"dataframe\">\n",
       "  <thead>\n",
       "    <tr style=\"text-align: right;\">\n",
       "      <th></th>\n",
       "      <th>input</th>\n",
       "      <th>country_code</th>\n",
       "    </tr>\n",
       "  </thead>\n",
       "  <tbody>\n",
       "    <tr>\n",
       "      <th>436</th>\n",
       "      <td>distribue par erabliere turkey hill ltee</td>\n",
       "      <td>TU</td>\n",
       "    </tr>\n",
       "    <tr>\n",
       "      <th>437</th>\n",
       "      <td>taichung taiwan</td>\n",
       "      <td>TW</td>\n",
       "    </tr>\n",
       "    <tr>\n",
       "      <th>438</th>\n",
       "      <td>taidong taiwan</td>\n",
       "      <td>TW</td>\n",
       "    </tr>\n",
       "    <tr>\n",
       "      <th>439</th>\n",
       "      <td>nantao taiwan</td>\n",
       "      <td>TW</td>\n",
       "    </tr>\n",
       "    <tr>\n",
       "      <th>440</th>\n",
       "      <td>penhu taiwan</td>\n",
       "      <td>TW</td>\n",
       "    </tr>\n",
       "    <tr>\n",
       "      <th>441</th>\n",
       "      <td>shinchu taiwan</td>\n",
       "      <td>TW</td>\n",
       "    </tr>\n",
       "    <tr>\n",
       "      <th>442</th>\n",
       "      <td>manchester united kingdom</td>\n",
       "      <td>UK</td>\n",
       "    </tr>\n",
       "    <tr>\n",
       "      <th>443</th>\n",
       "      <td>en united kingdom</td>\n",
       "      <td>UK</td>\n",
       "    </tr>\n",
       "    <tr>\n",
       "      <th>444</th>\n",
       "      <td>united states if america</td>\n",
       "      <td>US</td>\n",
       "    </tr>\n",
       "    <tr>\n",
       "      <th>445</th>\n",
       "      <td>zambia lusaka</td>\n",
       "      <td>ZA</td>\n",
       "    </tr>\n",
       "  </tbody>\n",
       "</table>\n",
       "</div>"
      ],
      "text/plain": [
       "                                        input country_code\n",
       "436  distribue par erabliere turkey hill ltee           TU\n",
       "437                           taichung taiwan           TW\n",
       "438                            taidong taiwan           TW\n",
       "439                             nantao taiwan           TW\n",
       "440                              penhu taiwan           TW\n",
       "441                            shinchu taiwan           TW\n",
       "442                 manchester united kingdom           UK\n",
       "443                         en united kingdom           UK\n",
       "444                  united states if america           US\n",
       "445                             zambia lusaka           ZA"
      ]
     },
     "execution_count": 190,
     "metadata": {},
     "output_type": "execute_result"
    }
   ],
   "source": [
    "map_countries.tail(10)"
   ]
  },
  {
   "cell_type": "code",
   "execution_count": 191,
   "metadata": {},
   "outputs": [],
   "source": [
    "# Save 776 detected inputs \n",
    "map_countries.to_csv(output_mapping_just_countries, index=False)"
   ]
  },
  {
   "cell_type": "markdown",
   "metadata": {},
   "source": [
    "#### Using City names"
   ]
  },
  {
   "cell_type": "code",
   "execution_count": 192,
   "metadata": {},
   "outputs": [
    {
     "name": "stderr",
     "output_type": "stream",
     "text": [
      "b'Skipping line 3404: expected 2 fields, saw 3\\nSkipping line 26344: expected 2 fields, saw 3\\nSkipping line 26424: expected 2 fields, saw 3\\nSkipping line 27358: expected 2 fields, saw 3\\nSkipping line 28220: expected 2 fields, saw 3\\nSkipping line 28221: expected 2 fields, saw 3\\nSkipping line 28382: expected 2 fields, saw 3\\nSkipping line 28734: expected 2 fields, saw 3\\nSkipping line 29051: expected 2 fields, saw 3\\nSkipping line 29056: expected 2 fields, saw 3\\nSkipping line 29128: expected 2 fields, saw 3\\nSkipping line 29183: expected 2 fields, saw 3\\nSkipping line 44241: expected 2 fields, saw 3\\nSkipping line 65686: expected 2 fields, saw 3\\nSkipping line 67481: expected 2 fields, saw 3\\nSkipping line 69168: expected 2 fields, saw 3\\nSkipping line 70683: expected 2 fields, saw 3\\nSkipping line 74874: expected 2 fields, saw 3\\nSkipping line 76715: expected 2 fields, saw 3\\nSkipping line 79939: expected 2 fields, saw 3\\nSkipping line 79940: expected 2 fields, saw 3\\nSkipping line 80623: expected 2 fields, saw 3\\nSkipping line 82309: expected 2 fields, saw 3\\nSkipping line 127006: expected 2 fields, saw 3\\nSkipping line 130729: expected 2 fields, saw 3\\nSkipping line 130914: expected 2 fields, saw 4\\nSkipping line 142973: expected 2 fields, saw 3\\nSkipping line 182618: expected 2 fields, saw 4\\nSkipping line 184575: expected 2 fields, saw 3\\nSkipping line 184576: expected 2 fields, saw 3\\nSkipping line 199267: expected 2 fields, saw 3\\nSkipping line 199408: expected 2 fields, saw 3\\nSkipping line 224734: expected 2 fields, saw 4\\nSkipping line 231451: expected 2 fields, saw 3\\nSkipping line 244922: expected 2 fields, saw 3\\nSkipping line 245900: expected 2 fields, saw 5\\n'\n",
      "b'Skipping line 285548: expected 2 fields, saw 3\\nSkipping line 285549: expected 2 fields, saw 3\\nSkipping line 286610: expected 2 fields, saw 3\\nSkipping line 287835: expected 2 fields, saw 3\\nSkipping line 293191: expected 2 fields, saw 3\\nSkipping line 293482: expected 2 fields, saw 3\\nSkipping line 293585: expected 2 fields, saw 3\\nSkipping line 294691: expected 2 fields, saw 3\\nSkipping line 294692: expected 2 fields, saw 3\\nSkipping line 294693: expected 2 fields, saw 3\\nSkipping line 294694: expected 2 fields, saw 3\\nSkipping line 294695: expected 2 fields, saw 3\\nSkipping line 296025: expected 2 fields, saw 3\\nSkipping line 296420: expected 2 fields, saw 3\\nSkipping line 310653: expected 2 fields, saw 5\\n'\n",
      "b'Skipping line 581743: expected 2 fields, saw 3\\nSkipping line 608769: expected 2 fields, saw 3\\nSkipping line 616594: expected 2 fields, saw 3\\nSkipping line 618168: expected 2 fields, saw 3\\nSkipping line 618708: expected 2 fields, saw 3\\nSkipping line 618982: expected 2 fields, saw 3\\nSkipping line 619115: expected 2 fields, saw 3\\nSkipping line 647292: expected 2 fields, saw 3\\nSkipping line 651276: expected 2 fields, saw 3\\nSkipping line 680722: expected 2 fields, saw 3\\nSkipping line 681369: expected 2 fields, saw 3\\nSkipping line 690922: expected 2 fields, saw 3\\nSkipping line 724723: expected 2 fields, saw 3\\nSkipping line 724737: expected 2 fields, saw 3\\nSkipping line 742794: expected 2 fields, saw 3\\nSkipping line 744603: expected 2 fields, saw 3\\nSkipping line 750866: expected 2 fields, saw 3\\nSkipping line 756746: expected 2 fields, saw 3\\nSkipping line 759809: expected 2 fields, saw 3\\nSkipping line 761603: expected 2 fields, saw 3\\nSkipping line 770450: expected 2 fields, saw 3\\nSkipping line 782364: expected 2 fields, saw 3\\nSkipping line 786055: expected 2 fields, saw 3\\n'\n",
      "b'Skipping line 787550: expected 2 fields, saw 3\\nSkipping line 787961: expected 2 fields, saw 3\\nSkipping line 790795: expected 2 fields, saw 3\\nSkipping line 793123: expected 2 fields, saw 3\\nSkipping line 794815: expected 2 fields, saw 3\\nSkipping line 797185: expected 2 fields, saw 3\\nSkipping line 800632: expected 2 fields, saw 3\\nSkipping line 801075: expected 2 fields, saw 3\\nSkipping line 801244: expected 2 fields, saw 3\\nSkipping line 804668: expected 2 fields, saw 3\\nSkipping line 805102: expected 2 fields, saw 3\\nSkipping line 805274: expected 2 fields, saw 3\\nSkipping line 805578: expected 2 fields, saw 3\\nSkipping line 805730: expected 2 fields, saw 3\\nSkipping line 805854: expected 2 fields, saw 3\\nSkipping line 805877: expected 2 fields, saw 3\\nSkipping line 806059: expected 2 fields, saw 3\\nSkipping line 806719: expected 2 fields, saw 3\\nSkipping line 807285: expected 2 fields, saw 3\\nSkipping line 807510: expected 2 fields, saw 3\\nSkipping line 808716: expected 2 fields, saw 3\\nSkipping line 809098: expected 2 fields, saw 3\\nSkipping line 809130: expected 2 fields, saw 3\\nSkipping line 809207: expected 2 fields, saw 3\\nSkipping line 809312: expected 2 fields, saw 3\\nSkipping line 809438: expected 2 fields, saw 3\\nSkipping line 809783: expected 2 fields, saw 3\\nSkipping line 810089: expected 2 fields, saw 3\\nSkipping line 810143: expected 2 fields, saw 3\\nSkipping line 810348: expected 2 fields, saw 3\\nSkipping line 811096: expected 2 fields, saw 3\\nSkipping line 813292: expected 2 fields, saw 3\\nSkipping line 813431: expected 2 fields, saw 3\\nSkipping line 818814: expected 2 fields, saw 3\\nSkipping line 820481: expected 2 fields, saw 3\\nSkipping line 822900: expected 2 fields, saw 3\\nSkipping line 823960: expected 2 fields, saw 6\\nSkipping line 824512: expected 2 fields, saw 3\\nSkipping line 830063: expected 2 fields, saw 3\\nSkipping line 831885: expected 2 fields, saw 3\\nSkipping line 833508: expected 2 fields, saw 3\\nSkipping line 834320: expected 2 fields, saw 3\\nSkipping line 839789: expected 2 fields, saw 3\\nSkipping line 840319: expected 2 fields, saw 3\\nSkipping line 842961: expected 2 fields, saw 3\\nSkipping line 843014: expected 2 fields, saw 3\\nSkipping line 851038: expected 2 fields, saw 3\\nSkipping line 853405: expected 2 fields, saw 3\\nSkipping line 853523: expected 2 fields, saw 3\\nSkipping line 853553: expected 2 fields, saw 3\\nSkipping line 862961: expected 2 fields, saw 3\\nSkipping line 892033: expected 2 fields, saw 3\\nSkipping line 909729: expected 2 fields, saw 3\\nSkipping line 911548: expected 2 fields, saw 3\\nSkipping line 943710: expected 2 fields, saw 3\\nSkipping line 989559: expected 2 fields, saw 3\\nSkipping line 1000457: expected 2 fields, saw 3\\nSkipping line 1001420: expected 2 fields, saw 3\\nSkipping line 1006089: expected 2 fields, saw 3\\n'\n",
      "b'Skipping line 1081899: expected 2 fields, saw 3\\nSkipping line 1081900: expected 2 fields, saw 3\\nSkipping line 1090060: expected 2 fields, saw 3\\nSkipping line 1110265: expected 2 fields, saw 4\\nSkipping line 1141916: expected 2 fields, saw 3\\nSkipping line 1153206: expected 2 fields, saw 4\\nSkipping line 1189334: expected 2 fields, saw 3\\nSkipping line 1197858: expected 2 fields, saw 4\\nSkipping line 1213314: expected 2 fields, saw 3\\nSkipping line 1229072: expected 2 fields, saw 3\\n'\n",
      "b'Skipping line 1336268: expected 2 fields, saw 3\\nSkipping line 1396828: expected 2 fields, saw 3\\nSkipping line 1415770: expected 2 fields, saw 3\\nSkipping line 1488395: expected 2 fields, saw 4\\nSkipping line 1519503: expected 2 fields, saw 3\\nSkipping line 1547314: expected 2 fields, saw 3\\n'\n",
      "b'Skipping line 1585093: expected 2 fields, saw 3\\nSkipping line 1591428: expected 2 fields, saw 3\\nSkipping line 1591581: expected 2 fields, saw 4\\nSkipping line 1592422: expected 2 fields, saw 3\\nSkipping line 1592464: expected 2 fields, saw 3\\nSkipping line 1592738: expected 2 fields, saw 3\\nSkipping line 1719600: expected 2 fields, saw 3\\nSkipping line 1772972: expected 2 fields, saw 3\\nSkipping line 1818552: expected 2 fields, saw 3\\nSkipping line 1823150: expected 2 fields, saw 3\\nSkipping line 1827006: expected 2 fields, saw 3\\nSkipping line 1827865: expected 2 fields, saw 4\\nSkipping line 1830014: expected 2 fields, saw 3\\nSkipping line 1833340: expected 2 fields, saw 3\\nSkipping line 1833367: expected 2 fields, saw 3\\nSkipping line 1833958: expected 2 fields, saw 3\\nSkipping line 1833959: expected 2 fields, saw 3\\n'\n",
      "b'Skipping line 1838612: expected 2 fields, saw 3\\nSkipping line 1839264: expected 2 fields, saw 3\\nSkipping line 1841720: expected 2 fields, saw 4\\nSkipping line 1844851: expected 2 fields, saw 3\\nSkipping line 1848555: expected 2 fields, saw 3\\nSkipping line 1860210: expected 2 fields, saw 3\\nSkipping line 1863071: expected 2 fields, saw 3\\nSkipping line 1864414: expected 2 fields, saw 3\\nSkipping line 1864764: expected 2 fields, saw 3\\nSkipping line 1865233: expected 2 fields, saw 3\\nSkipping line 1866074: expected 2 fields, saw 3\\nSkipping line 1872474: expected 2 fields, saw 3\\nSkipping line 1884963: expected 2 fields, saw 3\\nSkipping line 1888468: expected 2 fields, saw 3\\nSkipping line 1889535: expected 2 fields, saw 3\\nSkipping line 1889893: expected 2 fields, saw 3\\nSkipping line 1900938: expected 2 fields, saw 3\\nSkipping line 1912074: expected 2 fields, saw 3\\nSkipping line 1913046: expected 2 fields, saw 3\\nSkipping line 1934296: expected 2 fields, saw 3\\nSkipping line 1940706: expected 2 fields, saw 3\\nSkipping line 1947355: expected 2 fields, saw 5\\nSkipping line 1950807: expected 2 fields, saw 3\\nSkipping line 1951236: expected 2 fields, saw 3\\nSkipping line 2027405: expected 2 fields, saw 3\\nSkipping line 2027406: expected 2 fields, saw 3\\nSkipping line 2033288: expected 2 fields, saw 3\\nSkipping line 2033361: expected 2 fields, saw 3\\nSkipping line 2033490: expected 2 fields, saw 3\\nSkipping line 2033975: expected 2 fields, saw 3\\nSkipping line 2034360: expected 2 fields, saw 3\\nSkipping line 2034562: expected 2 fields, saw 3\\nSkipping line 2034772: expected 2 fields, saw 3\\nSkipping line 2034840: expected 2 fields, saw 3\\nSkipping line 2035021: expected 2 fields, saw 3\\nSkipping line 2035026: expected 2 fields, saw 3\\nSkipping line 2035247: expected 2 fields, saw 3\\nSkipping line 2035353: expected 2 fields, saw 3\\nSkipping line 2035473: expected 2 fields, saw 3\\nSkipping line 2035698: expected 2 fields, saw 3\\nSkipping line 2035779: expected 2 fields, saw 3\\nSkipping line 2035902: expected 2 fields, saw 3\\nSkipping line 2036025: expected 2 fields, saw 3\\nSkipping line 2036048: expected 2 fields, saw 3\\nSkipping line 2036057: expected 2 fields, saw 3\\nSkipping line 2036058: expected 2 fields, saw 3\\nSkipping line 2036215: expected 2 fields, saw 3\\nSkipping line 2036380: expected 2 fields, saw 3\\nSkipping line 2036408: expected 2 fields, saw 3\\nSkipping line 2036905: expected 2 fields, saw 3\\nSkipping line 2037109: expected 2 fields, saw 3\\nSkipping line 2037422: expected 2 fields, saw 3\\nSkipping line 2037423: expected 2 fields, saw 3\\nSkipping line 2037492: expected 2 fields, saw 3\\nSkipping line 2037728: expected 2 fields, saw 3\\nSkipping line 2037738: expected 2 fields, saw 3\\nSkipping line 2038156: expected 2 fields, saw 3\\nSkipping line 2038544: expected 2 fields, saw 3\\nSkipping line 2038545: expected 2 fields, saw 3\\nSkipping line 2039132: expected 2 fields, saw 3\\nSkipping line 2039133: expected 2 fields, saw 3\\nSkipping line 2039239: expected 2 fields, saw 3\\nSkipping line 2039286: expected 2 fields, saw 3\\nSkipping line 2039661: expected 2 fields, saw 3\\nSkipping line 2040143: expected 2 fields, saw 3\\nSkipping line 2040193: expected 2 fields, saw 3\\nSkipping line 2040194: expected 2 fields, saw 3\\nSkipping line 2040399: expected 2 fields, saw 3\\nSkipping line 2040758: expected 2 fields, saw 3\\nSkipping line 2041044: expected 2 fields, saw 3\\nSkipping line 2041102: expected 2 fields, saw 3\\nSkipping line 2041420: expected 2 fields, saw 3\\nSkipping line 2042323: expected 2 fields, saw 3\\nSkipping line 2042897: expected 2 fields, saw 3\\nSkipping line 2043249: expected 2 fields, saw 3\\nSkipping line 2043250: expected 2 fields, saw 3\\n'\n",
      "b'Skipping line 2120457: expected 2 fields, saw 3\\nSkipping line 2143498: expected 2 fields, saw 3\\nSkipping line 2152938: expected 2 fields, saw 3\\nSkipping line 2152939: expected 2 fields, saw 3\\nSkipping line 2152940: expected 2 fields, saw 3\\nSkipping line 2152942: expected 2 fields, saw 3\\nSkipping line 2152943: expected 2 fields, saw 3\\nSkipping line 2152944: expected 2 fields, saw 3\\nSkipping line 2152945: expected 2 fields, saw 3\\nSkipping line 2156181: expected 2 fields, saw 3\\nSkipping line 2156939: expected 2 fields, saw 3\\nSkipping line 2157870: expected 2 fields, saw 3\\nSkipping line 2159388: expected 2 fields, saw 5\\nSkipping line 2159627: expected 2 fields, saw 3\\nSkipping line 2160286: expected 2 fields, saw 3\\nSkipping line 2164938: expected 2 fields, saw 3\\nSkipping line 2165243: expected 2 fields, saw 3\\nSkipping line 2167702: expected 2 fields, saw 3\\nSkipping line 2171276: expected 2 fields, saw 3\\nSkipping line 2172138: expected 2 fields, saw 3\\nSkipping line 2176160: expected 2 fields, saw 3\\nSkipping line 2268861: expected 2 fields, saw 5\\nSkipping line 2282493: expected 2 fields, saw 3\\nSkipping line 2288673: expected 2 fields, saw 3\\nSkipping line 2295780: expected 2 fields, saw 3\\nSkipping line 2304585: expected 2 fields, saw 3\\nSkipping line 2335094: expected 2 fields, saw 3\\nSkipping line 2341826: expected 2 fields, saw 3\\nSkipping line 2341827: expected 2 fields, saw 3\\n'\n"
     ]
    },
    {
     "name": "stderr",
     "output_type": "stream",
     "text": [
      "b'Skipping line 2388360: expected 2 fields, saw 3\\nSkipping line 2415305: expected 2 fields, saw 3\\nSkipping line 2435121: expected 2 fields, saw 3\\nSkipping line 2468541: expected 2 fields, saw 3\\nSkipping line 2487174: expected 2 fields, saw 3\\nSkipping line 2498367: expected 2 fields, saw 3\\nSkipping line 2503894: expected 2 fields, saw 3\\nSkipping line 2504687: expected 2 fields, saw 3\\nSkipping line 2506781: expected 2 fields, saw 3\\nSkipping line 2510013: expected 2 fields, saw 3\\nSkipping line 2514107: expected 2 fields, saw 3\\nSkipping line 2515979: expected 2 fields, saw 3\\nSkipping line 2545297: expected 2 fields, saw 3\\n'\n",
      "b'Skipping line 2634015: expected 2 fields, saw 3\\nSkipping line 2660539: expected 2 fields, saw 3\\nSkipping line 2679358: expected 2 fields, saw 3\\nSkipping line 2684685: expected 2 fields, saw 3\\nSkipping line 2697005: expected 2 fields, saw 4\\nSkipping line 2697793: expected 2 fields, saw 3\\nSkipping line 2697986: expected 2 fields, saw 3\\nSkipping line 2705436: expected 2 fields, saw 3\\nSkipping line 2705640: expected 2 fields, saw 3\\nSkipping line 2708810: expected 2 fields, saw 3\\nSkipping line 2709043: expected 2 fields, saw 3\\nSkipping line 2709202: expected 2 fields, saw 3\\nSkipping line 2711749: expected 2 fields, saw 3\\nSkipping line 2711750: expected 2 fields, saw 3\\nSkipping line 2712150: expected 2 fields, saw 3\\nSkipping line 2714609: expected 2 fields, saw 3\\nSkipping line 2715588: expected 2 fields, saw 3\\nSkipping line 2716898: expected 2 fields, saw 3\\nSkipping line 2719545: expected 2 fields, saw 3\\nSkipping line 2720795: expected 2 fields, saw 3\\nSkipping line 2720851: expected 2 fields, saw 3\\nSkipping line 2721735: expected 2 fields, saw 3\\nSkipping line 2725910: expected 2 fields, saw 3\\nSkipping line 2727215: expected 2 fields, saw 3\\nSkipping line 2729077: expected 2 fields, saw 3\\nSkipping line 2732227: expected 2 fields, saw 3\\nSkipping line 2734471: expected 2 fields, saw 3\\nSkipping line 2738016: expected 2 fields, saw 3\\nSkipping line 2738829: expected 2 fields, saw 3\\nSkipping line 2739542: expected 2 fields, saw 3\\nSkipping line 2743283: expected 2 fields, saw 3\\nSkipping line 2743581: expected 2 fields, saw 3\\nSkipping line 2745793: expected 2 fields, saw 3\\nSkipping line 2752319: expected 2 fields, saw 3\\nSkipping line 2753422: expected 2 fields, saw 3\\nSkipping line 2753613: expected 2 fields, saw 3\\nSkipping line 2756664: expected 2 fields, saw 3\\nSkipping line 2759537: expected 2 fields, saw 3\\nSkipping line 2760911: expected 2 fields, saw 3\\nSkipping line 2761731: expected 2 fields, saw 5\\nSkipping line 2762398: expected 2 fields, saw 3\\nSkipping line 2763253: expected 2 fields, saw 3\\nSkipping line 2766619: expected 2 fields, saw 3\\nSkipping line 2767734: expected 2 fields, saw 3\\nSkipping line 2768084: expected 2 fields, saw 4\\nSkipping line 2779423: expected 2 fields, saw 3\\nSkipping line 2779835: expected 2 fields, saw 3\\nSkipping line 2782160: expected 2 fields, saw 3\\nSkipping line 2783161: expected 2 fields, saw 3\\nSkipping line 2784577: expected 2 fields, saw 3\\nSkipping line 2785424: expected 2 fields, saw 3\\nSkipping line 2788375: expected 2 fields, saw 3\\nSkipping line 2788772: expected 2 fields, saw 3\\nSkipping line 2792282: expected 2 fields, saw 3\\nSkipping line 2794053: expected 2 fields, saw 5\\nSkipping line 2794332: expected 2 fields, saw 3\\nSkipping line 2795501: expected 2 fields, saw 3\\nSkipping line 2796837: expected 2 fields, saw 3\\nSkipping line 2796838: expected 2 fields, saw 3\\nSkipping line 2796839: expected 2 fields, saw 3\\nSkipping line 2796841: expected 2 fields, saw 3\\nSkipping line 2796842: expected 2 fields, saw 3\\nSkipping line 2799672: expected 2 fields, saw 3\\nSkipping line 2800423: expected 2 fields, saw 3\\nSkipping line 2805382: expected 2 fields, saw 4\\nSkipping line 2844127: expected 2 fields, saw 3\\nSkipping line 2844128: expected 2 fields, saw 3\\nSkipping line 2854627: expected 2 fields, saw 3\\n'\n",
      "b'Skipping line 2885091: expected 2 fields, saw 3\\n'\n"
     ]
    }
   ],
   "source": [
    "# Find name of cities and replace with country code (Here some bias may happen, some cities have similar name)\n",
    "\n",
    "dataset_cities = pd.read_csv(cities_file, sep=',', error_bad_lines=False, encoding = \"utf-8\")"
   ]
  },
  {
   "cell_type": "code",
   "execution_count": 193,
   "metadata": {},
   "outputs": [
    {
     "data": {
      "text/html": [
       "<div>\n",
       "<style scoped>\n",
       "    .dataframe tbody tr th:only-of-type {\n",
       "        vertical-align: middle;\n",
       "    }\n",
       "\n",
       "    .dataframe tbody tr th {\n",
       "        vertical-align: top;\n",
       "    }\n",
       "\n",
       "    .dataframe thead th {\n",
       "        text-align: right;\n",
       "    }\n",
       "</style>\n",
       "<table border=\"1\" class=\"dataframe\">\n",
       "  <thead>\n",
       "    <tr style=\"text-align: right;\">\n",
       "      <th></th>\n",
       "      <th>CC_FIPS</th>\n",
       "      <th>FULL_NAME_ND</th>\n",
       "    </tr>\n",
       "  </thead>\n",
       "  <tbody>\n",
       "    <tr>\n",
       "      <th>0</th>\n",
       "      <td>AN</td>\n",
       "      <td>Aixas</td>\n",
       "    </tr>\n",
       "    <tr>\n",
       "      <th>1</th>\n",
       "      <td>AN</td>\n",
       "      <td>Aixirivall</td>\n",
       "    </tr>\n",
       "    <tr>\n",
       "      <th>2</th>\n",
       "      <td>AN</td>\n",
       "      <td>Aixovall</td>\n",
       "    </tr>\n",
       "    <tr>\n",
       "      <th>3</th>\n",
       "      <td>AN</td>\n",
       "      <td>Andorra la Vella</td>\n",
       "    </tr>\n",
       "    <tr>\n",
       "      <th>4</th>\n",
       "      <td>AN</td>\n",
       "      <td>Ansalonga</td>\n",
       "    </tr>\n",
       "  </tbody>\n",
       "</table>\n",
       "</div>"
      ],
      "text/plain": [
       "  CC_FIPS      FULL_NAME_ND\n",
       "0      AN             Aixas\n",
       "1      AN        Aixirivall\n",
       "2      AN          Aixovall\n",
       "3      AN  Andorra la Vella\n",
       "4      AN         Ansalonga"
      ]
     },
     "execution_count": 193,
     "metadata": {},
     "output_type": "execute_result"
    }
   ],
   "source": [
    "dataset_cities.head()"
   ]
  },
  {
   "cell_type": "code",
   "execution_count": 194,
   "metadata": {},
   "outputs": [
    {
     "name": "stdout",
     "output_type": "stream",
     "text": [
      "Number of cities in the external dataset: 2915558\n"
     ]
    }
   ],
   "source": [
    "print(\"Number of cities in the external dataset: {0}\".format(len(dataset_cities)))"
   ]
  },
  {
   "cell_type": "code",
   "execution_count": 195,
   "metadata": {},
   "outputs": [],
   "source": [
    "def find_city(data):\n",
    "    \n",
    "    if len(data) <=2:\n",
    "        # If length of data is less than 3 data is not valid\n",
    "        return 0\n",
    "    \n",
    "    # map data with name of a city \n",
    "    output = dataset_cities[dataset_cities.FULL_NAME_ND.str.match(data, case=False, na=False)]\n",
    "        \n",
    "    if not len(output):\n",
    "        # map data if it contains name of a city \n",
    "        output = dataset_cities[dataset_cities.FULL_NAME_ND.str.contains(\" \" + data + \"|\"+ data + \" \", case=False, regex=True, na=False)]\n",
    "\n",
    "    if len(output):\n",
    "            print(data + \"-->\" +output.iloc[0].CC_FIPS)\n",
    "            return output.iloc[0].CC_FIPS\n",
    "    return 0\n",
    "\n",
    "def assign_country_code_using_city(row):\n",
    "    output = find_city(row)\n",
    "    if output:\n",
    "        map_country(row, output)\n",
    "        return True\n",
    "    return False"
   ]
  },
  {
   "cell_type": "code",
   "execution_count": 196,
   "metadata": {},
   "outputs": [],
   "source": [
    "seen = 0\n",
    "interval = 2000"
   ]
  },
  {
   "cell_type": "code",
   "execution_count": null,
   "metadata": {},
   "outputs": [],
   "source": [
    "remained_countries = remained_countries.reset_index(drop=True)\n",
    "\n",
    "if len(remained_countries) < interval:\n",
    "    interval = len(remained_countries)\n",
    "for i in range(seen, seen + interval):\n",
    "    if i%50 == 0:\n",
    "        print(i)\n",
    "    \n",
    "    if assign_country_code_using_city(remained_countries[i]):\n",
    "        remained_countries = remained_countries.drop([i])\n",
    "        i -=1\n",
    "        seen = i  "
   ]
  },
  {
   "cell_type": "markdown",
   "metadata": {},
   "source": [
    "#### Cleanig countries - Conclusion "
   ]
  },
  {
   "cell_type": "markdown",
   "metadata": {},
   "source": [
    "In the process of cleaning countries, 12357 unique input were detected in the begining. \n",
    "Out of these 12357 entries, 776 of them were mapped to a country with the help of the name of country itself. \n",
    "With these 776 mapping, the countries column in our original dataset became completely cleaned.\n",
    "\n",
    "Just we had to continue the process of cleaning for manufacturing_places column. \n",
    "\n",
    "In order to clean the 11581 remained entries we tried to use an external dataset containing name of cities in the world. This approach was successful and we could map most of our data with a country. \n",
    "But when we evaluated the mappings, \n",
    "we found that there were considerable number of inputs which were mapped to a country by the help of city names but actually they were name of other country but in a language other than English. \n",
    "Since this problem could bias our results we gave up this approach.\n",
    "\n",
    "Finally, we extracted data associated with Europe and Switzerland using countries column. Then we found the most important manufacturers and tried to associate them manually with a valid country for about ~80 most frequent entries. This approach helped us very well and we had enough data to work with in our project (We had more than 74K data just for trade inside the Europe which was convenient for our project)."
   ]
  },
  {
   "cell_type": "markdown",
   "metadata": {},
   "source": [
    "# Loading data"
   ]
  },
  {
   "cell_type": "code",
   "execution_count": 63,
   "metadata": {},
   "outputs": [
    {
     "name": "stdout",
     "output_type": "stream",
     "text": [
      "root\n",
      " |-- code: string (nullable = true)\n",
      " |-- manufacturing_places_tags: string (nullable = true)\n",
      " |-- countries_tags: string (nullable = true)\n",
      "\n"
     ]
    }
   ],
   "source": [
    "dataset_main = spark.read.csv(DATA_FOLDER + openfood_file, header=True, mode=\"DROPMALFORMED\", sep = '\\t')\n",
    "\n",
    "dataset_main.createOrReplaceTempView(\"data_main\")\n",
    "\n",
    "# Filter required columns\n",
    "p_id_col = \" code, \"\n",
    "geo_tags_cols = \" manufacturing_places_tags, countries_tags \"\n",
    "\n",
    "off_df = spark.sql(\"SELECT\" + p_id_col + geo_tags_cols + \" FROM data_main\")\n",
    "off_df.printSchema()"
   ]
  },
  {
   "cell_type": "markdown",
   "metadata": {},
   "source": [
    "## Data Cleaning and Preprocessing"
   ]
  },
  {
   "cell_type": "code",
   "execution_count": 64,
   "metadata": {},
   "outputs": [
    {
     "name": "stdout",
     "output_type": "stream",
     "text": [
      "Full GEO information data Size:\n",
      "3(columns) * 68672(rows)\n"
     ]
    }
   ],
   "source": [
    "off_df.createOrReplaceTempView(\"off_df\")\n",
    "\n",
    "sql_filter = \"SELECT * FROM off_df WHERE countries_tags is not NULL AND manufacturing_places_tags is not NULL\"\n",
    "off_p_df = spark.sql(sql_filter)\n",
    "\n",
    "off_p_all_size = off_p_df.count()\n",
    "off_p_cols_size = len(off_p_df.columns)\n",
    "print(\"Full GEO information data Size:\\n\" + str(off_p_cols_size) + \"(columns) * \" + str(off_p_all_size) + \"(rows)\")"
   ]
  },
  {
   "cell_type": "code",
   "execution_count": 65,
   "metadata": {},
   "outputs": [],
   "source": [
    "# Explode countries\n",
    "off_p_df = off_p_df\\\n",
    ".withColumn('manufacturing_places_tags', F.explode_outer(F.split('manufacturing_places_tags', ',')))\\\n",
    ".withColumn('countries_tags', F.explode_outer(F.split('countries_tags', ',')))\n",
    "\n",
    "# Remove \"en:\" occurances before name of each country in coutries_tags\n",
    "off_p_df = off_p_df.withColumn('countries_tags', F.regexp_replace('countries_tags', \"en:\", \"\"))\n",
    "\n",
    "# Remove - in name of countries\n",
    "off_p_df = off_p_df.withColumn('countries_tags', F.regexp_replace('countries_tags', \"-\", \" \"))\n",
    "off_p_df = off_p_df.withColumn('manufacturing_places_tags', F.regexp_replace('manufacturing_places_tags', \"-\", \" \"))\n",
    "\n",
    "# Remove numbers from name of countries\n",
    "off_p_df = off_p_df.withColumn('countries_tags', F.regexp_replace('countries_tags', \"\\d+\", \"\"))\n",
    "off_p_df = off_p_df.withColumn('manufacturing_places_tags', F.regexp_replace('manufacturing_places_tags', \"\\d+\", \"\"))"
   ]
  },
  {
   "cell_type": "code",
   "execution_count": 66,
   "metadata": {},
   "outputs": [
    {
     "name": "stdout",
     "output_type": "stream",
     "text": [
      "+-------------+-------------------------+--------------+\n",
      "|         code|manufacturing_places_tags|countries_tags|\n",
      "+-------------+-------------------------+--------------+\n",
      "|0000000020114|                   france|        france|\n",
      "|0000000274722|                   france|        france|\n",
      "|0000000290616|          brossard quebec|        canada|\n",
      "|0000000394710|          brossard quebec|        canada|\n",
      "|0000001071894|           united kingdom|united kingdom|\n",
      "+-------------+-------------------------+--------------+\n",
      "only showing top 5 rows\n",
      "\n"
     ]
    }
   ],
   "source": [
    "off_p_df.show(5)"
   ]
  },
  {
   "cell_type": "code",
   "execution_count": 67,
   "metadata": {},
   "outputs": [
    {
     "name": "stdout",
     "output_type": "stream",
     "text": [
      "root\n",
      " |-- code: string (nullable = true)\n",
      " |-- manufacturing_places_tags: string (nullable = true)\n",
      " |-- countries_tags: string (nullable = true)\n",
      " |-- countries: string (nullable = true)\n",
      " |-- manufacturing_places: string (nullable = true)\n",
      "\n"
     ]
    }
   ],
   "source": [
    "off_p_df = off_p_df.withColumn(\"countries\", off_p_df[\"countries_tags\"])\n",
    "off_p_df = off_p_df.withColumn(\"manufacturing_places\", off_p_df[\"manufacturing_places_tags\"])\n",
    "off_p_df.printSchema()"
   ]
  },
  {
   "cell_type": "code",
   "execution_count": 68,
   "metadata": {},
   "outputs": [
    {
     "name": "stdout",
     "output_type": "stream",
     "text": [
      "Full GEO information data Size:\n",
      "5(columns) * 128781(rows)\n"
     ]
    }
   ],
   "source": [
    "off_p_all_size = off_p_df.count()\n",
    "off_p_cols_size = len(off_p_df.columns)\n",
    "print(\"Full GEO information data Size:\\n\" + str(off_p_cols_size) + \"(columns) * \" + str(off_p_all_size) + \"(rows)\")"
   ]
  },
  {
   "cell_type": "code",
   "execution_count": 69,
   "metadata": {},
   "outputs": [
    {
     "data": {
      "text/html": [
       "<div>\n",
       "<style scoped>\n",
       "    .dataframe tbody tr th:only-of-type {\n",
       "        vertical-align: middle;\n",
       "    }\n",
       "\n",
       "    .dataframe tbody tr th {\n",
       "        vertical-align: top;\n",
       "    }\n",
       "\n",
       "    .dataframe thead th {\n",
       "        text-align: right;\n",
       "    }\n",
       "</style>\n",
       "<table border=\"1\" class=\"dataframe\">\n",
       "  <thead>\n",
       "    <tr style=\"text-align: right;\">\n",
       "      <th></th>\n",
       "      <th>input</th>\n",
       "      <th>country_code</th>\n",
       "    </tr>\n",
       "  </thead>\n",
       "  <tbody>\n",
       "    <tr>\n",
       "      <th>840</th>\n",
       "      <td>england</td>\n",
       "      <td>UK</td>\n",
       "    </tr>\n",
       "    <tr>\n",
       "      <th>841</th>\n",
       "      <td>scotland</td>\n",
       "      <td>UK</td>\n",
       "    </tr>\n",
       "    <tr>\n",
       "      <th>842</th>\n",
       "      <td>europe</td>\n",
       "      <td>EU</td>\n",
       "    </tr>\n",
       "    <tr>\n",
       "      <th>843</th>\n",
       "      <td>mexique</td>\n",
       "      <td>MX</td>\n",
       "    </tr>\n",
       "    <tr>\n",
       "      <th>844</th>\n",
       "      <td>hongrie</td>\n",
       "      <td>HU</td>\n",
       "    </tr>\n",
       "  </tbody>\n",
       "</table>\n",
       "</div>"
      ],
      "text/plain": [
       "        input country_code\n",
       "840   england           UK\n",
       "841  scotland           UK\n",
       "842    europe           EU\n",
       "843   mexique           MX\n",
       "844   hongrie           HU"
      ]
     },
     "execution_count": 69,
     "metadata": {},
     "output_type": "execute_result"
    }
   ],
   "source": [
    "# Clean countries\n",
    "cleaned_countries= pd.read_csv(DATA_FOLDER + countries_mapping_file, sep=',', error_bad_lines=False, encoding = \"utf-8\").dropna()\n",
    "cleaned_countries.tail()"
   ]
  },
  {
   "cell_type": "code",
   "execution_count": 70,
   "metadata": {},
   "outputs": [],
   "source": [
    "seen = 0"
   ]
  },
  {
   "cell_type": "code",
   "execution_count": 72,
   "metadata": {},
   "outputs": [
    {
     "name": "stdout",
     "output_type": "stream",
     "text": [
      "500\n",
      "600\n",
      "700\n",
      "800\n",
      "Seen: 844\n"
     ]
    }
   ],
   "source": [
    "# This cell should be run twice to avoid memory error\n",
    "\n",
    "interval = 501\n",
    "if seen:\n",
    "    off_p_df = spark.read.csv(temp_file, header=True)\n",
    "\n",
    "# Clean countries using mapping_countries\n",
    "for index, row in cleaned_countries.head(seen + interval).iterrows():\n",
    "        if index < seen:\n",
    "            continue\n",
    "        if index%100 == 0:\n",
    "            print(index)    \n",
    "        off_p_df = off_p_df.withColumn('manufacturing_places', F.regexp_replace('manufacturing_places', \"^\" + str(row['input']) + \"$\", row['country_code']))\n",
    "        off_p_df = off_p_df.withColumn('countries', F.regexp_replace('countries', \"^\" + str(row['input']) + \"$\", row['country_code']))\n",
    "        seen = index\n",
    "\n",
    "# Save Spark dataframe in csv file\n",
    "off_p_df.toPandas().to_csv(temp_file, index=False)\n",
    "\n",
    "print(\"Seen: {0}\".format(seen))"
   ]
  },
  {
   "cell_type": "code",
   "execution_count": 73,
   "metadata": {},
   "outputs": [
    {
     "name": "stdout",
     "output_type": "stream",
     "text": [
      "+-------------+-------------------------+--------------+---------+--------------------+\n",
      "|         code|manufacturing_places_tags|countries_tags|countries|manufacturing_places|\n",
      "+-------------+-------------------------+--------------+---------+--------------------+\n",
      "|0000000020114|                   france|        france|       FR|                  FR|\n",
      "|0000000274722|                   france|        france|       FR|                  FR|\n",
      "|0000000290616|          brossard quebec|        canada|       CA|     brossard quebec|\n",
      "|0000000394710|          brossard quebec|        canada|       CA|     brossard quebec|\n",
      "|0000001071894|           united kingdom|united kingdom|       UK|                  UK|\n",
      "|0000001938067|          brossard quebec|        canada|       CA|     brossard quebec|\n",
      "|0000004302544|                 brossard|        canada|       CA|            brossard|\n",
      "|0000004302544|                   quebec|        canada|       CA|              quebec|\n",
      "|0000007020254|               etats unis|        france|       FR|          etats unis|\n",
      "|0000007020254|               etats unis| united states|       US|          etats unis|\n",
      "+-------------+-------------------------+--------------+---------+--------------------+\n",
      "only showing top 10 rows\n",
      "\n"
     ]
    }
   ],
   "source": [
    "off_p_df.show(10)"
   ]
  },
  {
   "cell_type": "code",
   "execution_count": 74,
   "metadata": {},
   "outputs": [
    {
     "name": "stdout",
     "output_type": "stream",
     "text": [
      "Full GEO information data Size:\n",
      "128781(columns) *5(rows)\n"
     ]
    }
   ],
   "source": [
    "print(\"Full GEO information data Size:\\n{0}(columns) *{1}(rows)\".format(off_p_df.count(),len(off_p_df.columns) ))"
   ]
  },
  {
   "cell_type": "code",
   "execution_count": 75,
   "metadata": {},
   "outputs": [],
   "source": [
    "#filter europe countries - using FIPS country code\n",
    "filter_EU ='AL|AN|AM|AU|AJ|BO|BE|BK|BU|HR|CY|EZ|DA|EN|FI|FR|GG|GM|GR|HU|IC|EI|IT|KZ|KV|LG|LS|LH|LU|MK|MT|MD|MN|YI|NL|NO|Pl|PO|RO|RS|SM|LO|SI|SP|SW|SZ|TU|UP|UK|VT'"
   ]
  },
  {
   "cell_type": "code",
   "execution_count": 76,
   "metadata": {},
   "outputs": [
    {
     "name": "stdout",
     "output_type": "stream",
     "text": [
      "eu_sold data Size:\n",
      "118996\n"
     ]
    }
   ],
   "source": [
    "# store products that are sold in european union (france as ct)\n",
    "eu_sold_data = off_p_df.filter(off_p_df[\"countries\"].rlike(filter_EU))\n",
    "print(\"eu_sold data Size:\\n{0}\".format(eu_sold_data.count()))"
   ]
  },
  {
   "cell_type": "code",
   "execution_count": 77,
   "metadata": {},
   "outputs": [
    {
     "name": "stdout",
     "output_type": "stream",
     "text": [
      "swiss_sold data Size:\n",
      "3885\n"
     ]
    }
   ],
   "source": [
    "# store products that are sold in Switzerland- using FIPS country code\n",
    "swiss_sold_data = off_p_df[off_p_df[\"countries\"] == \"SZ\"]\n",
    "print(\"swiss_sold data Size:\\n{0}\".format(swiss_sold_data.count()))"
   ]
  },
  {
   "cell_type": "markdown",
   "metadata": {},
   "source": [
    "Now that the two datasets of products sold in the European Union, and products sold in Switzerland are created, the analysis for each one is done. The study is going to focus in the behavior of the \"manufacturing place\" of those products."
   ]
  },
  {
   "cell_type": "markdown",
   "metadata": {},
   "source": [
    "## Find the most important importers in Europe"
   ]
  },
  {
   "cell_type": "code",
   "execution_count": 78,
   "metadata": {},
   "outputs": [
    {
     "name": "stdout",
     "output_type": "stream",
     "text": [
      "Number of Importers:\n",
      "10015\n",
      "+--------------------+-----+\n",
      "|manufacturing_places|Count|\n",
      "+--------------------+-----+\n",
      "|                  FR|45824|\n",
      "|                  SP| 7604|\n",
      "|                  GM| 4862|\n",
      "|                  IT| 4505|\n",
      "|                  UK| 2427|\n",
      "+--------------------+-----+\n",
      "only showing top 5 rows\n",
      "\n"
     ]
    }
   ],
   "source": [
    "# Find the most important importers in Europe\n",
    "eu_sold_data.createOrReplaceTempView(\"eu_sold_data\")\n",
    "target_manufacture = spark.sql(\"SELECT manufacturing_places, COUNT(manufacturing_places) FROM eu_sold_data GROUP BY manufacturing_places ORDER BY COUNT(manufacturing_places) DESC\")\n",
    "target_manufacture = target_manufacture.withColumnRenamed('count(manufacturing_places)' , 'Count')\n",
    "print(\"Number of Importers:\\n\" + str(target_manufacture.count()))\n",
    "target_manufacture.show(5)"
   ]
  },
  {
   "cell_type": "code",
   "execution_count": 79,
   "metadata": {},
   "outputs": [
    {
     "data": {
      "image/png": "[encoded data removed]",
      "text/plain": [
       "<Figure size 432x288 with 1 Axes>"
      ]
     },
     "metadata": {
      "needs_background": "light"
     },
     "output_type": "display_data"
    }
   ],
   "source": [
    "# Extract the 15 most important countries and number of occurances in ingredients.\n",
    "manufacture_countries = target_manufacture.toPandas() \n",
    "manufacture_countries = manufacture_countries.head(15)\n",
    "\n",
    "# Plot the number of products imported by 15 most important countries\n",
    "fig, ax = plt.subplots()\n",
    "ax.grid(zorder=-1)\n",
    "plt.bar(manufacture_countries.manufacturing_places, manufacture_countries.Count, zorder=3, color='skyblue')\n",
    "plt.ylabel('Number of products')   \n",
    "plt.xticks(manufacture_countries.manufacturing_places)\n",
    "plt.title('Number of products the European Union import from country')\n",
    "plt.show()"
   ]
  },
  {
   "cell_type": "code",
   "execution_count": 80,
   "metadata": {},
   "outputs": [],
   "source": [
    "#Save all manufacturers in Europe\n",
    "manufacture_countries.to_csv(\"output/europe_manufacturers.csv\", index=False)"
   ]
  },
  {
   "cell_type": "markdown",
   "metadata": {},
   "source": [
    "## Find the most important importers in Switzerland"
   ]
  },
  {
   "cell_type": "code",
   "execution_count": 81,
   "metadata": {},
   "outputs": [
    {
     "name": "stdout",
     "output_type": "stream",
     "text": [
      "Number of Importers:\n",
      "695\n",
      "+--------------------+-----+\n",
      "|manufacturing_places|Count|\n",
      "+--------------------+-----+\n",
      "|                  SZ| 1293|\n",
      "|                  FR|  654|\n",
      "|                  GM|  242|\n",
      "|                  IT|  209|\n",
      "|                  UK|   75|\n",
      "+--------------------+-----+\n",
      "only showing top 5 rows\n",
      "\n"
     ]
    }
   ],
   "source": [
    "# Find dominant importers of ingredients\n",
    "swiss_sold_data.createOrReplaceTempView(\"swiss_sold_data\")\n",
    "target_swiss_manufacture = spark.sql(\"SELECT manufacturing_places, COUNT(manufacturing_places) FROM swiss_sold_data GROUP BY manufacturing_places ORDER BY COUNT(manufacturing_places) DESC\")\n",
    "target_swiss_manufacture = target_swiss_manufacture.withColumnRenamed('count(manufacturing_places)' , 'Count')\n",
    "print(\"Number of Importers:\\n\" + str(target_swiss_manufacture.count()))\n",
    "target_swiss_manufacture.show(5)"
   ]
  },
  {
   "cell_type": "code",
   "execution_count": 82,
   "metadata": {},
   "outputs": [
    {
     "data": {
      "image/png": "[encoded data removed]",
      "text/plain": [
       "<Figure size 432x288 with 1 Axes>"
      ]
     },
     "metadata": {
      "needs_background": "light"
     },
     "output_type": "display_data"
    }
   ],
   "source": [
    "# Extract the 10 most important countries and number of occurances in ingredients.\n",
    "manufacture_swiss_countries = target_swiss_manufacture.toPandas() \n",
    "manufacture_swiss_countries = manufacture_swiss_countries.head(15)\n",
    "\n",
    "# Plot the number of products imported by 10 most important countries\n",
    "fig, ax = plt.subplots()\n",
    "ax.grid(zorder=-1)\n",
    "plt.bar(manufacture_swiss_countries.manufacturing_places, manufacture_swiss_countries.Count, zorder=3, color='skyblue')\n",
    "plt.ylabel('Number of products')   \n",
    "plt.xticks(manufacture_swiss_countries.manufacturing_places)\n",
    "plt.title('Number of products Switzerland import from country')\n",
    "plt.show()"
   ]
  },
  {
   "cell_type": "code",
   "execution_count": 83,
   "metadata": {},
   "outputs": [],
   "source": [
    "#Save all manufacturers in Switzerland\n",
    "manufacture_swiss_countries.to_csv(\"output/switzerland_manufacturers.csv\", index=False)"
   ]
  },
  {
   "cell_type": "markdown",
   "metadata": {},
   "source": [
    "## Trade inside Europe"
   ]
  },
  {
   "cell_type": "code",
   "execution_count": 84,
   "metadata": {},
   "outputs": [
    {
     "name": "stdout",
     "output_type": "stream",
     "text": [
      "Number of data about trade inside the Europe:\n",
      "73940\n"
     ]
    }
   ],
   "source": [
    "eu_data = eu_sold_data.filter(eu_sold_data[\"manufacturing_places\"].rlike(filter_EU))\n",
    "print(\"Number of data about trade inside the Europe:\\n{0}\".format(eu_data.count()))"
   ]
  },
  {
   "cell_type": "code",
   "execution_count": 85,
   "metadata": {},
   "outputs": [
    {
     "name": "stdout",
     "output_type": "stream",
     "text": [
      "+-------------+-------------------------+--------------+---------+--------------------+\n",
      "|         code|manufacturing_places_tags|countries_tags|countries|manufacturing_places|\n",
      "+-------------+-------------------------+--------------+---------+--------------------+\n",
      "|0000000020114|                   france|        france|       FR|                  FR|\n",
      "|0000000274722|                   france|        france|       FR|                  FR|\n",
      "|0000001071894|           united kingdom|united kingdom|       UK|                  UK|\n",
      "|0000007730009|                   france|        france|       FR|                  FR|\n",
      "|0000010090206|                   france|        france|       FR|                  FR|\n",
      "|0000020004552|                   france|        france|       FR|                  FR|\n",
      "|0000020424640|                  belgien|       germany|       GM|                  BE|\n",
      "|0000027533024|           united kingdom|united kingdom|       UK|                  UK|\n",
      "|0000027533048|           united kingdom|united kingdom|       UK|                  UK|\n",
      "|0000084154071|       castilla la mancha|         spain|       SP|                  SP|\n",
      "|0000084154071|                   espana|         spain|       SP|                  SP|\n",
      "|       000010|                   france|        france|       FR|                  FR|\n",
      "|0000204286484|                  germany|       germany|       GM|                  GM|\n",
      "|0000204286644|                  germany|       germany|       GM|                  GM|\n",
      "|0000250632969|                  germany|       germany|       GM|                  GM|\n",
      "|       000030|                   france|        france|       FR|                  FR|\n",
      "|       000031|                   france|        france|       FR|                  FR|\n",
      "|     00003100|                   france|        france|       FR|                  FR|\n",
      "|0000460938714|                  germany|       germany|       GM|                  GM|\n",
      "|0000470322800|                  germany|       germany|       GM|                  GM|\n",
      "+-------------+-------------------------+--------------+---------+--------------------+\n",
      "only showing top 20 rows\n",
      "\n"
     ]
    }
   ],
   "source": [
    "eu_data.show(20)"
   ]
  },
  {
   "cell_type": "markdown",
   "metadata": {},
   "source": [
    "## Products' categories"
   ]
  },
  {
   "cell_type": "markdown",
   "metadata": {},
   "source": [
    "We would like to find which countries import what products. \n",
    "We will extract the 5 most important importers of each category."
   ]
  },
  {
   "cell_type": "code",
   "execution_count": 86,
   "metadata": {},
   "outputs": [],
   "source": [
    "extra_info_df = ' categories '\n",
    "categories_df = spark.sql(\"SELECT\" + p_id_col + extra_info_df + \" FROM data_main\")"
   ]
  },
  {
   "cell_type": "code",
   "execution_count": 87,
   "metadata": {},
   "outputs": [
    {
     "name": "stdout",
     "output_type": "stream",
     "text": [
      "+----+----------+\n",
      "|code|categories|\n",
      "+----+----------+\n",
      "|   0|    519878|\n",
      "+----+----------+\n",
      "\n"
     ]
    }
   ],
   "source": [
    "# Find number of missing data\n",
    "categories_df.select([count(when(isnan(c) | col(c).isNull(), c)).alias(c) for c in categories_df.columns]).show()"
   ]
  },
  {
   "cell_type": "code",
   "execution_count": 88,
   "metadata": {},
   "outputs": [
    {
     "name": "stdout",
     "output_type": "stream",
     "text": [
      "+-------------+-------------------------+--------------+---------+--------------------+--------------------+\n",
      "|         code|manufacturing_places_tags|countries_tags|countries|manufacturing_places|          categories|\n",
      "+-------------+-------------------------+--------------+---------+--------------------+--------------------+\n",
      "|0000000020114|                   france|        france|       FR|                  FR|Compléments alime...|\n",
      "|0000000274722|                   france|        france|       FR|                  FR|Plats préparés, P...|\n",
      "|0000001071894|           united kingdom|united kingdom|       UK|                  UK|Plant-based foods...|\n",
      "|0000007730009|                   france|        france|       FR|                  FR|Snacks sucrés, Bi...|\n",
      "|0000010090206|                   france|        france|       FR|                  FR|Aliments et boiss...|\n",
      "+-------------+-------------------------+--------------+---------+--------------------+--------------------+\n",
      "only showing top 5 rows\n",
      "\n"
     ]
    }
   ],
   "source": [
    "# Join table of categories with table of target products (Europe trade)\n",
    "eu_categories = eu_data.join(categories_df, eu_data.code == categories_df.code).drop(categories_df.code)\n",
    "eu_categories.show(5)"
   ]
  },
  {
   "cell_type": "code",
   "execution_count": 89,
   "metadata": {},
   "outputs": [
    {
     "name": "stdout",
     "output_type": "stream",
     "text": [
      "+----+-------------------------+--------------+---------+--------------------+----------+\n",
      "|code|manufacturing_places_tags|countries_tags|countries|manufacturing_places|categories|\n",
      "+----+-------------------------+--------------+---------+--------------------+----------+\n",
      "|   0|                        0|             0|        0|                   0|      1385|\n",
      "+----+-------------------------+--------------+---------+--------------------+----------+\n",
      "\n"
     ]
    }
   ],
   "source": [
    "eu_categories.select([count(when(isnan(c) | col(c).isNull(), c)).alias(c) for c in eu_categories.columns]).show()"
   ]
  },
  {
   "cell_type": "code",
   "execution_count": 90,
   "metadata": {},
   "outputs": [
    {
     "name": "stdout",
     "output_type": "stream",
     "text": [
      "Number of target products with categories:\n",
      "72576\n"
     ]
    }
   ],
   "source": [
    "eu_categories.createOrReplaceTempView(\"eu_categories\")\n",
    "sql_filter = \"SELECT * FROM eu_categories WHERE categories is not NULL\"\n",
    "eu_categories = spark.sql(sql_filter)\n",
    "\n",
    "print(\"Number of target products with categories:\\n{0}\".format(eu_categories.count()))"
   ]
  },
  {
   "cell_type": "code",
   "execution_count": 91,
   "metadata": {},
   "outputs": [
    {
     "name": "stdout",
     "output_type": "stream",
     "text": [
      "+-------------+-------------------------+--------------+---------+--------------------+--------------------+\n",
      "|         code|manufacturing_places_tags|countries_tags|countries|manufacturing_places|          categories|\n",
      "+-------------+-------------------------+--------------+---------+--------------------+--------------------+\n",
      "|0000000020114|                   france|        france|       FR|                  FR|Compléments alime...|\n",
      "|0000000274722|                   france|        france|       FR|                  FR|      Plats préparés|\n",
      "|0000000274722|                   france|        france|       FR|                  FR| Produits à la vi...|\n",
      "|0000000274722|                   france|        france|       FR|                  FR| Plats à base de ...|\n",
      "|0000000274722|                   france|        france|       FR|                  FR| Plats préparés à...|\n",
      "+-------------+-------------------------+--------------+---------+--------------------+--------------------+\n",
      "only showing top 5 rows\n",
      "\n"
     ]
    }
   ],
   "source": [
    "# Flatten categories column\n",
    "eu_categories = eu_categories.withColumn('categories', F.explode_outer(F.split('categories', ',')))\n",
    "\n",
    "# Remove occurances of en: in name of categories\n",
    "eu_categories = eu_categories.withColumn('categories', F.regexp_replace('categories', 'en:', ''))\n",
    "\n",
    "eu_categories.show(5)"
   ]
  },
  {
   "cell_type": "code",
   "execution_count": 92,
   "metadata": {},
   "outputs": [
    {
     "name": "stdout",
     "output_type": "stream",
     "text": [
      "+--------------------+-----+\n",
      "|          categories|Count|\n",
      "+--------------------+-----+\n",
      "|Aliments et boiss...|13305|\n",
      "| Aliments d'origi...|11750|\n",
      "|   Produits laitiers| 8224|\n",
      "|               Frais| 7913|\n",
      "|       Snacks sucrés| 6849|\n",
      "|  Produits fermentés| 6742|\n",
      "| Produits laitier...| 6729|\n",
      "|             Viandes| 6222|\n",
      "| Biscuits et gâteaux| 5190|\n",
      "|Alimentos y bebid...| 5059|\n",
      "| Alimentos de ori...| 4992|\n",
      "| Céréales et pomm...| 4964|\n",
      "|      Plats préparés| 4556|\n",
      "|        Charcuteries| 4459|\n",
      "|      Plats préparés| 4254|\n",
      "|            Fromages| 4187|\n",
      "| Aliments à base ...| 4153|\n",
      "|            Boissons| 4102|\n",
      "| Céréales et dérivés| 3178|\n",
      "|            Desserts| 3076|\n",
      "+--------------------+-----+\n",
      "only showing top 20 rows\n",
      "\n",
      "Number of Categories:\n",
      "12713\n"
     ]
    }
   ],
   "source": [
    "# Find dominant categories\n",
    "eu_categories.createOrReplaceTempView(\"target_products_categories_p\")\n",
    "target_categories = spark.sql(\"SELECT categories, COUNT(categories) FROM target_products_categories_p GROUP BY categories ORDER BY COUNT(categories) DESC\")\n",
    "target_categories = target_categories.withColumnRenamed('count(categories)' , 'Count')\n",
    "target_categories.show()\n",
    "\n",
    "print(\"Number of Categories:\\n\" + str(target_categories.count()))"
   ]
  },
  {
   "cell_type": "code",
   "execution_count": 93,
   "metadata": {},
   "outputs": [
    {
     "data": {
      "image/png": "[encoded data removed]",
      "text/plain": [
       "<Figure size 432x288 with 1 Axes>"
      ]
     },
     "metadata": {
      "needs_background": "light"
     },
     "output_type": "display_data"
    }
   ],
   "source": [
    "# Extract the 15 most frequent categories and number of occurances.\n",
    "categories = target_categories.toPandas() \n",
    "categories = categories.head(15)\n",
    "\n",
    "# Plot the most frequent categories\n",
    "fig, ax = plt.subplots()\n",
    "ax.grid(zorder=-1)\n",
    "plt.barh(categories.categories, categories.Count, zorder=3, color='skyblue')\n",
    "plt.xlabel('Number of products')   \n",
    "plt.title('Fig. The number of products associated with their category')\n",
    "ax.invert_yaxis() \n",
    "plt.show()"
   ]
  },
  {
   "cell_type": "code",
   "execution_count": 95,
   "metadata": {},
   "outputs": [
    {
     "data": {
      "text/plain": [
       "0     Aliments et boissons à base de végétaux\n",
       "1                 Aliments d'origine végétale\n",
       "2                           Produits laitiers\n",
       "3                                       Frais\n",
       "4                               Snacks sucrés\n",
       "5                          Produits fermentés\n",
       "6                 Produits laitiers fermentés\n",
       "7                                     Viandes\n",
       "8                         Biscuits et gâteaux\n",
       "9       Alimentos y bebidas de origen vegetal\n",
       "10                Alimentos de origen vegetal\n",
       "11                Céréales et pommes de terre\n",
       "12                             Plats préparés\n",
       "13                               Charcuteries\n",
       "14                             Plats préparés\n",
       "Name: categories, dtype: object"
      ]
     },
     "execution_count": 95,
     "metadata": {},
     "output_type": "execute_result"
    }
   ],
   "source": [
    "categories.categories.head(20)"
   ]
  },
  {
   "cell_type": "code",
   "execution_count": 158,
   "metadata": {},
   "outputs": [],
   "source": [
    "# Extract the most important manufacturer countries for 15 most frequent categories\n",
    "\n",
    "products_cats_df = eu_categories.toPandas()\n",
    "\n",
    "countries_cats = []\n",
    "\n",
    "for index, row in categories.iterrows():\n",
    "    temp_df = pd.DataFrame(columns=['country','percentage'])\n",
    "    filtered_df = products_cats_df[(products_cats_df.categories == row.categories)]\n",
    "    total = len(filtered_df.code)\n",
    "    filtered_df_g = filtered_df.groupby('manufacturing_places').count().sort_values(by=['code'], ascending=False).head(5)\n",
    "    temp_df.country = filtered_df_g.index\n",
    "    for index,row in temp_df.iterrows():\n",
    "        temp_df.percentage.iloc[index] = filtered_df_g.code[index]/total\n",
    "    \n",
    "    countries_cats.append(temp_df)\n",
    "# Each element of countries_cats is a dataframe containing the most important manufacturers\n",
    "# of the corresponding category"
   ]
  },
  {
   "cell_type": "code",
   "execution_count": 162,
   "metadata": {},
   "outputs": [
    {
     "name": "stdout",
     "output_type": "stream",
     "text": [
      "category: Aliments et boissons à base de végétaux\n",
      "['FR' 'IT' 'SP' 'GM' 'BE']\n",
      "[0.6832769635475385 0.10462232243517475 0.04036076662908681\n",
      " 0.03697857948139797 0.03314543404735062]\n",
      "\n",
      "\n",
      "category:  Aliments d'origine végétale\n",
      "['FR' 'IT' 'SP' 'GM' 'SZ']\n",
      "[0.6656170212765957 0.1137872340425532 0.04553191489361702\n",
      " 0.03846808510638298 0.032680851063829786]\n",
      "\n",
      "\n",
      "category: Produits laitiers\n",
      "['FR' 'IT' 'SZ' 'NL' 'GM']\n",
      "[0.8416828793774319 0.04462548638132296 0.03818093385214008\n",
      " 0.016536964980544747 0.014591439688715954]\n",
      "\n",
      "\n",
      "category:  Frais\n",
      "['FR' 'IT' 'SW' 'SP' 'UK']\n",
      "[0.9293567547074435 0.022115506129154555 0.010236319979780108\n",
      " 0.010109945659042083 0.008467079489447743]\n",
      "\n",
      "\n",
      "category: Snacks sucrés\n",
      "['FR' 'SZ' 'BE' 'UK' 'GM']\n",
      "[0.6527960286173164 0.08994013724631333 0.0633669148780844\n",
      " 0.05475251861585633 0.05416849175062053]\n",
      "\n",
      "\n",
      "category:  Produits fermentés\n",
      "['FR' 'IT' 'SZ' 'NL' 'GM']\n",
      "[0.8380302580836547 0.04805695639276179 0.035597745476119845\n",
      " 0.01913378819341442 0.01913378819341442]\n",
      "\n",
      "\n",
      "category:  Produits laitiers fermentés\n",
      "['FR' 'IT' 'SZ' 'NL' 'GM']\n",
      "[0.8368256798930005 0.04874424134343885 0.03566651805617477\n",
      " 0.019170753455193937 0.019170753455193937]\n",
      "\n",
      "\n",
      "category: Viandes\n",
      "['FR' 'SP' 'IT' 'GM' 'SZ']\n",
      "[0.8823529411764706 0.029411764705882353 0.02700096432015429\n",
      " 0.02105432336869174 0.015107682417229186]\n",
      "\n",
      "\n",
      "category:  Biscuits et gâteaux\n",
      "['FR' 'UK' 'BE' 'SZ' 'IT']\n",
      "[0.7539499036608863 0.06878612716763005 0.03911368015414258\n",
      " 0.03757225433526012 0.032947976878612714]\n",
      "\n",
      "\n",
      "category: Alimentos y bebidas de origen vegetal\n",
      "['SP' 'GM' 'IT' 'FR' 'PO']\n",
      "[0.916188970152204 0.042498517493575805 0.021941095078078673\n",
      " 0.014034394149041313 0.0029650128483890096]\n",
      "\n",
      "\n",
      "category:  Alimentos de origen vegetal\n",
      "['SP' 'GM' 'IT' 'FR' 'PO']\n",
      "[0.9106570512820513 0.043870192307692304 0.024439102564102564\n",
      " 0.01622596153846154 0.002403846153846154]\n",
      "\n",
      "\n",
      "category:  Céréales et pommes de terre\n",
      "['FR' 'IT' 'GM' 'SZ' 'UK']\n",
      "[0.580983078162772 0.19157937147461723 0.04532634971796938\n",
      " 0.041498791297340853 0.03908138597904915]\n",
      "\n",
      "\n",
      "category: Plats préparés\n",
      "['FR' 'UK' 'SZ' 'IT' 'BE']\n",
      "[0.8709394205443372 0.029631255487269536 0.028314310798946446\n",
      " 0.018437225636523266 0.015803336259877086]\n",
      "\n",
      "\n",
      "category:  Charcuteries\n",
      "['FR' 'SP' 'IT' 'GM' 'SZ']\n",
      "[0.8784480825297152 0.03857367122673245 0.036555281453240634\n",
      " 0.01816550796142633 0.01098901098901099]\n",
      "\n",
      "\n",
      "category:  Plats préparés\n",
      "['FR' 'IT' 'GM' 'BE' 'SP']\n",
      "[0.807005171603197 0.060883874000940294 0.031969910672308414\n",
      " 0.022802068641278796 0.021156558533145273]\n",
      "\n",
      "\n"
     ]
    }
   ],
   "source": [
    "for i in range(len(countries_cats)):\n",
    "    print(\"category: \" + str(categories.iloc[i].categories))\n",
    "    print(countries_cats[i].country.values)\n",
    "    print(countries_cats[i].percentage.values)\n",
    "    print(\"\\n\")"
   ]
  },
  {
   "cell_type": "markdown",
   "metadata": {},
   "source": [
    "We will use extracted information about the most important manufacturer countries for 15 most frequent categories for our visualization."
   ]
  }
 ],
 "metadata": {
  "kernelspec": {
   "display_name": "Python 3",
   "language": "python",
   "name": "python3"
  },
  "language_info": {
   "codemirror_mode": {
    "name": "ipython",
    "version": 3
   },
   "file_extension": ".py",
   "mimetype": "text/x-python",
   "name": "python",
   "nbconvert_exporter": "python",
   "pygments_lexer": "ipython3",
   "version": "3.6.6"
  }
 },
 "nbformat": 4,
 "nbformat_minor": 2
}
