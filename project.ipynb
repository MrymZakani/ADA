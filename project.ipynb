{
 "cells": [
  {
   "cell_type": "markdown",
   "metadata": {},
   "source": [
    "# Are we consuming more local?\n",
    "\n",
    "## Research questions\n",
    "\n",
    "1. Where are the products we consume in our everyday life coming from?\n",
    "\n",
    "    - Which countries produce the primary resources (ground ingredients) consumed in Switzerland?\n",
    "    - Which countries manufacture most of the products consumed in Switzerland?\n",
    "\n",
    "\n",
    "2. Is there a trend over time to consume more local products?\n",
    "\n",
    "    - Are new products mostly using primary resources from Switzerland? Or from other countries inside Europe?\n",
    "    - Are new products mostly manufactured in Switzerland? Or from other countries inside Europe?\n",
    "    - Is there a trend over time to local products to promote their origin?\n",
    "\n",
    "## Datasets\n",
    "\n",
    "Open Food Facts (https://world.openfoodfacts.org/data)\n",
    "\n",
    "Additional datasets “Evolution de la consommation de denrées alimentaires en Suisse” (https://opendata.swiss/fr/dataset/entwicklung-des-nahrungsmittelverbrauches-in-der-schweiz-je-kopf-und-jahr1) and “Dépenses fédérales pour l’agriculture et l’alimentation” (https://opendata.swiss/fr/dataset/bundesausgaben-fur-die-landwirtschaft-und-die-ernahrung1) from https://opendata.swiss/fr/group/agriculture\n",
    "\n",
    "A last additional dataset for the second question of the project\n",
    "https://www.gate.ezv.admin.ch/swissimpex/public/bereiche/waren/result.xhtml\n",
    "Total of imports of agriculture, forestry and fishing goods\n",
    "\n",
    "## TODO\n",
    "\n",
    "   - Cleaning/Exploring dataset\n",
    "   - Descriptive analysis\n",
    "   - We should determine the list of products that are sold in Switzerland\n",
    "   - We should then classify these products under different categories:\n",
    "        - products entirely originating from Switzerland\n",
    "        - products partially originating from Switzerland (manufactured in Switzerland but ingredients are from another country)\n",
    "        - products not originating from Switzerland\n",
    "   - Draw statistics from the importation balances, determining which are the countries producing most of the ground ingredients and manufacturing the products consumed in Switzerland.\n"
   ]
  },
  {
   "cell_type": "code",
   "execution_count": 1,
   "metadata": {},
   "outputs": [],
   "source": [
    "#imports\n",
    "import re\n",
    "import pandas as pd\n",
    "import numpy as np\n",
    "import scipy as sp\n",
    "import scipy.stats as stats\n",
    "import matplotlib.pyplot as plt\n",
    "\n",
    "import findspark\n",
    "findspark.init()\n",
    "import pyspark\n",
    "\n",
    "from functools import reduce\n",
    "from pyspark.sql import *\n",
    "from pyspark.sql import functions as F\n",
    "from pyspark.sql import SQLContext\n",
    "from pyspark.sql.functions import *\n",
    "from pyspark.sql.functions import min\n",
    "from pyspark.sql.functions import to_date, last_day,date_add\n",
    "from datetime import timedelta\n",
    "\n",
    "spark = SparkSession.builder.getOrCreate()\n",
    "sc = spark.sparkContext"
   ]
  },
  {
   "cell_type": "code",
   "execution_count": 2,
   "metadata": {},
   "outputs": [],
   "source": [
    "DATA_FOLDER = 'data'"
   ]
  },
  {
   "cell_type": "markdown",
   "metadata": {},
   "source": [
    "# Loading data"
   ]
  },
  {
   "cell_type": "markdown",
   "metadata": {},
   "source": [
    "## Open Food Fact data"
   ]
  },
  {
   "cell_type": "markdown",
   "metadata": {},
   "source": [
    "General information about columns of OpenFoodFact dataset are available on:\n",
    "\n",
    "https://static.openfoodfacts.org/data/data-fields.txt\n",
    "\n",
    "__General information__\n",
    "- __code__: barcode of the product (can be EAN-13 or internal codes for some food stores), for products without a barcode, Open Food Facts assigns a number starting with the 200 reserved prefix\n",
    "- __product_name__: name of the product\n",
    "\n",
    "__Geo information__\n",
    "- __origins__: origins of ingredients\n",
    "- __manufacturing_places__: places where manufactured or transformed\n",
    "- __countries__: list of countries where the product is sold\n"
   ]
  },
  {
   "cell_type": "code",
   "execution_count": 39,
   "metadata": {},
   "outputs": [
    {
     "name": "stdout",
     "output_type": "stream",
     "text": [
      "root\n",
      " |-- code: string (nullable = true)\n",
      " |-- product_name: string (nullable = true)\n",
      " |-- origins: string (nullable = true)\n",
      " |-- manufacturing_places: string (nullable = true)\n",
      " |-- countries: string (nullable = true)\n",
      "\n"
     ]
    }
   ],
   "source": [
    "dataset_main = spark.read.csv(DATA_FOLDER+\"/en.openfoodfacts.org.products.csv\", header=True, mode=\"DROPMALFORMED\", sep = '\\t')\n",
    "\n",
    "dataset_main.createOrReplaceTempView(\"data_main\")\n",
    "\n",
    "# Filter required columns\n",
    "p_id_col = \" code, product_name, \"\n",
    "general_cols = \" brands, brands_tags, categories, categories_tags, origins, origins_tags, manufacturing_places, manufacturing_places_tags,labels,labels_tags,emb_codes,emb_codes_tags,first_packaging_code_geo,cities,cities_tags,purchase_places,stores,countries,countries_tags \"\n",
    "geo_cols = \" origins, manufacturing_places, countries \"\n",
    "geo_tags_cols = \" origins_tags, manufacturing_places_tags, countries_tags \"\n",
    "\n",
    "off_df = spark.sql(\"SELECT\" + p_id_col + geo_cols + \" FROM data_main\")\n",
    "off_df.printSchema()"
   ]
  },
  {
   "cell_type": "code",
   "execution_count": 40,
   "metadata": {},
   "outputs": [
    {
     "name": "stdout",
     "output_type": "stream",
     "text": [
      "All data Size:\n",
      "5(columns) * 693829(rows)\n"
     ]
    }
   ],
   "source": [
    "off_all_size = off_df.count()\n",
    "off_cols_size = len(off_df.columns)\n",
    "print(\"All data Size:\\n\" + str(off_cols_size) + \"(columns) * \" + str(off_all_size) + \"(rows)\")"
   ]
  },
  {
   "cell_type": "markdown",
   "metadata": {},
   "source": [
    "### Data Cleaning and Preprocessing"
   ]
  },
  {
   "cell_type": "code",
   "execution_count": 41,
   "metadata": {},
   "outputs": [
    {
     "name": "stdout",
     "output_type": "stream",
     "text": [
      "+----+------------+-------+--------------------+---------+\n",
      "|code|product_name|origins|manufacturing_places|countries|\n",
      "+----+------------+-------+--------------------+---------+\n",
      "|   0|       25982| 651635|              626848|      561|\n",
      "+----+------------+-------+--------------------+---------+\n",
      "\n"
     ]
    }
   ],
   "source": [
    "# Find number of missing data\n",
    "\n",
    "off_df.select([count(when(isnan(c) | col(c).isNull(), c)).alias(c) for c in off_df.columns]).show()"
   ]
  },
  {
   "cell_type": "code",
   "execution_count": 42,
   "metadata": {},
   "outputs": [
    {
     "name": "stdout",
     "output_type": "stream",
     "text": [
      "Full GEO information data Size:\n",
      "5(columns) * 26986(rows)\n"
     ]
    }
   ],
   "source": [
    "off_df.createOrReplaceTempView(\"off_df\")\n",
    "\n",
    "sql_filter = \"SELECT * FROM off_df WHERE countries is not NULL AND manufacturing_places is not NULL AND origins is not NULL\"\n",
    "\n",
    "# off_p_df = off_df.where((off_df.countries.isNotNull()) & (off_df.manufacturing_places.isNotNull()) & (off_df.origins.isNotNull()) ).show()\n",
    "off_p_df = spark.sql(sql_filter)\n",
    "off_p_all_size = off_p_df.count()\n",
    "off_p_cols_size = len(off_p_df.columns)\n",
    "print(\"Full GEO information data Size:\\n\" + str(off_p_cols_size) + \"(columns) * \" + str(off_p_all_size) + \"(rows)\")"
   ]
  },
  {
   "cell_type": "code",
   "execution_count": 44,
   "metadata": {},
   "outputs": [
    {
     "name": "stdout",
     "output_type": "stream",
     "text": [
      "+-------------+--------------------+-------------+--------------------+--------------+\n",
      "|         code|        product_name|      origins|manufacturing_places|     countries|\n",
      "+-------------+--------------------+-------------+--------------------+--------------+\n",
      "|0000000274722|Blanquette de Vol...|       France|              France|        France|\n",
      "|0000000290616|        Salade Cesar|       Québec|     Brossard Québec|        Canada|\n",
      "|0000000394710|Danoises à la can...|       Québec|     Brossard Québec|        Canada|\n",
      "|0000001071894|               Flute|       France|      United Kingdom|United Kingdom|\n",
      "|0000001938067|Chaussons tressés...|       Québec|     Brossard Québec|        Canada|\n",
      "|0000004302544| Pain Burger Artisan|       Québec|     Brossard,Québec|        Canada|\n",
      "|0000008237798|     Quiche Lorraine|       Québec|     Brossard,Québec|        Canada|\n",
      "|0000008240095|      Pâté au poulet|       Québec|     Brossard Québec|        Canada|\n",
      "|0000012167005|Brioches roulées ...|Québec,Canada|     Brossars,Québec|        Canada|\n",
      "|0000020004552|Côtes du Rhône Vi...|       France|              France|        France|\n",
      "+-------------+--------------------+-------------+--------------------+--------------+\n",
      "only showing top 10 rows\n",
      "\n"
     ]
    }
   ],
   "source": [
    "off_p_df.show(10)"
   ]
  },
  {
   "cell_type": "code",
   "execution_count": 45,
   "metadata": {},
   "outputs": [],
   "source": [
    "#create a specific filter for Swiss occurences\n",
    "\n",
    "filter_ch = '[Ss]witzerland|[Ss]uisse|[Ss]chweiz|[Ss]vizerra'"
   ]
  },
  {
   "cell_type": "code",
   "execution_count": 49,
   "metadata": {},
   "outputs": [
    {
     "name": "stdout",
     "output_type": "stream",
     "text": [
      "swiss_sold data Size:\n",
      "762\n"
     ]
    }
   ],
   "source": [
    "#store products that are sold in Switzerland\n",
    "swiss_sold_data = off_p_df.filter(off_p_df[\"countries\"].rlike(filter_ch))\n",
    "\n",
    "swiss_sold_size = swiss_sold_data.count()\n",
    "print(\"swiss_sold data Size:\\n\" + str(swiss_sold_size))"
   ]
  },
  {
   "cell_type": "code",
   "execution_count": 50,
   "metadata": {},
   "outputs": [
    {
     "name": "stdout",
     "output_type": "stream",
     "text": [
      "swiss_origin data Size:\n",
      "482\n"
     ]
    }
   ],
   "source": [
    "#store products which ingredients originate from Switzerland\n",
    "swiss_origin_data = off_p_df.filter(off_p_df[\"origins\"].rlike(filter_ch))\n",
    "\n",
    "swiss_origin_size = swiss_origin_data.count()\n",
    "print(\"swiss_origin data Size:\\n\" + str(swiss_origin_size))"
   ]
  },
  {
   "cell_type": "code",
   "execution_count": 51,
   "metadata": {},
   "outputs": [
    {
     "name": "stdout",
     "output_type": "stream",
     "text": [
      "swiss_manufactored data Size:\n",
      "545\n"
     ]
    }
   ],
   "source": [
    "#store products that are manufactured in Switzerland\n",
    "swiss_manu_data = off_p_df.filter(off_p_df[\"manufacturing_places\"].rlike(filter_ch))\n",
    "\n",
    "swiss_manu_size = swiss_manu_data.count()\n",
    "print(\"swiss_manufactored data Size:\\n\" + str(swiss_manu_size))"
   ]
  },
  {
   "cell_type": "code",
   "execution_count": 52,
   "metadata": {},
   "outputs": [
    {
     "name": "stdout",
     "output_type": "stream",
     "text": [
      "swiss_origin_manufactored data Size:\n",
      "379\n"
     ]
    }
   ],
   "source": [
    "#store products that are both manufactured and originate from Switzerland\n",
    "swiss_origin_manu_data = off_p_df.filter(off_p_df[\"origins\"].rlike(filter_ch) & off_p_df[\"manufacturing_places\"].rlike(filter_ch))\n",
    "\n",
    "swiss_origin_manu_size = swiss_origin_manu_data.count()\n",
    "print(\"swiss_origin_manufactored data Size:\\n\" + str(swiss_origin_manu_size))"
   ]
  },
  {
   "cell_type": "code",
   "execution_count": 53,
   "metadata": {},
   "outputs": [],
   "source": [
    "######## DATA PREPARATION FOR PIE ########\n",
    "#\n",
    "#count products whose ingredients from switzerland but which were not manufactured in Switzerland\n",
    "swiss_origin_tot = swiss_origin_data.filter(~ swiss_origin_data[\"manufacturing_places\"].rlike(filter_ch)).count()\n",
    "\n",
    "#Total of products sold in Switzerland\n",
    "swiss_sold_tot = swiss_sold_data.count()\n",
    "\n",
    "#count products that do not have swiss ingredients\n",
    "swiss_manu_tot = swiss_manu_data.filter(~ swiss_manu_data[\"origins\"].rlike(filter_ch)).count()\n",
    "#products that are sold in Switzerland but that were not manufactured in CH and that do not have swiss ingredients\n",
    "non_swiss_sold_tot = swiss_sold_data.filter(~ swiss_sold_data[\"manufacturing_places\"].rlike(filter_ch) & ~swiss_sold_data[\"origins\"].rlike(filter_ch)).count()\n",
    "#total of products that are both manufactured and has ingredients from Switzerland\n",
    "swiss_origin_manu_tot = swiss_origin_manu_data.count()"
   ]
  },
  {
   "cell_type": "code",
   "execution_count": 12,
   "metadata": {},
   "outputs": [
    {
     "data": {
      "image/png": "[encoded data removed]",
      "text/plain": [
       "<Figure size 432x288 with 1 Axes>"
      ]
     },
     "metadata": {},
     "output_type": "display_data"
    }
   ],
   "source": [
    "labels = 'Swiss ingredients (but not manufactured in Switzerland)', 'Manufactured in Switzerland (with no swiss ingredients)', 'Completely foreign products', 'Both swiss ingredients and manufactured in Switzerland'\n",
    "sizes = [swiss_origin_tot, swiss_manu_tot, non_swiss_sold_tot, swiss_origin_manu_tot]\n",
    "fig1, ax1 = plt.subplots()\n",
    "ax1.pie(sizes, labels=labels, autopct='%1.1f%%', startangle=90)\n",
    "ax1.axis('equal')  # Equal aspect ratio ensures that pie is drawn as a circle.\n",
    "plt.title('Proportions for a total of ' + str(swiss_sold_tot) + ' products sold in Switzerland')\n",
    "\n",
    "plt.show()"
   ]
  },
  {
   "cell_type": "code",
   "execution_count": 64,
   "metadata": {},
   "outputs": [
    {
     "name": "stdout",
     "output_type": "stream",
     "text": [
      "Non swiss/Sold in Switzerland data Size:\n",
      "342\n"
     ]
    }
   ],
   "source": [
    "#About foreign products\n",
    "#Store products that are neither manufactured nor have ingredients from Switzerland\n",
    "non_swiss_sold = swiss_sold_data.filter(~ swiss_sold_data[\"manufacturing_places\"].rlike(filter_ch) & ~swiss_sold_data[\"origins\"].rlike(filter_ch))\n",
    "\n",
    "non_swiss_sold_size = non_swiss_sold.count()\n",
    "print(\"Non swiss/Sold in Switzerland data Size:\\n\" + str(non_swiss_sold_size))"
   ]
  },
  {
   "cell_type": "code",
   "execution_count": 58,
   "metadata": {},
   "outputs": [
    {
     "name": "stdout",
     "output_type": "stream",
     "text": [
      "swiss_manufactored data Size:\n",
      "410\n"
     ]
    }
   ],
   "source": [
    "# store products that are sold in Switzerland but ingredients are from foreign places\n",
    "non_swiss_ing_sold = off_p_df.filter(off_p_df.countries.rlike(filter_ch) & ~off_p_df.origins.rlike(filter_ch))\n",
    "\n",
    "print(\"swiss_manufactored data Size:\\n\" + str(non_swiss_ing_sold.count()))"
   ]
  },
  {
   "cell_type": "code",
   "execution_count": 60,
   "metadata": {},
   "outputs": [
    {
     "name": "stdout",
     "output_type": "stream",
     "text": [
      "+--------+--------------------+--------------------+--------------------+--------------------+\n",
      "|    code|        product_name|             origins|manufacturing_places|           countries|\n",
      "+--------+--------------------+--------------------+--------------------+--------------------+\n",
      "|00152297|  Mélange  randonnée|         indéterminé|              Suisse|       en:IT, Suisse|\n",
      "|20002183| Körniger Frischkäse|           Allemagne|Privatmolkerei Be...|Tyskland,Sverige,...|\n",
      "|20021030|Le Jambon Supérie...|    Union Européenne|LAMPAULAISE DES S...|France, en:switze...|\n",
      "|20052713|Amandes de Califo...|      Californie,USA|Allemagne,Deutsch...|en:france, en:ger...|\n",
      "|20177492|         Maple Syrup|              Canada|              Canada|France,Espagne,Su...|\n",
      "|20201920|        Oriental Mix|fr:Cacahuètes d'A...|            Pays-Bas|en:france, en:aus...|\n",
      "|20240394|Poitrine de poule...|              Brésil|              Suisse|              Suisse|\n",
      "|20283360| Haferflocken, grove|         Scandinavie|           Allemagne|en:france, en:swi...|\n",
      "|20403027|          Tuna Steak|FAO N°77,FAO N°71...|    Ecuador,Équateur|en:France,en:Germ...|\n",
      "|20454838|Haricots blancs g...|           Macédoine|               Grèce|              Suisse|\n",
      "+--------+--------------------+--------------------+--------------------+--------------------+\n",
      "only showing top 10 rows\n",
      "\n"
     ]
    }
   ],
   "source": [
    "non_swiss_ing_sold.show(10)"
   ]
  },
  {
   "cell_type": "code",
   "execution_count": 66,
   "metadata": {},
   "outputs": [
    {
     "name": "stdout",
     "output_type": "stream",
     "text": [
      "+--------------------+--------------+\n",
      "|             origins|count(origins)|\n",
      "+--------------------+--------------+\n",
      "|              France|            77|\n",
      "|              Italie|            34|\n",
      "|    Union Européenne|            10|\n",
      "|           Allemagne|             6|\n",
      "|            Pays-Bas|             5|\n",
      "|         Deutschland|             4|\n",
      "|     Océan Pacifique|             4|\n",
      "|             Espagne|             4|\n",
      "|             Vietnam|             4|\n",
      "|           Thaïlande|             3|\n",
      "|               Grèce|             3|\n",
      "|         Lait,France|             3|\n",
      "|        Océan Indien|             3|\n",
      "|             Italien|             3|\n",
      "|Viande de Porc,Un...|             3|\n",
      "|               Italy|             3|\n",
      "|               Chine|             3|\n",
      "|    Union européenne|             2|\n",
      "|             Mexique|             2|\n",
      "|               Pérou|             2|\n",
      "+--------------------+--------------+\n",
      "only showing top 20 rows\n",
      "\n",
      "Number of ingredient importers:\n",
      "173\n"
     ]
    }
   ],
   "source": [
    "# Find dominant importers of ingredients\n",
    "non_swiss_sold.createOrReplaceTempView(\"target_products_df\")\n",
    "target_origins = spark.sql(\"SELECT origins, COUNT(origins) FROM target_products_df GROUP BY origins ORDER BY COUNT(origins) DESC\")\n",
    "target_origins.show()\n",
    "\n",
    "# TODO: target_origins may contain repetitive countries (using two different names for one country)\n",
    "print(\"Number of ingredient importers:\\n\" + str(target_origins.count()))"
   ]
  },
  {
   "cell_type": "code",
   "execution_count": 67,
   "metadata": {},
   "outputs": [
    {
     "name": "stdout",
     "output_type": "stream",
     "text": [
      "+--------------------+---------------------------+\n",
      "|manufacturing_places|count(manufacturing_places)|\n",
      "+--------------------+---------------------------+\n",
      "|              France|                         70|\n",
      "|              Italie|                         35|\n",
      "|           Allemagne|                         26|\n",
      "|         Deutschland|                          8|\n",
      "|            Pays-Bas|                          6|\n",
      "|           Thaïlande|                          5|\n",
      "|Herta SAS - Route...|                          3|\n",
      "|             Espagne|                          3|\n",
      "|             Italien|                          3|\n",
      "|            Danemark|                          3|\n",
      "|          Angleterre|                          2|\n",
      "|             Germany|                          2|\n",
      "|Triballat Noyal -...|                          2|\n",
      "|Châteaubourg,Renn...|                          2|\n",
      "|Fromageries des C...|                          2|\n",
      "|              france|                          2|\n",
      "|             Mexique|                          2|\n",
      "|Deutschland,Breme...|                          2|\n",
      "|Marie (Filiale Gr...|                          2|\n",
      "|Fleury Michon Tra...|                          2|\n",
      "+--------------------+---------------------------+\n",
      "only showing top 20 rows\n",
      "\n",
      "Number of Manufacturers:\n",
      "177\n"
     ]
    }
   ],
   "source": [
    "# Find dominant importers (manufacturers)\n",
    "non_swiss_sold.createOrReplaceTempView(\"target_products_df\")\n",
    "target_manufacturers = spark.sql(\"SELECT manufacturing_places, COUNT(manufacturing_places) FROM target_products_df GROUP BY manufacturing_places ORDER BY COUNT(manufacturing_places) DESC\")\n",
    "target_manufacturers.show()\n",
    "\n",
    "# TODO: target_manufacturers may contain repetitive countries (using two different names for one country)\n",
    "print(\"Number of Manufacturers:\\n\" + str(target_manufacturers.count()))"
   ]
  },
  {
   "cell_type": "markdown",
   "metadata": {},
   "source": [
    "### Working with products' traces"
   ]
  },
  {
   "cell_type": "code",
   "execution_count": 69,
   "metadata": {},
   "outputs": [
    {
     "name": "stdout",
     "output_type": "stream",
     "text": [
      "+-------------+--------------------+------+\n",
      "|         code|        product_name|traces|\n",
      "+-------------+--------------------+------+\n",
      "|0000000000017|    Vitória crackers|  null|\n",
      "|0000000000031|               Cacao|  null|\n",
      "|0000000000123|Sauce Sweety chil...|  null|\n",
      "|0000000000291|           Mendiants|  null|\n",
      "|0000000000949|Salade de carotte...|  null|\n",
      "|0000000000970|Fromage blanc aux...|  null|\n",
      "|0000000001001|                null|  null|\n",
      "|0000000001007|            Vainilla|  null|\n",
      "|0000000001137|   Baguette parisien|  null|\n",
      "|0000000001151|&quot;Baguette Ly...|  null|\n",
      "+-------------+--------------------+------+\n",
      "only showing top 10 rows\n",
      "\n"
     ]
    }
   ],
   "source": [
    "extra_info_df = ' traces '\n",
    "traces_df = spark.sql(\"SELECT\" + p_id_col + extra_info_df + \" FROM data_main\")\n",
    "traces_df.show(10)"
   ]
  },
  {
   "cell_type": "code",
   "execution_count": 70,
   "metadata": {},
   "outputs": [
    {
     "name": "stdout",
     "output_type": "stream",
     "text": [
      "+----+------------+------+\n",
      "|code|product_name|traces|\n",
      "+----+------------+------+\n",
      "|   0|       25982|646811|\n",
      "+----+------------+------+\n",
      "\n"
     ]
    }
   ],
   "source": [
    "traces_df.select([count(when(isnan(c) | col(c).isNull(), c)).alias(c) for c in traces_df.columns]).show()"
   ]
  },
  {
   "cell_type": "code",
   "execution_count": 78,
   "metadata": {},
   "outputs": [],
   "source": [
    "non_swiss_sold.createOrReplaceTempView(\"target_products_df\")\n",
    "traces_df.createOrReplaceTempView(\"traces_df\")\n",
    "joined_df = spark.sql(\"SELECT p.code, t.traces, p.origins, p.manufacturing_places, p.countries  FROM target_products_df p INNER JOIN traces_df t ON p.code = t.code\")"
   ]
  },
  {
   "cell_type": "code",
   "execution_count": 79,
   "metadata": {},
   "outputs": [
    {
     "name": "stdout",
     "output_type": "stream",
     "text": [
      "+----+------+-------+--------------------+---------+\n",
      "|code|traces|origins|manufacturing_places|countries|\n",
      "+----+------+-------+--------------------+---------+\n",
      "|   0|   254|      0|                   0|        0|\n",
      "+----+------+-------+--------------------+---------+\n",
      "\n"
     ]
    }
   ],
   "source": [
    "joined_df.select([count(when(isnan(c) | col(c).isNull(), c)).alias(c) for c in joined_df.columns]).show()"
   ]
  },
  {
   "cell_type": "code",
   "execution_count": 81,
   "metadata": {},
   "outputs": [
    {
     "name": "stdout",
     "output_type": "stream",
     "text": [
      "Number of Products sold in Switzerland with traces:\n",
      "88\n"
     ]
    }
   ],
   "source": [
    "joined_df.createOrReplaceTempView(\"target_products_traces\")\n",
    "sql_filter = \"SELECT * FROM target_products_traces WHERE traces is not NULL\"\n",
    "target_products_traces_p = spark.sql(sql_filter)\n",
    "\n",
    "print(\"Number of Products sold in Switzerland with traces:\\n\" + str(target_products_traces_p.count()))"
   ]
  },
  {
   "cell_type": "code",
   "execution_count": 86,
   "metadata": {},
   "outputs": [
    {
     "name": "stdout",
     "output_type": "stream",
     "text": [
      "+-------------+--------------------+--------------------+--------------------+--------------------+\n",
      "|         code|              traces|             origins|manufacturing_places|           countries|\n",
      "+-------------+--------------------+--------------------+--------------------+--------------------+\n",
      "|4104420209114|                nuts|Agriculture UE/No...|            Pays-Bas|    Allemagne,Suisse|\n",
      "|3256540011465|                nuts|              France|              France|       France,Suisse|\n",
      "|3256540011465|             peanuts|              France|              France|       France,Suisse|\n",
      "|4104420057227|            Erdnüsse|Nicht-EU-Landwirt...|              Ungarn|Österreich,Frankr...|\n",
      "|4104420057227|               Milch|Nicht-EU-Landwirt...|              Ungarn|Österreich,Frankr...|\n",
      "|3276770006208|              Céleri|Pérou,Mexique,Rus...|              France|       France,Suisse|\n",
      "|3276770006208|              Gluten|Pérou,Mexique,Rus...|              France|       France,Suisse|\n",
      "|3276770006208|               Lupin|Pérou,Mexique,Rus...|              France|       France,Suisse|\n",
      "|3276770006208|            Moutarde|Pérou,Mexique,Rus...|              France|       France,Suisse|\n",
      "|3276770006208|      Fruits à coque|Pérou,Mexique,Rus...|              France|       France,Suisse|\n",
      "|3276770006208|                Soja|Pérou,Mexique,Rus...|              France|       France,Suisse|\n",
      "|3276770006208|            Céréales|Pérou,Mexique,Rus...|              France|       France,Suisse|\n",
      "|3276770006208|              Sésame|Pérou,Mexique,Rus...|              France|       France,Suisse|\n",
      "|3276770006208|            Sulfites|Pérou,Mexique,Rus...|              France|       France,Suisse|\n",
      "|3449854093009|fr:fruits à coque...|                  UE|              france|       France,Suisse|\n",
      "|4104420085565|            Bergkäse|         Deutschland|Deutschland,Bicke...| Deutschland,Schweiz|\n",
      "|4104420085565|          Sesamsamen|         Deutschland|Deutschland,Bicke...| Deutschland,Schweiz|\n",
      "|3222110021554|      Lait de brebis|Fromageries des C...|Fromageries des C...|      France, Suisse|\n",
      "|3222110021554|      Lait de chèvre|Fromageries des C...|Fromageries des C...|      France, Suisse|\n",
      "|     20283360|              Gluten|         Scandinavie|           Allemagne|en:france, en:swi...|\n",
      "+-------------+--------------------+--------------------+--------------------+--------------------+\n",
      "only showing top 20 rows\n",
      "\n"
     ]
    }
   ],
   "source": [
    "# Flatten traces column\n",
    "target_products_traces_p = target_products_traces_p.withColumn('traces', F.explode_outer(F.split('traces', ',')))\n",
    "\n",
    "# Remove occurances of en: in name of traces\n",
    "target_products_traces_p = target_products_traces_p.withColumn('traces', F.regexp_replace('traces', 'en:', ''))\n",
    "\n",
    "target_products_traces_p.show()"
   ]
  },
  {
   "cell_type": "code",
   "execution_count": 87,
   "metadata": {},
   "outputs": [
    {
     "name": "stdout",
     "output_type": "stream",
     "text": [
      "+-----------------+-------------+\n",
      "|           traces|count(traces)|\n",
      "+-----------------+-------------+\n",
      "|   Fruits à coque|           25|\n",
      "|             nuts|           13|\n",
      "|             Soja|           11|\n",
      "|           Gluten|           11|\n",
      "|             Œufs|           11|\n",
      "|           Céleri|            8|\n",
      "|         soybeans|            7|\n",
      "|           gluten|            7|\n",
      "|Graines de sésame|            7|\n",
      "|         Moutarde|            7|\n",
      "|        Arachides|            6|\n",
      "|             milk|            6|\n",
      "|          peanuts|            6|\n",
      "|             Lait|            6|\n",
      "|             eggs|            5|\n",
      "|        Crustacés|            5|\n",
      "|            Milch|            4|\n",
      "|          Poisson|            4|\n",
      "|       Mollusques|            3|\n",
      "|     sesame-seeds|            3|\n",
      "+-----------------+-------------+\n",
      "only showing top 20 rows\n",
      "\n",
      "Number of traces:\n",
      "95\n"
     ]
    }
   ],
   "source": [
    "# Find dominant importers of ingredients\n",
    "target_products_traces_p.createOrReplaceTempView(\"target_products_traces_p\")\n",
    "target_traces = spark.sql(\"SELECT traces, COUNT(traces) FROM target_products_traces_p GROUP BY traces ORDER BY COUNT(traces) DESC\")\n",
    "target_traces.show()\n",
    "\n",
    "# TODO: target_traces may contain repetitive traces (using two different names for one trace)\n",
    "print(\"Number of traces:\\n\" + str(target_traces.count()))"
   ]
  },
  {
   "cell_type": "code",
   "execution_count": null,
   "metadata": {},
   "outputs": [],
   "source": [
    "# TODO: Group importers by traces"
   ]
  },
  {
   "cell_type": "code",
   "execution_count": null,
   "metadata": {},
   "outputs": [],
   "source": []
  },
  {
   "cell_type": "code",
   "execution_count": null,
   "metadata": {},
   "outputs": [],
   "source": []
  },
  {
   "cell_type": "code",
   "execution_count": 14,
   "metadata": {},
   "outputs": [],
   "source": [
    "#cleaning up the different foreign countries to better count them\n",
    "non_swiss_sold = non_swiss_sold.withColumn('origins', F.explode_outer(F.split('origins', ',')))\n",
    "non_swiss_sold = non_swiss_sold.withColumn('origins', F.regexp_replace('origins', ',|\\\\?', ''))"
   ]
  },
  {
   "cell_type": "code",
   "execution_count": null,
   "metadata": {},
   "outputs": [],
   "source": []
  },
  {
   "cell_type": "code",
   "execution_count": 15,
   "metadata": {},
   "outputs": [],
   "source": [
    "#Import dataset country from http://download.geonames.org/export/dump/\n",
    "dataset_country_names = spark.read.option(\"header\", \"false\") \\\n",
    "    .option(\"delimiter\", '\\t') \\\n",
    "    .option(\"inferSchema\", \"true\") \\\n",
    "    .csv(DATA_FOLDER+\"/allCountries.txt\")"
   ]
  },
  {
   "cell_type": "code",
   "execution_count": 16,
   "metadata": {},
   "outputs": [],
   "source": [
    "#Import all the alternativeNames from the dataset http://download.geonames.org/export/dump/ \n",
    "dataset_alt_names = spark.read.option(\"header\", \"false\") \\\n",
    "    .option(\"delimiter\", '\\t') \\\n",
    "    .option(\"inferSchema\", \"true\") \\\n",
    "    .csv(DATA_FOLDER+\"/alternateNames.txt\")"
   ]
  },
  {
   "cell_type": "code",
   "execution_count": 17,
   "metadata": {},
   "outputs": [
    {
     "name": "stdout",
     "output_type": "stream",
     "text": [
      "root\n",
      " |-- geonameid: integer (nullable = true)\n",
      " |-- name: string (nullable = true)\n",
      " |-- asciiname: string (nullable = true)\n",
      " |-- alternatenames: string (nullable = true)\n",
      " |-- latitude: double (nullable = true)\n",
      " |-- longitude: double (nullable = true)\n",
      " |-- feature_class: string (nullable = true)\n",
      " |-- feature_code: string (nullable = true)\n",
      " |-- country_code: string (nullable = true)\n",
      " |-- cc2: string (nullable = true)\n",
      " |-- admin1_code: string (nullable = true)\n",
      " |-- admin2_code: string (nullable = true)\n",
      " |-- admin3_code: string (nullable = true)\n",
      " |-- admin4_code: string (nullable = true)\n",
      " |-- population: long (nullable = true)\n",
      " |-- elevation: integer (nullable = true)\n",
      " |-- dem: integer (nullable = true)\n",
      " |-- timezone: string (nullable = true)\n",
      " |-- modification_date: timestamp (nullable = true)\n",
      "\n",
      "+---------+------------------+------------------+--------------------+--------+---------+-------------+------------+------------+-----+-----------+-----------+-----------+-----------+----------+---------+----+--------------+-------------------+\n",
      "|geonameid|              name|         asciiname|      alternatenames|latitude|longitude|feature_class|feature_code|country_code|  cc2|admin1_code|admin2_code|admin3_code|admin4_code|population|elevation| dem|      timezone|  modification_date|\n",
      "+---------+------------------+------------------+--------------------+--------+---------+-------------+------------+------------+-----+-----------+-----------+-----------+-----------+----------+---------+----+--------------+-------------------+\n",
      "|  2986043|Pic de Font Blanca|Pic de Font Blanca|Pic de Font Blanc...|42.64991|  1.53335|            T|          PK|          AD| null|         00|       null|       null|       null|         0|     null|2860|Europe/Andorra|2014-11-05 00:00:00|\n",
      "|  2994701|          Roc Mélé|          Roc Mele|Roc Mele,Roc Mele...|42.58765|  1.74028|            T|          MT|          AD|AD,FR|         00|       null|       null|       null|         0|     null|2803|Europe/Andorra|2014-11-05 00:00:00|\n",
      "+---------+------------------+------------------+--------------------+--------+---------+-------------+------------+------------+-----+-----------+-----------+-----------+-----------+----------+---------+----+--------------+-------------------+\n",
      "only showing top 2 rows\n",
      "\n"
     ]
    }
   ],
   "source": [
    "#Arrange the dataset with correct column names (the dataset is under the form of a txt file with no header)\n",
    "#Header names are directly retrieved from the siteweb explanations\n",
    "oldColumns = dataset_country_names.schema.names\n",
    "newColumns = [\"geonameid\", \"name\", \"asciiname\",\"alternatenames\",\"latitude\",\"longitude\",\"feature_class\", \"feature_code\", \"country_code\",\"cc2\",\"admin1_code\",\"admin2_code\",\"admin3_code\",\"admin4_code\",\"population\",\"elevation\",\"dem\",\"timezone\",\"modification_date\"]\n",
    "\n",
    "dataset_country_names = reduce(lambda dataset_country_names, idx: dataset_country_names.withColumnRenamed(oldColumns[idx], newColumns[idx]), range(len(oldColumns)), dataset_country_names)\n",
    "dataset_country_names.printSchema()\n",
    "dataset_country_names.show(2)"
   ]
  },
  {
   "cell_type": "code",
   "execution_count": 18,
   "metadata": {},
   "outputs": [
    {
     "name": "stdout",
     "output_type": "stream",
     "text": [
      "root\n",
      " |-- alternateNameId: integer (nullable = true)\n",
      " |-- geonameid: integer (nullable = true)\n",
      " |-- isolanguage: string (nullable = true)\n",
      " |-- alternate_name: string (nullable = true)\n",
      " |-- isPreferredName: integer (nullable = true)\n",
      " |-- isShortName: integer (nullable = true)\n",
      " |-- isColloquial: integer (nullable = true)\n",
      " |-- isHistoric: integer (nullable = true)\n",
      "\n",
      "+---------------+---------+-----------+------------------+---------------+-----------+------------+----------+\n",
      "|alternateNameId|geonameid|isolanguage|    alternate_name|isPreferredName|isShortName|isColloquial|isHistoric|\n",
      "+---------------+---------+-----------+------------------+---------------+-----------+------------+----------+\n",
      "|        1282063|  2986043|       null|       Pic du Port|           null|       null|        null|      null|\n",
      "|        4274490|  2986043|       null|Pic de Font Blanca|           null|       null|        null|      null|\n",
      "+---------------+---------+-----------+------------------+---------------+-----------+------------+----------+\n",
      "only showing top 2 rows\n",
      "\n"
     ]
    }
   ],
   "source": [
    "#Arrange the dataset with correct column names (the dataset is under the form of a txt file with no header)\n",
    "#Header names are directly retrieved from the siteweb explanations\n",
    "oldColumns = dataset_alt_names.schema.names\n",
    "newColumns = [\"alternateNameId\", \"geonameid\", \"isolanguage\",\"alternate_name\",\"isPreferredName\",\"isShortName\",\"isColloquial\", \"isHistoric\", \"from\",\"to\"]\n",
    "\n",
    "dataset_alt_names = reduce(lambda dataset_alt_names, idx: dataset_alt_names.withColumnRenamed(oldColumns[idx], newColumns[idx]), range(len(oldColumns)), dataset_alt_names)\n",
    "dataset_alt_names.printSchema()\n",
    "dataset_alt_names.show(2)"
   ]
  },
  {
   "cell_type": "code",
   "execution_count": 19,
   "metadata": {},
   "outputs": [],
   "source": [
    "#Create temporary View for SQL work\n",
    "dataset_country_names.createOrReplaceTempView(\"country_names\")\n",
    "dataset_alt_names.createOrReplaceTempView(\"alter_names\")"
   ]
  },
  {
   "cell_type": "code",
   "execution_count": 38,
   "metadata": {},
   "outputs": [
    {
     "ename": "AnalysisException",
     "evalue": "\"Table or view not found: `alter_names`; line 1 pos 164;\\n'Project [ArrayBuffer(d1).*, 'alter_names.geonameid AS origins_geonameid#1639]\\n+- 'Join Inner, (alternateNameId#1094 = scalar-subquery#1638 [])\\n   :  +- 'GlobalLimit 1\\n   :     +- 'LocalLimit 1\\n   :        +- 'Project ['alternateNameId]\\n   :           +- 'Filter 'd1.origins LIKE 'alter_names.alternate_name\\n   :              +- 'UnresolvedRelation `alter_names`\\n   :- SubqueryAlias d1\\n   :  +- SubqueryAlias non_swiss_data\\n   :     +- Project [product_name#17, brands#22, brands_tags#23, categories#24, categories_tags#25, regexp_replace(origins#520, ,|\\\\?, ) AS origins#541, origins_tags#28, manufacturing_places#29, manufacturing_places_tags#30, labels#31, labels_tags#32, emb_codes#34, emb_codes_tags#35, first_packaging_code_geo#36, cities#37, cities_tags#38, purchase_places#39, stores#40, countries#41, countries_tags#42]\\n   :        +- Project [product_name#17, brands#22, brands_tags#23, categories#24, categories_tags#25, origins#520, origins_tags#28, manufacturing_places#29, manufacturing_places_tags#30, labels#31, labels_tags#32, emb_codes#34, emb_codes_tags#35, first_packaging_code_geo#36, cities#37, cities_tags#38, purchase_places#39, stores#40, countries#41, countries_tags#42]\\n   :           +- Generate explode(split(origins#27, ,)), true, [origins#520]\\n   :              +- Filter (NOT manufacturing_places#29 RLIKE [Ss]witzerland|[Ss]uisse|[Ss]chweiz|[Ss]vizerra && NOT origins#27 RLIKE [Ss]witzerland|[Ss]uisse|[Ss]chweiz|[Ss]vizerra)\\n   :                 +- Filter countries#41 RLIKE [Ss]witzerland|[Ss]uisse|[Ss]chweiz|[Ss]vizerra\\n   :                    +- Project [product_name#17, brands#22, brands_tags#23, categories#24, categories_tags#25, origins#27, origins_tags#28, manufacturing_places#29, manufacturing_places_tags#30, labels#31, labels_tags#32, emb_codes#34, emb_codes_tags#35, first_packaging_code_geo#36, cities#37, cities_tags#38, purchase_places#39, stores#40, countries#41, countries_tags#42]\\n   :                       +- SubqueryAlias data_main\\n   :                          +- Relation[code#10,url#11,creator#12,created_t#13,created_datetime#14,last_modified_t#15,last_modified_datetime#16,product_name#17,generic_name#18,quantity#19,packaging#20,packaging_tags#21,brands#22,brands_tags#23,categories#24,categories_tags#25,categories_en#26,origins#27,origins_tags#28,manufacturing_places#29,manufacturing_places_tags#30,labels#31,labels_tags#32,labels_en#33,... 149 more fields] csv\\n   +- SubqueryAlias alter_names\\n      +- Project [alternateNameId#1094, geonameid#1103, isolanguage#1112, alternate_name#1121, isPreferredName#1130, isShortName#1139, isColloquial#1148, _c7#627 AS isHistoric#1157]\\n         +- Project [alternateNameId#1094, geonameid#1103, isolanguage#1112, alternate_name#1121, isPreferredName#1130, isShortName#1139, _c6#626 AS isColloquial#1148, _c7#627]\\n            +- Project [alternateNameId#1094, geonameid#1103, isolanguage#1112, alternate_name#1121, isPreferredName#1130, _c5#625 AS isShortName#1139, _c6#626, _c7#627]\\n               +- Project [alternateNameId#1094, geonameid#1103, isolanguage#1112, alternate_name#1121, _c4#624 AS isPreferredName#1130, _c5#625, _c6#626, _c7#627]\\n                  +- Project [alternateNameId#1094, geonameid#1103, isolanguage#1112, _c3#623 AS alternate_name#1121, _c4#624, _c5#625, _c6#626, _c7#627]\\n                     +- Project [alternateNameId#1094, geonameid#1103, _c2#622 AS isolanguage#1112, _c3#623, _c4#624, _c5#625, _c6#626, _c7#627]\\n                        +- Project [alternateNameId#1094, _c1#621 AS geonameid#1103, _c2#622, _c3#623, _c4#624, _c5#625, _c6#626, _c7#627]\\n                           +- Project [_c0#620 AS alternateNameId#1094, _c1#621, _c2#622, _c3#623, _c4#624, _c5#625, _c6#626, _c7#627]\\n                              +- Relation[_c0#620,_c1#621,_c2#622,_c3#623,_c4#624,_c5#625,_c6#626,_c7#627] csv\\n\"",
     "output_type": "error",
     "traceback": [
      "\u001b[0;31m---------------------------------------------------------------------------\u001b[0m",
      "\u001b[0;31mPy4JJavaError\u001b[0m                             Traceback (most recent call last)",
      "\u001b[0;32m/usr/local/opt/apache-spark/libexec/python/pyspark/sql/utils.py\u001b[0m in \u001b[0;36mdeco\u001b[0;34m(*a, **kw)\u001b[0m\n\u001b[1;32m     62\u001b[0m         \u001b[0;32mtry\u001b[0m\u001b[0;34m:\u001b[0m\u001b[0;34m\u001b[0m\u001b[0;34m\u001b[0m\u001b[0m\n\u001b[0;32m---> 63\u001b[0;31m             \u001b[0;32mreturn\u001b[0m \u001b[0mf\u001b[0m\u001b[0;34m(\u001b[0m\u001b[0;34m*\u001b[0m\u001b[0ma\u001b[0m\u001b[0;34m,\u001b[0m \u001b[0;34m**\u001b[0m\u001b[0mkw\u001b[0m\u001b[0;34m)\u001b[0m\u001b[0;34m\u001b[0m\u001b[0;34m\u001b[0m\u001b[0m\n\u001b[0m\u001b[1;32m     64\u001b[0m         \u001b[0;32mexcept\u001b[0m \u001b[0mpy4j\u001b[0m\u001b[0;34m.\u001b[0m\u001b[0mprotocol\u001b[0m\u001b[0;34m.\u001b[0m\u001b[0mPy4JJavaError\u001b[0m \u001b[0;32mas\u001b[0m \u001b[0me\u001b[0m\u001b[0;34m:\u001b[0m\u001b[0;34m\u001b[0m\u001b[0;34m\u001b[0m\u001b[0m\n",
      "\u001b[0;32m/usr/local/opt/apache-spark/libexec/python/lib/py4j-0.10.7-src.zip/py4j/protocol.py\u001b[0m in \u001b[0;36mget_return_value\u001b[0;34m(answer, gateway_client, target_id, name)\u001b[0m\n\u001b[1;32m    327\u001b[0m                     \u001b[0;34m\"An error occurred while calling {0}{1}{2}.\\n\"\u001b[0m\u001b[0;34m.\u001b[0m\u001b[0;34m\u001b[0m\u001b[0;34m\u001b[0m\u001b[0m\n\u001b[0;32m--> 328\u001b[0;31m                     format(target_id, \".\", name), value)\n\u001b[0m\u001b[1;32m    329\u001b[0m             \u001b[0;32melse\u001b[0m\u001b[0;34m:\u001b[0m\u001b[0;34m\u001b[0m\u001b[0;34m\u001b[0m\u001b[0m\n",
      "\u001b[0;31mPy4JJavaError\u001b[0m: An error occurred while calling o23.sql.\n: org.apache.spark.sql.AnalysisException: Table or view not found: `alter_names`; line 1 pos 164;\n'Project [ArrayBuffer(d1).*, 'alter_names.geonameid AS origins_geonameid#1639]\n+- 'Join Inner, (alternateNameId#1094 = scalar-subquery#1638 [])\n   :  +- 'GlobalLimit 1\n   :     +- 'LocalLimit 1\n   :        +- 'Project ['alternateNameId]\n   :           +- 'Filter 'd1.origins LIKE 'alter_names.alternate_name\n   :              +- 'UnresolvedRelation `alter_names`\n   :- SubqueryAlias d1\n   :  +- SubqueryAlias non_swiss_data\n   :     +- Project [product_name#17, brands#22, brands_tags#23, categories#24, categories_tags#25, regexp_replace(origins#520, ,|\\?, ) AS origins#541, origins_tags#28, manufacturing_places#29, manufacturing_places_tags#30, labels#31, labels_tags#32, emb_codes#34, emb_codes_tags#35, first_packaging_code_geo#36, cities#37, cities_tags#38, purchase_places#39, stores#40, countries#41, countries_tags#42]\n   :        +- Project [product_name#17, brands#22, brands_tags#23, categories#24, categories_tags#25, origins#520, origins_tags#28, manufacturing_places#29, manufacturing_places_tags#30, labels#31, labels_tags#32, emb_codes#34, emb_codes_tags#35, first_packaging_code_geo#36, cities#37, cities_tags#38, purchase_places#39, stores#40, countries#41, countries_tags#42]\n   :           +- Generate explode(split(origins#27, ,)), true, [origins#520]\n   :              +- Filter (NOT manufacturing_places#29 RLIKE [Ss]witzerland|[Ss]uisse|[Ss]chweiz|[Ss]vizerra && NOT origins#27 RLIKE [Ss]witzerland|[Ss]uisse|[Ss]chweiz|[Ss]vizerra)\n   :                 +- Filter countries#41 RLIKE [Ss]witzerland|[Ss]uisse|[Ss]chweiz|[Ss]vizerra\n   :                    +- Project [product_name#17, brands#22, brands_tags#23, categories#24, categories_tags#25, origins#27, origins_tags#28, manufacturing_places#29, manufacturing_places_tags#30, labels#31, labels_tags#32, emb_codes#34, emb_codes_tags#35, first_packaging_code_geo#36, cities#37, cities_tags#38, purchase_places#39, stores#40, countries#41, countries_tags#42]\n   :                       +- SubqueryAlias data_main\n   :                          +- Relation[code#10,url#11,creator#12,created_t#13,created_datetime#14,last_modified_t#15,last_modified_datetime#16,product_name#17,generic_name#18,quantity#19,packaging#20,packaging_tags#21,brands#22,brands_tags#23,categories#24,categories_tags#25,categories_en#26,origins#27,origins_tags#28,manufacturing_places#29,manufacturing_places_tags#30,labels#31,labels_tags#32,labels_en#33,... 149 more fields] csv\n   +- SubqueryAlias alter_names\n      +- Project [alternateNameId#1094, geonameid#1103, isolanguage#1112, alternate_name#1121, isPreferredName#1130, isShortName#1139, isColloquial#1148, _c7#627 AS isHistoric#1157]\n         +- Project [alternateNameId#1094, geonameid#1103, isolanguage#1112, alternate_name#1121, isPreferredName#1130, isShortName#1139, _c6#626 AS isColloquial#1148, _c7#627]\n            +- Project [alternateNameId#1094, geonameid#1103, isolanguage#1112, alternate_name#1121, isPreferredName#1130, _c5#625 AS isShortName#1139, _c6#626, _c7#627]\n               +- Project [alternateNameId#1094, geonameid#1103, isolanguage#1112, alternate_name#1121, _c4#624 AS isPreferredName#1130, _c5#625, _c6#626, _c7#627]\n                  +- Project [alternateNameId#1094, geonameid#1103, isolanguage#1112, _c3#623 AS alternate_name#1121, _c4#624, _c5#625, _c6#626, _c7#627]\n                     +- Project [alternateNameId#1094, geonameid#1103, _c2#622 AS isolanguage#1112, _c3#623, _c4#624, _c5#625, _c6#626, _c7#627]\n                        +- Project [alternateNameId#1094, _c1#621 AS geonameid#1103, _c2#622, _c3#623, _c4#624, _c5#625, _c6#626, _c7#627]\n                           +- Project [_c0#620 AS alternateNameId#1094, _c1#621, _c2#622, _c3#623, _c4#624, _c5#625, _c6#626, _c7#627]\n                              +- Relation[_c0#620,_c1#621,_c2#622,_c3#623,_c4#624,_c5#625,_c6#626,_c7#627] csv\n\n\tat org.apache.spark.sql.catalyst.analysis.package$AnalysisErrorAt.failAnalysis(package.scala:42)\n\tat org.apache.spark.sql.catalyst.analysis.CheckAnalysis$$anonfun$checkAnalysis$1.apply(CheckAnalysis.scala:86)\n\tat org.apache.spark.sql.catalyst.analysis.CheckAnalysis$$anonfun$checkAnalysis$1.apply(CheckAnalysis.scala:84)\n\tat org.apache.spark.sql.catalyst.trees.TreeNode.foreachUp(TreeNode.scala:127)\n\tat org.apache.spark.sql.catalyst.trees.TreeNode$$anonfun$foreachUp$1.apply(TreeNode.scala:126)\n\tat org.apache.spark.sql.catalyst.trees.TreeNode$$anonfun$foreachUp$1.apply(TreeNode.scala:126)\n\tat scala.collection.immutable.List.foreach(List.scala:381)\n\tat org.apache.spark.sql.catalyst.trees.TreeNode.foreachUp(TreeNode.scala:126)\n\tat org.apache.spark.sql.catalyst.trees.TreeNode$$anonfun$foreachUp$1.apply(TreeNode.scala:126)\n\tat org.apache.spark.sql.catalyst.trees.TreeNode$$anonfun$foreachUp$1.apply(TreeNode.scala:126)\n\tat scala.collection.immutable.List.foreach(List.scala:381)\n\tat org.apache.spark.sql.catalyst.trees.TreeNode.foreachUp(TreeNode.scala:126)\n\tat org.apache.spark.sql.catalyst.trees.TreeNode$$anonfun$foreachUp$1.apply(TreeNode.scala:126)\n\tat org.apache.spark.sql.catalyst.trees.TreeNode$$anonfun$foreachUp$1.apply(TreeNode.scala:126)\n\tat scala.collection.immutable.List.foreach(List.scala:381)\n\tat org.apache.spark.sql.catalyst.trees.TreeNode.foreachUp(TreeNode.scala:126)\n\tat org.apache.spark.sql.catalyst.trees.TreeNode$$anonfun$foreachUp$1.apply(TreeNode.scala:126)\n\tat org.apache.spark.sql.catalyst.trees.TreeNode$$anonfun$foreachUp$1.apply(TreeNode.scala:126)\n\tat scala.collection.immutable.List.foreach(List.scala:381)\n\tat org.apache.spark.sql.catalyst.trees.TreeNode.foreachUp(TreeNode.scala:126)\n\tat org.apache.spark.sql.catalyst.analysis.CheckAnalysis$class.checkAnalysis(CheckAnalysis.scala:84)\n\tat org.apache.spark.sql.catalyst.analysis.Analyzer.checkAnalysis(Analyzer.scala:92)\n\tat org.apache.spark.sql.catalyst.analysis.CheckAnalysis$class.org$apache$spark$sql$catalyst$analysis$CheckAnalysis$$checkSubqueryExpression(CheckAnalysis.scala:403)\n\tat org.apache.spark.sql.catalyst.analysis.CheckAnalysis$$anonfun$checkAnalysis$1$$anonfun$apply$2.applyOrElse(CheckAnalysis.scala:130)\n\tat org.apache.spark.sql.catalyst.analysis.CheckAnalysis$$anonfun$checkAnalysis$1$$anonfun$apply$2.applyOrElse(CheckAnalysis.scala:89)\n\tat org.apache.spark.sql.catalyst.trees.TreeNode$$anonfun$transformUp$1.apply(TreeNode.scala:289)\n\tat org.apache.spark.sql.catalyst.trees.TreeNode$$anonfun$transformUp$1.apply(TreeNode.scala:289)\n\tat org.apache.spark.sql.catalyst.trees.CurrentOrigin$.withOrigin(TreeNode.scala:70)\n\tat org.apache.spark.sql.catalyst.trees.TreeNode.transformUp(TreeNode.scala:288)\n\tat org.apache.spark.sql.catalyst.trees.TreeNode$$anonfun$3.apply(TreeNode.scala:286)\n\tat org.apache.spark.sql.catalyst.trees.TreeNode$$anonfun$3.apply(TreeNode.scala:286)\n\tat org.apache.spark.sql.catalyst.trees.TreeNode$$anonfun$4.apply(TreeNode.scala:306)\n\tat org.apache.spark.sql.catalyst.trees.TreeNode.mapProductIterator(TreeNode.scala:187)\n\tat org.apache.spark.sql.catalyst.trees.TreeNode.mapChildren(TreeNode.scala:304)\n\tat org.apache.spark.sql.catalyst.trees.TreeNode.transformUp(TreeNode.scala:286)\n\tat org.apache.spark.sql.catalyst.plans.QueryPlan$$anonfun$transformExpressionsUp$1.apply(QueryPlan.scala:95)\n\tat org.apache.spark.sql.catalyst.plans.QueryPlan$$anonfun$transformExpressionsUp$1.apply(QueryPlan.scala:95)\n\tat org.apache.spark.sql.catalyst.plans.QueryPlan$$anonfun$1.apply(QueryPlan.scala:107)\n\tat org.apache.spark.sql.catalyst.plans.QueryPlan$$anonfun$1.apply(QueryPlan.scala:107)\n\tat org.apache.spark.sql.catalyst.trees.CurrentOrigin$.withOrigin(TreeNode.scala:70)\n\tat org.apache.spark.sql.catalyst.plans.QueryPlan.transformExpression$1(QueryPlan.scala:106)\n\tat org.apache.spark.sql.catalyst.plans.QueryPlan.org$apache$spark$sql$catalyst$plans$QueryPlan$$recursiveTransform$1(QueryPlan.scala:118)\n\tat org.apache.spark.sql.catalyst.plans.QueryPlan.org$apache$spark$sql$catalyst$plans$QueryPlan$$recursiveTransform$1(QueryPlan.scala:119)\n\tat org.apache.spark.sql.catalyst.plans.QueryPlan$$anonfun$2.apply(QueryPlan.scala:127)\n\tat org.apache.spark.sql.catalyst.trees.TreeNode.mapProductIterator(TreeNode.scala:187)\n\tat org.apache.spark.sql.catalyst.plans.QueryPlan.mapExpressions(QueryPlan.scala:127)\n\tat org.apache.spark.sql.catalyst.plans.QueryPlan.transformExpressionsUp(QueryPlan.scala:95)\n\tat org.apache.spark.sql.catalyst.analysis.CheckAnalysis$$anonfun$checkAnalysis$1.apply(CheckAnalysis.scala:89)\n\tat org.apache.spark.sql.catalyst.analysis.CheckAnalysis$$anonfun$checkAnalysis$1.apply(CheckAnalysis.scala:84)\n\tat org.apache.spark.sql.catalyst.trees.TreeNode.foreachUp(TreeNode.scala:127)\n\tat org.apache.spark.sql.catalyst.trees.TreeNode$$anonfun$foreachUp$1.apply(TreeNode.scala:126)\n\tat org.apache.spark.sql.catalyst.trees.TreeNode$$anonfun$foreachUp$1.apply(TreeNode.scala:126)\n\tat scala.collection.immutable.List.foreach(List.scala:381)\n\tat org.apache.spark.sql.catalyst.trees.TreeNode.foreachUp(TreeNode.scala:126)\n\tat org.apache.spark.sql.catalyst.analysis.CheckAnalysis$class.checkAnalysis(CheckAnalysis.scala:84)\n\tat org.apache.spark.sql.catalyst.analysis.Analyzer.checkAnalysis(Analyzer.scala:92)\n\tat org.apache.spark.sql.catalyst.analysis.Analyzer.executeAndCheck(Analyzer.scala:105)\n\tat org.apache.spark.sql.execution.QueryExecution.analyzed$lzycompute(QueryExecution.scala:57)\n\tat org.apache.spark.sql.execution.QueryExecution.analyzed(QueryExecution.scala:55)\n\tat org.apache.spark.sql.execution.QueryExecution.assertAnalyzed(QueryExecution.scala:47)\n\tat org.apache.spark.sql.Dataset$.ofRows(Dataset.scala:74)\n\tat org.apache.spark.sql.SparkSession.sql(SparkSession.scala:642)\n\tat sun.reflect.GeneratedMethodAccessor72.invoke(Unknown Source)\n\tat sun.reflect.DelegatingMethodAccessorImpl.invoke(DelegatingMethodAccessorImpl.java:43)\n\tat java.lang.reflect.Method.invoke(Method.java:498)\n\tat py4j.reflection.MethodInvoker.invoke(MethodInvoker.java:244)\n\tat py4j.reflection.ReflectionEngine.invoke(ReflectionEngine.java:357)\n\tat py4j.Gateway.invoke(Gateway.java:282)\n\tat py4j.commands.AbstractCommand.invokeMethod(AbstractCommand.java:132)\n\tat py4j.commands.CallCommand.execute(CallCommand.java:79)\n\tat py4j.GatewayConnection.run(GatewayConnection.java:238)\n\tat java.lang.Thread.run(Thread.java:748)\n",
      "\nDuring handling of the above exception, another exception occurred:\n",
      "\u001b[0;31mAnalysisException\u001b[0m                         Traceback (most recent call last)",
      "\u001b[0;32m<ipython-input-38-61d9ea4bd40a>\u001b[0m in \u001b[0;36m<module>\u001b[0;34m\u001b[0m\n\u001b[1;32m      1\u001b[0m \u001b[0;31m#Cleaning the data country names for origins and manufacturing places\u001b[0m\u001b[0;34m\u001b[0m\u001b[0;34m\u001b[0m\u001b[0;34m\u001b[0m\u001b[0m\n\u001b[1;32m      2\u001b[0m \u001b[0mnon_swiss_sold\u001b[0m\u001b[0;34m.\u001b[0m\u001b[0mcreateOrReplaceTempView\u001b[0m\u001b[0;34m(\u001b[0m\u001b[0;34m\"non_swiss_data\"\u001b[0m\u001b[0;34m)\u001b[0m\u001b[0;34m\u001b[0m\u001b[0;34m\u001b[0m\u001b[0m\n\u001b[0;32m----> 3\u001b[0;31m \u001b[0mnon_swiss_renamed\u001b[0m \u001b[0;34m=\u001b[0m \u001b[0mspark\u001b[0m\u001b[0;34m.\u001b[0m\u001b[0msql\u001b[0m\u001b[0;34m(\u001b[0m\u001b[0;34m\"SELECT d1.*, alter_names.geonameid AS origins_geonameid FROM non_swiss_data d1 INNER JOIN alter_names ON alter_names.alternateNameId = (SELECT alternateNameId FROM alter_names WHERE d1.origins LIKE alter_names.alternate_name LIMIT 1)\"\u001b[0m\u001b[0;34m)\u001b[0m\u001b[0;34m\u001b[0m\u001b[0;34m\u001b[0m\u001b[0m\n\u001b[0m\u001b[1;32m      4\u001b[0m \u001b[0;34m\u001b[0m\u001b[0m\n\u001b[1;32m      5\u001b[0m \u001b[0;31m#non_swiss_renamed = spark.sql(\"SELECT d1.*, alter_name_id.geonameid AS origins_geonameid FROM non_swiss_data d1 CROSS APPLY (SELECT TOP 1 d2.geonameid FROM alter_names d2 WHERE d1.origins LIKE d2.alternate_name) alter_name_id\")\u001b[0m\u001b[0;34m\u001b[0m\u001b[0;34m\u001b[0m\u001b[0;34m\u001b[0m\u001b[0m\n",
      "\u001b[0;32m/usr/local/opt/apache-spark/libexec/python/pyspark/sql/session.py\u001b[0m in \u001b[0;36msql\u001b[0;34m(self, sqlQuery)\u001b[0m\n\u001b[1;32m    708\u001b[0m         \u001b[0;34m[\u001b[0m\u001b[0mRow\u001b[0m\u001b[0;34m(\u001b[0m\u001b[0mf1\u001b[0m\u001b[0;34m=\u001b[0m\u001b[0;36m1\u001b[0m\u001b[0;34m,\u001b[0m \u001b[0mf2\u001b[0m\u001b[0;34m=\u001b[0m\u001b[0;34mu'row1'\u001b[0m\u001b[0;34m)\u001b[0m\u001b[0;34m,\u001b[0m \u001b[0mRow\u001b[0m\u001b[0;34m(\u001b[0m\u001b[0mf1\u001b[0m\u001b[0;34m=\u001b[0m\u001b[0;36m2\u001b[0m\u001b[0;34m,\u001b[0m \u001b[0mf2\u001b[0m\u001b[0;34m=\u001b[0m\u001b[0;34mu'row2'\u001b[0m\u001b[0;34m)\u001b[0m\u001b[0;34m,\u001b[0m \u001b[0mRow\u001b[0m\u001b[0;34m(\u001b[0m\u001b[0mf1\u001b[0m\u001b[0;34m=\u001b[0m\u001b[0;36m3\u001b[0m\u001b[0;34m,\u001b[0m \u001b[0mf2\u001b[0m\u001b[0;34m=\u001b[0m\u001b[0;34mu'row3'\u001b[0m\u001b[0;34m)\u001b[0m\u001b[0;34m]\u001b[0m\u001b[0;34m\u001b[0m\u001b[0;34m\u001b[0m\u001b[0m\n\u001b[1;32m    709\u001b[0m         \"\"\"\n\u001b[0;32m--> 710\u001b[0;31m         \u001b[0;32mreturn\u001b[0m \u001b[0mDataFrame\u001b[0m\u001b[0;34m(\u001b[0m\u001b[0mself\u001b[0m\u001b[0;34m.\u001b[0m\u001b[0m_jsparkSession\u001b[0m\u001b[0;34m.\u001b[0m\u001b[0msql\u001b[0m\u001b[0;34m(\u001b[0m\u001b[0msqlQuery\u001b[0m\u001b[0;34m)\u001b[0m\u001b[0;34m,\u001b[0m \u001b[0mself\u001b[0m\u001b[0;34m.\u001b[0m\u001b[0m_wrapped\u001b[0m\u001b[0;34m)\u001b[0m\u001b[0;34m\u001b[0m\u001b[0;34m\u001b[0m\u001b[0m\n\u001b[0m\u001b[1;32m    711\u001b[0m \u001b[0;34m\u001b[0m\u001b[0m\n\u001b[1;32m    712\u001b[0m     \u001b[0;34m@\u001b[0m\u001b[0msince\u001b[0m\u001b[0;34m(\u001b[0m\u001b[0;36m2.0\u001b[0m\u001b[0;34m)\u001b[0m\u001b[0;34m\u001b[0m\u001b[0;34m\u001b[0m\u001b[0m\n",
      "\u001b[0;32m/usr/local/opt/apache-spark/libexec/python/lib/py4j-0.10.7-src.zip/py4j/java_gateway.py\u001b[0m in \u001b[0;36m__call__\u001b[0;34m(self, *args)\u001b[0m\n\u001b[1;32m   1255\u001b[0m         \u001b[0manswer\u001b[0m \u001b[0;34m=\u001b[0m \u001b[0mself\u001b[0m\u001b[0;34m.\u001b[0m\u001b[0mgateway_client\u001b[0m\u001b[0;34m.\u001b[0m\u001b[0msend_command\u001b[0m\u001b[0;34m(\u001b[0m\u001b[0mcommand\u001b[0m\u001b[0;34m)\u001b[0m\u001b[0;34m\u001b[0m\u001b[0;34m\u001b[0m\u001b[0m\n\u001b[1;32m   1256\u001b[0m         return_value = get_return_value(\n\u001b[0;32m-> 1257\u001b[0;31m             answer, self.gateway_client, self.target_id, self.name)\n\u001b[0m\u001b[1;32m   1258\u001b[0m \u001b[0;34m\u001b[0m\u001b[0m\n\u001b[1;32m   1259\u001b[0m         \u001b[0;32mfor\u001b[0m \u001b[0mtemp_arg\u001b[0m \u001b[0;32min\u001b[0m \u001b[0mtemp_args\u001b[0m\u001b[0;34m:\u001b[0m\u001b[0;34m\u001b[0m\u001b[0;34m\u001b[0m\u001b[0m\n",
      "\u001b[0;32m/usr/local/opt/apache-spark/libexec/python/pyspark/sql/utils.py\u001b[0m in \u001b[0;36mdeco\u001b[0;34m(*a, **kw)\u001b[0m\n\u001b[1;32m     67\u001b[0m                                              e.java_exception.getStackTrace()))\n\u001b[1;32m     68\u001b[0m             \u001b[0;32mif\u001b[0m \u001b[0ms\u001b[0m\u001b[0;34m.\u001b[0m\u001b[0mstartswith\u001b[0m\u001b[0;34m(\u001b[0m\u001b[0;34m'org.apache.spark.sql.AnalysisException: '\u001b[0m\u001b[0;34m)\u001b[0m\u001b[0;34m:\u001b[0m\u001b[0;34m\u001b[0m\u001b[0;34m\u001b[0m\u001b[0m\n\u001b[0;32m---> 69\u001b[0;31m                 \u001b[0;32mraise\u001b[0m \u001b[0mAnalysisException\u001b[0m\u001b[0;34m(\u001b[0m\u001b[0ms\u001b[0m\u001b[0;34m.\u001b[0m\u001b[0msplit\u001b[0m\u001b[0;34m(\u001b[0m\u001b[0;34m': '\u001b[0m\u001b[0;34m,\u001b[0m \u001b[0;36m1\u001b[0m\u001b[0;34m)\u001b[0m\u001b[0;34m[\u001b[0m\u001b[0;36m1\u001b[0m\u001b[0;34m]\u001b[0m\u001b[0;34m,\u001b[0m \u001b[0mstackTrace\u001b[0m\u001b[0;34m)\u001b[0m\u001b[0;34m\u001b[0m\u001b[0;34m\u001b[0m\u001b[0m\n\u001b[0m\u001b[1;32m     70\u001b[0m             \u001b[0;32mif\u001b[0m \u001b[0ms\u001b[0m\u001b[0;34m.\u001b[0m\u001b[0mstartswith\u001b[0m\u001b[0;34m(\u001b[0m\u001b[0;34m'org.apache.spark.sql.catalyst.analysis'\u001b[0m\u001b[0;34m)\u001b[0m\u001b[0;34m:\u001b[0m\u001b[0;34m\u001b[0m\u001b[0;34m\u001b[0m\u001b[0m\n\u001b[1;32m     71\u001b[0m                 \u001b[0;32mraise\u001b[0m \u001b[0mAnalysisException\u001b[0m\u001b[0;34m(\u001b[0m\u001b[0ms\u001b[0m\u001b[0;34m.\u001b[0m\u001b[0msplit\u001b[0m\u001b[0;34m(\u001b[0m\u001b[0;34m': '\u001b[0m\u001b[0;34m,\u001b[0m \u001b[0;36m1\u001b[0m\u001b[0;34m)\u001b[0m\u001b[0;34m[\u001b[0m\u001b[0;36m1\u001b[0m\u001b[0;34m]\u001b[0m\u001b[0;34m,\u001b[0m \u001b[0mstackTrace\u001b[0m\u001b[0;34m)\u001b[0m\u001b[0;34m\u001b[0m\u001b[0;34m\u001b[0m\u001b[0m\n",
      "\u001b[0;31mAnalysisException\u001b[0m: \"Table or view not found: `alter_names`; line 1 pos 164;\\n'Project [ArrayBuffer(d1).*, 'alter_names.geonameid AS origins_geonameid#1639]\\n+- 'Join Inner, (alternateNameId#1094 = scalar-subquery#1638 [])\\n   :  +- 'GlobalLimit 1\\n   :     +- 'LocalLimit 1\\n   :        +- 'Project ['alternateNameId]\\n   :           +- 'Filter 'd1.origins LIKE 'alter_names.alternate_name\\n   :              +- 'UnresolvedRelation `alter_names`\\n   :- SubqueryAlias d1\\n   :  +- SubqueryAlias non_swiss_data\\n   :     +- Project [product_name#17, brands#22, brands_tags#23, categories#24, categories_tags#25, regexp_replace(origins#520, ,|\\\\?, ) AS origins#541, origins_tags#28, manufacturing_places#29, manufacturing_places_tags#30, labels#31, labels_tags#32, emb_codes#34, emb_codes_tags#35, first_packaging_code_geo#36, cities#37, cities_tags#38, purchase_places#39, stores#40, countries#41, countries_tags#42]\\n   :        +- Project [product_name#17, brands#22, brands_tags#23, categories#24, categories_tags#25, origins#520, origins_tags#28, manufacturing_places#29, manufacturing_places_tags#30, labels#31, labels_tags#32, emb_codes#34, emb_codes_tags#35, first_packaging_code_geo#36, cities#37, cities_tags#38, purchase_places#39, stores#40, countries#41, countries_tags#42]\\n   :           +- Generate explode(split(origins#27, ,)), true, [origins#520]\\n   :              +- Filter (NOT manufacturing_places#29 RLIKE [Ss]witzerland|[Ss]uisse|[Ss]chweiz|[Ss]vizerra && NOT origins#27 RLIKE [Ss]witzerland|[Ss]uisse|[Ss]chweiz|[Ss]vizerra)\\n   :                 +- Filter countries#41 RLIKE [Ss]witzerland|[Ss]uisse|[Ss]chweiz|[Ss]vizerra\\n   :                    +- Project [product_name#17, brands#22, brands_tags#23, categories#24, categories_tags#25, origins#27, origins_tags#28, manufacturing_places#29, manufacturing_places_tags#30, labels#31, labels_tags#32, emb_codes#34, emb_codes_tags#35, first_packaging_code_geo#36, cities#37, cities_tags#38, purchase_places#39, stores#40, countries#41, countries_tags#42]\\n   :                       +- SubqueryAlias data_main\\n   :                          +- Relation[code#10,url#11,creator#12,created_t#13,created_datetime#14,last_modified_t#15,last_modified_datetime#16,product_name#17,generic_name#18,quantity#19,packaging#20,packaging_tags#21,brands#22,brands_tags#23,categories#24,categories_tags#25,categories_en#26,origins#27,origins_tags#28,manufacturing_places#29,manufacturing_places_tags#30,labels#31,labels_tags#32,labels_en#33,... 149 more fields] csv\\n   +- SubqueryAlias alter_names\\n      +- Project [alternateNameId#1094, geonameid#1103, isolanguage#1112, alternate_name#1121, isPreferredName#1130, isShortName#1139, isColloquial#1148, _c7#627 AS isHistoric#1157]\\n         +- Project [alternateNameId#1094, geonameid#1103, isolanguage#1112, alternate_name#1121, isPreferredName#1130, isShortName#1139, _c6#626 AS isColloquial#1148, _c7#627]\\n            +- Project [alternateNameId#1094, geonameid#1103, isolanguage#1112, alternate_name#1121, isPreferredName#1130, _c5#625 AS isShortName#1139, _c6#626, _c7#627]\\n               +- Project [alternateNameId#1094, geonameid#1103, isolanguage#1112, alternate_name#1121, _c4#624 AS isPreferredName#1130, _c5#625, _c6#626, _c7#627]\\n                  +- Project [alternateNameId#1094, geonameid#1103, isolanguage#1112, _c3#623 AS alternate_name#1121, _c4#624, _c5#625, _c6#626, _c7#627]\\n                     +- Project [alternateNameId#1094, geonameid#1103, _c2#622 AS isolanguage#1112, _c3#623, _c4#624, _c5#625, _c6#626, _c7#627]\\n                        +- Project [alternateNameId#1094, _c1#621 AS geonameid#1103, _c2#622, _c3#623, _c4#624, _c5#625, _c6#626, _c7#627]\\n                           +- Project [_c0#620 AS alternateNameId#1094, _c1#621, _c2#622, _c3#623, _c4#624, _c5#625, _c6#626, _c7#627]\\n                              +- Relation[_c0#620,_c1#621,_c2#622,_c3#623,_c4#624,_c5#625,_c6#626,_c7#627] csv\\n\""
     ]
    }
   ],
   "source": [
    "#Cleaning the data country names for origins and manufacturing places\n",
    "non_swiss_sold.createOrReplaceTempView(\"non_swiss_data\")\n",
    "non_swiss_renamed = spark.sql(\"SELECT d1.*, alter_names.geonameid AS origins_geonameid FROM non_swiss_data d1 INNER JOIN alter_names ON alter_names.alternateNameId = (SELECT alternateNameId FROM alter_names WHERE d1.origins LIKE alter_names.alternate_name LIMIT 1)\")\n",
    "\n",
    "#non_swiss_renamed = spark.sql(\"SELECT d1.*, alter_name_id.geonameid AS origins_geonameid FROM non_swiss_data d1 CROSS APPLY (SELECT TOP 1 d2.geonameid FROM alter_names d2 WHERE d1.origins LIKE d2.alternate_name) alter_name_id\")\n",
    "\n"
   ]
  },
  {
   "cell_type": "code",
   "execution_count": 34,
   "metadata": {},
   "outputs": [
    {
     "ename": "AnalysisException",
     "evalue": "'Detected implicit cartesian product for INNER join between logical plans\\nProject [product_name#17, brands#22, brands_tags#23, categories#24, categories_tags#25, regexp_replace(origins#520, ,|\\\\?, ) AS origins#541, origins_tags#28, manufacturing_places#29, manufacturing_places_tags#30, labels#31, labels_tags#32, emb_codes#34, emb_codes_tags#35, first_packaging_code_geo#36, cities#37, cities_tags#38, purchase_places#39, stores#40, countries#41, countries_tags#42]\\n+- Generate explode(split(origins#27, ,)), [5], true, [origins#520]\\n   +- Project [product_name#17, brands#22, brands_tags#23, categories#24, categories_tags#25, origins#27, origins_tags#28, manufacturing_places#29, manufacturing_places_tags#30, labels#31, labels_tags#32, emb_codes#34, emb_codes_tags#35, first_packaging_code_geo#36, cities#37, cities_tags#38, purchase_places#39, stores#40, countries#41, countries_tags#42]\\n      +- Filter (((isnotnull(origins#27) && isnotnull(countries#41)) && isnotnull(manufacturing_places#29)) && (countries#41 RLIKE [Ss]witzerland|[Ss]uisse|[Ss]chweiz|[Ss]vizerra && (NOT manufacturing_places#29 RLIKE [Ss]witzerland|[Ss]uisse|[Ss]chweiz|[Ss]vizerra && NOT origins#27 RLIKE [Ss]witzerland|[Ss]uisse|[Ss]chweiz|[Ss]vizerra)))\\n         +- Relation[code#10,url#11,creator#12,created_t#13,created_datetime#14,last_modified_t#15,last_modified_datetime#16,product_name#17,generic_name#18,quantity#19,packaging#20,packaging_tags#21,brands#22,brands_tags#23,categories#24,categories_tags#25,categories_en#26,origins#27,origins_tags#28,manufacturing_places#29,manufacturing_places_tags#30,labels#31,labels_tags#32,labels_en#33,... 149 more fields] csv\\nand\\nFilter isnotnull(Id#1475)\\n+- GlobalLimit 1\\n   +- LocalLimit 1\\n      +- Project [alternateNameId#1094 AS Id#1475]\\n         +- Join Inner, origins#541 LIKE alternate_name#1121\\n            :- Project [_c0#620 AS alternateNameId#1094, _c3#623 AS alternate_name#1121]\\n            :  +- Filter isnotnull(_c3#623)\\n            :     +- Relation[_c0#620,_c1#621,_c2#622,_c3#623,_c4#624,_c5#625,_c6#626,_c7#627] csv\\n            +- Project [regexp_replace(origins#520, ,|\\\\?, ) AS origins#541]\\n               +- Filter isnotnull(regexp_replace(origins#520, ,|\\\\?, ))\\n                  +- Generate explode(split(origins#27, ,)), [0], true, [origins#520]\\n                     +- Project [origins#27]\\n                        +- Filter (((isnotnull(origins#27) && isnotnull(countries#41)) && isnotnull(manufacturing_places#29)) && (countries#41 RLIKE [Ss]witzerland|[Ss]uisse|[Ss]chweiz|[Ss]vizerra && (NOT manufacturing_places#29 RLIKE [Ss]witzerland|[Ss]uisse|[Ss]chweiz|[Ss]vizerra && NOT origins#27 RLIKE [Ss]witzerland|[Ss]uisse|[Ss]chweiz|[Ss]vizerra)))\\n                           +- Relation[code#10,url#11,creator#12,created_t#13,created_datetime#14,last_modified_t#15,last_modified_datetime#16,product_name#17,generic_name#18,quantity#19,packaging#20,packaging_tags#21,brands#22,brands_tags#23,categories#24,categories_tags#25,categories_en#26,origins#27,origins_tags#28,manufacturing_places#29,manufacturing_places_tags#30,labels#31,labels_tags#32,labels_en#33,... 149 more fields] csv\\nJoin condition is missing or trivial.\\nEither: use the CROSS JOIN syntax to allow cartesian products between these\\nrelations, or: enable implicit cartesian products by setting the configuration\\nvariable spark.sql.crossJoin.enabled=true;'",
     "output_type": "error",
     "traceback": [
      "\u001b[0;31m---------------------------------------------------------------------------\u001b[0m",
      "\u001b[0;31mPy4JJavaError\u001b[0m                             Traceback (most recent call last)",
      "\u001b[0;32m/usr/local/opt/apache-spark/libexec/python/pyspark/sql/utils.py\u001b[0m in \u001b[0;36mdeco\u001b[0;34m(*a, **kw)\u001b[0m\n\u001b[1;32m     62\u001b[0m         \u001b[0;32mtry\u001b[0m\u001b[0;34m:\u001b[0m\u001b[0;34m\u001b[0m\u001b[0;34m\u001b[0m\u001b[0m\n\u001b[0;32m---> 63\u001b[0;31m             \u001b[0;32mreturn\u001b[0m \u001b[0mf\u001b[0m\u001b[0;34m(\u001b[0m\u001b[0;34m*\u001b[0m\u001b[0ma\u001b[0m\u001b[0;34m,\u001b[0m \u001b[0;34m**\u001b[0m\u001b[0mkw\u001b[0m\u001b[0;34m)\u001b[0m\u001b[0;34m\u001b[0m\u001b[0;34m\u001b[0m\u001b[0m\n\u001b[0m\u001b[1;32m     64\u001b[0m         \u001b[0;32mexcept\u001b[0m \u001b[0mpy4j\u001b[0m\u001b[0;34m.\u001b[0m\u001b[0mprotocol\u001b[0m\u001b[0;34m.\u001b[0m\u001b[0mPy4JJavaError\u001b[0m \u001b[0;32mas\u001b[0m \u001b[0me\u001b[0m\u001b[0;34m:\u001b[0m\u001b[0;34m\u001b[0m\u001b[0;34m\u001b[0m\u001b[0m\n",
      "\u001b[0;32m/usr/local/opt/apache-spark/libexec/python/lib/py4j-0.10.7-src.zip/py4j/protocol.py\u001b[0m in \u001b[0;36mget_return_value\u001b[0;34m(answer, gateway_client, target_id, name)\u001b[0m\n\u001b[1;32m    327\u001b[0m                     \u001b[0;34m\"An error occurred while calling {0}{1}{2}.\\n\"\u001b[0m\u001b[0;34m.\u001b[0m\u001b[0;34m\u001b[0m\u001b[0;34m\u001b[0m\u001b[0m\n\u001b[0;32m--> 328\u001b[0;31m                     format(target_id, \".\", name), value)\n\u001b[0m\u001b[1;32m    329\u001b[0m             \u001b[0;32melse\u001b[0m\u001b[0;34m:\u001b[0m\u001b[0;34m\u001b[0m\u001b[0;34m\u001b[0m\u001b[0m\n",
      "\u001b[0;31mPy4JJavaError\u001b[0m: An error occurred while calling o703.showString.\n: org.apache.spark.sql.AnalysisException: Detected implicit cartesian product for INNER join between logical plans\nProject [product_name#17, brands#22, brands_tags#23, categories#24, categories_tags#25, regexp_replace(origins#520, ,|\\?, ) AS origins#541, origins_tags#28, manufacturing_places#29, manufacturing_places_tags#30, labels#31, labels_tags#32, emb_codes#34, emb_codes_tags#35, first_packaging_code_geo#36, cities#37, cities_tags#38, purchase_places#39, stores#40, countries#41, countries_tags#42]\n+- Generate explode(split(origins#27, ,)), [5], true, [origins#520]\n   +- Project [product_name#17, brands#22, brands_tags#23, categories#24, categories_tags#25, origins#27, origins_tags#28, manufacturing_places#29, manufacturing_places_tags#30, labels#31, labels_tags#32, emb_codes#34, emb_codes_tags#35, first_packaging_code_geo#36, cities#37, cities_tags#38, purchase_places#39, stores#40, countries#41, countries_tags#42]\n      +- Filter (((isnotnull(origins#27) && isnotnull(countries#41)) && isnotnull(manufacturing_places#29)) && (countries#41 RLIKE [Ss]witzerland|[Ss]uisse|[Ss]chweiz|[Ss]vizerra && (NOT manufacturing_places#29 RLIKE [Ss]witzerland|[Ss]uisse|[Ss]chweiz|[Ss]vizerra && NOT origins#27 RLIKE [Ss]witzerland|[Ss]uisse|[Ss]chweiz|[Ss]vizerra)))\n         +- Relation[code#10,url#11,creator#12,created_t#13,created_datetime#14,last_modified_t#15,last_modified_datetime#16,product_name#17,generic_name#18,quantity#19,packaging#20,packaging_tags#21,brands#22,brands_tags#23,categories#24,categories_tags#25,categories_en#26,origins#27,origins_tags#28,manufacturing_places#29,manufacturing_places_tags#30,labels#31,labels_tags#32,labels_en#33,... 149 more fields] csv\nand\nFilter isnotnull(Id#1475)\n+- GlobalLimit 1\n   +- LocalLimit 1\n      +- Project [alternateNameId#1094 AS Id#1475]\n         +- Join Inner, origins#541 LIKE alternate_name#1121\n            :- Project [_c0#620 AS alternateNameId#1094, _c3#623 AS alternate_name#1121]\n            :  +- Filter isnotnull(_c3#623)\n            :     +- Relation[_c0#620,_c1#621,_c2#622,_c3#623,_c4#624,_c5#625,_c6#626,_c7#627] csv\n            +- Project [regexp_replace(origins#520, ,|\\?, ) AS origins#541]\n               +- Filter isnotnull(regexp_replace(origins#520, ,|\\?, ))\n                  +- Generate explode(split(origins#27, ,)), [0], true, [origins#520]\n                     +- Project [origins#27]\n                        +- Filter (((isnotnull(origins#27) && isnotnull(countries#41)) && isnotnull(manufacturing_places#29)) && (countries#41 RLIKE [Ss]witzerland|[Ss]uisse|[Ss]chweiz|[Ss]vizerra && (NOT manufacturing_places#29 RLIKE [Ss]witzerland|[Ss]uisse|[Ss]chweiz|[Ss]vizerra && NOT origins#27 RLIKE [Ss]witzerland|[Ss]uisse|[Ss]chweiz|[Ss]vizerra)))\n                           +- Relation[code#10,url#11,creator#12,created_t#13,created_datetime#14,last_modified_t#15,last_modified_datetime#16,product_name#17,generic_name#18,quantity#19,packaging#20,packaging_tags#21,brands#22,brands_tags#23,categories#24,categories_tags#25,categories_en#26,origins#27,origins_tags#28,manufacturing_places#29,manufacturing_places_tags#30,labels#31,labels_tags#32,labels_en#33,... 149 more fields] csv\nJoin condition is missing or trivial.\nEither: use the CROSS JOIN syntax to allow cartesian products between these\nrelations, or: enable implicit cartesian products by setting the configuration\nvariable spark.sql.crossJoin.enabled=true;\n\tat org.apache.spark.sql.catalyst.optimizer.CheckCartesianProducts$$anonfun$apply$21.applyOrElse(Optimizer.scala:1125)\n\tat org.apache.spark.sql.catalyst.optimizer.CheckCartesianProducts$$anonfun$apply$21.applyOrElse(Optimizer.scala:1122)\n\tat org.apache.spark.sql.catalyst.trees.TreeNode$$anonfun$2.apply(TreeNode.scala:267)\n\tat org.apache.spark.sql.catalyst.trees.TreeNode$$anonfun$2.apply(TreeNode.scala:267)\n\tat org.apache.spark.sql.catalyst.trees.CurrentOrigin$.withOrigin(TreeNode.scala:70)\n\tat org.apache.spark.sql.catalyst.trees.TreeNode.transformDown(TreeNode.scala:266)\n\tat org.apache.spark.sql.catalyst.trees.TreeNode$$anonfun$transformDown$1.apply(TreeNode.scala:272)\n\tat org.apache.spark.sql.catalyst.trees.TreeNode$$anonfun$transformDown$1.apply(TreeNode.scala:272)\n\tat org.apache.spark.sql.catalyst.trees.TreeNode$$anonfun$4.apply(TreeNode.scala:306)\n\tat org.apache.spark.sql.catalyst.trees.TreeNode.mapProductIterator(TreeNode.scala:187)\n\tat org.apache.spark.sql.catalyst.trees.TreeNode.mapChildren(TreeNode.scala:304)\n\tat org.apache.spark.sql.catalyst.trees.TreeNode.transformDown(TreeNode.scala:272)\n\tat org.apache.spark.sql.catalyst.trees.TreeNode$$anonfun$transformDown$1.apply(TreeNode.scala:272)\n\tat org.apache.spark.sql.catalyst.trees.TreeNode$$anonfun$transformDown$1.apply(TreeNode.scala:272)\n\tat org.apache.spark.sql.catalyst.trees.TreeNode$$anonfun$4.apply(TreeNode.scala:306)\n\tat org.apache.spark.sql.catalyst.trees.TreeNode.mapProductIterator(TreeNode.scala:187)\n\tat org.apache.spark.sql.catalyst.trees.TreeNode.mapChildren(TreeNode.scala:304)\n\tat org.apache.spark.sql.catalyst.trees.TreeNode.transformDown(TreeNode.scala:272)\n\tat org.apache.spark.sql.catalyst.trees.TreeNode$$anonfun$transformDown$1.apply(TreeNode.scala:272)\n\tat org.apache.spark.sql.catalyst.trees.TreeNode$$anonfun$transformDown$1.apply(TreeNode.scala:272)\n\tat org.apache.spark.sql.catalyst.trees.TreeNode$$anonfun$4.apply(TreeNode.scala:306)\n\tat org.apache.spark.sql.catalyst.trees.TreeNode.mapProductIterator(TreeNode.scala:187)\n\tat org.apache.spark.sql.catalyst.trees.TreeNode.mapChildren(TreeNode.scala:304)\n\tat org.apache.spark.sql.catalyst.trees.TreeNode.transformDown(TreeNode.scala:272)\n\tat org.apache.spark.sql.catalyst.trees.TreeNode$$anonfun$transformDown$1.apply(TreeNode.scala:272)\n\tat org.apache.spark.sql.catalyst.trees.TreeNode$$anonfun$transformDown$1.apply(TreeNode.scala:272)\n\tat org.apache.spark.sql.catalyst.trees.TreeNode$$anonfun$4.apply(TreeNode.scala:306)\n\tat org.apache.spark.sql.catalyst.trees.TreeNode.mapProductIterator(TreeNode.scala:187)\n\tat org.apache.spark.sql.catalyst.trees.TreeNode.mapChildren(TreeNode.scala:304)\n\tat org.apache.spark.sql.catalyst.trees.TreeNode.transformDown(TreeNode.scala:272)\n\tat org.apache.spark.sql.catalyst.trees.TreeNode.transform(TreeNode.scala:256)\n\tat org.apache.spark.sql.catalyst.optimizer.CheckCartesianProducts$.apply(Optimizer.scala:1122)\n\tat org.apache.spark.sql.catalyst.optimizer.CheckCartesianProducts$.apply(Optimizer.scala:1104)\n\tat org.apache.spark.sql.catalyst.rules.RuleExecutor$$anonfun$execute$1$$anonfun$apply$1.apply(RuleExecutor.scala:87)\n\tat org.apache.spark.sql.catalyst.rules.RuleExecutor$$anonfun$execute$1$$anonfun$apply$1.apply(RuleExecutor.scala:84)\n\tat scala.collection.IndexedSeqOptimized$class.foldl(IndexedSeqOptimized.scala:57)\n\tat scala.collection.IndexedSeqOptimized$class.foldLeft(IndexedSeqOptimized.scala:66)\n\tat scala.collection.mutable.WrappedArray.foldLeft(WrappedArray.scala:35)\n\tat org.apache.spark.sql.catalyst.rules.RuleExecutor$$anonfun$execute$1.apply(RuleExecutor.scala:84)\n\tat org.apache.spark.sql.catalyst.rules.RuleExecutor$$anonfun$execute$1.apply(RuleExecutor.scala:76)\n\tat scala.collection.immutable.List.foreach(List.scala:381)\n\tat org.apache.spark.sql.catalyst.rules.RuleExecutor.execute(RuleExecutor.scala:76)\n\tat org.apache.spark.sql.execution.QueryExecution.optimizedPlan$lzycompute(QueryExecution.scala:66)\n\tat org.apache.spark.sql.execution.QueryExecution.optimizedPlan(QueryExecution.scala:66)\n\tat org.apache.spark.sql.execution.QueryExecution.sparkPlan$lzycompute(QueryExecution.scala:72)\n\tat org.apache.spark.sql.execution.QueryExecution.sparkPlan(QueryExecution.scala:68)\n\tat org.apache.spark.sql.execution.QueryExecution.executedPlan$lzycompute(QueryExecution.scala:77)\n\tat org.apache.spark.sql.execution.QueryExecution.executedPlan(QueryExecution.scala:77)\n\tat org.apache.spark.sql.Dataset.withAction(Dataset.scala:3254)\n\tat org.apache.spark.sql.Dataset.head(Dataset.scala:2489)\n\tat org.apache.spark.sql.Dataset.take(Dataset.scala:2703)\n\tat org.apache.spark.sql.Dataset.showString(Dataset.scala:254)\n\tat sun.reflect.NativeMethodAccessorImpl.invoke0(Native Method)\n\tat sun.reflect.NativeMethodAccessorImpl.invoke(NativeMethodAccessorImpl.java:62)\n\tat sun.reflect.DelegatingMethodAccessorImpl.invoke(DelegatingMethodAccessorImpl.java:43)\n\tat java.lang.reflect.Method.invoke(Method.java:498)\n\tat py4j.reflection.MethodInvoker.invoke(MethodInvoker.java:244)\n\tat py4j.reflection.ReflectionEngine.invoke(ReflectionEngine.java:357)\n\tat py4j.Gateway.invoke(Gateway.java:282)\n\tat py4j.commands.AbstractCommand.invokeMethod(AbstractCommand.java:132)\n\tat py4j.commands.CallCommand.execute(CallCommand.java:79)\n\tat py4j.GatewayConnection.run(GatewayConnection.java:238)\n\tat java.lang.Thread.run(Thread.java:748)\n",
      "\nDuring handling of the above exception, another exception occurred:\n",
      "\u001b[0;31mAnalysisException\u001b[0m                         Traceback (most recent call last)",
      "\u001b[0;32m<ipython-input-34-b65f85d029ca>\u001b[0m in \u001b[0;36m<module>\u001b[0;34m\u001b[0m\n\u001b[0;32m----> 1\u001b[0;31m \u001b[0mnon_swiss_renamed\u001b[0m\u001b[0;34m.\u001b[0m\u001b[0mshow\u001b[0m\u001b[0;34m(\u001b[0m\u001b[0;34m)\u001b[0m\u001b[0;34m\u001b[0m\u001b[0;34m\u001b[0m\u001b[0m\n\u001b[0m",
      "\u001b[0;32m/usr/local/opt/apache-spark/libexec/python/pyspark/sql/dataframe.py\u001b[0m in \u001b[0;36mshow\u001b[0;34m(self, n, truncate, vertical)\u001b[0m\n\u001b[1;32m    348\u001b[0m         \"\"\"\n\u001b[1;32m    349\u001b[0m         \u001b[0;32mif\u001b[0m \u001b[0misinstance\u001b[0m\u001b[0;34m(\u001b[0m\u001b[0mtruncate\u001b[0m\u001b[0;34m,\u001b[0m \u001b[0mbool\u001b[0m\u001b[0;34m)\u001b[0m \u001b[0;32mand\u001b[0m \u001b[0mtruncate\u001b[0m\u001b[0;34m:\u001b[0m\u001b[0;34m\u001b[0m\u001b[0;34m\u001b[0m\u001b[0m\n\u001b[0;32m--> 350\u001b[0;31m             \u001b[0mprint\u001b[0m\u001b[0;34m(\u001b[0m\u001b[0mself\u001b[0m\u001b[0;34m.\u001b[0m\u001b[0m_jdf\u001b[0m\u001b[0;34m.\u001b[0m\u001b[0mshowString\u001b[0m\u001b[0;34m(\u001b[0m\u001b[0mn\u001b[0m\u001b[0;34m,\u001b[0m \u001b[0;36m20\u001b[0m\u001b[0;34m,\u001b[0m \u001b[0mvertical\u001b[0m\u001b[0;34m)\u001b[0m\u001b[0;34m)\u001b[0m\u001b[0;34m\u001b[0m\u001b[0;34m\u001b[0m\u001b[0m\n\u001b[0m\u001b[1;32m    351\u001b[0m         \u001b[0;32melse\u001b[0m\u001b[0;34m:\u001b[0m\u001b[0;34m\u001b[0m\u001b[0;34m\u001b[0m\u001b[0m\n\u001b[1;32m    352\u001b[0m             \u001b[0mprint\u001b[0m\u001b[0;34m(\u001b[0m\u001b[0mself\u001b[0m\u001b[0;34m.\u001b[0m\u001b[0m_jdf\u001b[0m\u001b[0;34m.\u001b[0m\u001b[0mshowString\u001b[0m\u001b[0;34m(\u001b[0m\u001b[0mn\u001b[0m\u001b[0;34m,\u001b[0m \u001b[0mint\u001b[0m\u001b[0;34m(\u001b[0m\u001b[0mtruncate\u001b[0m\u001b[0;34m)\u001b[0m\u001b[0;34m,\u001b[0m \u001b[0mvertical\u001b[0m\u001b[0;34m)\u001b[0m\u001b[0;34m)\u001b[0m\u001b[0;34m\u001b[0m\u001b[0;34m\u001b[0m\u001b[0m\n",
      "\u001b[0;32m/usr/local/opt/apache-spark/libexec/python/lib/py4j-0.10.7-src.zip/py4j/java_gateway.py\u001b[0m in \u001b[0;36m__call__\u001b[0;34m(self, *args)\u001b[0m\n\u001b[1;32m   1255\u001b[0m         \u001b[0manswer\u001b[0m \u001b[0;34m=\u001b[0m \u001b[0mself\u001b[0m\u001b[0;34m.\u001b[0m\u001b[0mgateway_client\u001b[0m\u001b[0;34m.\u001b[0m\u001b[0msend_command\u001b[0m\u001b[0;34m(\u001b[0m\u001b[0mcommand\u001b[0m\u001b[0;34m)\u001b[0m\u001b[0;34m\u001b[0m\u001b[0;34m\u001b[0m\u001b[0m\n\u001b[1;32m   1256\u001b[0m         return_value = get_return_value(\n\u001b[0;32m-> 1257\u001b[0;31m             answer, self.gateway_client, self.target_id, self.name)\n\u001b[0m\u001b[1;32m   1258\u001b[0m \u001b[0;34m\u001b[0m\u001b[0m\n\u001b[1;32m   1259\u001b[0m         \u001b[0;32mfor\u001b[0m \u001b[0mtemp_arg\u001b[0m \u001b[0;32min\u001b[0m \u001b[0mtemp_args\u001b[0m\u001b[0;34m:\u001b[0m\u001b[0;34m\u001b[0m\u001b[0;34m\u001b[0m\u001b[0m\n",
      "\u001b[0;32m/usr/local/opt/apache-spark/libexec/python/pyspark/sql/utils.py\u001b[0m in \u001b[0;36mdeco\u001b[0;34m(*a, **kw)\u001b[0m\n\u001b[1;32m     67\u001b[0m                                              e.java_exception.getStackTrace()))\n\u001b[1;32m     68\u001b[0m             \u001b[0;32mif\u001b[0m \u001b[0ms\u001b[0m\u001b[0;34m.\u001b[0m\u001b[0mstartswith\u001b[0m\u001b[0;34m(\u001b[0m\u001b[0;34m'org.apache.spark.sql.AnalysisException: '\u001b[0m\u001b[0;34m)\u001b[0m\u001b[0;34m:\u001b[0m\u001b[0;34m\u001b[0m\u001b[0;34m\u001b[0m\u001b[0m\n\u001b[0;32m---> 69\u001b[0;31m                 \u001b[0;32mraise\u001b[0m \u001b[0mAnalysisException\u001b[0m\u001b[0;34m(\u001b[0m\u001b[0ms\u001b[0m\u001b[0;34m.\u001b[0m\u001b[0msplit\u001b[0m\u001b[0;34m(\u001b[0m\u001b[0;34m': '\u001b[0m\u001b[0;34m,\u001b[0m \u001b[0;36m1\u001b[0m\u001b[0;34m)\u001b[0m\u001b[0;34m[\u001b[0m\u001b[0;36m1\u001b[0m\u001b[0;34m]\u001b[0m\u001b[0;34m,\u001b[0m \u001b[0mstackTrace\u001b[0m\u001b[0;34m)\u001b[0m\u001b[0;34m\u001b[0m\u001b[0;34m\u001b[0m\u001b[0m\n\u001b[0m\u001b[1;32m     70\u001b[0m             \u001b[0;32mif\u001b[0m \u001b[0ms\u001b[0m\u001b[0;34m.\u001b[0m\u001b[0mstartswith\u001b[0m\u001b[0;34m(\u001b[0m\u001b[0;34m'org.apache.spark.sql.catalyst.analysis'\u001b[0m\u001b[0;34m)\u001b[0m\u001b[0;34m:\u001b[0m\u001b[0;34m\u001b[0m\u001b[0;34m\u001b[0m\u001b[0m\n\u001b[1;32m     71\u001b[0m                 \u001b[0;32mraise\u001b[0m \u001b[0mAnalysisException\u001b[0m\u001b[0;34m(\u001b[0m\u001b[0ms\u001b[0m\u001b[0;34m.\u001b[0m\u001b[0msplit\u001b[0m\u001b[0;34m(\u001b[0m\u001b[0;34m': '\u001b[0m\u001b[0;34m,\u001b[0m \u001b[0;36m1\u001b[0m\u001b[0;34m)\u001b[0m\u001b[0;34m[\u001b[0m\u001b[0;36m1\u001b[0m\u001b[0;34m]\u001b[0m\u001b[0;34m,\u001b[0m \u001b[0mstackTrace\u001b[0m\u001b[0;34m)\u001b[0m\u001b[0;34m\u001b[0m\u001b[0;34m\u001b[0m\u001b[0m\n",
      "\u001b[0;31mAnalysisException\u001b[0m: 'Detected implicit cartesian product for INNER join between logical plans\\nProject [product_name#17, brands#22, brands_tags#23, categories#24, categories_tags#25, regexp_replace(origins#520, ,|\\\\?, ) AS origins#541, origins_tags#28, manufacturing_places#29, manufacturing_places_tags#30, labels#31, labels_tags#32, emb_codes#34, emb_codes_tags#35, first_packaging_code_geo#36, cities#37, cities_tags#38, purchase_places#39, stores#40, countries#41, countries_tags#42]\\n+- Generate explode(split(origins#27, ,)), [5], true, [origins#520]\\n   +- Project [product_name#17, brands#22, brands_tags#23, categories#24, categories_tags#25, origins#27, origins_tags#28, manufacturing_places#29, manufacturing_places_tags#30, labels#31, labels_tags#32, emb_codes#34, emb_codes_tags#35, first_packaging_code_geo#36, cities#37, cities_tags#38, purchase_places#39, stores#40, countries#41, countries_tags#42]\\n      +- Filter (((isnotnull(origins#27) && isnotnull(countries#41)) && isnotnull(manufacturing_places#29)) && (countries#41 RLIKE [Ss]witzerland|[Ss]uisse|[Ss]chweiz|[Ss]vizerra && (NOT manufacturing_places#29 RLIKE [Ss]witzerland|[Ss]uisse|[Ss]chweiz|[Ss]vizerra && NOT origins#27 RLIKE [Ss]witzerland|[Ss]uisse|[Ss]chweiz|[Ss]vizerra)))\\n         +- Relation[code#10,url#11,creator#12,created_t#13,created_datetime#14,last_modified_t#15,last_modified_datetime#16,product_name#17,generic_name#18,quantity#19,packaging#20,packaging_tags#21,brands#22,brands_tags#23,categories#24,categories_tags#25,categories_en#26,origins#27,origins_tags#28,manufacturing_places#29,manufacturing_places_tags#30,labels#31,labels_tags#32,labels_en#33,... 149 more fields] csv\\nand\\nFilter isnotnull(Id#1475)\\n+- GlobalLimit 1\\n   +- LocalLimit 1\\n      +- Project [alternateNameId#1094 AS Id#1475]\\n         +- Join Inner, origins#541 LIKE alternate_name#1121\\n            :- Project [_c0#620 AS alternateNameId#1094, _c3#623 AS alternate_name#1121]\\n            :  +- Filter isnotnull(_c3#623)\\n            :     +- Relation[_c0#620,_c1#621,_c2#622,_c3#623,_c4#624,_c5#625,_c6#626,_c7#627] csv\\n            +- Project [regexp_replace(origins#520, ,|\\\\?, ) AS origins#541]\\n               +- Filter isnotnull(regexp_replace(origins#520, ,|\\\\?, ))\\n                  +- Generate explode(split(origins#27, ,)), [0], true, [origins#520]\\n                     +- Project [origins#27]\\n                        +- Filter (((isnotnull(origins#27) && isnotnull(countries#41)) && isnotnull(manufacturing_places#29)) && (countries#41 RLIKE [Ss]witzerland|[Ss]uisse|[Ss]chweiz|[Ss]vizerra && (NOT manufacturing_places#29 RLIKE [Ss]witzerland|[Ss]uisse|[Ss]chweiz|[Ss]vizerra && NOT origins#27 RLIKE [Ss]witzerland|[Ss]uisse|[Ss]chweiz|[Ss]vizerra)))\\n                           +- Relation[code#10,url#11,creator#12,created_t#13,created_datetime#14,last_modified_t#15,last_modified_datetime#16,product_name#17,generic_name#18,quantity#19,packaging#20,packaging_tags#21,brands#22,brands_tags#23,categories#24,categories_tags#25,categories_en#26,origins#27,origins_tags#28,manufacturing_places#29,manufacturing_places_tags#30,labels#31,labels_tags#32,labels_en#33,... 149 more fields] csv\\nJoin condition is missing or trivial.\\nEither: use the CROSS JOIN syntax to allow cartesian products between these\\nrelations, or: enable implicit cartesian products by setting the configuration\\nvariable spark.sql.crossJoin.enabled=true;'"
     ]
    }
   ],
   "source": [
    "non_swiss_renamed.show()"
   ]
  },
  {
   "cell_type": "code",
   "execution_count": 36,
   "metadata": {},
   "outputs": [],
   "source": [
    "non_swiss_sold.createOrReplaceTempView(\"non_swiss_data\")\n",
    "non_swiss_renamed_02 = spark.sql(\"SELECT d1.*, d2.geonameid AS manufacture_geonameid FROM non_swiss_data d1 INNER JOIN alter_names d2 ON d2.alternate_name LIKE d1.manufacturing_places LIMIT 1\")"
   ]
  },
  {
   "cell_type": "code",
   "execution_count": 37,
   "metadata": {},
   "outputs": [
    {
     "data": {
      "text/plain": [
       "1"
      ]
     },
     "execution_count": 37,
     "metadata": {},
     "output_type": "execute_result"
    }
   ],
   "source": [
    "non_swiss_renamed_02.count()"
   ]
  },
  {
   "cell_type": "code",
   "execution_count": null,
   "metadata": {},
   "outputs": [],
   "source": [
    "non_swiss_sold.count()"
   ]
  },
  {
   "cell_type": "code",
   "execution_count": null,
   "metadata": {},
   "outputs": [],
   "source": [
    "#Finding right country name for origins and manufacturing places\n",
    "non_swiss_renamed_02.createOrReplaceTempView(\"non_swiss_data_03\")\n",
    "non_swiss_db = spark.sql(\"SELECT d1.*, country_names.country_code AS origins_country_code FROM non_swiss_data_03 d1 LEFT JOIN country_names ON d1.origins_geonameid = country_names.geonameid\")\n",
    "non_swiss_db.createOrReplaceTempView(\"non_swiss_data_04\")\n",
    "non_swiss_db = spark.sql(\"SELECT d1.*, country_names.country_code AS manufacture_country_code FROM non_swiss_data_04 d1 LEFT JOIN country_names ON d1.manufacture_geonameid = country_names.geonameid\")"
   ]
  },
  {
   "cell_type": "code",
   "execution_count": null,
   "metadata": {},
   "outputs": [],
   "source": []
  },
  {
   "cell_type": "code",
   "execution_count": null,
   "metadata": {},
   "outputs": [],
   "source": [
    "non_swiss_db.show()"
   ]
  },
  {
   "cell_type": "code",
   "execution_count": null,
   "metadata": {},
   "outputs": [],
   "source": [
    "non_swiss_db.createOrReplaceTempView(\"non_swiss_origins\")\n",
    "non_swiss_tot = spark.sql(\"SELECT origins_country_code, COUNT(origins_country_code) AS tot_origins FROM non_swiss_origins GROUP BY origins_country_code\")\n",
    "non_swiss_db_pd = non_swiss_tot.toPandas()\n",
    "non_swiss_db_pd.to_csv('non_swiss_db.csv')"
   ]
  },
  {
   "cell_type": "markdown",
   "metadata": {},
   "source": [
    "The dataset is not concistent with the country or places name, therefore, we have to clean the data by trying to unify a maximum the places names. The database http://download.geonames.org/export/dump/ is used in order to match all the different way of naming a country to a single convention"
   ]
  },
  {
   "cell_type": "markdown",
   "metadata": {},
   "source": [
    "## Descriptive Analysis"
   ]
  },
  {
   "cell_type": "code",
   "execution_count": null,
   "metadata": {},
   "outputs": [],
   "source": []
  },
  {
   "cell_type": "code",
   "execution_count": null,
   "metadata": {},
   "outputs": [],
   "source": [
    "non_swiss_pd = non_swiss_tot.toPandas() "
   ]
  },
  {
   "cell_type": "code",
   "execution_count": null,
   "metadata": {},
   "outputs": [],
   "source": [
    "non_swiss_pd_sorted.tot"
   ]
  },
  {
   "cell_type": "code",
   "execution_count": null,
   "metadata": {},
   "outputs": [],
   "source": [
    "fig, ax = plt.subplots()\n",
    "plt.bar(non_swiss_pd_sorted.country_code, non_swiss_pd_sorted.tot)\n",
    "plt.ylabel('Total')  \n",
    "plt.xlabel('Countries')  \n",
    "plt.xticks(non_swiss_pd_sorted.country_code, rotation='vertical')\n",
    "plt.title('Origin of 10 bigger ingredients imports')\n",
    "plt.show()"
   ]
  },
  {
   "cell_type": "code",
   "execution_count": null,
   "metadata": {},
   "outputs": [],
   "source": [
    "non_swiss_pd_sorted = non_swiss_pd.sort_values(by=['tot'], ascending=False)\n",
    "twenty_bigger_import = non_swiss_pd_sorted.head(20)"
   ]
  },
  {
   "cell_type": "code",
   "execution_count": null,
   "metadata": {},
   "outputs": [],
   "source": [
    "fig, ax = plt.subplots()\n",
    "plt.bar(twenty_bigger_import.country_code, twenty_bigger_import.tot)\n",
    "plt.ylabel('Total')  \n",
    "plt.xlabel('Countries')  \n",
    "plt.xticks(twenty_bigger_import.country_code, rotation='vertical')\n",
    "plt.title('Origin of 10 bigger ingredients imports')\n",
    "plt.show()"
   ]
  },
  {
   "cell_type": "markdown",
   "metadata": {},
   "source": [
    "## Data Preprocessing"
   ]
  },
  {
   "cell_type": "code",
   "execution_count": null,
   "metadata": {},
   "outputs": [],
   "source": []
  }
 ],
 "metadata": {
  "kernelspec": {
   "display_name": "Python 3",
   "language": "python",
   "name": "python3"
  },
  "language_info": {
   "codemirror_mode": {
    "name": "ipython",
    "version": 3
   },
   "file_extension": ".py",
   "mimetype": "text/x-python",
   "name": "python",
   "nbconvert_exporter": "python",
   "pygments_lexer": "ipython3",
   "version": "3.6.6"
  }
 },
 "nbformat": 4,
 "nbformat_minor": 2
}
