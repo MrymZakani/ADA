{
 "cells": [
  {
   "cell_type": "code",
   "execution_count": 1,
   "metadata": {},
   "outputs": [],
   "source": [
    "import pandas as pd\n",
    "import numpy as np\n",
    "import scipy as sp\n",
    "import scipy.stats as stats\n",
    "import matplotlib.pyplot as plt"
   ]
  },
  {
   "cell_type": "code",
   "execution_count": 120,
   "metadata": {},
   "outputs": [],
   "source": [
    "import sys"
   ]
  },
  {
   "cell_type": "markdown",
   "metadata": {},
   "source": [
    "### Reading data"
   ]
  },
  {
   "cell_type": "code",
   "execution_count": 122,
   "metadata": {},
   "outputs": [],
   "source": [
    "DATA_FOLDER = './data/'"
   ]
  },
  {
   "cell_type": "code",
   "execution_count": 123,
   "metadata": {},
   "outputs": [
    {
     "name": "stderr",
     "output_type": "stream",
     "text": [
      "/Library/Frameworks/Python.framework/Versions/3.6/lib/python3.6/site-packages/IPython/core/interactiveshell.py:3020: DtypeWarning: Columns (0,3,5,24,25,26,28,36,41,49) have mixed types. Specify dtype option on import or set low_memory=False.\n",
      "  interactivity=interactivity, compiler=compiler, result=result)\n"
     ]
    }
   ],
   "source": [
    "openfood_file = \"en.openfoodfacts.org.products.csv\"\n",
    "openfood = pd.read_csv(DATA_FOLDER + openfood_file, sep = '\\t')"
   ]
  },
  {
   "cell_type": "markdown",
   "metadata": {},
   "source": [
    "### Remembering Research question"
   ]
  },
  {
   "cell_type": "markdown",
   "metadata": {},
   "source": [
    "2. Is there a trend over time to consume more local products?\n",
    "\n",
    "    - Are new products mostly using primary resources from Switzerland? Or from other countries inside Europe?\n",
    "    - Are new products mostly manufactured in Switzerland? Or from other countries inside Europe?\n",
    "    - Is there a trend over time to local products to promote their origin?"
   ]
  },
  {
   "cell_type": "markdown",
   "metadata": {},
   "source": [
    "The first decision is to narrow down the search, just for Switzerland products"
   ]
  },
  {
   "cell_type": "code",
   "execution_count": 178,
   "metadata": {},
   "outputs": [],
   "source": [
    "foodSwitzerland = openfood[openfood['countries_tags']==\"en:switzerland\"]"
   ]
  },
  {
   "cell_type": "code",
   "execution_count": 179,
   "metadata": {},
   "outputs": [
    {
     "name": "stdout",
     "output_type": "stream",
     "text": [
      "Number of products:  13454\n"
     ]
    },
    {
     "data": {
      "text/html": [
       "<div>\n",
       "<style scoped>\n",
       "    .dataframe tbody tr th:only-of-type {\n",
       "        vertical-align: middle;\n",
       "    }\n",
       "\n",
       "    .dataframe tbody tr th {\n",
       "        vertical-align: top;\n",
       "    }\n",
       "\n",
       "    .dataframe thead th {\n",
       "        text-align: right;\n",
       "    }\n",
       "</style>\n",
       "<table border=\"1\" class=\"dataframe\">\n",
       "  <thead>\n",
       "    <tr style=\"text-align: right;\">\n",
       "      <th></th>\n",
       "      <th>code</th>\n",
       "      <th>url</th>\n",
       "      <th>creator</th>\n",
       "      <th>created_t</th>\n",
       "      <th>created_datetime</th>\n",
       "      <th>last_modified_t</th>\n",
       "      <th>last_modified_datetime</th>\n",
       "      <th>product_name</th>\n",
       "      <th>generic_name</th>\n",
       "      <th>quantity</th>\n",
       "      <th>...</th>\n",
       "      <th>carbon-footprint_100g</th>\n",
       "      <th>nutrition-score-fr_100g</th>\n",
       "      <th>nutrition-score-uk_100g</th>\n",
       "      <th>glycemic-index_100g</th>\n",
       "      <th>water-hardness_100g</th>\n",
       "      <th>choline_100g</th>\n",
       "      <th>phylloquinone_100g</th>\n",
       "      <th>beta-glucan_100g</th>\n",
       "      <th>inositol_100g</th>\n",
       "      <th>carnitine_100g</th>\n",
       "    </tr>\n",
       "  </thead>\n",
       "  <tbody>\n",
       "    <tr>\n",
       "      <th>285</th>\n",
       "      <td>0000003301098</td>\n",
       "      <td>http://world-en.openfoodfacts.org/product/0000...</td>\n",
       "      <td>openfoodfacts-contributors</td>\n",
       "      <td>1527593074</td>\n",
       "      <td>2018-05-29T11:24:34Z</td>\n",
       "      <td>1527593109</td>\n",
       "      <td>2018-05-29T11:25:09Z</td>\n",
       "      <td>Mini cuchaule au beurre</td>\n",
       "      <td>NaN</td>\n",
       "      <td>100 g</td>\n",
       "      <td>...</td>\n",
       "      <td>NaN</td>\n",
       "      <td>NaN</td>\n",
       "      <td>NaN</td>\n",
       "      <td>NaN</td>\n",
       "      <td>NaN</td>\n",
       "      <td>NaN</td>\n",
       "      <td>NaN</td>\n",
       "      <td>NaN</td>\n",
       "      <td>NaN</td>\n",
       "      <td>NaN</td>\n",
       "    </tr>\n",
       "    <tr>\n",
       "      <th>356</th>\n",
       "      <td>0000013000004</td>\n",
       "      <td>http://world-en.openfoodfacts.org/product/0000...</td>\n",
       "      <td>openfoodfacts-contributors</td>\n",
       "      <td>1484431999</td>\n",
       "      <td>2017-01-14T22:13:19Z</td>\n",
       "      <td>1484432028</td>\n",
       "      <td>2017-01-14T22:13:48Z</td>\n",
       "      <td>Kochspeck</td>\n",
       "      <td>NaN</td>\n",
       "      <td>686 g</td>\n",
       "      <td>...</td>\n",
       "      <td>NaN</td>\n",
       "      <td>NaN</td>\n",
       "      <td>NaN</td>\n",
       "      <td>NaN</td>\n",
       "      <td>NaN</td>\n",
       "      <td>NaN</td>\n",
       "      <td>NaN</td>\n",
       "      <td>NaN</td>\n",
       "      <td>NaN</td>\n",
       "      <td>NaN</td>\n",
       "    </tr>\n",
       "    <tr>\n",
       "      <th>1040</th>\n",
       "      <td>00025393</td>\n",
       "      <td>http://world-en.openfoodfacts.org/product/0002...</td>\n",
       "      <td>openfoodfacts-contributors</td>\n",
       "      <td>1530019114</td>\n",
       "      <td>2018-06-26T13:18:34Z</td>\n",
       "      <td>1530019311</td>\n",
       "      <td>2018-06-26T13:21:51Z</td>\n",
       "      <td>Salade de lentilles</td>\n",
       "      <td>NaN</td>\n",
       "      <td>200 g</td>\n",
       "      <td>...</td>\n",
       "      <td>NaN</td>\n",
       "      <td>NaN</td>\n",
       "      <td>NaN</td>\n",
       "      <td>NaN</td>\n",
       "      <td>NaN</td>\n",
       "      <td>NaN</td>\n",
       "      <td>NaN</td>\n",
       "      <td>NaN</td>\n",
       "      <td>NaN</td>\n",
       "      <td>NaN</td>\n",
       "    </tr>\n",
       "    <tr>\n",
       "      <th>1329</th>\n",
       "      <td>0007200000021</td>\n",
       "      <td>http://world-en.openfoodfacts.org/product/0007...</td>\n",
       "      <td>date-limite-app</td>\n",
       "      <td>1418991821</td>\n",
       "      <td>2014-12-19T12:23:41Z</td>\n",
       "      <td>1442754589</td>\n",
       "      <td>2015-09-20T13:09:49Z</td>\n",
       "      <td>Sauce bolognaise</td>\n",
       "      <td>NaN</td>\n",
       "      <td>420 g</td>\n",
       "      <td>...</td>\n",
       "      <td>NaN</td>\n",
       "      <td>NaN</td>\n",
       "      <td>NaN</td>\n",
       "      <td>NaN</td>\n",
       "      <td>NaN</td>\n",
       "      <td>NaN</td>\n",
       "      <td>NaN</td>\n",
       "      <td>NaN</td>\n",
       "      <td>NaN</td>\n",
       "      <td>NaN</td>\n",
       "    </tr>\n",
       "    <tr>\n",
       "      <th>2171</th>\n",
       "      <td>0010000002218</td>\n",
       "      <td>http://world-en.openfoodfacts.org/product/0010...</td>\n",
       "      <td>date-limite-app</td>\n",
       "      <td>1442659864</td>\n",
       "      <td>2015-09-19T10:51:04Z</td>\n",
       "      <td>1461430836</td>\n",
       "      <td>2016-04-23T17:00:36Z</td>\n",
       "      <td>Ikea Lachs</td>\n",
       "      <td>NaN</td>\n",
       "      <td>NaN</td>\n",
       "      <td>...</td>\n",
       "      <td>NaN</td>\n",
       "      <td>NaN</td>\n",
       "      <td>NaN</td>\n",
       "      <td>NaN</td>\n",
       "      <td>NaN</td>\n",
       "      <td>NaN</td>\n",
       "      <td>NaN</td>\n",
       "      <td>NaN</td>\n",
       "      <td>NaN</td>\n",
       "      <td>NaN</td>\n",
       "    </tr>\n",
       "  </tbody>\n",
       "</table>\n",
       "<p>5 rows × 173 columns</p>\n",
       "</div>"
      ],
      "text/plain": [
       "               code                                                url  \\\n",
       "285   0000003301098  http://world-en.openfoodfacts.org/product/0000...   \n",
       "356   0000013000004  http://world-en.openfoodfacts.org/product/0000...   \n",
       "1040       00025393  http://world-en.openfoodfacts.org/product/0002...   \n",
       "1329  0007200000021  http://world-en.openfoodfacts.org/product/0007...   \n",
       "2171  0010000002218  http://world-en.openfoodfacts.org/product/0010...   \n",
       "\n",
       "                         creator   created_t      created_datetime  \\\n",
       "285   openfoodfacts-contributors  1527593074  2018-05-29T11:24:34Z   \n",
       "356   openfoodfacts-contributors  1484431999  2017-01-14T22:13:19Z   \n",
       "1040  openfoodfacts-contributors  1530019114  2018-06-26T13:18:34Z   \n",
       "1329             date-limite-app  1418991821  2014-12-19T12:23:41Z   \n",
       "2171             date-limite-app  1442659864  2015-09-19T10:51:04Z   \n",
       "\n",
       "     last_modified_t last_modified_datetime             product_name  \\\n",
       "285       1527593109   2018-05-29T11:25:09Z  Mini cuchaule au beurre   \n",
       "356       1484432028   2017-01-14T22:13:48Z                Kochspeck   \n",
       "1040      1530019311   2018-06-26T13:21:51Z      Salade de lentilles   \n",
       "1329      1442754589   2015-09-20T13:09:49Z         Sauce bolognaise   \n",
       "2171      1461430836   2016-04-23T17:00:36Z               Ikea Lachs   \n",
       "\n",
       "     generic_name quantity      ...       carbon-footprint_100g  \\\n",
       "285           NaN    100 g      ...                         NaN   \n",
       "356           NaN    686 g      ...                         NaN   \n",
       "1040          NaN    200 g      ...                         NaN   \n",
       "1329          NaN    420 g      ...                         NaN   \n",
       "2171          NaN      NaN      ...                         NaN   \n",
       "\n",
       "     nutrition-score-fr_100g nutrition-score-uk_100g glycemic-index_100g  \\\n",
       "285                      NaN                     NaN                 NaN   \n",
       "356                      NaN                     NaN                 NaN   \n",
       "1040                     NaN                     NaN                 NaN   \n",
       "1329                     NaN                     NaN                 NaN   \n",
       "2171                     NaN                     NaN                 NaN   \n",
       "\n",
       "     water-hardness_100g choline_100g phylloquinone_100g beta-glucan_100g  \\\n",
       "285                  NaN          NaN                NaN              NaN   \n",
       "356                  NaN          NaN                NaN              NaN   \n",
       "1040                 NaN          NaN                NaN              NaN   \n",
       "1329                 NaN          NaN                NaN              NaN   \n",
       "2171                 NaN          NaN                NaN              NaN   \n",
       "\n",
       "     inositol_100g carnitine_100g  \n",
       "285            NaN            NaN  \n",
       "356            NaN            NaN  \n",
       "1040           NaN            NaN  \n",
       "1329           NaN            NaN  \n",
       "2171           NaN            NaN  \n",
       "\n",
       "[5 rows x 173 columns]"
      ]
     },
     "execution_count": 179,
     "metadata": {},
     "output_type": "execute_result"
    }
   ],
   "source": [
    "nbProdSwit = len(foodSwitzerland)\n",
    "print(\"Number of products: \", nbProdSwit)\n",
    "foodSwitzerland.head()"
   ]
  },
  {
   "cell_type": "markdown",
   "metadata": {},
   "source": [
    "## 2. A first perspective: Compare old vs new products inside the dataset"
   ]
  },
  {
   "cell_type": "markdown",
   "metadata": {},
   "source": [
    "_Assumption: Given two products, if the description of the first product was uploaded earlier to the dataset than the description of the second product, then the first product was earlier in the market than the second product._"
   ]
  },
  {
   "cell_type": "markdown",
   "metadata": {},
   "source": [
    "A first perspective to tackle the research question, is to compare how in this more than 6 years of existance of the dataset, the characteristics of the products have changed. Specifically, we would like to know if there have been some changes in the origin of the primary resources, or in the origin of the manufacture or in the labels of the products.\n",
    "\n",
    "The study of the evolution in time of each one of those features, will include an __exploratory data analysis__, and will calculate the __correlation__ between each feature and the time.\n",
    "Finally, a study including the three features will be done, aiming to find an aggregated differentiated behavior in time, reflected in different clusters of periods of time. For that the __K-modes algorithm__ will be used."
   ]
  },
  {
   "cell_type": "code",
   "execution_count": 163,
   "metadata": {
    "scrolled": true
   },
   "outputs": [
    {
     "name": "stdout",
     "output_type": "stream",
     "text": [
      "Date of first upload:  2012-05-16T18:33:35Z\n",
      "Date of last upload retrieved:  2018-11-23T08:40:49Z\n"
     ]
    }
   ],
   "source": [
    "print(\"Date of first upload: \", min(foodSwitzerland['created_datetime']))\n",
    "print(\"Date of last upload retrieved: \", max(foodSwitzerland['created_datetime']))"
   ]
  },
  {
   "cell_type": "code",
   "execution_count": 180,
   "metadata": {},
   "outputs": [
    {
     "name": "stderr",
     "output_type": "stream",
     "text": [
      "/Library/Frameworks/Python.framework/Versions/3.6/lib/python3.6/site-packages/ipykernel_launcher.py:1: SettingWithCopyWarning: \n",
      "A value is trying to be set on a copy of a slice from a DataFrame.\n",
      "Try using .loc[row_indexer,col_indexer] = value instead\n",
      "\n",
      "See the caveats in the documentation: http://pandas.pydata.org/pandas-docs/stable/indexing.html#indexing-view-versus-copy\n",
      "  \"\"\"Entry point for launching an IPython kernel.\n"
     ]
    }
   ],
   "source": [
    "foodSwitzerland['created_datetime'] = pd.to_datetime(foodSwitzerland['created_datetime'])\n",
    "foodSwitzerland = foodSwitzerland.sort_values(by='created_datetime')"
   ]
  },
  {
   "cell_type": "markdown",
   "metadata": {},
   "source": [
    "The uploads of products sold in Switzerland, behaves differently in time. Taking into account the histogram presented below, three periods of time are defined:\n",
    "- Period 1: Created for studying the behaviour \"before\". Goes from May 2012, until Jan 2017\n",
    "- Period 2: Includes most of the points. Just includes Feb 2017. \n",
    "- Period 3: reated for studying the behaviour \"after\". Goes from March 2017, until Nov 2018"
   ]
  },
  {
   "cell_type": "code",
   "execution_count": 128,
   "metadata": {
    "scrolled": true
   },
   "outputs": [
    {
     "name": "stdout",
     "output_type": "stream",
     "text": [
      "33.3% of data before:  2017-02-07 20:17:49\n",
      "66.6% of data before:  2017-02-07 22:28:19\n",
      "All data before: 2018-11-23 08:40:49\n"
     ]
    },
    {
     "data": {
      "text/plain": [
       "<matplotlib.axes._subplots.AxesSubplot at 0x136a1a5c0>"
      ]
     },
     "execution_count": 128,
     "metadata": {},
     "output_type": "execute_result"
    },
    {
     "data": {
      "image/png": "[encoded data removed]",
      "text/plain": [
       "<Figure size 432x288 with 1 Axes>"
      ]
     },
     "metadata": {
      "needs_background": "light"
     },
     "output_type": "display_data"
    }
   ],
   "source": [
    "delta_period = int(len(foodSwitzerland)/3)\n",
    "print(\"33.3% of data before: \", foodSwitzerland['created_datetime'].iloc[delta_period])\n",
    "print(\"66.6% of data before: \", foodSwitzerland['created_datetime'].iloc[2*delta_period])\n",
    "print(\"All data before:\", max(foodSwitzerland['created_datetime']))\n",
    "foodSwitzerland['created_datetime'].hist()"
   ]
  },
  {
   "cell_type": "markdown",
   "metadata": {},
   "source": [
    "Before making subdivision of data:"
   ]
  },
  {
   "cell_type": "code",
   "execution_count": 347,
   "metadata": {},
   "outputs": [],
   "source": [
    "filter_ch = '[Ss]witzerland|[Ss]uisse|[Ss]chweiz|[Ss]vizerra'\n",
    "filter_local = '[Ss]witzerland|[Ss]uisse|[Ss]chweiz|[Ss]vizerra|[Ll]ocal'\n",
    "\n",
    "place = pd.Series(['Other country','Switzerland', 'No information'], index=[0,1,2])\n",
    "refLabel = pd.Series(['Other Label','Related with Switzerland', 'No information'], index=[0,1,2]) \n",
    "\n",
    "foodSwitzerland[\"originsCat\"] = foodSwitzerland[\"origins\"].str.contains(filter_ch,regex=True).map(place,na_action='ignore')\n",
    "foodSwitzerland[\"manuCat\"] = foodSwitzerland[\"manufacturing_places\"].str.contains(filter_ch,regex=True).map(place,na_action='ignore')\n",
    "foodSwitzerland[\"labCat\"] = foodSwitzerland[\"labels_tags\"].str.contains(filter_local,regex=True).map(refLabel,na_action='ignore')"
   ]
  },
  {
   "cell_type": "markdown",
   "metadata": {},
   "source": [
    "Now, let's do the subdivision in the three periods:"
   ]
  },
  {
   "cell_type": "code",
   "execution_count": 348,
   "metadata": {},
   "outputs": [
    {
     "name": "stdout",
     "output_type": "stream",
     "text": [
      "Number of observations:  2294\n"
     ]
    }
   ],
   "source": [
    "foodSwitzerlandBef = foodSwitzerland[foodSwitzerland['created_datetime']<\"2017-02-01 00:00:00\"]\n",
    "print(\"Number of observations: \", len(foodSwitzerlandBef))"
   ]
  },
  {
   "cell_type": "code",
   "execution_count": 349,
   "metadata": {},
   "outputs": [
    {
     "name": "stdout",
     "output_type": "stream",
     "text": [
      "Number of observations:  9126\n"
     ]
    }
   ],
   "source": [
    "foodSwitzerlandDur = foodSwitzerland[foodSwitzerland['created_datetime']>=\"2017-02-01 00:00:00\"]\n",
    "foodSwitzerlandDur = foodSwitzerlandDur[foodSwitzerlandDur['created_datetime']<\"2017-03-01 00:00:00\"]\n",
    "print(\"Number of observations: \", len(foodSwitzerlandDur))"
   ]
  },
  {
   "cell_type": "code",
   "execution_count": 350,
   "metadata": {},
   "outputs": [
    {
     "name": "stdout",
     "output_type": "stream",
     "text": [
      "Number of observations:  2034\n"
     ]
    }
   ],
   "source": [
    "foodSwitzerlandAft = foodSwitzerland[foodSwitzerland['created_datetime']>=\"2017-03-01 00:00:00\"]\n",
    "print(\"Number of observations: \", len(foodSwitzerlandAft))"
   ]
  },
  {
   "cell_type": "markdown",
   "metadata": {},
   "source": [
    "### 2.1. Study of the evolution in time of each one of the interest features"
   ]
  },
  {
   "cell_type": "markdown",
   "metadata": {},
   "source": [
    "### 2.1.1 With respect to: Origin of the primary resources"
   ]
  },
  {
   "cell_type": "markdown",
   "metadata": {},
   "source": [
    "First, bootstrapping for include confidence intervals to results"
   ]
  },
  {
   "cell_type": "code",
   "execution_count": 338,
   "metadata": {},
   "outputs": [],
   "source": [
    "#Define vectores to store results\n",
    "pearson_100ite = np.zeros (100)\n",
    "pearsonNoNan_100ite = np.zeros (100)\n",
    "#before\n",
    "propSB_100ite = np.zeros (100)\n",
    "propOCB_100ite = np.zeros (100)\n",
    "#during\n",
    "propSD_100ite = np.zeros (100)\n",
    "propOCD_100ite = np.zeros (100)\n",
    "#after\n",
    "propSA_100ite = np.zeros (100)\n",
    "propOCA_100ite = np.zeros (100)\n",
    "\n",
    "for iteration in range(0,100):\n",
    "    #before\n",
    "    temp_bef = foodSwitzerlandBef[\"originsCat\"].sample(n=len(foodSwitzerlandBef), replace=True)\n",
    "    propSB_100ite[iteration] = sum(temp_bef==\"Switzerland\")/len(foodSwitzerlandBef)\n",
    "    propOCB_100ite[iteration] = sum(temp_bef==\"Other country\")/len(foodSwitzerlandBef)\n",
    "    #during\n",
    "    temp_dur = foodSwitzerlandDur[\"originsCat\"].sample(n=len(foodSwitzerlandDur), replace=True)\n",
    "    propSD_100ite[iteration] = sum(temp_dur==\"Switzerland\")/len(foodSwitzerlandDur)\n",
    "    propOCD_100ite[iteration] = sum(temp_dur==\"Other country\")/len(foodSwitzerlandDur)\n",
    "    #after\n",
    "    temp_aft = foodSwitzerlandAft[\"originsCat\"].sample(n=len(foodSwitzerlandAft), replace=True)\n",
    "    propSA_100ite[iteration] = sum(temp_aft==\"Switzerland\")/len(foodSwitzerlandAft)\n",
    "    propOCA_100ite[iteration] = sum(temp_aft==\"Other country\")/len(foodSwitzerlandAft)\n",
    "    \n",
    "    #Relation of time evolution and difference of products in each categories\n",
    "    difpropB = propSB_100ite[iteration]-propOCB_100ite[iteration]\n",
    "    difpropD = propSB_100ite[iteration]-propOCD_100ite[iteration]\n",
    "    difpropA = propSB_100ite[iteration]-propOCA_100ite[iteration]\n",
    "    pearson_100ite[iteration] = np.corrcoef([difpropB,difpropD,difpropA],[1,2,3])[0][1]\n",
    "    ##scale so Nan effect is not a problem\n",
    "    minB = min(propSB_100ite[iteration],propOCB_100ite[iteration])\n",
    "    minD = min(propSD_100ite[iteration],propOCD_100ite[iteration])\n",
    "    minA = min(propSA_100ite[iteration],propOCA_100ite[iteration])\n",
    "    pearsonNoNan_100ite[iteration] = np.corrcoef([difpropB/minB,difpropD/minD,difpropA/minA],[1,2,3])[0][1]\n",
    "\n",
    "#Calculating standard deviation of count of each category\n",
    "SBstd = propSB_100ite.std()\n",
    "OCBstd = propOCB_100ite.std()\n",
    "#Calculating standard deviation of count of each category\n",
    "SDstd = propSD_100ite.std()\n",
    "OCDstd = propOCD_100ite.std()\n",
    "#Calculating standard deviation of count of each category\n",
    "SAstd = propSA_100ite.std()\n",
    "OCAstd = propOCA_100ite.std()"
   ]
  },
  {
   "cell_type": "markdown",
   "metadata": {},
   "source": [
    "Then, plotting of behavior "
   ]
  },
  {
   "cell_type": "code",
   "execution_count": 336,
   "metadata": {},
   "outputs": [
    {
     "name": "stdout",
     "output_type": "stream",
     "text": [
      "There was not information for  1951  products in the period 1.\n",
      "There was not information for  8826  products in the period 2.\n",
      "There was not information for  1935  products in the period 3.\n"
     ]
    },
    {
     "data": {
      "image/png": "[encoded data removed]",
      "text/plain": [
       "<Figure size 1080x360 with 3 Axes>"
      ]
     },
     "metadata": {
      "needs_background": "light"
     },
     "output_type": "display_data"
    }
   ],
   "source": [
    "#Report information of NAN cases\n",
    "fig, axes = plt.subplots(nrows=1, ncols=3, figsize=(15,5))\n",
    "print(\"There was not information for \",len(foodSwitzerlandBef[\"originsCat\"])-sum(foodSwitzerlandBef[\"originsCat\"]==\"Switzerland\")-sum(foodSwitzerlandBef[\"originsCat\"]==\"Other country\"),\" products in the period 1.\")\n",
    "print(\"There was not information for \",len(foodSwitzerlandDur[\"originsCat\"])-sum(foodSwitzerlandDur[\"originsCat\"]==\"Switzerland\")-sum(foodSwitzerlandDur[\"originsCat\"]==\"Other country\"),\" products in the period 2.\")\n",
    "print(\"There was not information for \",len(foodSwitzerlandAft[\"originsCat\"])-sum(foodSwitzerlandAft[\"originsCat\"]==\"Switzerland\")-sum(foodSwitzerlandAft[\"originsCat\"]==\"Other country\"),\" products in the period 3.\")\n",
    "\n",
    "#Plot origin of primary resources by periods\n",
    "plt.subplot(1,3,1)\n",
    "\n",
    "xB = [foodSwitzerlandBef[\"originsCat\"].value_counts()[0], foodSwitzerlandBef[\"originsCat\"].value_counts()[1]]\n",
    "xD = [foodSwitzerlandDur[\"originsCat\"].value_counts()[0], foodSwitzerlandDur[\"originsCat\"].value_counts()[1]]\n",
    "xA = [foodSwitzerlandAft[\"originsCat\"].value_counts()[1], foodSwitzerlandAft[\"originsCat\"].value_counts()[0]]\n",
    "\n",
    "(foodSwitzerlandBef[\"originsCat\"].value_counts()/len(foodSwitzerlandBef[\"originsCat\"])).plot(kind='bar', yerr = [SBstd,OCBstd],title='Period 1')\n",
    "plt.subplot(1,3,2)\n",
    "(foodSwitzerlandDur[\"originsCat\"].value_counts()/len(foodSwitzerlandBef[\"originsCat\"])).plot(kind='bar', yerr = [SDstd,OCDstd],title='Period 2')\n",
    "plt.subplot(1,3,3)\n",
    "(foodSwitzerlandAft[\"originsCat\"].value_counts()/len(foodSwitzerlandBef[\"originsCat\"])).plot(kind='bar', yerr = [SAstd,OCAstd],title='Period 3')\n",
    "\n",
    "plt.show()"
   ]
  },
  {
   "cell_type": "markdown",
   "metadata": {},
   "source": [
    "Then, plotting of correlation"
   ]
  },
  {
   "cell_type": "code",
   "execution_count": 337,
   "metadata": {
    "scrolled": true
   },
   "outputs": [
    {
     "name": "stdout",
     "output_type": "stream",
     "text": [
      "Median with NaN:  0.668246496304011\n",
      "Median without NaN:  0.44205073079695356\n"
     ]
    },
    {
     "data": {
      "text/plain": [
       "Text(0.5, 1.0, 'Pearson Corr. No Nan Switzerland origin and Other country origin')"
      ]
     },
     "execution_count": 337,
     "metadata": {},
     "output_type": "execute_result"
    },
    {
     "data": {
      "image/png": "[encoded data removed]",
      "text/plain": [
       "<Figure size 1080x360 with 2 Axes>"
      ]
     },
     "metadata": {
      "needs_background": "light"
     },
     "output_type": "display_data"
    }
   ],
   "source": [
    "#Plot Correlation\n",
    "fig, axes = plt.subplots(nrows=1, ncols=2, figsize=(15,5))\n",
    "plt.subplot(1,2,1)\n",
    "print(\"Median with NaN: \",np.quantile(pearson_100ite,0.5))\n",
    "plt.boxplot(pearson_100ite)\n",
    "plt.title(\"Pearson Corr. Switzerland origin and Other country origin\")\n",
    "\n",
    "plt.subplot(1,2,2)\n",
    "print(\"Median without NaN: \",np.quantile(pearsonNoNan_100ite,0.5))\n",
    "plt.boxplot(pearsonNoNan_100ite)\n",
    "plt.title(\"Pearson Corr. No Nan Switzerland origin and Other country origin\")"
   ]
  },
  {
   "cell_type": "markdown",
   "metadata": {},
   "source": [
    "### 2.1.2 With respect to: Manufacture"
   ]
  },
  {
   "cell_type": "markdown",
   "metadata": {},
   "source": [
    "First, bootstrapping for include confidence intervals to results"
   ]
  },
  {
   "cell_type": "code",
   "execution_count": 340,
   "metadata": {},
   "outputs": [],
   "source": [
    "#Define vectores to store results\n",
    "pearson_100ite = np.zeros (100)\n",
    "pearsonNoNan_100ite = np.zeros (100)\n",
    "#before\n",
    "propSB_100ite = np.zeros (100)\n",
    "propOCB_100ite = np.zeros (100)\n",
    "#during\n",
    "propSD_100ite = np.zeros (100)\n",
    "propOCD_100ite = np.zeros (100)\n",
    "#after\n",
    "propSA_100ite = np.zeros (100)\n",
    "propOCA_100ite = np.zeros (100)\n",
    "\n",
    "for iteration in range(0,100):\n",
    "    #before\n",
    "    temp_bef = foodSwitzerlandBef[\"manuCat\"].sample(n=len(foodSwitzerlandBef), replace=True)\n",
    "    propSB_100ite[iteration] = sum(temp_bef==\"Switzerland\")/len(foodSwitzerlandBef)\n",
    "    propOCB_100ite[iteration] = sum(temp_bef==\"Other country\")/len(foodSwitzerlandBef)\n",
    "    #during\n",
    "    temp_dur = foodSwitzerlandDur[\"manuCat\"].sample(n=len(foodSwitzerlandDur), replace=True)\n",
    "    propSD_100ite[iteration] = sum(temp_dur==\"Switzerland\")/len(foodSwitzerlandDur)\n",
    "    propOCD_100ite[iteration] = sum(temp_dur==\"Other country\")/len(foodSwitzerlandDur)\n",
    "    #after\n",
    "    temp_aft = foodSwitzerlandAft[\"manuCat\"].sample(n=len(foodSwitzerlandAft), replace=True)\n",
    "    propSA_100ite[iteration] = sum(temp_aft==\"Switzerland\")/len(foodSwitzerlandAft)\n",
    "    propOCA_100ite[iteration] = sum(temp_aft==\"Other country\")/len(foodSwitzerlandAft)\n",
    "    \n",
    "    #Relation of time evolution and difference of products in each categories\n",
    "    difpropB = propSB_100ite[iteration]-propOCB_100ite[iteration]\n",
    "    difpropD = propSB_100ite[iteration]-propOCD_100ite[iteration]\n",
    "    difpropA = propSB_100ite[iteration]-propOCA_100ite[iteration]\n",
    "    pearson_100ite[iteration] = np.corrcoef([difpropB,difpropD,difpropA],[1,2,3])[0][1]\n",
    "    ##scale so Nan effect is not a problem\n",
    "    minB = min(propSB_100ite[iteration],propOCB_100ite[iteration])\n",
    "    minD = min(propSD_100ite[iteration],propOCD_100ite[iteration])\n",
    "    minA = min(propSA_100ite[iteration],propOCA_100ite[iteration])\n",
    "    pearsonNoNan_100ite[iteration] = np.corrcoef([difpropB/minB,difpropD/minD,difpropA/minA],[1,2,3])[0][1]\n",
    "\n",
    "#Calculating standard deviation of count of each category\n",
    "SBstd = propSB_100ite.std()\n",
    "OCBstd = propOCB_100ite.std()\n",
    "#Calculating standard deviation of count of each category\n",
    "SDstd = propSD_100ite.std()\n",
    "OCDstd = propOCD_100ite.std()\n",
    "#Calculating standard deviation of count of each category\n",
    "SAstd = propSA_100ite.std()\n",
    "OCAstd = propOCA_100ite.std()"
   ]
  },
  {
   "cell_type": "code",
   "execution_count": 341,
   "metadata": {},
   "outputs": [
    {
     "name": "stdout",
     "output_type": "stream",
     "text": [
      "There was not information for  1530  products in the period 1.\n",
      "There was not information for  8960  products in the period 2.\n",
      "There was not information for  1869  products in the period 3.\n"
     ]
    },
    {
     "data": {
      "image/png": "[encoded data removed]",
      "text/plain": [
       "<Figure size 1080x360 with 3 Axes>"
      ]
     },
     "metadata": {
      "needs_background": "light"
     },
     "output_type": "display_data"
    }
   ],
   "source": [
    "#Report information of NAN cases\n",
    "fig, axes = plt.subplots(nrows=1, ncols=3, figsize=(15,5))\n",
    "print(\"There was not information for \",len(foodSwitzerlandBef[\"manuCat\"])-sum(foodSwitzerlandBef[\"manuCat\"]==\"Switzerland\")-sum(foodSwitzerlandBef[\"manuCat\"]==\"Other country\"),\" products in the period 1.\")\n",
    "print(\"There was not information for \",len(foodSwitzerlandDur[\"manuCat\"])-sum(foodSwitzerlandDur[\"manuCat\"]==\"Switzerland\")-sum(foodSwitzerlandDur[\"manuCat\"]==\"Other country\"),\" products in the period 2.\")\n",
    "print(\"There was not information for \",len(foodSwitzerlandAft[\"manuCat\"])-sum(foodSwitzerlandAft[\"manuCat\"]==\"Switzerland\")-sum(foodSwitzerlandAft[\"manuCat\"]==\"Other country\"),\" products in the period 3.\")\n",
    "\n",
    "#Plot origin of primary resources by periods\n",
    "plt.subplot(1,3,1)\n",
    "\n",
    "xB = [foodSwitzerlandBef[\"manuCat\"].value_counts()[0], foodSwitzerlandBef[\"manuCat\"].value_counts()[1]]\n",
    "xD = [foodSwitzerlandDur[\"manuCat\"].value_counts()[0], foodSwitzerlandDur[\"manuCat\"].value_counts()[1]]\n",
    "xA = [foodSwitzerlandAft[\"manuCat\"].value_counts()[1], foodSwitzerlandAft[\"manuCat\"].value_counts()[0]]\n",
    "\n",
    "(foodSwitzerlandBef[\"manuCat\"].value_counts()/len(foodSwitzerlandBef[\"manuCat\"])).plot(kind='bar', yerr = [SBstd,OCBstd],title='Period 1')\n",
    "plt.subplot(1,3,2)\n",
    "(foodSwitzerlandDur[\"manuCat\"].value_counts()/len(foodSwitzerlandBef[\"manuCat\"])).plot(kind='bar', yerr = [SDstd,OCDstd],title='Period 2')\n",
    "plt.subplot(1,3,3)\n",
    "(foodSwitzerlandAft[\"manuCat\"].value_counts()/len(foodSwitzerlandBef[\"manuCat\"])).plot(kind='bar', yerr = [SAstd,OCAstd],title='Period 3')\n",
    "\n",
    "plt.show()"
   ]
  },
  {
   "cell_type": "code",
   "execution_count": 342,
   "metadata": {},
   "outputs": [
    {
     "name": "stdout",
     "output_type": "stream",
     "text": [
      "Median with NaN:  0.5582136290790651\n",
      "Median without NaN:  0.0833431394772422\n"
     ]
    },
    {
     "data": {
      "text/plain": [
       "Text(0.5, 1.0, 'Pearson Corr. No Nan Switzerland origin and Other country manufacture origin')"
      ]
     },
     "execution_count": 342,
     "metadata": {},
     "output_type": "execute_result"
    },
    {
     "data": {
      "image/png": "[encoded data removed]",
      "text/plain": [
       "<Figure size 1080x360 with 2 Axes>"
      ]
     },
     "metadata": {
      "needs_background": "light"
     },
     "output_type": "display_data"
    }
   ],
   "source": [
    "#Plot Correlation\n",
    "fig, axes = plt.subplots(nrows=1, ncols=2, figsize=(15,5))\n",
    "plt.subplot(1,2,1)\n",
    "print(\"Median with NaN: \",np.quantile(pearson_100ite,0.5))\n",
    "plt.boxplot(pearson_100ite)\n",
    "plt.title(\"Pearson Corr. Switzerland origin and Other country manufacture origin\")\n",
    "\n",
    "plt.subplot(1,2,2)\n",
    "print(\"Median without NaN: \",np.quantile(pearsonNoNan_100ite,0.5))\n",
    "plt.boxplot(pearsonNoNan_100ite)\n",
    "plt.title(\"Pearson Corr. No Nan Switzerland origin and Other country manufacture origin\")"
   ]
  },
  {
   "cell_type": "markdown",
   "metadata": {},
   "source": [
    "### 2.1.3 With respect to: Labels"
   ]
  },
  {
   "cell_type": "code",
   "execution_count": 351,
   "metadata": {},
   "outputs": [
    {
     "name": "stderr",
     "output_type": "stream",
     "text": [
      "/Library/Frameworks/Python.framework/Versions/3.6/lib/python3.6/site-packages/ipykernel_launcher.py:37: RuntimeWarning: divide by zero encountered in double_scalars\n"
     ]
    }
   ],
   "source": [
    "#Define vectores to store results\n",
    "pearson_100ite = np.zeros (100)\n",
    "pearsonNoNan_100ite = np.zeros (100)\n",
    "#before\n",
    "propSB_100ite = np.zeros (100)\n",
    "propOCB_100ite = np.zeros (100)\n",
    "#during\n",
    "propSD_100ite = np.zeros (100)\n",
    "propOCD_100ite = np.zeros (100)\n",
    "#after\n",
    "propSA_100ite = np.zeros (100)\n",
    "propOCA_100ite = np.zeros (100)\n",
    "\n",
    "for iteration in range(0,100):\n",
    "    #before\n",
    "    temp_bef = foodSwitzerlandBef[\"labCat\"].sample(n=len(foodSwitzerlandBef), replace=True)\n",
    "    propSB_100ite[iteration] = sum(temp_bef==\"Related with Switzerland\")/len(foodSwitzerlandBef)\n",
    "    propOCB_100ite[iteration] = sum(temp_bef==\"Other Label\")/len(foodSwitzerlandBef)\n",
    "    #during\n",
    "    temp_dur = foodSwitzerlandDur[\"labCat\"].sample(n=len(foodSwitzerlandDur), replace=True)\n",
    "    propSD_100ite[iteration] = sum(temp_dur==\"Related with Switzerland\")/len(foodSwitzerlandDur)\n",
    "    propOCD_100ite[iteration] = sum(temp_dur==\"Other Label\")/len(foodSwitzerlandDur)\n",
    "    #after\n",
    "    temp_aft = foodSwitzerlandAft[\"labCat\"].sample(n=len(foodSwitzerlandAft), replace=True)\n",
    "    propSA_100ite[iteration] = sum(temp_aft==\"Related with Switzerland\")/len(foodSwitzerlandAft)\n",
    "    propOCA_100ite[iteration] = sum(temp_aft==\"Other Label\")/len(foodSwitzerlandAft)\n",
    "    \n",
    "    #Relation of time evolution and difference of products in each categories\n",
    "    difpropB = propSB_100ite[iteration]-propOCB_100ite[iteration]\n",
    "    difpropD = propSB_100ite[iteration]-propOCD_100ite[iteration]\n",
    "    difpropA = propSB_100ite[iteration]-propOCA_100ite[iteration]\n",
    "    pearson_100ite[iteration] = np.corrcoef([difpropB,difpropD,difpropA],[1,2,3])[0][1]\n",
    "    ##scale so Nan effect is not a problem\n",
    "    minB = min(propSB_100ite[iteration],propOCB_100ite[iteration])\n",
    "    minD = min(propSD_100ite[iteration],propOCD_100ite[iteration])\n",
    "    minA = min(propSA_100ite[iteration],propOCA_100ite[iteration])\n",
    "    pearsonNoNan_100ite[iteration] = np.corrcoef([difpropB/minB,difpropD/minD,difpropA/minA],[1,2,3])[0][1]\n",
    "\n",
    "#Calculating standard deviation of count of each category\n",
    "SBstd = propSB_100ite.std()\n",
    "OCBstd = propOCB_100ite.std()\n",
    "#Calculating standard deviation of count of each category\n",
    "SDstd = propSD_100ite.std()\n",
    "OCDstd = propOCD_100ite.std()\n",
    "#Calculating standard deviation of count of each category\n",
    "SAstd = propSA_100ite.std()\n",
    "OCAstd = propOCA_100ite.std()"
   ]
  },
  {
   "cell_type": "code",
   "execution_count": 352,
   "metadata": {},
   "outputs": [
    {
     "name": "stdout",
     "output_type": "stream",
     "text": [
      "There was not information for  2294  products in the period 1.\n",
      "There was not information for  9126  products in the period 2.\n",
      "There was not information for  2034  products in the period 3.\n"
     ]
    },
    {
     "data": {
      "image/png": "[encoded data removed]",
      "text/plain": [
       "<Figure size 1080x360 with 3 Axes>"
      ]
     },
     "metadata": {
      "needs_background": "light"
     },
     "output_type": "display_data"
    }
   ],
   "source": [
    "#Report information of NAN cases\n",
    "fig, axes = plt.subplots(nrows=1, ncols=3, figsize=(15,5))\n",
    "print(\"There was not information for \",len(foodSwitzerlandBef[\"labCat\"])-sum(foodSwitzerlandBef[\"labCat\"]==\"Switzerland\")-sum(foodSwitzerlandBef[\"labCat\"]==\"Other country\"),\" products in the period 1.\")\n",
    "print(\"There was not information for \",len(foodSwitzerlandDur[\"labCat\"])-sum(foodSwitzerlandDur[\"labCat\"]==\"Switzerland\")-sum(foodSwitzerlandDur[\"labCat\"]==\"Other country\"),\" products in the period 2.\")\n",
    "print(\"There was not information for \",len(foodSwitzerlandAft[\"labCat\"])-sum(foodSwitzerlandAft[\"labCat\"]==\"Switzerland\")-sum(foodSwitzerlandAft[\"labCat\"]==\"Other country\"),\" products in the period 3.\")\n",
    "\n",
    "#Plot origin of primary resources by periods\n",
    "plt.subplot(1,3,1)\n",
    "\n",
    "xB = [foodSwitzerlandBef[\"labCat\"].value_counts()[0], foodSwitzerlandBef[\"labCat\"].value_counts()[1]]\n",
    "xD = [foodSwitzerlandDur[\"labCat\"].value_counts()[0], foodSwitzerlandDur[\"labCat\"].value_counts()[1]]\n",
    "xA = [foodSwitzerlandAft[\"labCat\"].value_counts()[1], foodSwitzerlandAft[\"labCat\"].value_counts()[0]]\n",
    "\n",
    "(foodSwitzerlandBef[\"labCat\"].value_counts()/len(foodSwitzerlandBef[\"labCat\"])).plot(kind='bar', yerr = [SBstd,OCBstd],title='Period 1')\n",
    "plt.subplot(1,3,2)\n",
    "(foodSwitzerlandDur[\"labCat\"].value_counts()/len(foodSwitzerlandBef[\"labCat\"])).plot(kind='bar', yerr = [SDstd,OCDstd],title='Period 2')\n",
    "plt.subplot(1,3,3)\n",
    "(foodSwitzerlandAft[\"labCat\"].value_counts()/len(foodSwitzerlandBef[\"labCat\"])).plot(kind='bar', yerr = [SAstd,OCAstd],title='Period 3')\n",
    "\n",
    "plt.show()"
   ]
  },
  {
   "cell_type": "code",
   "execution_count": 353,
   "metadata": {},
   "outputs": [
    {
     "name": "stdout",
     "output_type": "stream",
     "text": [
      "Median with NaN:  0.8085534971558975\n",
      "Median without NaN:  nan\n"
     ]
    },
    {
     "data": {
      "text/plain": [
       "Text(0.5, 1.0, 'Pearson Corr. No Nan Switzerland origin and Other country manufacture origin')"
      ]
     },
     "execution_count": 353,
     "metadata": {},
     "output_type": "execute_result"
    },
    {
     "data": {
      "image/png": "[encoded data removed]",
      "text/plain": [
       "<Figure size 1080x360 with 2 Axes>"
      ]
     },
     "metadata": {
      "needs_background": "light"
     },
     "output_type": "display_data"
    }
   ],
   "source": [
    "#Plot Correlation\n",
    "fig, axes = plt.subplots(nrows=1, ncols=2, figsize=(15,5))\n",
    "plt.subplot(1,2,1)\n",
    "print(\"Median with NaN: \",np.quantile(pearson_100ite,0.5))\n",
    "plt.boxplot(pearson_100ite)\n",
    "plt.title(\"Pearson Corr. Switzerland origin and Other country manufacture origin\")\n",
    "\n",
    "plt.subplot(1,2,2)\n",
    "print(\"Median without NaN: \",np.quantile(pearsonNoNan_100ite,0.5))\n",
    "plt.boxplot(pearsonNoNan_100ite)\n",
    "plt.title(\"Pearson Corr. No Nan Switzerland origin and Other country manufacture origin\")"
   ]
  }
 ],
 "metadata": {
  "kernelspec": {
   "display_name": "Python 3",
   "language": "python",
   "name": "python3"
  },
  "language_info": {
   "codemirror_mode": {
    "name": "ipython",
    "version": 3
   },
   "file_extension": ".py",
   "mimetype": "text/x-python",
   "name": "python",
   "nbconvert_exporter": "python",
   "pygments_lexer": "ipython3",
   "version": "3.6.6"
  }
 },
 "nbformat": 4,
 "nbformat_minor": 2
}
