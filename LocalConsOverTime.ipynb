{
 "cells": [
  {
   "cell_type": "code",
   "execution_count": 1,
   "metadata": {},
   "outputs": [],
   "source": [
    "import pandas as pd\n",
    "import numpy as np\n",
    "import scipy as sp\n",
    "import scipy.stats as stats\n",
    "import matplotlib.pyplot as plt"
   ]
  },
  {
   "cell_type": "code",
   "execution_count": 2,
   "metadata": {},
   "outputs": [],
   "source": [
    "import sys\n",
    "pd.options.mode.chained_assignment = None"
   ]
  },
  {
   "cell_type": "markdown",
   "metadata": {},
   "source": [
    "### Remembering Research question"
   ]
  },
  {
   "cell_type": "markdown",
   "metadata": {},
   "source": [
    ">Is there a trend over time to consume more local products?\n",
    "\n",
    ">    - Are new products mostly using primary resources from Switzerland? Or from other countries inside Europe?\n",
    ">    - Are new products mostly manufactured in Switzerland? Or from other countries inside Europe?\n",
    ">    - Is there a trend over time to local products to promote their origin?"
   ]
  },
  {
   "cell_type": "markdown",
   "metadata": {},
   "source": [
    "### Reading data"
   ]
  },
  {
   "cell_type": "code",
   "execution_count": 3,
   "metadata": {},
   "outputs": [],
   "source": [
    "DATA_FOLDER = './data/'"
   ]
  },
  {
   "cell_type": "code",
   "execution_count": 4,
   "metadata": {},
   "outputs": [],
   "source": [
    "openfood_file = \"en.openfoodfacts.org.products.csv\"\n",
    "openfood = pd.read_csv(DATA_FOLDER + openfood_file, sep = '\\t', low_memory=False)"
   ]
  },
  {
   "cell_type": "code",
   "execution_count": 5,
   "metadata": {},
   "outputs": [],
   "source": [
    "consSwit_file = \"je-f-07.06.02.xlsx\"\n",
    "header_row = 3\n",
    "consSwit = pd.read_excel(DATA_FOLDER + consSwit_file, header=header_row)\n",
    "#Remove first rows (with contextual information)\n",
    "consSwit.drop(consSwit.index[0:2], inplace=True)\n",
    "#Remove last rows (with duplicate information and contextual information)\n",
    "consSwit.drop(consSwit.index[23:32], inplace=True)\n",
    "#Change name of column\n",
    "consSwit = consSwit.rename(columns={'Unnamed: 0':'products'})\n",
    "#Set <products> as column\n",
    "consSwit = consSwit.set_index('products')\n",
    "#Drop last column, as has partial information of the year and 'etat des produits'\n",
    "consSwit = consSwit.drop(columns=['Etat des produits', '2016 p'])"
   ]
  },
  {
   "cell_type": "code",
   "execution_count": 6,
   "metadata": {},
   "outputs": [],
   "source": [
    "invAgr_file = \"je-f-07.02.03.02.04.xlsx\"\n",
    "header_row = 2\n",
    "invAgr = pd.read_excel(DATA_FOLDER + invAgr_file, header=header_row)\n",
    "#Remove first rows (with contextual information)\n",
    "invAgr.drop(invAgr.index[0:7], inplace=True)\n",
    "#Remove last rows (with duplicate information and contextual information)\n",
    "invAgr.drop(invAgr.index[16:43], inplace=True)\n",
    "#Change name of column\n",
    "invAgr = invAgr.rename(columns={'Unnamed: 0':'typeInv'})\n",
    "invAgr = invAgr.set_index('typeInv')"
   ]
  },
  {
   "cell_type": "markdown",
   "metadata": {},
   "source": [
    "### Exploration of datasets"
   ]
  },
  {
   "cell_type": "markdown",
   "metadata": {},
   "source": [
    "##### Consumption Switzerland"
   ]
  },
  {
   "cell_type": "markdown",
   "metadata": {},
   "source": [
    "> Super Categories"
   ]
  },
  {
   "cell_type": "code",
   "execution_count": 7,
   "metadata": {
    "scrolled": false
   },
   "outputs": [
    {
     "data": {
      "text/html": [
       "<div>\n",
       "<style scoped>\n",
       "    .dataframe tbody tr th:only-of-type {\n",
       "        vertical-align: middle;\n",
       "    }\n",
       "\n",
       "    .dataframe tbody tr th {\n",
       "        vertical-align: top;\n",
       "    }\n",
       "\n",
       "    .dataframe thead th {\n",
       "        text-align: right;\n",
       "    }\n",
       "</style>\n",
       "<table border=\"1\" class=\"dataframe\">\n",
       "  <thead>\n",
       "    <tr style=\"text-align: right;\">\n",
       "      <th></th>\n",
       "      <th>2007</th>\n",
       "      <th>2008</th>\n",
       "      <th>2009</th>\n",
       "      <th>2010</th>\n",
       "      <th>2011</th>\n",
       "      <th>2012</th>\n",
       "      <th>2013</th>\n",
       "      <th>2014</th>\n",
       "      <th>2015</th>\n",
       "    </tr>\n",
       "    <tr>\n",
       "      <th>products</th>\n",
       "      <th></th>\n",
       "      <th></th>\n",
       "      <th></th>\n",
       "      <th></th>\n",
       "      <th></th>\n",
       "      <th></th>\n",
       "      <th></th>\n",
       "      <th></th>\n",
       "      <th></th>\n",
       "    </tr>\n",
       "  </thead>\n",
       "  <tbody>\n",
       "    <tr>\n",
       "      <th>Céréales</th>\n",
       "      <td>98.013754</td>\n",
       "      <td>93.737296</td>\n",
       "      <td>96.762305</td>\n",
       "      <td>93.884316</td>\n",
       "      <td>99.974945</td>\n",
       "      <td>91.893762</td>\n",
       "      <td>90.099344</td>\n",
       "      <td>89.972571</td>\n",
       "      <td>92.587820</td>\n",
       "    </tr>\n",
       "    <tr>\n",
       "      <th>Pommes de terre</th>\n",
       "      <td>41.778600</td>\n",
       "      <td>46.869346</td>\n",
       "      <td>46.268682</td>\n",
       "      <td>47.817157</td>\n",
       "      <td>44.481201</td>\n",
       "      <td>48.713089</td>\n",
       "      <td>51.708254</td>\n",
       "      <td>41.844096</td>\n",
       "      <td>50.635046</td>\n",
       "    </tr>\n",
       "    <tr>\n",
       "      <th>Sucre</th>\n",
       "      <td>43.167207</td>\n",
       "      <td>43.590842</td>\n",
       "      <td>40.974560</td>\n",
       "      <td>37.465394</td>\n",
       "      <td>37.445127</td>\n",
       "      <td>36.370639</td>\n",
       "      <td>40.214113</td>\n",
       "      <td>37.856708</td>\n",
       "      <td>38.065779</td>\n",
       "    </tr>\n",
       "    <tr>\n",
       "      <th>Miel</th>\n",
       "      <td>1.348237</td>\n",
       "      <td>1.210427</td>\n",
       "      <td>1.288076</td>\n",
       "      <td>1.321601</td>\n",
       "      <td>1.432108</td>\n",
       "      <td>1.158042</td>\n",
       "      <td>1.392348</td>\n",
       "      <td>1.136757</td>\n",
       "      <td>1.435543</td>\n",
       "    </tr>\n",
       "    <tr>\n",
       "      <th>Légumes 1</th>\n",
       "      <td>103.237925</td>\n",
       "      <td>105.738089</td>\n",
       "      <td>108.198836</td>\n",
       "      <td>107.227660</td>\n",
       "      <td>108.150723</td>\n",
       "      <td>106.543807</td>\n",
       "      <td>105.200511</td>\n",
       "      <td>104.577329</td>\n",
       "      <td>104.155867</td>\n",
       "    </tr>\n",
       "    <tr>\n",
       "      <th>Fruits 1</th>\n",
       "      <td>118.882028</td>\n",
       "      <td>123.689979</td>\n",
       "      <td>124.171271</td>\n",
       "      <td>119.810187</td>\n",
       "      <td>117.028790</td>\n",
       "      <td>121.106067</td>\n",
       "      <td>119.261679</td>\n",
       "      <td>114.949381</td>\n",
       "      <td>115.087259</td>\n",
       "    </tr>\n",
       "    <tr>\n",
       "      <th>jus de légumes et de fruits</th>\n",
       "      <td>29.253410</td>\n",
       "      <td>32.029329</td>\n",
       "      <td>29.792858</td>\n",
       "      <td>26.973705</td>\n",
       "      <td>25.599959</td>\n",
       "      <td>28.426779</td>\n",
       "      <td>27.256378</td>\n",
       "      <td>23.147393</td>\n",
       "      <td>22.569690</td>\n",
       "    </tr>\n",
       "    <tr>\n",
       "      <th>Huiles et graisses végétales</th>\n",
       "      <td>16.167350</td>\n",
       "      <td>16.141488</td>\n",
       "      <td>17.108515</td>\n",
       "      <td>17.395802</td>\n",
       "      <td>17.695043</td>\n",
       "      <td>16.176501</td>\n",
       "      <td>17.683895</td>\n",
       "      <td>17.861493</td>\n",
       "      <td>16.843297</td>\n",
       "    </tr>\n",
       "    <tr>\n",
       "      <th>Viande</th>\n",
       "      <td>51.799507</td>\n",
       "      <td>52.616272</td>\n",
       "      <td>51.150578</td>\n",
       "      <td>52.402102</td>\n",
       "      <td>52.228737</td>\n",
       "      <td>50.350228</td>\n",
       "      <td>50.541678</td>\n",
       "      <td>50.680753</td>\n",
       "      <td>49.827563</td>\n",
       "    </tr>\n",
       "    <tr>\n",
       "      <th>de boeuf</th>\n",
       "      <td>11.104512</td>\n",
       "      <td>11.678009</td>\n",
       "      <td>10.972415</td>\n",
       "      <td>11.116410</td>\n",
       "      <td>11.078811</td>\n",
       "      <td>10.827222</td>\n",
       "      <td>11.337183</td>\n",
       "      <td>11.140308</td>\n",
       "      <td>10.954513</td>\n",
       "    </tr>\n",
       "    <tr>\n",
       "      <th>de veau</th>\n",
       "      <td>2.831675</td>\n",
       "      <td>2.715483</td>\n",
       "      <td>2.825663</td>\n",
       "      <td>2.784833</td>\n",
       "      <td>2.799275</td>\n",
       "      <td>2.735075</td>\n",
       "      <td>2.635967</td>\n",
       "      <td>2.540798</td>\n",
       "      <td>2.422341</td>\n",
       "    </tr>\n",
       "    <tr>\n",
       "      <th>de porc</th>\n",
       "      <td>25.833793</td>\n",
       "      <td>25.570637</td>\n",
       "      <td>25.098727</td>\n",
       "      <td>25.904411</td>\n",
       "      <td>25.473491</td>\n",
       "      <td>24.072206</td>\n",
       "      <td>24.029038</td>\n",
       "      <td>24.131084</td>\n",
       "      <td>23.396022</td>\n",
       "    </tr>\n",
       "    <tr>\n",
       "      <th>de mouton</th>\n",
       "      <td>1.198476</td>\n",
       "      <td>1.167755</td>\n",
       "      <td>1.130143</td>\n",
       "      <td>1.147312</td>\n",
       "      <td>1.148784</td>\n",
       "      <td>1.103081</td>\n",
       "      <td>1.071986</td>\n",
       "      <td>1.109671</td>\n",
       "      <td>1.147164</td>\n",
       "    </tr>\n",
       "    <tr>\n",
       "      <th>de chèvre et de cheval</th>\n",
       "      <td>0.767985</td>\n",
       "      <td>0.762003</td>\n",
       "      <td>0.724467</td>\n",
       "      <td>0.734749</td>\n",
       "      <td>0.748878</td>\n",
       "      <td>0.741959</td>\n",
       "      <td>0.624976</td>\n",
       "      <td>0.525013</td>\n",
       "      <td>0.498020</td>\n",
       "    </tr>\n",
       "    <tr>\n",
       "      <th>Volaille</th>\n",
       "      <td>8.904753</td>\n",
       "      <td>9.591962</td>\n",
       "      <td>9.484601</td>\n",
       "      <td>9.688931</td>\n",
       "      <td>10.059645</td>\n",
       "      <td>10.060438</td>\n",
       "      <td>10.027577</td>\n",
       "      <td>10.434927</td>\n",
       "      <td>10.598023</td>\n",
       "    </tr>\n",
       "    <tr>\n",
       "      <th>Lait et produits laitiers</th>\n",
       "      <td>255.683841</td>\n",
       "      <td>252.642256</td>\n",
       "      <td>245.855948</td>\n",
       "      <td>248.891431</td>\n",
       "      <td>252.199542</td>\n",
       "      <td>247.679618</td>\n",
       "      <td>251.584253</td>\n",
       "      <td>248.167039</td>\n",
       "      <td>246.696216</td>\n",
       "    </tr>\n",
       "    <tr>\n",
       "      <th>Lait de consommation</th>\n",
       "      <td>73.367932</td>\n",
       "      <td>71.486041</td>\n",
       "      <td>68.815070</td>\n",
       "      <td>66.134136</td>\n",
       "      <td>63.658382</td>\n",
       "      <td>61.011247</td>\n",
       "      <td>59.870957</td>\n",
       "      <td>57.385289</td>\n",
       "      <td>54.442108</td>\n",
       "    </tr>\n",
       "    <tr>\n",
       "      <th>Yogourt</th>\n",
       "      <td>15.934545</td>\n",
       "      <td>16.253352</td>\n",
       "      <td>16.150615</td>\n",
       "      <td>15.865585</td>\n",
       "      <td>15.811159</td>\n",
       "      <td>15.684996</td>\n",
       "      <td>15.556763</td>\n",
       "      <td>15.417972</td>\n",
       "      <td>15.121907</td>\n",
       "    </tr>\n",
       "    <tr>\n",
       "      <th>Fromage y compris séré</th>\n",
       "      <td>19.563660</td>\n",
       "      <td>19.845201</td>\n",
       "      <td>19.926409</td>\n",
       "      <td>20.253993</td>\n",
       "      <td>19.985223</td>\n",
       "      <td>19.470463</td>\n",
       "      <td>19.746472</td>\n",
       "      <td>19.771726</td>\n",
       "      <td>20.183892</td>\n",
       "    </tr>\n",
       "    <tr>\n",
       "      <th>Beurre</th>\n",
       "      <td>5.547044</td>\n",
       "      <td>5.448456</td>\n",
       "      <td>5.340850</td>\n",
       "      <td>5.426307</td>\n",
       "      <td>5.469763</td>\n",
       "      <td>5.403869</td>\n",
       "      <td>5.606607</td>\n",
       "      <td>5.375585</td>\n",
       "      <td>5.207517</td>\n",
       "    </tr>\n",
       "    <tr>\n",
       "      <th>Oeufs</th>\n",
       "      <td>11.674521</td>\n",
       "      <td>11.814421</td>\n",
       "      <td>11.937904</td>\n",
       "      <td>12.130130</td>\n",
       "      <td>11.517631</td>\n",
       "      <td>11.500115</td>\n",
       "      <td>11.625213</td>\n",
       "      <td>11.759390</td>\n",
       "      <td>11.750973</td>\n",
       "    </tr>\n",
       "    <tr>\n",
       "      <th>Poissons et mollusques</th>\n",
       "      <td>7.383976</td>\n",
       "      <td>7.543341</td>\n",
       "      <td>7.772089</td>\n",
       "      <td>7.862290</td>\n",
       "      <td>7.825159</td>\n",
       "      <td>7.511214</td>\n",
       "      <td>8.042028</td>\n",
       "      <td>7.686873</td>\n",
       "      <td>7.793867</td>\n",
       "    </tr>\n",
       "    <tr>\n",
       "      <th>Vin</th>\n",
       "      <td>38.817489</td>\n",
       "      <td>38.085653</td>\n",
       "      <td>37.275728</td>\n",
       "      <td>37.548044</td>\n",
       "      <td>36.259580</td>\n",
       "      <td>35.395622</td>\n",
       "      <td>35.761102</td>\n",
       "      <td>34.617030</td>\n",
       "      <td>34.164420</td>\n",
       "    </tr>\n",
       "  </tbody>\n",
       "</table>\n",
       "</div>"
      ],
      "text/plain": [
       "                                    2007        2008        2009        2010  \\\n",
       "products                                                                       \n",
       "Céréales                       98.013754   93.737296   96.762305   93.884316   \n",
       "Pommes de terre                41.778600   46.869346   46.268682   47.817157   \n",
       "Sucre                          43.167207   43.590842   40.974560   37.465394   \n",
       "Miel                            1.348237    1.210427    1.288076    1.321601   \n",
       "Légumes 1                     103.237925  105.738089  108.198836  107.227660   \n",
       "Fruits 1                      118.882028  123.689979  124.171271  119.810187   \n",
       "jus de légumes et de fruits    29.253410   32.029329   29.792858   26.973705   \n",
       "Huiles et graisses végétales   16.167350   16.141488   17.108515   17.395802   \n",
       "Viande                         51.799507   52.616272   51.150578   52.402102   \n",
       "de boeuf                       11.104512   11.678009   10.972415   11.116410   \n",
       "de veau                         2.831675    2.715483    2.825663    2.784833   \n",
       "de porc                        25.833793   25.570637   25.098727   25.904411   \n",
       "de mouton                       1.198476    1.167755    1.130143    1.147312   \n",
       "de chèvre et de cheval          0.767985    0.762003    0.724467    0.734749   \n",
       "Volaille                        8.904753    9.591962    9.484601    9.688931   \n",
       "Lait et produits laitiers     255.683841  252.642256  245.855948  248.891431   \n",
       "    Lait de consommation       73.367932   71.486041   68.815070   66.134136   \n",
       "    Yogourt                    15.934545   16.253352   16.150615   15.865585   \n",
       "    Fromage y compris séré     19.563660   19.845201   19.926409   20.253993   \n",
       "     Beurre                     5.547044    5.448456    5.340850    5.426307   \n",
       "Oeufs                          11.674521   11.814421   11.937904   12.130130   \n",
       "Poissons et mollusques          7.383976    7.543341    7.772089    7.862290   \n",
       "Vin                            38.817489   38.085653   37.275728   37.548044   \n",
       "\n",
       "                                    2011        2012        2013        2014  \\\n",
       "products                                                                       \n",
       "Céréales                       99.974945   91.893762   90.099344   89.972571   \n",
       "Pommes de terre                44.481201   48.713089   51.708254   41.844096   \n",
       "Sucre                          37.445127   36.370639   40.214113   37.856708   \n",
       "Miel                            1.432108    1.158042    1.392348    1.136757   \n",
       "Légumes 1                     108.150723  106.543807  105.200511  104.577329   \n",
       "Fruits 1                      117.028790  121.106067  119.261679  114.949381   \n",
       "jus de légumes et de fruits    25.599959   28.426779   27.256378   23.147393   \n",
       "Huiles et graisses végétales   17.695043   16.176501   17.683895   17.861493   \n",
       "Viande                         52.228737   50.350228   50.541678   50.680753   \n",
       "de boeuf                       11.078811   10.827222   11.337183   11.140308   \n",
       "de veau                         2.799275    2.735075    2.635967    2.540798   \n",
       "de porc                        25.473491   24.072206   24.029038   24.131084   \n",
       "de mouton                       1.148784    1.103081    1.071986    1.109671   \n",
       "de chèvre et de cheval          0.748878    0.741959    0.624976    0.525013   \n",
       "Volaille                       10.059645   10.060438   10.027577   10.434927   \n",
       "Lait et produits laitiers     252.199542  247.679618  251.584253  248.167039   \n",
       "    Lait de consommation       63.658382   61.011247   59.870957   57.385289   \n",
       "    Yogourt                    15.811159   15.684996   15.556763   15.417972   \n",
       "    Fromage y compris séré     19.985223   19.470463   19.746472   19.771726   \n",
       "     Beurre                     5.469763    5.403869    5.606607    5.375585   \n",
       "Oeufs                          11.517631   11.500115   11.625213   11.759390   \n",
       "Poissons et mollusques          7.825159    7.511214    8.042028    7.686873   \n",
       "Vin                            36.259580   35.395622   35.761102   34.617030   \n",
       "\n",
       "                                    2015  \n",
       "products                                  \n",
       "Céréales                       92.587820  \n",
       "Pommes de terre                50.635046  \n",
       "Sucre                          38.065779  \n",
       "Miel                            1.435543  \n",
       "Légumes 1                     104.155867  \n",
       "Fruits 1                      115.087259  \n",
       "jus de légumes et de fruits    22.569690  \n",
       "Huiles et graisses végétales   16.843297  \n",
       "Viande                         49.827563  \n",
       "de boeuf                       10.954513  \n",
       "de veau                         2.422341  \n",
       "de porc                        23.396022  \n",
       "de mouton                       1.147164  \n",
       "de chèvre et de cheval          0.498020  \n",
       "Volaille                       10.598023  \n",
       "Lait et produits laitiers     246.696216  \n",
       "    Lait de consommation       54.442108  \n",
       "    Yogourt                    15.121907  \n",
       "    Fromage y compris séré     20.183892  \n",
       "     Beurre                     5.207517  \n",
       "Oeufs                          11.750973  \n",
       "Poissons et mollusques          7.793867  \n",
       "Vin                            34.164420  "
      ]
     },
     "execution_count": 7,
     "metadata": {},
     "output_type": "execute_result"
    }
   ],
   "source": [
    "consSwit"
   ]
  },
  {
   "cell_type": "code",
   "execution_count": 8,
   "metadata": {
    "scrolled": true
   },
   "outputs": [
    {
     "data": {
      "text/html": [
       "<div>\n",
       "<style scoped>\n",
       "    .dataframe tbody tr th:only-of-type {\n",
       "        vertical-align: middle;\n",
       "    }\n",
       "\n",
       "    .dataframe tbody tr th {\n",
       "        vertical-align: top;\n",
       "    }\n",
       "\n",
       "    .dataframe thead th {\n",
       "        text-align: right;\n",
       "    }\n",
       "</style>\n",
       "<table border=\"1\" class=\"dataframe\">\n",
       "  <thead>\n",
       "    <tr style=\"text-align: right;\">\n",
       "      <th></th>\n",
       "      <th>2007</th>\n",
       "      <th>2008</th>\n",
       "      <th>2009</th>\n",
       "      <th>2010</th>\n",
       "      <th>2011</th>\n",
       "      <th>2012</th>\n",
       "      <th>2013</th>\n",
       "      <th>2014</th>\n",
       "      <th>2015</th>\n",
       "    </tr>\n",
       "    <tr>\n",
       "      <th>products</th>\n",
       "      <th></th>\n",
       "      <th></th>\n",
       "      <th></th>\n",
       "      <th></th>\n",
       "      <th></th>\n",
       "      <th></th>\n",
       "      <th></th>\n",
       "      <th></th>\n",
       "      <th></th>\n",
       "    </tr>\n",
       "  </thead>\n",
       "  <tbody>\n",
       "    <tr>\n",
       "      <th>Céréales</th>\n",
       "      <td>98.013754</td>\n",
       "      <td>93.737296</td>\n",
       "      <td>96.762305</td>\n",
       "      <td>93.884316</td>\n",
       "      <td>99.974945</td>\n",
       "      <td>91.893762</td>\n",
       "      <td>90.099344</td>\n",
       "      <td>89.972571</td>\n",
       "      <td>92.587820</td>\n",
       "    </tr>\n",
       "    <tr>\n",
       "      <th>Pommes de terre</th>\n",
       "      <td>41.778600</td>\n",
       "      <td>46.869346</td>\n",
       "      <td>46.268682</td>\n",
       "      <td>47.817157</td>\n",
       "      <td>44.481201</td>\n",
       "      <td>48.713089</td>\n",
       "      <td>51.708254</td>\n",
       "      <td>41.844096</td>\n",
       "      <td>50.635046</td>\n",
       "    </tr>\n",
       "    <tr>\n",
       "      <th>Sucre</th>\n",
       "      <td>43.167207</td>\n",
       "      <td>43.590842</td>\n",
       "      <td>40.974560</td>\n",
       "      <td>37.465394</td>\n",
       "      <td>37.445127</td>\n",
       "      <td>36.370639</td>\n",
       "      <td>40.214113</td>\n",
       "      <td>37.856708</td>\n",
       "      <td>38.065779</td>\n",
       "    </tr>\n",
       "    <tr>\n",
       "      <th>Miel</th>\n",
       "      <td>1.348237</td>\n",
       "      <td>1.210427</td>\n",
       "      <td>1.288076</td>\n",
       "      <td>1.321601</td>\n",
       "      <td>1.432108</td>\n",
       "      <td>1.158042</td>\n",
       "      <td>1.392348</td>\n",
       "      <td>1.136757</td>\n",
       "      <td>1.435543</td>\n",
       "    </tr>\n",
       "    <tr>\n",
       "      <th>Légumes 1</th>\n",
       "      <td>103.237925</td>\n",
       "      <td>105.738089</td>\n",
       "      <td>108.198836</td>\n",
       "      <td>107.227660</td>\n",
       "      <td>108.150723</td>\n",
       "      <td>106.543807</td>\n",
       "      <td>105.200511</td>\n",
       "      <td>104.577329</td>\n",
       "      <td>104.155867</td>\n",
       "    </tr>\n",
       "    <tr>\n",
       "      <th>Fruits 1</th>\n",
       "      <td>118.882028</td>\n",
       "      <td>123.689979</td>\n",
       "      <td>124.171271</td>\n",
       "      <td>119.810187</td>\n",
       "      <td>117.028790</td>\n",
       "      <td>121.106067</td>\n",
       "      <td>119.261679</td>\n",
       "      <td>114.949381</td>\n",
       "      <td>115.087259</td>\n",
       "    </tr>\n",
       "    <tr>\n",
       "      <th>Huiles et graisses végétales</th>\n",
       "      <td>16.167350</td>\n",
       "      <td>16.141488</td>\n",
       "      <td>17.108515</td>\n",
       "      <td>17.395802</td>\n",
       "      <td>17.695043</td>\n",
       "      <td>16.176501</td>\n",
       "      <td>17.683895</td>\n",
       "      <td>17.861493</td>\n",
       "      <td>16.843297</td>\n",
       "    </tr>\n",
       "    <tr>\n",
       "      <th>Viande</th>\n",
       "      <td>51.799507</td>\n",
       "      <td>52.616272</td>\n",
       "      <td>51.150578</td>\n",
       "      <td>52.402102</td>\n",
       "      <td>52.228737</td>\n",
       "      <td>50.350228</td>\n",
       "      <td>50.541678</td>\n",
       "      <td>50.680753</td>\n",
       "      <td>49.827563</td>\n",
       "    </tr>\n",
       "    <tr>\n",
       "      <th>Lait et produits laitiers</th>\n",
       "      <td>255.683841</td>\n",
       "      <td>252.642256</td>\n",
       "      <td>245.855948</td>\n",
       "      <td>248.891431</td>\n",
       "      <td>252.199542</td>\n",
       "      <td>247.679618</td>\n",
       "      <td>251.584253</td>\n",
       "      <td>248.167039</td>\n",
       "      <td>246.696216</td>\n",
       "    </tr>\n",
       "    <tr>\n",
       "      <th>Oeufs</th>\n",
       "      <td>11.674521</td>\n",
       "      <td>11.814421</td>\n",
       "      <td>11.937904</td>\n",
       "      <td>12.130130</td>\n",
       "      <td>11.517631</td>\n",
       "      <td>11.500115</td>\n",
       "      <td>11.625213</td>\n",
       "      <td>11.759390</td>\n",
       "      <td>11.750973</td>\n",
       "    </tr>\n",
       "    <tr>\n",
       "      <th>Poissons et mollusques</th>\n",
       "      <td>7.383976</td>\n",
       "      <td>7.543341</td>\n",
       "      <td>7.772089</td>\n",
       "      <td>7.862290</td>\n",
       "      <td>7.825159</td>\n",
       "      <td>7.511214</td>\n",
       "      <td>8.042028</td>\n",
       "      <td>7.686873</td>\n",
       "      <td>7.793867</td>\n",
       "    </tr>\n",
       "    <tr>\n",
       "      <th>Vin</th>\n",
       "      <td>38.817489</td>\n",
       "      <td>38.085653</td>\n",
       "      <td>37.275728</td>\n",
       "      <td>37.548044</td>\n",
       "      <td>36.259580</td>\n",
       "      <td>35.395622</td>\n",
       "      <td>35.761102</td>\n",
       "      <td>34.617030</td>\n",
       "      <td>34.164420</td>\n",
       "    </tr>\n",
       "  </tbody>\n",
       "</table>\n",
       "</div>"
      ],
      "text/plain": [
       "                                    2007        2008        2009        2010  \\\n",
       "products                                                                       \n",
       "Céréales                       98.013754   93.737296   96.762305   93.884316   \n",
       "Pommes de terre                41.778600   46.869346   46.268682   47.817157   \n",
       "Sucre                          43.167207   43.590842   40.974560   37.465394   \n",
       "Miel                            1.348237    1.210427    1.288076    1.321601   \n",
       "Légumes 1                     103.237925  105.738089  108.198836  107.227660   \n",
       "Fruits 1                      118.882028  123.689979  124.171271  119.810187   \n",
       "Huiles et graisses végétales   16.167350   16.141488   17.108515   17.395802   \n",
       "Viande                         51.799507   52.616272   51.150578   52.402102   \n",
       "Lait et produits laitiers     255.683841  252.642256  245.855948  248.891431   \n",
       "Oeufs                          11.674521   11.814421   11.937904   12.130130   \n",
       "Poissons et mollusques          7.383976    7.543341    7.772089    7.862290   \n",
       "Vin                            38.817489   38.085653   37.275728   37.548044   \n",
       "\n",
       "                                    2011        2012        2013        2014  \\\n",
       "products                                                                       \n",
       "Céréales                       99.974945   91.893762   90.099344   89.972571   \n",
       "Pommes de terre                44.481201   48.713089   51.708254   41.844096   \n",
       "Sucre                          37.445127   36.370639   40.214113   37.856708   \n",
       "Miel                            1.432108    1.158042    1.392348    1.136757   \n",
       "Légumes 1                     108.150723  106.543807  105.200511  104.577329   \n",
       "Fruits 1                      117.028790  121.106067  119.261679  114.949381   \n",
       "Huiles et graisses végétales   17.695043   16.176501   17.683895   17.861493   \n",
       "Viande                         52.228737   50.350228   50.541678   50.680753   \n",
       "Lait et produits laitiers     252.199542  247.679618  251.584253  248.167039   \n",
       "Oeufs                          11.517631   11.500115   11.625213   11.759390   \n",
       "Poissons et mollusques          7.825159    7.511214    8.042028    7.686873   \n",
       "Vin                            36.259580   35.395622   35.761102   34.617030   \n",
       "\n",
       "                                    2015  \n",
       "products                                  \n",
       "Céréales                       92.587820  \n",
       "Pommes de terre                50.635046  \n",
       "Sucre                          38.065779  \n",
       "Miel                            1.435543  \n",
       "Légumes 1                     104.155867  \n",
       "Fruits 1                      115.087259  \n",
       "Huiles et graisses végétales   16.843297  \n",
       "Viande                         49.827563  \n",
       "Lait et produits laitiers     246.696216  \n",
       "Oeufs                          11.750973  \n",
       "Poissons et mollusques          7.793867  \n",
       "Vin                            34.164420  "
      ]
     },
     "execution_count": 8,
     "metadata": {},
     "output_type": "execute_result"
    }
   ],
   "source": [
    "catConsSwit = consSwit.loc[(consSwit.index== 'Céréales')]\n",
    "catConsSwit = catConsSwit.append(consSwit.loc[(consSwit.index== 'Pommes de terre')])\n",
    "catConsSwit = catConsSwit.append(consSwit.loc[(consSwit.index== 'Sucre')])\n",
    "catConsSwit = catConsSwit.append(consSwit.loc[(consSwit.index== 'Miel')])\n",
    "catConsSwit = catConsSwit.append(consSwit.loc[(consSwit.index== 'Légumes 1')])\n",
    "catConsSwit = catConsSwit.append(consSwit.loc[(consSwit.index== 'Fruits 1')])\n",
    "catConsSwit = catConsSwit.append(consSwit.loc[(consSwit.index== 'Huiles et graisses végétales')])\n",
    "catConsSwit = catConsSwit.append(consSwit.loc[(consSwit.index== 'Viande')])\n",
    "catConsSwit = catConsSwit.append(consSwit.loc[(consSwit.index== 'Lait et produits laitiers')])\n",
    "catConsSwit = catConsSwit.append(consSwit.loc[(consSwit.index== 'Oeufs')])\n",
    "catConsSwit = catConsSwit.append(consSwit.loc[(consSwit.index== 'Poissons et mollusques')])\n",
    "catConsSwit = catConsSwit.append(consSwit.loc[(consSwit.index== 'Vin')])\n",
    "catConsSwit"
   ]
  },
  {
   "cell_type": "markdown",
   "metadata": {},
   "source": [
    "##### OpenFoodSwitzerland"
   ]
  },
  {
   "cell_type": "markdown",
   "metadata": {},
   "source": [
    "The first decision is to narrow down the search, just for Switzerland products"
   ]
  },
  {
   "cell_type": "code",
   "execution_count": 9,
   "metadata": {},
   "outputs": [],
   "source": [
    "foodSwitzerland = openfood[openfood['countries_tags']==\"en:switzerland\"]"
   ]
  },
  {
   "cell_type": "code",
   "execution_count": 10,
   "metadata": {
    "scrolled": false
   },
   "outputs": [
    {
     "name": "stdout",
     "output_type": "stream",
     "text": [
      "Number of products:  13454\n"
     ]
    },
    {
     "data": {
      "text/html": [
       "<div>\n",
       "<style scoped>\n",
       "    .dataframe tbody tr th:only-of-type {\n",
       "        vertical-align: middle;\n",
       "    }\n",
       "\n",
       "    .dataframe tbody tr th {\n",
       "        vertical-align: top;\n",
       "    }\n",
       "\n",
       "    .dataframe thead th {\n",
       "        text-align: right;\n",
       "    }\n",
       "</style>\n",
       "<table border=\"1\" class=\"dataframe\">\n",
       "  <thead>\n",
       "    <tr style=\"text-align: right;\">\n",
       "      <th></th>\n",
       "      <th>code</th>\n",
       "      <th>url</th>\n",
       "      <th>creator</th>\n",
       "      <th>created_t</th>\n",
       "      <th>created_datetime</th>\n",
       "      <th>last_modified_t</th>\n",
       "      <th>last_modified_datetime</th>\n",
       "      <th>product_name</th>\n",
       "      <th>generic_name</th>\n",
       "      <th>quantity</th>\n",
       "      <th>...</th>\n",
       "      <th>carbon-footprint_100g</th>\n",
       "      <th>nutrition-score-fr_100g</th>\n",
       "      <th>nutrition-score-uk_100g</th>\n",
       "      <th>glycemic-index_100g</th>\n",
       "      <th>water-hardness_100g</th>\n",
       "      <th>choline_100g</th>\n",
       "      <th>phylloquinone_100g</th>\n",
       "      <th>beta-glucan_100g</th>\n",
       "      <th>inositol_100g</th>\n",
       "      <th>carnitine_100g</th>\n",
       "    </tr>\n",
       "  </thead>\n",
       "  <tbody>\n",
       "    <tr>\n",
       "      <th>285</th>\n",
       "      <td>0000003301098</td>\n",
       "      <td>http://world-en.openfoodfacts.org/product/0000...</td>\n",
       "      <td>openfoodfacts-contributors</td>\n",
       "      <td>1527593074</td>\n",
       "      <td>2018-05-29T11:24:34Z</td>\n",
       "      <td>1527593109</td>\n",
       "      <td>2018-05-29T11:25:09Z</td>\n",
       "      <td>Mini cuchaule au beurre</td>\n",
       "      <td>NaN</td>\n",
       "      <td>100 g</td>\n",
       "      <td>...</td>\n",
       "      <td>NaN</td>\n",
       "      <td>NaN</td>\n",
       "      <td>NaN</td>\n",
       "      <td>NaN</td>\n",
       "      <td>NaN</td>\n",
       "      <td>NaN</td>\n",
       "      <td>NaN</td>\n",
       "      <td>NaN</td>\n",
       "      <td>NaN</td>\n",
       "      <td>NaN</td>\n",
       "    </tr>\n",
       "    <tr>\n",
       "      <th>356</th>\n",
       "      <td>0000013000004</td>\n",
       "      <td>http://world-en.openfoodfacts.org/product/0000...</td>\n",
       "      <td>openfoodfacts-contributors</td>\n",
       "      <td>1484431999</td>\n",
       "      <td>2017-01-14T22:13:19Z</td>\n",
       "      <td>1484432028</td>\n",
       "      <td>2017-01-14T22:13:48Z</td>\n",
       "      <td>Kochspeck</td>\n",
       "      <td>NaN</td>\n",
       "      <td>686 g</td>\n",
       "      <td>...</td>\n",
       "      <td>NaN</td>\n",
       "      <td>NaN</td>\n",
       "      <td>NaN</td>\n",
       "      <td>NaN</td>\n",
       "      <td>NaN</td>\n",
       "      <td>NaN</td>\n",
       "      <td>NaN</td>\n",
       "      <td>NaN</td>\n",
       "      <td>NaN</td>\n",
       "      <td>NaN</td>\n",
       "    </tr>\n",
       "    <tr>\n",
       "      <th>1040</th>\n",
       "      <td>00025393</td>\n",
       "      <td>http://world-en.openfoodfacts.org/product/0002...</td>\n",
       "      <td>openfoodfacts-contributors</td>\n",
       "      <td>1530019114</td>\n",
       "      <td>2018-06-26T13:18:34Z</td>\n",
       "      <td>1530019311</td>\n",
       "      <td>2018-06-26T13:21:51Z</td>\n",
       "      <td>Salade de lentilles</td>\n",
       "      <td>NaN</td>\n",
       "      <td>200 g</td>\n",
       "      <td>...</td>\n",
       "      <td>NaN</td>\n",
       "      <td>NaN</td>\n",
       "      <td>NaN</td>\n",
       "      <td>NaN</td>\n",
       "      <td>NaN</td>\n",
       "      <td>NaN</td>\n",
       "      <td>NaN</td>\n",
       "      <td>NaN</td>\n",
       "      <td>NaN</td>\n",
       "      <td>NaN</td>\n",
       "    </tr>\n",
       "    <tr>\n",
       "      <th>1329</th>\n",
       "      <td>0007200000021</td>\n",
       "      <td>http://world-en.openfoodfacts.org/product/0007...</td>\n",
       "      <td>date-limite-app</td>\n",
       "      <td>1418991821</td>\n",
       "      <td>2014-12-19T12:23:41Z</td>\n",
       "      <td>1442754589</td>\n",
       "      <td>2015-09-20T13:09:49Z</td>\n",
       "      <td>Sauce bolognaise</td>\n",
       "      <td>NaN</td>\n",
       "      <td>420 g</td>\n",
       "      <td>...</td>\n",
       "      <td>NaN</td>\n",
       "      <td>NaN</td>\n",
       "      <td>NaN</td>\n",
       "      <td>NaN</td>\n",
       "      <td>NaN</td>\n",
       "      <td>NaN</td>\n",
       "      <td>NaN</td>\n",
       "      <td>NaN</td>\n",
       "      <td>NaN</td>\n",
       "      <td>NaN</td>\n",
       "    </tr>\n",
       "    <tr>\n",
       "      <th>2171</th>\n",
       "      <td>0010000002218</td>\n",
       "      <td>http://world-en.openfoodfacts.org/product/0010...</td>\n",
       "      <td>date-limite-app</td>\n",
       "      <td>1442659864</td>\n",
       "      <td>2015-09-19T10:51:04Z</td>\n",
       "      <td>1461430836</td>\n",
       "      <td>2016-04-23T17:00:36Z</td>\n",
       "      <td>Ikea Lachs</td>\n",
       "      <td>NaN</td>\n",
       "      <td>NaN</td>\n",
       "      <td>...</td>\n",
       "      <td>NaN</td>\n",
       "      <td>NaN</td>\n",
       "      <td>NaN</td>\n",
       "      <td>NaN</td>\n",
       "      <td>NaN</td>\n",
       "      <td>NaN</td>\n",
       "      <td>NaN</td>\n",
       "      <td>NaN</td>\n",
       "      <td>NaN</td>\n",
       "      <td>NaN</td>\n",
       "    </tr>\n",
       "  </tbody>\n",
       "</table>\n",
       "<p>5 rows × 173 columns</p>\n",
       "</div>"
      ],
      "text/plain": [
       "               code                                                url  \\\n",
       "285   0000003301098  http://world-en.openfoodfacts.org/product/0000...   \n",
       "356   0000013000004  http://world-en.openfoodfacts.org/product/0000...   \n",
       "1040       00025393  http://world-en.openfoodfacts.org/product/0002...   \n",
       "1329  0007200000021  http://world-en.openfoodfacts.org/product/0007...   \n",
       "2171  0010000002218  http://world-en.openfoodfacts.org/product/0010...   \n",
       "\n",
       "                         creator   created_t      created_datetime  \\\n",
       "285   openfoodfacts-contributors  1527593074  2018-05-29T11:24:34Z   \n",
       "356   openfoodfacts-contributors  1484431999  2017-01-14T22:13:19Z   \n",
       "1040  openfoodfacts-contributors  1530019114  2018-06-26T13:18:34Z   \n",
       "1329             date-limite-app  1418991821  2014-12-19T12:23:41Z   \n",
       "2171             date-limite-app  1442659864  2015-09-19T10:51:04Z   \n",
       "\n",
       "     last_modified_t last_modified_datetime             product_name  \\\n",
       "285       1527593109   2018-05-29T11:25:09Z  Mini cuchaule au beurre   \n",
       "356       1484432028   2017-01-14T22:13:48Z                Kochspeck   \n",
       "1040      1530019311   2018-06-26T13:21:51Z      Salade de lentilles   \n",
       "1329      1442754589   2015-09-20T13:09:49Z         Sauce bolognaise   \n",
       "2171      1461430836   2016-04-23T17:00:36Z               Ikea Lachs   \n",
       "\n",
       "     generic_name quantity      ...       carbon-footprint_100g  \\\n",
       "285           NaN    100 g      ...                         NaN   \n",
       "356           NaN    686 g      ...                         NaN   \n",
       "1040          NaN    200 g      ...                         NaN   \n",
       "1329          NaN    420 g      ...                         NaN   \n",
       "2171          NaN      NaN      ...                         NaN   \n",
       "\n",
       "     nutrition-score-fr_100g nutrition-score-uk_100g glycemic-index_100g  \\\n",
       "285                      NaN                     NaN                 NaN   \n",
       "356                      NaN                     NaN                 NaN   \n",
       "1040                     NaN                     NaN                 NaN   \n",
       "1329                     NaN                     NaN                 NaN   \n",
       "2171                     NaN                     NaN                 NaN   \n",
       "\n",
       "     water-hardness_100g choline_100g phylloquinone_100g beta-glucan_100g  \\\n",
       "285                  NaN          NaN                NaN              NaN   \n",
       "356                  NaN          NaN                NaN              NaN   \n",
       "1040                 NaN          NaN                NaN              NaN   \n",
       "1329                 NaN          NaN                NaN              NaN   \n",
       "2171                 NaN          NaN                NaN              NaN   \n",
       "\n",
       "     inositol_100g carnitine_100g  \n",
       "285            NaN            NaN  \n",
       "356            NaN            NaN  \n",
       "1040           NaN            NaN  \n",
       "1329           NaN            NaN  \n",
       "2171           NaN            NaN  \n",
       "\n",
       "[5 rows x 173 columns]"
      ]
     },
     "execution_count": 10,
     "metadata": {},
     "output_type": "execute_result"
    }
   ],
   "source": [
    "nbProdSwit = len(foodSwitzerland)\n",
    "print(\"Number of products: \", nbProdSwit)\n",
    "foodSwitzerland.head()"
   ]
  },
  {
   "cell_type": "markdown",
   "metadata": {},
   "source": [
    "Date type preprocessing"
   ]
  },
  {
   "cell_type": "code",
   "execution_count": 11,
   "metadata": {
    "scrolled": false
   },
   "outputs": [
    {
     "name": "stdout",
     "output_type": "stream",
     "text": [
      "Date of first upload:  2012-05-16T18:33:35Z\n",
      "Date of last upload retrieved:  2018-11-23T08:40:49Z\n"
     ]
    }
   ],
   "source": [
    "print(\"Date of first upload: \", min(foodSwitzerland['created_datetime']))\n",
    "print(\"Date of last upload retrieved: \", max(foodSwitzerland['created_datetime']))"
   ]
  },
  {
   "cell_type": "code",
   "execution_count": 12,
   "metadata": {},
   "outputs": [],
   "source": [
    "foodSwitzerland['created_datetime'] = pd.to_datetime(foodSwitzerland['created_datetime'])\n",
    "foodSwitzerland = foodSwitzerland.sort_values(by='created_datetime')"
   ]
  },
  {
   "cell_type": "markdown",
   "metadata": {},
   "source": [
    "Quantity preprocessing"
   ]
  },
  {
   "cell_type": "code",
   "execution_count": 13,
   "metadata": {},
   "outputs": [],
   "source": [
    "foodSwitzerland['serving_quantity'] = pd.to_numeric(foodSwitzerland['serving_quantity'])\n",
    "foodSwitzerland['serving_quantity'] = foodSwitzerland['serving_quantity'].replace(0, np.NaN)"
   ]
  },
  {
   "cell_type": "code",
   "execution_count": 14,
   "metadata": {},
   "outputs": [
    {
     "data": {
      "text/plain": [
       "8010"
      ]
     },
     "execution_count": 14,
     "metadata": {},
     "output_type": "execute_result"
    }
   ],
   "source": [
    "sum(pd.isna(foodSwitzerland['serving_size']))+sum(foodSwitzerland['serving_size']==0)"
   ]
  },
  {
   "cell_type": "code",
   "execution_count": 15,
   "metadata": {
    "scrolled": true
   },
   "outputs": [
    {
     "data": {
      "text/plain": [
       "8155"
      ]
     },
     "execution_count": 15,
     "metadata": {},
     "output_type": "execute_result"
    }
   ],
   "source": [
    "sum(pd.isna(foodSwitzerland['serving_quantity']))+sum(foodSwitzerland['serving_quantity']==0)"
   ]
  },
  {
   "cell_type": "code",
   "execution_count": 16,
   "metadata": {},
   "outputs": [
    {
     "data": {
      "text/plain": [
       "6558"
      ]
     },
     "execution_count": 16,
     "metadata": {},
     "output_type": "execute_result"
    }
   ],
   "source": [
    "sum(pd.isna(foodSwitzerland['quantity']))+sum(foodSwitzerland['quantity']==0)"
   ]
  },
  {
   "cell_type": "markdown",
   "metadata": {},
   "source": [
    "Differentiating origins/manufacture/labels"
   ]
  },
  {
   "cell_type": "code",
   "execution_count": 17,
   "metadata": {},
   "outputs": [],
   "source": [
    "filter_ch = '[Ss]witzerland|[Ss]uisse|[Ss]chweiz|[Ss]vizerra'\n",
    "filter_local = '[Ss]witzerland|[Ss]uisse|[Ss]chweiz|[Ss]vizerra|[Ll]ocal'\n",
    "\n",
    "place = pd.Series(['Other country','Switzerland', 'No information'], index=[0,1,2])\n",
    "refLabel = pd.Series(['Other Label','Switzerland', 'No information'], index=[0,1,2]) \n",
    "\n",
    "foodSwitzerland[\"originsCat\"] = foodSwitzerland[\"origins\"].str.contains(filter_ch,regex=True).map(place,na_action='ignore')\n",
    "foodSwitzerland[\"manuCat\"] = foodSwitzerland[\"manufacturing_places\"].str.contains(filter_ch,regex=True).map(place,na_action='ignore')\n",
    "foodSwitzerland[\"labCat\"] = foodSwitzerland[\"labels_tags\"].str.contains(filter_local,regex=True).map(refLabel,na_action='ignore') "
   ]
  },
  {
   "cell_type": "markdown",
   "metadata": {},
   "source": [
    "Re-categorization from 'categories' to the categories in the Swiss consumption dataset"
   ]
  },
  {
   "cell_type": "code",
   "execution_count": 18,
   "metadata": {},
   "outputs": [],
   "source": [
    "filter_cere = '[Cc]éréal|[Pp]ain'\n",
    "filter_pomm = '[Pp]omme de terre'\n",
    "filter_sucr = '[Ss]ucre '\n",
    "filter_miel = '[Mm]iel'\n",
    "filter_legu = '[Ll]égume|[Ll]entilles|[Cc]ornichon|[Pp]oivre|[Cc]hampignon|[Hh]Haricots'\n",
    "filter_frui = '[Ss]irop|[Jj]us|[Ff]ruit]|[Aa]liments et boissons à base de végétaux|[Pp]flanzliche Lebensmittel und Getränke|[Bb]oissons aux fruits|[Pp]lant-based foods and beverages'\n",
    "filter_huil = '[Hh]uile'\n",
    "filter_vian = '[Jj]ambon|[Vv]iandes|[Vv]iande|[Cc]harcuteries'\n",
    "filter_lait = '[Yy]aourts|[Yy]ogourt|[Pp]roduits laitiers|[Jj]oghurt|[Yy]aourts aux fruits|[Bb]oissons lactées|[Ll]aits entiers|[Pp]roduit laitier|[Ff]romage|[Dd]airies|[Cc]heeses|[Cc]ream cheeses|[Bb]utter|[Mm]]ilk'\n",
    "filter_oeuf = '[Oo]euf|[Ee]ggs'\n",
    "filter_pois = '[Pp]oisson|[Pp]oissons surgelés|[Ff]ilets de perche'\n",
    "filter_vin = '[Vv]in|[Ww]ine|[Ww]ein'\n",
    "\n",
    "cereales = foodSwitzerland[(foodSwitzerland.product_name.str.contains(filter_cere,regex=True) | (foodSwitzerland.generic_name.str.contains(filter_cere,regex=True))| (foodSwitzerland.categories.str.contains(filter_cere,regex=True)))]\n",
    "pomme = foodSwitzerland[(foodSwitzerland.product_name.str.contains(filter_pomm,regex=True) | (foodSwitzerland.generic_name.str.contains(filter_pomm,regex=True))| (foodSwitzerland.categories.str.contains(filter_pomm,regex=True)))]\n",
    "sucre = foodSwitzerland[(foodSwitzerland.product_name.str.contains(filter_sucr,regex=True) | (foodSwitzerland.generic_name.str.contains(filter_sucr,regex=True))| (foodSwitzerland.categories.str.contains(filter_sucr,regex=True)))]\n",
    "miel = foodSwitzerland[(foodSwitzerland.product_name.str.contains(filter_miel,regex=True) | (foodSwitzerland.generic_name.str.contains(filter_miel,regex=True))| (foodSwitzerland.categories.str.contains(filter_miel,regex=True)))]\n",
    "legumes = foodSwitzerland[(foodSwitzerland.product_name.str.contains(filter_legu,regex=True) | (foodSwitzerland.generic_name.str.contains(filter_legu,regex=True))| (foodSwitzerland.categories.str.contains(filter_legu,regex=True)))]\n",
    "fruits = foodSwitzerland[(foodSwitzerland.product_name.str.contains(filter_frui,regex=True) | (foodSwitzerland.generic_name.str.contains(filter_frui,regex=True))| (foodSwitzerland.categories.str.contains(filter_frui,regex=True)))]\n",
    "huiles = foodSwitzerland[(foodSwitzerland.product_name.str.contains(filter_huil,regex=True) | (foodSwitzerland.generic_name.str.contains(filter_huil,regex=True))| (foodSwitzerland.categories.str.contains(filter_huil,regex=True)))]\n",
    "viande = foodSwitzerland[(foodSwitzerland.product_name.str.contains(filter_vian,regex=True) | (foodSwitzerland.generic_name.str.contains(filter_vian,regex=True))| (foodSwitzerland.categories.str.contains(filter_vian,regex=True)))]\n",
    "lait =foodSwitzerland[(foodSwitzerland.product_name.str.contains(filter_lait,regex=True) | (foodSwitzerland.generic_name.str.contains(filter_lait,regex=True))| (foodSwitzerland.categories.str.contains(filter_lait,regex=True)))]\n",
    "oeuf =foodSwitzerland[(foodSwitzerland.product_name.str.contains(filter_oeuf,regex=True) | (foodSwitzerland.generic_name.str.contains(filter_oeuf,regex=True))| (foodSwitzerland.categories.str.contains(filter_oeuf,regex=True)))]\n",
    "pois = foodSwitzerland[(foodSwitzerland.product_name.str.contains(filter_pois,regex=True) | (foodSwitzerland.generic_name.str.contains(filter_pois,regex=True))| (foodSwitzerland.categories.str.contains(filter_pois,regex=True)))]\n",
    "vin = foodSwitzerland[(foodSwitzerland.product_name.str.contains(filter_vin,regex=True) | (foodSwitzerland.generic_name.str.contains(filter_vin,regex=True))| (foodSwitzerland.categories.str.contains(filter_vin,regex=True)))]"
   ]
  },
  {
   "cell_type": "code",
   "execution_count": 19,
   "metadata": {},
   "outputs": [
    {
     "data": {
      "text/plain": [
       "2163"
      ]
     },
     "execution_count": 19,
     "metadata": {},
     "output_type": "execute_result"
    }
   ],
   "source": [
    "len(cereales)+len(pomme)+len(sucre)+len(miel)+len(legumes)+len(fruits)+len(huiles)+len(viande)+len(lait)+len(oeuf)+len(pois)+len(vin)"
   ]
  },
  {
   "cell_type": "code",
   "execution_count": 230,
   "metadata": {},
   "outputs": [
    {
     "name": "stdout",
     "output_type": "stream",
     "text": [
      "count              33\n",
      "unique              2\n",
      "top       Switzerland\n",
      "freq               23\n",
      "Name: originsCat, dtype: object\n",
      "===================\n",
      "proportion of origin Switzerland in 'céréales' category in the dataset:  0.696969696969697\n"
     ]
    }
   ],
   "source": [
    "print(cereales.originsCat.describe())\n",
    "print('===================')\n",
    "if (cereales.originsCat.describe().top=='Switzerland'):\n",
    "    propCer = cereales.originsCat.describe().freq/cereales.originsCat.count()\n",
    "else:\n",
    "    propCer = (cereales.originsCat.count()-cereales.originsCat.describe().freq)/cereales.originsCat.count()\n",
    "print (\"proportion of origin Switzerland in 'céréales' category in the dataset: \", propCer)"
   ]
  },
  {
   "cell_type": "code",
   "execution_count": 231,
   "metadata": {},
   "outputs": [
    {
     "name": "stdout",
     "output_type": "stream",
     "text": [
      "count               3\n",
      "unique              1\n",
      "top       Switzerland\n",
      "freq                3\n",
      "Name: originsCat, dtype: object\n",
      "===================\n",
      "proportion of origin Switzerland in 'pomme de terre' category in the dataset:  1.0\n"
     ]
    }
   ],
   "source": [
    "print(pomme.originsCat.describe())\n",
    "print('===================')\n",
    "\n",
    "if (cereales.originsCat.describe().top=='Switzerland'):\n",
    "    propPom = pomme.originsCat.describe().freq/pomme.originsCat.count()\n",
    "else:\n",
    "    propPom = (pomme.originsCat.count()-pomme.originsCat.describe().freq)/pomme.originsCat.count()\n",
    "\n",
    "print (\"proportion of origin Switzerland in 'pomme de terre' category in the dataset: \",propPom)"
   ]
  },
  {
   "cell_type": "code",
   "execution_count": 232,
   "metadata": {},
   "outputs": [
    {
     "name": "stdout",
     "output_type": "stream",
     "text": [
      "count                19\n",
      "unique                2\n",
      "top       Other country\n",
      "freq                 10\n",
      "Name: originsCat, dtype: object\n",
      "===================\n",
      "proportion of origin Switzerland in 'Sucre' category in the dataset:  0.47368421052631576\n"
     ]
    }
   ],
   "source": [
    "print(sucre.originsCat.describe())\n",
    "print('===================')\n",
    "\n",
    "if (sucre.originsCat.describe().top=='Switzerland'):\n",
    "    propSuc = sucre.originsCat.describe().freq/sucre.originsCat.count()\n",
    "else:\n",
    "    propSuc = (sucre.originsCat.count()-sucre.originsCat.describe().freq)/sucre.originsCat.count()\n",
    "    \n",
    "print (\"proportion of origin Switzerland in 'Sucre' category in the dataset: \", propSuc)"
   ]
  },
  {
   "cell_type": "code",
   "execution_count": 233,
   "metadata": {},
   "outputs": [
    {
     "name": "stdout",
     "output_type": "stream",
     "text": [
      "count                 4\n",
      "unique                2\n",
      "top       Other country\n",
      "freq                  3\n",
      "Name: originsCat, dtype: object\n",
      "===================\n",
      "proportion of origin Switzerland in 'Miel' category in the dataset:  0.25\n"
     ]
    }
   ],
   "source": [
    "print(miel.originsCat.describe())\n",
    "print('===================')\n",
    "\n",
    "if (sucre.originsCat.describe().top=='Switzerland'):\n",
    "    propMie = miel.originsCat.describe().freq/miel.originsCat.count()\n",
    "else:\n",
    "    propMie = (miel.originsCat.count()-miel.originsCat.describe().freq)/miel.originsCat.count()\n",
    "    \n",
    "print (\"proportion of origin Switzerland in 'Miel' category in the dataset: \",propMie)"
   ]
  },
  {
   "cell_type": "code",
   "execution_count": 234,
   "metadata": {},
   "outputs": [
    {
     "name": "stdout",
     "output_type": "stream",
     "text": [
      "count              35\n",
      "unique              2\n",
      "top       Switzerland\n",
      "freq               21\n",
      "Name: originsCat, dtype: object\n",
      "===================\n",
      "proportion of origin Switzerland in 'Legumes' category in the dataset:  0.6\n"
     ]
    }
   ],
   "source": [
    "print(legumes.originsCat.describe())\n",
    "print('===================')\n",
    "\n",
    "if (legumes.originsCat.describe().top=='Switzerland'):\n",
    "    propLeg = legumes.originsCat.describe().freq/legumes.originsCat.count()\n",
    "else:\n",
    "    propLeg = (legumes.originsCat.count()-legumes.originsCat.describe().freq)/legumes.originsCat.count()\n",
    "\n",
    "print (\"proportion of origin Switzerland in 'Legumes' category in the dataset: \",propLeg)"
   ]
  },
  {
   "cell_type": "code",
   "execution_count": 235,
   "metadata": {},
   "outputs": [
    {
     "name": "stdout",
     "output_type": "stream",
     "text": [
      "count              51\n",
      "unique              2\n",
      "top       Switzerland\n",
      "freq               30\n",
      "Name: originsCat, dtype: object\n",
      "===================\n",
      "proportion of origin Switzerland in 'Fruits' category in the dataset:  0.5882352941176471\n"
     ]
    }
   ],
   "source": [
    "print(fruits.originsCat.describe())\n",
    "print('===================')\n",
    "\n",
    "if (fruits.originsCat.describe().top=='Switzerland'):\n",
    "    propFru = fruits.originsCat.describe().freq/fruits.originsCat.count()\n",
    "else:\n",
    "    propfru = (fruits.originsCat.count()-fruits.originsCat.describe().freq)/fruits.originsCat.count()\n",
    "    \n",
    "print (\"proportion of origin Switzerland in 'Fruits' category in the dataset: \",propFru)"
   ]
  },
  {
   "cell_type": "code",
   "execution_count": 236,
   "metadata": {},
   "outputs": [
    {
     "name": "stdout",
     "output_type": "stream",
     "text": [
      "count                 6\n",
      "unique                2\n",
      "top       Other country\n",
      "freq                  4\n",
      "Name: originsCat, dtype: object\n",
      "===================\n",
      "proportion of origin Switzerland in 'Huiles' category in the dataset:  0.3333333333333333\n"
     ]
    }
   ],
   "source": [
    "print(huiles.originsCat.describe())\n",
    "print('===================')\n",
    "\n",
    "if (huiles.originsCat.describe().top=='Switzerland'):\n",
    "    propHui = huiles.originsCat.describe().freq/huiles.originsCat.count()\n",
    "else:\n",
    "    propHui = (huiles.originsCat.count()-huiles.originsCat.describe().freq)/huiles.originsCat.count()\n",
    "\n",
    "print (\"proportion of origin Switzerland in 'Huiles' category in the dataset: \",propHui)"
   ]
  },
  {
   "cell_type": "code",
   "execution_count": 237,
   "metadata": {},
   "outputs": [
    {
     "name": "stdout",
     "output_type": "stream",
     "text": [
      "count              57\n",
      "unique              2\n",
      "top       Switzerland\n",
      "freq               52\n",
      "Name: originsCat, dtype: object\n",
      "===================\n",
      "proportion of origin Switzerland in 'Viande' category in the dataset:  0.9122807017543859\n"
     ]
    }
   ],
   "source": [
    "print(viande.originsCat.describe())\n",
    "print('===================')\n",
    "\n",
    "if (viande.originsCat.describe().top=='Switzerland'):\n",
    "    propVia = viande.originsCat.describe().freq/viande.originsCat.count()\n",
    "else:\n",
    "    propVia = (viande.originsCat.count()-viande.originsCat.describe().freq)/viande.originsCat.count()\n",
    "    \n",
    "print (\"proportion of origin Switzerland in 'Viande' category in the dataset: \",propVia)"
   ]
  },
  {
   "cell_type": "code",
   "execution_count": 238,
   "metadata": {},
   "outputs": [
    {
     "name": "stdout",
     "output_type": "stream",
     "text": [
      "count              98\n",
      "unique              2\n",
      "top       Switzerland\n",
      "freq               85\n",
      "Name: originsCat, dtype: object\n",
      "===================\n",
      "proportion of origin Switzerland in 'Produits Latiers' category in the dataset:  0.8673469387755102\n"
     ]
    }
   ],
   "source": [
    "print(lait.originsCat.describe())\n",
    "print('===================')\n",
    "\n",
    "if (lait.originsCat.describe().top=='Switzerland'):\n",
    "    propLai = lait.originsCat.describe().freq/lait.originsCat.count()\n",
    "else:\n",
    "    propLai = (lait.originsCat.count()-lait.originsCat.describe().freq)/lait.originsCat.count()\n",
    "\n",
    "print (\"proportion of origin Switzerland in 'Produits Latiers' category in the dataset: \",propLai)"
   ]
  },
  {
   "cell_type": "code",
   "execution_count": 239,
   "metadata": {},
   "outputs": [
    {
     "name": "stdout",
     "output_type": "stream",
     "text": [
      "count              25\n",
      "unique              2\n",
      "top       Switzerland\n",
      "freq               24\n",
      "Name: originsCat, dtype: object\n",
      "===================\n",
      "proportion of origin Switzerland in 'Oeuf' category in the dataset:  0.96\n"
     ]
    }
   ],
   "source": [
    "print(oeuf.originsCat.describe())\n",
    "print('===================')\n",
    "\n",
    "if (oeuf.originsCat.describe().top=='Switzerland'):\n",
    "    propOeu = oeuf.originsCat.describe().freq/oeuf.originsCat.count()\n",
    "else:\n",
    "    propOeu = (oeuf.originsCat.count()-oeuf.originsCat.describe().freq)/oeuf.originsCat.count()\n",
    "\n",
    "print (\"proportion of origin Switzerland in 'Oeuf' category in the dataset: \", propOeu)"
   ]
  },
  {
   "cell_type": "code",
   "execution_count": 240,
   "metadata": {},
   "outputs": [
    {
     "name": "stdout",
     "output_type": "stream",
     "text": [
      "count                15\n",
      "unique                2\n",
      "top       Other country\n",
      "freq                 12\n",
      "Name: originsCat, dtype: object\n",
      "===================\n",
      "proportion of origin Switzerland in 'Poissons et mollusques' category in the dataset:  0.2\n"
     ]
    }
   ],
   "source": [
    "print(pois.originsCat.describe())\n",
    "print('===================')\n",
    "\n",
    "if (pois.originsCat.describe().top=='Switzerland'):\n",
    "    propPoi = pois.originsCat.describe().freq/pois.originsCat.count()\n",
    "else:\n",
    "    propPoi = (pois.originsCat.count()-pois.originsCat.describe().freq)/pois.originsCat.count()\n",
    "\n",
    "print (\"proportion of origin Switzerland in 'Poissons et mollusques' category in the dataset: \", propPoi)"
   ]
  },
  {
   "cell_type": "code",
   "execution_count": 241,
   "metadata": {},
   "outputs": [
    {
     "name": "stdout",
     "output_type": "stream",
     "text": [
      "count               5\n",
      "unique              2\n",
      "top       Switzerland\n",
      "freq                3\n",
      "Name: originsCat, dtype: object\n",
      "===================\n",
      "proportion of origin Switzerland in 'Vin' category in the dataset:  0.6\n"
     ]
    }
   ],
   "source": [
    "print(vin.originsCat.describe())\n",
    "print('===================')\n",
    "\n",
    "if (vin.originsCat.describe().top=='Switzerland'):\n",
    "    propVin = vin.originsCat.describe().freq/vin.originsCat.count()\n",
    "else:\n",
    "    propVin = (vin.originsCat.count()-vin.originsCat.describe().freq)/vin.originsCat.count()\n",
    "\n",
    "print (\"proportion of origin Switzerland in 'Vin' category in the dataset: \",propVin)"
   ]
  },
  {
   "cell_type": "markdown",
   "metadata": {},
   "source": [
    "For having the kg/pers of products with origin in Switzerland over the years"
   ]
  },
  {
   "cell_type": "code",
   "execution_count": 242,
   "metadata": {},
   "outputs": [
    {
     "data": {
      "text/html": [
       "<div>\n",
       "<style scoped>\n",
       "    .dataframe tbody tr th:only-of-type {\n",
       "        vertical-align: middle;\n",
       "    }\n",
       "\n",
       "    .dataframe tbody tr th {\n",
       "        vertical-align: top;\n",
       "    }\n",
       "\n",
       "    .dataframe thead th {\n",
       "        text-align: right;\n",
       "    }\n",
       "</style>\n",
       "<table border=\"1\" class=\"dataframe\">\n",
       "  <thead>\n",
       "    <tr style=\"text-align: right;\">\n",
       "      <th></th>\n",
       "      <th>2007</th>\n",
       "      <th>2008</th>\n",
       "      <th>2009</th>\n",
       "      <th>2010</th>\n",
       "      <th>2011</th>\n",
       "      <th>2012</th>\n",
       "      <th>2013</th>\n",
       "      <th>2014</th>\n",
       "      <th>2015</th>\n",
       "    </tr>\n",
       "    <tr>\n",
       "      <th>products</th>\n",
       "      <th></th>\n",
       "      <th></th>\n",
       "      <th></th>\n",
       "      <th></th>\n",
       "      <th></th>\n",
       "      <th></th>\n",
       "      <th></th>\n",
       "      <th></th>\n",
       "      <th></th>\n",
       "    </tr>\n",
       "  </thead>\n",
       "  <tbody>\n",
       "    <tr>\n",
       "      <th>Céréales</th>\n",
       "      <td>68.3126</td>\n",
       "      <td>65.3321</td>\n",
       "      <td>67.4404</td>\n",
       "      <td>65.4345</td>\n",
       "      <td>69.6795</td>\n",
       "      <td>64.0472</td>\n",
       "      <td>62.7965</td>\n",
       "      <td>62.7082</td>\n",
       "      <td>64.5309</td>\n",
       "    </tr>\n",
       "    <tr>\n",
       "      <th>Pommes de terre</th>\n",
       "      <td>41.7786</td>\n",
       "      <td>46.8693</td>\n",
       "      <td>46.2687</td>\n",
       "      <td>47.8172</td>\n",
       "      <td>44.4812</td>\n",
       "      <td>48.7131</td>\n",
       "      <td>51.7083</td>\n",
       "      <td>41.8441</td>\n",
       "      <td>50.635</td>\n",
       "    </tr>\n",
       "    <tr>\n",
       "      <th>Sucre</th>\n",
       "      <td>20.4476</td>\n",
       "      <td>20.6483</td>\n",
       "      <td>19.409</td>\n",
       "      <td>17.7468</td>\n",
       "      <td>17.7372</td>\n",
       "      <td>17.2282</td>\n",
       "      <td>19.0488</td>\n",
       "      <td>17.9321</td>\n",
       "      <td>18.0312</td>\n",
       "    </tr>\n",
       "    <tr>\n",
       "      <th>Miel</th>\n",
       "      <td>0.337059</td>\n",
       "      <td>0.302607</td>\n",
       "      <td>0.322019</td>\n",
       "      <td>0.3304</td>\n",
       "      <td>0.358027</td>\n",
       "      <td>0.289511</td>\n",
       "      <td>0.348087</td>\n",
       "      <td>0.284189</td>\n",
       "      <td>0.358886</td>\n",
       "    </tr>\n",
       "    <tr>\n",
       "      <th>Légumes 1</th>\n",
       "      <td>61.9428</td>\n",
       "      <td>63.4429</td>\n",
       "      <td>64.9193</td>\n",
       "      <td>64.3366</td>\n",
       "      <td>64.8904</td>\n",
       "      <td>63.9263</td>\n",
       "      <td>63.1203</td>\n",
       "      <td>62.7464</td>\n",
       "      <td>62.4935</td>\n",
       "    </tr>\n",
       "    <tr>\n",
       "      <th>Fruits 1</th>\n",
       "      <td>69.9306</td>\n",
       "      <td>72.7588</td>\n",
       "      <td>73.0419</td>\n",
       "      <td>70.4766</td>\n",
       "      <td>68.8405</td>\n",
       "      <td>71.2389</td>\n",
       "      <td>70.1539</td>\n",
       "      <td>67.6173</td>\n",
       "      <td>67.6984</td>\n",
       "    </tr>\n",
       "    <tr>\n",
       "      <th>Huiles et graisses végétales</th>\n",
       "      <td>5.38912</td>\n",
       "      <td>5.3805</td>\n",
       "      <td>5.70284</td>\n",
       "      <td>5.7986</td>\n",
       "      <td>5.89835</td>\n",
       "      <td>5.39217</td>\n",
       "      <td>5.89463</td>\n",
       "      <td>5.95383</td>\n",
       "      <td>5.61443</td>\n",
       "    </tr>\n",
       "    <tr>\n",
       "      <th>Viande</th>\n",
       "      <td>47.2557</td>\n",
       "      <td>48.0008</td>\n",
       "      <td>46.6637</td>\n",
       "      <td>47.8054</td>\n",
       "      <td>47.6473</td>\n",
       "      <td>45.9335</td>\n",
       "      <td>46.1082</td>\n",
       "      <td>46.2351</td>\n",
       "      <td>45.4567</td>\n",
       "    </tr>\n",
       "    <tr>\n",
       "      <th>Lait et produits laitiers</th>\n",
       "      <td>221.767</td>\n",
       "      <td>219.128</td>\n",
       "      <td>213.242</td>\n",
       "      <td>215.875</td>\n",
       "      <td>218.745</td>\n",
       "      <td>214.824</td>\n",
       "      <td>218.211</td>\n",
       "      <td>215.247</td>\n",
       "      <td>213.971</td>\n",
       "    </tr>\n",
       "    <tr>\n",
       "      <th>Oeufs</th>\n",
       "      <td>11.2075</td>\n",
       "      <td>11.3418</td>\n",
       "      <td>11.4604</td>\n",
       "      <td>11.6449</td>\n",
       "      <td>11.0569</td>\n",
       "      <td>11.0401</td>\n",
       "      <td>11.1602</td>\n",
       "      <td>11.289</td>\n",
       "      <td>11.2809</td>\n",
       "    </tr>\n",
       "    <tr>\n",
       "      <th>Poissons et mollusques</th>\n",
       "      <td>1.4768</td>\n",
       "      <td>1.50867</td>\n",
       "      <td>1.55442</td>\n",
       "      <td>1.57246</td>\n",
       "      <td>1.56503</td>\n",
       "      <td>1.50224</td>\n",
       "      <td>1.60841</td>\n",
       "      <td>1.53737</td>\n",
       "      <td>1.55877</td>\n",
       "    </tr>\n",
       "    <tr>\n",
       "      <th>Vin</th>\n",
       "      <td>23.2905</td>\n",
       "      <td>22.8514</td>\n",
       "      <td>22.3654</td>\n",
       "      <td>22.5288</td>\n",
       "      <td>21.7557</td>\n",
       "      <td>21.2374</td>\n",
       "      <td>21.4567</td>\n",
       "      <td>20.7702</td>\n",
       "      <td>20.4987</td>\n",
       "    </tr>\n",
       "  </tbody>\n",
       "</table>\n",
       "</div>"
      ],
      "text/plain": [
       "                                  2007      2008      2009     2010      2011  \\\n",
       "products                                                                        \n",
       "Céréales                       68.3126   65.3321   67.4404  65.4345   69.6795   \n",
       "Pommes de terre                41.7786   46.8693   46.2687  47.8172   44.4812   \n",
       "Sucre                          20.4476   20.6483    19.409  17.7468   17.7372   \n",
       "Miel                          0.337059  0.302607  0.322019   0.3304  0.358027   \n",
       "Légumes 1                      61.9428   63.4429   64.9193  64.3366   64.8904   \n",
       "Fruits 1                       69.9306   72.7588   73.0419  70.4766   68.8405   \n",
       "Huiles et graisses végétales   5.38912    5.3805   5.70284   5.7986   5.89835   \n",
       "Viande                         47.2557   48.0008   46.6637  47.8054   47.6473   \n",
       "Lait et produits laitiers      221.767   219.128   213.242  215.875   218.745   \n",
       "Oeufs                          11.2075   11.3418   11.4604  11.6449   11.0569   \n",
       "Poissons et mollusques          1.4768   1.50867   1.55442  1.57246   1.56503   \n",
       "Vin                            23.2905   22.8514   22.3654  22.5288   21.7557   \n",
       "\n",
       "                                  2012      2013      2014      2015  \n",
       "products                                                              \n",
       "Céréales                       64.0472   62.7965   62.7082   64.5309  \n",
       "Pommes de terre                48.7131   51.7083   41.8441    50.635  \n",
       "Sucre                          17.2282   19.0488   17.9321   18.0312  \n",
       "Miel                          0.289511  0.348087  0.284189  0.358886  \n",
       "Légumes 1                      63.9263   63.1203   62.7464   62.4935  \n",
       "Fruits 1                       71.2389   70.1539   67.6173   67.6984  \n",
       "Huiles et graisses végétales   5.39217   5.89463   5.95383   5.61443  \n",
       "Viande                         45.9335   46.1082   46.2351   45.4567  \n",
       "Lait et produits laitiers      214.824   218.211   215.247   213.971  \n",
       "Oeufs                          11.0401   11.1602    11.289   11.2809  \n",
       "Poissons et mollusques         1.50224   1.60841   1.53737   1.55877  \n",
       "Vin                            21.2374   21.4567   20.7702   20.4987  "
      ]
     },
     "execution_count": 242,
     "metadata": {},
     "output_type": "execute_result"
    }
   ],
   "source": [
    "catConsSwitOS = pd.DataFrame(index = catConsSwit.index, columns = catConsSwit.columns)\n",
    "catConsSwitOS.iloc[(catConsSwitOS.index== 'Céréales')] = propCer*catConsSwit.iloc[(catConsSwitOS.index== 'Céréales')]\n",
    "catConsSwitOS.iloc[(catConsSwitOS.index== 'Pommes de terre')] = propPom*catConsSwit.iloc[(catConsSwitOS.index== 'Pommes de terre')]\n",
    "catConsSwitOS.iloc[(catConsSwitOS.index== 'Sucre')] = propSuc*catConsSwit.iloc[(catConsSwitOS.index== 'Sucre')]\n",
    "catConsSwitOS.iloc[(catConsSwitOS.index== 'Miel')] = propMie*catConsSwit.iloc[(catConsSwitOS.index== 'Miel')]\n",
    "catConsSwitOS.iloc[(catConsSwitOS.index== 'Légumes 1')] = propLeg*catConsSwit.iloc[(catConsSwitOS.index== 'Légumes 1')]\n",
    "catConsSwitOS.iloc[(catConsSwitOS.index== 'Fruits 1')] = propFru*catConsSwit.iloc[(catConsSwitOS.index== 'Fruits 1')]\n",
    "catConsSwitOS.iloc[(catConsSwitOS.index== 'Huiles et graisses végétales')] = propHui*catConsSwit.iloc[(catConsSwitOS.index== 'Huiles et graisses végétales')]\n",
    "catConsSwitOS.iloc[(catConsSwitOS.index== 'Viande')] = propVia*catConsSwit.iloc[(catConsSwitOS.index== 'Viande')]\n",
    "catConsSwitOS.iloc[(catConsSwitOS.index== 'Lait et produits laitiers')] = propLai*catConsSwit.iloc[(catConsSwitOS.index== 'Lait et produits laitiers')]\n",
    "catConsSwitOS.iloc[(catConsSwitOS.index== 'Oeufs')] = propOeu*catConsSwit.iloc[(catConsSwitOS.index== 'Oeufs')]\n",
    "catConsSwitOS.iloc[(catConsSwitOS.index== 'Poissons et mollusques')] = propPoi*catConsSwit.iloc[(catConsSwitOS.index== 'Poissons et mollusques')]\n",
    "catConsSwitOS.iloc[(catConsSwitOS.index== 'Vin')] = propVin*catConsSwit.iloc[(catConsSwitOS.index== 'Vin')]\n",
    "catConsSwitOS"
   ]
  },
  {
   "cell_type": "code",
   "execution_count": 243,
   "metadata": {},
   "outputs": [
    {
     "data": {
      "text/html": [
       "<div>\n",
       "<style scoped>\n",
       "    .dataframe tbody tr th:only-of-type {\n",
       "        vertical-align: middle;\n",
       "    }\n",
       "\n",
       "    .dataframe tbody tr th {\n",
       "        vertical-align: top;\n",
       "    }\n",
       "\n",
       "    .dataframe thead th {\n",
       "        text-align: right;\n",
       "    }\n",
       "</style>\n",
       "<table border=\"1\" class=\"dataframe\">\n",
       "  <thead>\n",
       "    <tr style=\"text-align: right;\">\n",
       "      <th></th>\n",
       "      <th>2007</th>\n",
       "      <th>2008</th>\n",
       "      <th>2009</th>\n",
       "      <th>2010</th>\n",
       "      <th>2011</th>\n",
       "      <th>2012</th>\n",
       "      <th>2013</th>\n",
       "      <th>2014</th>\n",
       "      <th>2015</th>\n",
       "    </tr>\n",
       "  </thead>\n",
       "  <tbody>\n",
       "    <tr>\n",
       "      <th>sum</th>\n",
       "      <td>573.135493</td>\n",
       "      <td>577.565663</td>\n",
       "      <td>572.390493</td>\n",
       "      <td>571.36748</td>\n",
       "      <td>572.654622</td>\n",
       "      <td>565.372705</td>\n",
       "      <td>571.614811</td>\n",
       "      <td>554.164678</td>\n",
       "      <td>562.128627</td>\n",
       "    </tr>\n",
       "  </tbody>\n",
       "</table>\n",
       "</div>"
      ],
      "text/plain": [
       "           2007        2008        2009       2010        2011        2012  \\\n",
       "sum  573.135493  577.565663  572.390493  571.36748  572.654622  565.372705   \n",
       "\n",
       "           2013        2014        2015  \n",
       "sum  571.614811  554.164678  562.128627  "
      ]
     },
     "execution_count": 243,
     "metadata": {},
     "output_type": "execute_result"
    }
   ],
   "source": [
    "catConsSwitOS.agg(['sum'])"
   ]
  },
  {
   "cell_type": "markdown",
   "metadata": {},
   "source": [
    "Total consumption over the years"
   ]
  },
  {
   "cell_type": "code",
   "execution_count": 244,
   "metadata": {},
   "outputs": [
    {
     "data": {
      "text/html": [
       "<div>\n",
       "<style scoped>\n",
       "    .dataframe tbody tr th:only-of-type {\n",
       "        vertical-align: middle;\n",
       "    }\n",
       "\n",
       "    .dataframe tbody tr th {\n",
       "        vertical-align: top;\n",
       "    }\n",
       "\n",
       "    .dataframe thead th {\n",
       "        text-align: right;\n",
       "    }\n",
       "</style>\n",
       "<table border=\"1\" class=\"dataframe\">\n",
       "  <thead>\n",
       "    <tr style=\"text-align: right;\">\n",
       "      <th></th>\n",
       "      <th>2007</th>\n",
       "      <th>2008</th>\n",
       "      <th>2009</th>\n",
       "      <th>2010</th>\n",
       "      <th>2011</th>\n",
       "      <th>2012</th>\n",
       "      <th>2013</th>\n",
       "      <th>2014</th>\n",
       "      <th>2015</th>\n",
       "    </tr>\n",
       "    <tr>\n",
       "      <th>products</th>\n",
       "      <th></th>\n",
       "      <th></th>\n",
       "      <th></th>\n",
       "      <th></th>\n",
       "      <th></th>\n",
       "      <th></th>\n",
       "      <th></th>\n",
       "      <th></th>\n",
       "      <th></th>\n",
       "    </tr>\n",
       "  </thead>\n",
       "  <tbody>\n",
       "    <tr>\n",
       "      <th>Céréales</th>\n",
       "      <td>98.013754</td>\n",
       "      <td>93.737296</td>\n",
       "      <td>96.762305</td>\n",
       "      <td>93.884316</td>\n",
       "      <td>99.974945</td>\n",
       "      <td>91.893762</td>\n",
       "      <td>90.099344</td>\n",
       "      <td>89.972571</td>\n",
       "      <td>92.587820</td>\n",
       "    </tr>\n",
       "    <tr>\n",
       "      <th>Pommes de terre</th>\n",
       "      <td>41.778600</td>\n",
       "      <td>46.869346</td>\n",
       "      <td>46.268682</td>\n",
       "      <td>47.817157</td>\n",
       "      <td>44.481201</td>\n",
       "      <td>48.713089</td>\n",
       "      <td>51.708254</td>\n",
       "      <td>41.844096</td>\n",
       "      <td>50.635046</td>\n",
       "    </tr>\n",
       "    <tr>\n",
       "      <th>Sucre</th>\n",
       "      <td>43.167207</td>\n",
       "      <td>43.590842</td>\n",
       "      <td>40.974560</td>\n",
       "      <td>37.465394</td>\n",
       "      <td>37.445127</td>\n",
       "      <td>36.370639</td>\n",
       "      <td>40.214113</td>\n",
       "      <td>37.856708</td>\n",
       "      <td>38.065779</td>\n",
       "    </tr>\n",
       "    <tr>\n",
       "      <th>Miel</th>\n",
       "      <td>1.348237</td>\n",
       "      <td>1.210427</td>\n",
       "      <td>1.288076</td>\n",
       "      <td>1.321601</td>\n",
       "      <td>1.432108</td>\n",
       "      <td>1.158042</td>\n",
       "      <td>1.392348</td>\n",
       "      <td>1.136757</td>\n",
       "      <td>1.435543</td>\n",
       "    </tr>\n",
       "    <tr>\n",
       "      <th>Légumes 1</th>\n",
       "      <td>103.237925</td>\n",
       "      <td>105.738089</td>\n",
       "      <td>108.198836</td>\n",
       "      <td>107.227660</td>\n",
       "      <td>108.150723</td>\n",
       "      <td>106.543807</td>\n",
       "      <td>105.200511</td>\n",
       "      <td>104.577329</td>\n",
       "      <td>104.155867</td>\n",
       "    </tr>\n",
       "    <tr>\n",
       "      <th>Fruits 1</th>\n",
       "      <td>118.882028</td>\n",
       "      <td>123.689979</td>\n",
       "      <td>124.171271</td>\n",
       "      <td>119.810187</td>\n",
       "      <td>117.028790</td>\n",
       "      <td>121.106067</td>\n",
       "      <td>119.261679</td>\n",
       "      <td>114.949381</td>\n",
       "      <td>115.087259</td>\n",
       "    </tr>\n",
       "    <tr>\n",
       "      <th>Huiles et graisses végétales</th>\n",
       "      <td>16.167350</td>\n",
       "      <td>16.141488</td>\n",
       "      <td>17.108515</td>\n",
       "      <td>17.395802</td>\n",
       "      <td>17.695043</td>\n",
       "      <td>16.176501</td>\n",
       "      <td>17.683895</td>\n",
       "      <td>17.861493</td>\n",
       "      <td>16.843297</td>\n",
       "    </tr>\n",
       "    <tr>\n",
       "      <th>Viande</th>\n",
       "      <td>51.799507</td>\n",
       "      <td>52.616272</td>\n",
       "      <td>51.150578</td>\n",
       "      <td>52.402102</td>\n",
       "      <td>52.228737</td>\n",
       "      <td>50.350228</td>\n",
       "      <td>50.541678</td>\n",
       "      <td>50.680753</td>\n",
       "      <td>49.827563</td>\n",
       "    </tr>\n",
       "    <tr>\n",
       "      <th>Lait et produits laitiers</th>\n",
       "      <td>255.683841</td>\n",
       "      <td>252.642256</td>\n",
       "      <td>245.855948</td>\n",
       "      <td>248.891431</td>\n",
       "      <td>252.199542</td>\n",
       "      <td>247.679618</td>\n",
       "      <td>251.584253</td>\n",
       "      <td>248.167039</td>\n",
       "      <td>246.696216</td>\n",
       "    </tr>\n",
       "    <tr>\n",
       "      <th>Oeufs</th>\n",
       "      <td>11.674521</td>\n",
       "      <td>11.814421</td>\n",
       "      <td>11.937904</td>\n",
       "      <td>12.130130</td>\n",
       "      <td>11.517631</td>\n",
       "      <td>11.500115</td>\n",
       "      <td>11.625213</td>\n",
       "      <td>11.759390</td>\n",
       "      <td>11.750973</td>\n",
       "    </tr>\n",
       "    <tr>\n",
       "      <th>Poissons et mollusques</th>\n",
       "      <td>7.383976</td>\n",
       "      <td>7.543341</td>\n",
       "      <td>7.772089</td>\n",
       "      <td>7.862290</td>\n",
       "      <td>7.825159</td>\n",
       "      <td>7.511214</td>\n",
       "      <td>8.042028</td>\n",
       "      <td>7.686873</td>\n",
       "      <td>7.793867</td>\n",
       "    </tr>\n",
       "    <tr>\n",
       "      <th>Vin</th>\n",
       "      <td>38.817489</td>\n",
       "      <td>38.085653</td>\n",
       "      <td>37.275728</td>\n",
       "      <td>37.548044</td>\n",
       "      <td>36.259580</td>\n",
       "      <td>35.395622</td>\n",
       "      <td>35.761102</td>\n",
       "      <td>34.617030</td>\n",
       "      <td>34.164420</td>\n",
       "    </tr>\n",
       "  </tbody>\n",
       "</table>\n",
       "</div>"
      ],
      "text/plain": [
       "                                    2007        2008        2009        2010  \\\n",
       "products                                                                       \n",
       "Céréales                       98.013754   93.737296   96.762305   93.884316   \n",
       "Pommes de terre                41.778600   46.869346   46.268682   47.817157   \n",
       "Sucre                          43.167207   43.590842   40.974560   37.465394   \n",
       "Miel                            1.348237    1.210427    1.288076    1.321601   \n",
       "Légumes 1                     103.237925  105.738089  108.198836  107.227660   \n",
       "Fruits 1                      118.882028  123.689979  124.171271  119.810187   \n",
       "Huiles et graisses végétales   16.167350   16.141488   17.108515   17.395802   \n",
       "Viande                         51.799507   52.616272   51.150578   52.402102   \n",
       "Lait et produits laitiers     255.683841  252.642256  245.855948  248.891431   \n",
       "Oeufs                          11.674521   11.814421   11.937904   12.130130   \n",
       "Poissons et mollusques          7.383976    7.543341    7.772089    7.862290   \n",
       "Vin                            38.817489   38.085653   37.275728   37.548044   \n",
       "\n",
       "                                    2011        2012        2013        2014  \\\n",
       "products                                                                       \n",
       "Céréales                       99.974945   91.893762   90.099344   89.972571   \n",
       "Pommes de terre                44.481201   48.713089   51.708254   41.844096   \n",
       "Sucre                          37.445127   36.370639   40.214113   37.856708   \n",
       "Miel                            1.432108    1.158042    1.392348    1.136757   \n",
       "Légumes 1                     108.150723  106.543807  105.200511  104.577329   \n",
       "Fruits 1                      117.028790  121.106067  119.261679  114.949381   \n",
       "Huiles et graisses végétales   17.695043   16.176501   17.683895   17.861493   \n",
       "Viande                         52.228737   50.350228   50.541678   50.680753   \n",
       "Lait et produits laitiers     252.199542  247.679618  251.584253  248.167039   \n",
       "Oeufs                          11.517631   11.500115   11.625213   11.759390   \n",
       "Poissons et mollusques          7.825159    7.511214    8.042028    7.686873   \n",
       "Vin                            36.259580   35.395622   35.761102   34.617030   \n",
       "\n",
       "                                    2015  \n",
       "products                                  \n",
       "Céréales                       92.587820  \n",
       "Pommes de terre                50.635046  \n",
       "Sucre                          38.065779  \n",
       "Miel                            1.435543  \n",
       "Légumes 1                     104.155867  \n",
       "Fruits 1                      115.087259  \n",
       "Huiles et graisses végétales   16.843297  \n",
       "Viande                         49.827563  \n",
       "Lait et produits laitiers     246.696216  \n",
       "Oeufs                          11.750973  \n",
       "Poissons et mollusques          7.793867  \n",
       "Vin                            34.164420  "
      ]
     },
     "execution_count": 244,
     "metadata": {},
     "output_type": "execute_result"
    }
   ],
   "source": [
    "catConsSwit"
   ]
  },
  {
   "cell_type": "code",
   "execution_count": 245,
   "metadata": {},
   "outputs": [
    {
     "data": {
      "text/html": [
       "<div>\n",
       "<style scoped>\n",
       "    .dataframe tbody tr th:only-of-type {\n",
       "        vertical-align: middle;\n",
       "    }\n",
       "\n",
       "    .dataframe tbody tr th {\n",
       "        vertical-align: top;\n",
       "    }\n",
       "\n",
       "    .dataframe thead th {\n",
       "        text-align: right;\n",
       "    }\n",
       "</style>\n",
       "<table border=\"1\" class=\"dataframe\">\n",
       "  <thead>\n",
       "    <tr style=\"text-align: right;\">\n",
       "      <th></th>\n",
       "      <th>2007</th>\n",
       "      <th>2008</th>\n",
       "      <th>2009</th>\n",
       "      <th>2010</th>\n",
       "      <th>2011</th>\n",
       "      <th>2012</th>\n",
       "      <th>2013</th>\n",
       "      <th>2014</th>\n",
       "      <th>2015</th>\n",
       "    </tr>\n",
       "  </thead>\n",
       "  <tbody>\n",
       "    <tr>\n",
       "      <th>sum</th>\n",
       "      <td>787.954435</td>\n",
       "      <td>793.67941</td>\n",
       "      <td>788.764492</td>\n",
       "      <td>783.756114</td>\n",
       "      <td>786.238586</td>\n",
       "      <td>774.398704</td>\n",
       "      <td>783.114418</td>\n",
       "      <td>761.10942</td>\n",
       "      <td>769.04365</td>\n",
       "    </tr>\n",
       "  </tbody>\n",
       "</table>\n",
       "</div>"
      ],
      "text/plain": [
       "           2007       2008        2009        2010        2011        2012  \\\n",
       "sum  787.954435  793.67941  788.764492  783.756114  786.238586  774.398704   \n",
       "\n",
       "           2013       2014       2015  \n",
       "sum  783.114418  761.10942  769.04365  "
      ]
     },
     "execution_count": 245,
     "metadata": {},
     "output_type": "execute_result"
    }
   ],
   "source": [
    "catConsSwit.agg(['sum'])"
   ]
  },
  {
   "cell_type": "markdown",
   "metadata": {},
   "source": [
    "Proportion of consumption of products with origin in Switzerland w.r.t total products"
   ]
  },
  {
   "cell_type": "code",
   "execution_count": 246,
   "metadata": {},
   "outputs": [
    {
     "data": {
      "text/html": [
       "<div>\n",
       "<style scoped>\n",
       "    .dataframe tbody tr th:only-of-type {\n",
       "        vertical-align: middle;\n",
       "    }\n",
       "\n",
       "    .dataframe tbody tr th {\n",
       "        vertical-align: top;\n",
       "    }\n",
       "\n",
       "    .dataframe thead th {\n",
       "        text-align: right;\n",
       "    }\n",
       "</style>\n",
       "<table border=\"1\" class=\"dataframe\">\n",
       "  <thead>\n",
       "    <tr style=\"text-align: right;\">\n",
       "      <th></th>\n",
       "      <th>2007</th>\n",
       "      <th>2008</th>\n",
       "      <th>2009</th>\n",
       "      <th>2010</th>\n",
       "      <th>2011</th>\n",
       "      <th>2012</th>\n",
       "      <th>2013</th>\n",
       "      <th>2014</th>\n",
       "      <th>2015</th>\n",
       "    </tr>\n",
       "  </thead>\n",
       "  <tbody>\n",
       "    <tr>\n",
       "      <th>sum</th>\n",
       "      <td>0.727371</td>\n",
       "      <td>0.727706</td>\n",
       "      <td>0.72568</td>\n",
       "      <td>0.729012</td>\n",
       "      <td>0.728347</td>\n",
       "      <td>0.73008</td>\n",
       "      <td>0.729925</td>\n",
       "      <td>0.728101</td>\n",
       "      <td>0.730945</td>\n",
       "    </tr>\n",
       "  </tbody>\n",
       "</table>\n",
       "</div>"
      ],
      "text/plain": [
       "         2007      2008     2009      2010      2011     2012      2013  \\\n",
       "sum  0.727371  0.727706  0.72568  0.729012  0.728347  0.73008  0.729925   \n",
       "\n",
       "         2014      2015  \n",
       "sum  0.728101  0.730945  "
      ]
     },
     "execution_count": 246,
     "metadata": {},
     "output_type": "execute_result"
    }
   ],
   "source": [
    "propConsSwit = catConsSwitOS.agg(['sum'])/catConsSwit.agg(['sum'])\n",
    "propConsSwit"
   ]
  },
  {
   "cell_type": "code",
   "execution_count": 247,
   "metadata": {},
   "outputs": [
    {
     "data": {
      "text/plain": [
       "Text(0.5, 1.0, 'Proportion of consumption of products with origin in Switzerland')"
      ]
     },
     "execution_count": 247,
     "metadata": {},
     "output_type": "execute_result"
    },
    {
     "data": {
      "image/png": "[encoded data removed]",
      "text/plain": [
       "<Figure size 432x288 with 1 Axes>"
      ]
     },
     "metadata": {
      "needs_background": "light"
     },
     "output_type": "display_data"
    }
   ],
   "source": [
    "plt.plot(propConsSwit.T)\n",
    "plt.title('Proportion of consumption of products with origin in Switzerland')"
   ]
  },
  {
   "cell_type": "markdown",
   "metadata": {},
   "source": [
    "__Assumptions:__ \n",
    "\n",
    "->The 'set of products' is the same for all the years, and therefore the number of products-made-in-Switzerland is constant in time. This assumption implies that Switzerland is a stable market, in wich there is no product innovation.\n",
    "\n",
    "->All products in the same category have the same quantity"
   ]
  },
  {
   "cell_type": "markdown",
   "metadata": {},
   "source": [
    "__Conclusion:__ There is a trend over time to consume more products with origin in Switzerland. That may be mostly explained because over the years, the categories with most consumption are milk derivatives, vegetables, fruits and potatoes, categories which has products that has mostly primary sources from Switzerland. "
   ]
  },
  {
   "cell_type": "markdown",
   "metadata": {},
   "source": [
    "__Possible improvements:__ \n",
    "\n",
    "->As the products are taken from a dataset (openfoodfact) that has not complete information of all the products consumed in Switzerland, a bootstraping process could be useful, in order to give confidence intervals to the resultant 'proportion of consumption of products'\n",
    "\n",
    "->Account by difference in products' quantities within the categories\n",
    "\n",
    "->Improve filters of categories\n",
    "\n",
    "->Do it by subcategory\n",
    "\n",
    "->Explore not only 'origin Switzerland' but also 'manufactured in Switzerland'\n",
    "\n",
    "->Reduce NaN in 'origins' and 'serving_quantity'. Use of predictive models for NaN observations(?)\n",
    "\n",
    "->Divide the timeframe by periods, calculating for each period, the proportion of 'origin_Switzerland'. This is, tackling the assumption that for every year, the products in the market are the same."
   ]
  },
  {
   "cell_type": "markdown",
   "metadata": {},
   "source": [
    "### Introducing confidence to our results"
   ]
  },
  {
   "cell_type": "code",
   "execution_count": 248,
   "metadata": {},
   "outputs": [],
   "source": [
    "prop = np.zeros((100,12))\n",
    "temp = []\n",
    "tempCatConsSwitOS = pd.DataFrame(index = catConsSwit.index, columns = catConsSwit.columns)\n",
    "propConsSwitOS = np.zeros((100,9))\n",
    "for iteration in range(0,100):\n",
    "    #temporal samples\n",
    "    c0 = cereales.originsCat.sample(n=len(cereales), replace=True)\n",
    "    c1 = pomme.originsCat.sample(n=len(pomme), replace=True)\n",
    "    c2 = sucre.originsCat.sample(n=len(sucre), replace=True)\n",
    "    c3 = miel.originsCat.sample(n=len(miel), replace=True)\n",
    "    c4 = legumes.originsCat.sample(n=len(legumes), replace=True)\n",
    "    c5 = fruits.originsCat.sample(n=len(fruits), replace=True)\n",
    "    c6 = huiles.originsCat.sample(n=len(huiles), replace=True)\n",
    "    c7 = viande.originsCat.sample(n=len(viande), replace=True)\n",
    "    c8 = lait.originsCat.sample(n=len(lait), replace=True)\n",
    "    c9 = oeuf.originsCat.sample(n=len(oeuf), replace=True)\n",
    "    c10 = pois.originsCat.sample(n=len(pois), replace=True)\n",
    "    c11 = vin.originsCat.sample(n=len(vin), replace=True)\n",
    "    \n",
    "    temp.append(c0);temp.append(c1); temp.append(c2);temp.append(c3); temp.append(c4); temp.append(c5); temp.append(c6);temp.append(c7); temp.append(c8); temp.append(c9); temp.append(c10);temp.append(c11)\n",
    "    \n",
    "    #temporal proportions\n",
    "    for i in range (0,len(temp)):\n",
    "        if (not pd.isnull(temp[i]).all()):\n",
    "            if (temp[i].value_counts().idxmax()=='Switzerland'):\n",
    "                prop[iteration][i] = temp[i].describe().freq/temp[i].count()\n",
    "            else:\n",
    "                prop[iteration][i] = (temp[i].count()-temp[i].describe().freq)/temp[i].count()\n",
    "        else:\n",
    "            prop[iteration][i] = np.nan\n",
    "    \n",
    "    #For having the kg/pers of products with origin in Switzerland over the years\n",
    "    for i in range (0,len(tempCatConsSwitOS)):\n",
    "        tempCatConsSwitOS.iloc[i] = prop[iteration][i]*catConsSwit.iloc[i]\n",
    "    \n",
    "    #proportion of kg of products consumed that have origin Switzerland\n",
    "    propConsSwitOS[iteration] = tempCatConsSwitOS.agg(['sum'])/catConsSwit.agg(['sum'])\n",
    "    \n",
    "    #clear temporal arrays for next iteration\n",
    "    temp.clear()\n",
    "    tempCatConsSwitOS.iloc[0:0]\n",
    "\n",
    "#std by year\n",
    "propCATstd = np.nanstd(propConsSwitOS, axis=0)"
   ]
  },
  {
   "cell_type": "code",
   "execution_count": 249,
   "metadata": {},
   "outputs": [
    {
     "data": {
      "text/plain": [
       "array([0.02821326, 0.02851967, 0.02860688, 0.02854997, 0.0282566 ,\n",
       "       0.02864053, 0.02873415, 0.02800433, 0.02868591])"
      ]
     },
     "execution_count": 249,
     "metadata": {},
     "output_type": "execute_result"
    }
   ],
   "source": [
    "propCATstd"
   ]
  },
  {
   "cell_type": "code",
   "execution_count": 250,
   "metadata": {},
   "outputs": [
    {
     "data": {
      "text/plain": [
       "<matplotlib.axes._subplots.AxesSubplot at 0x133ed85f8>"
      ]
     },
     "execution_count": 250,
     "metadata": {},
     "output_type": "execute_result"
    },
    {
     "data": {
      "image/png": "[encoded data removed]",
      "text/plain": [
       "<Figure size 432x288 with 1 Axes>"
      ]
     },
     "metadata": {
      "needs_background": "light"
     },
     "output_type": "display_data"
    }
   ],
   "source": [
    "propConsSwit.T.plot(kind='line', yerr = propCATstd,title='Proportion of consumption of products with origin in Switzerland')"
   ]
  },
  {
   "cell_type": "markdown",
   "metadata": {},
   "source": [
    "__Assumptions:__ \n",
    "\n",
    "->The 'set of products' is the same for all the years, and therefore the number of products-made-in-Switzerland is constant in time. This assumption implies that Switzerland is a stable market, in wich there is no product innovation.\n",
    "\n",
    "->All products in the same category have the same quantity"
   ]
  },
  {
   "cell_type": "markdown",
   "metadata": {},
   "source": [
    "__Conclusion:__ \n",
    "As the confidence intervals suggest the proportion of consumption of products-with-origin-in-Switzerland is statistically the same for all the nine years of study. This would be against the initial hypothesis that \"we are consuming more local\".\n",
    "Even if the results are likely-looking, a more accurate study should take into account the new-products that were consumed each year (this is, tackle the assumption of no product innovation). "
   ]
  },
  {
   "cell_type": "markdown",
   "metadata": {},
   "source": [
    "__Possible improvements:__ \n",
    "\n",
    "->Account by difference in products' quantities within the categories\n",
    "\n",
    "->Improve filters of categories\n",
    "\n",
    "->Do it by subcategory\n",
    "\n",
    "->Explore not only 'origin Switzerland' but also 'manufactured in Switzerland'\n",
    "\n",
    "->Reduce NaN in 'origins' and 'serving_quantity'. Use of predictive models for NaN observations(?)\n",
    "\n",
    "->Divide the timeframe by periods, calculating for each period, the proportion of 'origin_Switzerland'. This is, tackling the assumption that for every year, the products in the market are the same."
   ]
  },
  {
   "cell_type": "markdown",
   "metadata": {},
   "source": [
    "### Accounting by difference in products' quantities within the categories"
   ]
  },
  {
   "cell_type": "markdown",
   "metadata": {},
   "source": [
    "Unifying quantities measures.\n",
    "Take into account that the portions in certain packages are higher that others (useful as our consumption is in kg)\n",
    "With that purpose, compare the mean value of the 'quantity size' of the products of origin Switzerland with the rest. If is smaller than the mean size, it has sense that the consumption attributable to those products be also smaller.\n",
    "If there is not information in a category for the quantity size of its products, we assume that the products of Switzerland has the same quantity size than the rest"
   ]
  },
  {
   "cell_type": "code",
   "execution_count": 100,
   "metadata": {},
   "outputs": [
    {
     "data": {
      "text/plain": [
       "0.9734199645599527"
      ]
     },
     "execution_count": 100,
     "metadata": {},
     "output_type": "execute_result"
    }
   ],
   "source": [
    "cereales.groupby(by=['originsCat'])['serving_quantity'].mean()\n",
    "if (cereales['originsCat'].describe().unique()[1]==2 and not np.isnan(cereales.groupby(by=['originsCat'])['serving_quantity'].mean()['Other country']) and not np.isnan(cereales.groupby(by=['originsCat'])['serving_quantity'].mean()['Switzerland'])):\n",
    "    aveQ = ((cereales.groupby(by=['originsCat'])['serving_quantity'].mean()['Switzerland']+cereales.groupby(by=['originsCat'])['serving_quantity'].mean()['Other country'])/2)\n",
    "    propCQuanOS = cereales.groupby(by=['originsCat'])['serving_quantity'].mean()['Switzerland']/aveQ\n",
    "else:\n",
    "    propCQuanOS = 1\n",
    "propCQuanOS"
   ]
  },
  {
   "cell_type": "code",
   "execution_count": 103,
   "metadata": {},
   "outputs": [
    {
     "data": {
      "text/plain": [
       "1"
      ]
     },
     "execution_count": 103,
     "metadata": {},
     "output_type": "execute_result"
    }
   ],
   "source": [
    "pomme.groupby(by=['originsCat'])['serving_quantity'].mean()\n",
    "if (pomme['originsCat'].describe().unique()[1]==2 and not np.isnan(pomme.groupby(by=['originsCat'])['serving_quantity'].mean()['Other country']) and not np.isnan(pomme.groupby(by=['originsCat'])['serving_quantity'].mean()['Switzerland'])):\n",
    "    aveQ = ((pomme.groupby(by=['originsCat'])['serving_quantity'].mean()['Switzerland']+pomme.groupby(by=['originsCat'])['serving_quantity'].mean()['Other country'])/2)\n",
    "    propPQuanOS = pomme.groupby(by=['originsCat'])['serving_quantity'].mean()['Switzerland']/aveQ\n",
    "else:\n",
    "    propPQuanOS = 1\n",
    "propPQuanOS"
   ]
  },
  {
   "cell_type": "code",
   "execution_count": 106,
   "metadata": {},
   "outputs": [
    {
     "data": {
      "text/plain": [
       "1"
      ]
     },
     "execution_count": 106,
     "metadata": {},
     "output_type": "execute_result"
    }
   ],
   "source": [
    "sucre.groupby(by=['originsCat'])['serving_quantity'].mean()\n",
    "if (sucre['originsCat'].describe().unique()[1]==2 and not np.isnan(sucre.groupby(by=['originsCat'])['serving_quantity'].mean()['Other country']) and not np.isnan(sucre.groupby(by=['originsCat'])['serving_quantity'].mean()['Switzerland'])):\n",
    "    aveQ = ((sucre.groupby(by=['originsCat'])['serving_quantity'].mean()['Switzerland']+sucre.groupby(by=['originsCat'])['serving_quantity'].mean()['Other country'])/2)\n",
    "    propSQuanOS = sucre.groupby(by=['originsCat'])['serving_quantity'].mean()['Switzerland']/aveQ\n",
    "else:\n",
    "    propSQuanOS = 1\n",
    "propSQuanOS"
   ]
  },
  {
   "cell_type": "code",
   "execution_count": 107,
   "metadata": {},
   "outputs": [
    {
     "data": {
      "text/plain": [
       "1.6666666666666667"
      ]
     },
     "execution_count": 107,
     "metadata": {},
     "output_type": "execute_result"
    }
   ],
   "source": [
    "miel.groupby(by=['originsCat'])['serving_quantity'].mean()\n",
    "if (miel['originsCat'].describe().unique()[1]==2 and not np.isnan(miel.groupby(by=['originsCat'])['serving_quantity'].mean()['Other country']) and not np.isnan(miel.groupby(by=['originsCat'])['serving_quantity'].mean()['Switzerland'])):\n",
    "    aveQ = ((miel.groupby(by=['originsCat'])['serving_quantity'].mean()['Switzerland']+miel.groupby(by=['originsCat'])['serving_quantity'].mean()['Other country'])/2)\n",
    "    propMQuanOS = miel.groupby(by=['originsCat'])['serving_quantity'].mean()['Switzerland']/aveQ\n",
    "else:\n",
    "    propMQuanOS = 1\n",
    "propMQuanOS"
   ]
  },
  {
   "cell_type": "code",
   "execution_count": 108,
   "metadata": {},
   "outputs": [
    {
     "data": {
      "text/plain": [
       "1.2534359538207809"
      ]
     },
     "execution_count": 108,
     "metadata": {},
     "output_type": "execute_result"
    }
   ],
   "source": [
    "legumes.groupby(by=['originsCat'])['serving_quantity'].mean()\n",
    "if (legumes['originsCat'].describe().unique()[1]==2 and not np.isnan(legumes.groupby(by=['originsCat'])['serving_quantity'].mean()['Other country']) and not np.isnan(legumes.groupby(by=['originsCat'])['serving_quantity'].mean()['Switzerland'])):\n",
    "    aveQ = ((legumes.groupby(by=['originsCat'])['serving_quantity'].mean()['Switzerland']+legumes.groupby(by=['originsCat'])['serving_quantity'].mean()['Other country'])/2)\n",
    "    propLQuanOS = legumes.groupby(by=['originsCat'])['serving_quantity'].mean()['Switzerland']/aveQ\n",
    "else:\n",
    "    propLQuanOS = 1\n",
    "propLQuanOS"
   ]
  },
  {
   "cell_type": "code",
   "execution_count": 109,
   "metadata": {},
   "outputs": [
    {
     "data": {
      "text/plain": [
       "1.1572978623030887"
      ]
     },
     "execution_count": 109,
     "metadata": {},
     "output_type": "execute_result"
    }
   ],
   "source": [
    "fruits.groupby(by=['originsCat'])['serving_quantity'].mean()\n",
    "if (fruits['originsCat'].describe().unique()[1]==2 and not np.isnan(fruits.groupby(by=['originsCat'])['serving_quantity'].mean()['Other country']) and not np.isnan(fruits.groupby(by=['originsCat'])['serving_quantity'].mean()['Switzerland'])):\n",
    "    aveQ = ((fruits.groupby(by=['originsCat'])['serving_quantity'].mean()['Switzerland']+fruits.groupby(by=['originsCat'])['serving_quantity'].mean()['Other country'])/2)\n",
    "    propFQuanOS = fruits.groupby(by=['originsCat'])['serving_quantity'].mean()['Switzerland']/aveQ\n",
    "else:\n",
    "    propFQuanOS = 1\n",
    "propFQuanOS"
   ]
  },
  {
   "cell_type": "code",
   "execution_count": 110,
   "metadata": {},
   "outputs": [
    {
     "data": {
      "text/plain": [
       "1"
      ]
     },
     "execution_count": 110,
     "metadata": {},
     "output_type": "execute_result"
    }
   ],
   "source": [
    "huiles.groupby(by=['originsCat'])['serving_quantity'].mean()\n",
    "if (huiles['originsCat'].describe().unique()[1]==2 and not np.isnan(huiles.groupby(by=['originsCat'])['serving_quantity'].mean()['Other country']) and not np.isnan(huiles.groupby(by=['originsCat'])['serving_quantity'].mean()['Switzerland'])):\n",
    "    aveQ = ((huiles.groupby(by=['originsCat'])['serving_quantity'].mean()['Switzerland']+huiles.groupby(by=['originsCat'])['serving_quantity'].mean()['Other country'])/2)\n",
    "    propHQuanOS = huiles.groupby(by=['originsCat'])['serving_quantity'].mean()['Switzerland']/aveQ\n",
    "    propHQuanOS = 1\n",
    "propHQuanOS"
   ]
  },
  {
   "cell_type": "code",
   "execution_count": 111,
   "metadata": {},
   "outputs": [
    {
     "data": {
      "text/plain": [
       "0.9212620807276862"
      ]
     },
     "execution_count": 111,
     "metadata": {},
     "output_type": "execute_result"
    }
   ],
   "source": [
    "viande.groupby(by=['originsCat'])['serving_quantity'].mean()\n",
    "if (viande['originsCat'].describe().unique()[1]==2 and not np.isnan(viande.groupby(by=['originsCat'])['serving_quantity'].mean()['Other country']) and not np.isnan(viande.groupby(by=['originsCat'])['serving_quantity'].mean()['Switzerland'])):\n",
    "    aveQ = ((viande.groupby(by=['originsCat'])['serving_quantity'].mean()['Switzerland']+viande.groupby(by=['originsCat'])['serving_quantity'].mean()['Other country'])/2)\n",
    "    propVQuanOS = viande.groupby(by=['originsCat'])['serving_quantity'].mean()['Switzerland']/aveQ\n",
    "else:\n",
    "    propVQuanOS = 1\n",
    "propVQuanOS"
   ]
  },
  {
   "cell_type": "code",
   "execution_count": 112,
   "metadata": {},
   "outputs": [
    {
     "data": {
      "text/plain": [
       "1.2590125535263332"
      ]
     },
     "execution_count": 112,
     "metadata": {},
     "output_type": "execute_result"
    }
   ],
   "source": [
    "lait.groupby(by=['originsCat'])['serving_quantity'].mean()\n",
    "if (lait['originsCat'].describe().unique()[1]==2 and not np.isnan(lait.groupby(by=['originsCat'])['serving_quantity'].mean()['Other country']) and not np.isnan(lait.groupby(by=['originsCat'])['serving_quantity'].mean()['Switzerland'])):\n",
    "    aveQ = ((lait.groupby(by=['originsCat'])['serving_quantity'].mean()['Switzerland']+lait.groupby(by=['originsCat'])['serving_quantity'].mean()['Other country'])/2)\n",
    "    propLQuanOS = lait.groupby(by=['originsCat'])['serving_quantity'].mean()['Switzerland']/aveQ\n",
    "else:\n",
    "    propLQuanOS = 1\n",
    "propLQuanOS"
   ]
  },
  {
   "cell_type": "code",
   "execution_count": 113,
   "metadata": {},
   "outputs": [
    {
     "data": {
      "text/plain": [
       "1"
      ]
     },
     "execution_count": 113,
     "metadata": {},
     "output_type": "execute_result"
    }
   ],
   "source": [
    "oeuf.groupby(by=['originsCat'])['serving_quantity'].mean()\n",
    "if (oeuf['originsCat'].describe().unique()[1]==2 and not np.isnan(oeuf.groupby(by=['originsCat'])['serving_quantity'].mean()['Other country']) and not np.isnan(oeuf.groupby(by=['originsCat'])['serving_quantity'].mean()['Switzerland'])):\n",
    "    aveQ = ((oeuf.groupby(by=['originsCat'])['serving_quantity'].mean()['Switzerland']+oeuf.groupby(by=['originsCat'])['serving_quantity'].mean()['Other country'])/2)\n",
    "    propOQuanOS = oeuf.groupby(by=['originsCat'])['serving_quantity'].mean()['Switzerland']/aveQ\n",
    "else:\n",
    "    propOQuanOS = 1\n",
    "propOQuanOS"
   ]
  },
  {
   "cell_type": "code",
   "execution_count": 114,
   "metadata": {},
   "outputs": [
    {
     "data": {
      "text/plain": [
       "0.8727272727272727"
      ]
     },
     "execution_count": 114,
     "metadata": {},
     "output_type": "execute_result"
    }
   ],
   "source": [
    "pois.groupby(by=['originsCat'])['serving_quantity'].mean()\n",
    "if (pois['originsCat'].describe().unique()[1]==2 and not np.isnan(pois.groupby(by=['originsCat'])['serving_quantity'].mean()['Other country']) and not np.isnan(pois.groupby(by=['originsCat'])['serving_quantity'].mean()['Switzerland'])):\n",
    "    aveQ = ((pois.groupby(by=['originsCat'])['serving_quantity'].mean()['Switzerland']+pois.groupby(by=['originsCat'])['serving_quantity'].mean()['Other country'])/2)\n",
    "    propPOQuanOS = pois.groupby(by=['originsCat'])['serving_quantity'].mean()['Switzerland']/aveQ\n",
    "else:\n",
    "    propPOQuanOS = 1\n",
    "propPOQuanOS"
   ]
  },
  {
   "cell_type": "code",
   "execution_count": 117,
   "metadata": {},
   "outputs": [
    {
     "data": {
      "text/plain": [
       "1"
      ]
     },
     "execution_count": 117,
     "metadata": {},
     "output_type": "execute_result"
    }
   ],
   "source": [
    "vin.groupby(by=['originsCat'])['serving_quantity'].mean()\n",
    "if (vin['originsCat'].describe().unique()[1]==2 and not np.isnan(vin.groupby(by=['originsCat'])['serving_quantity'].mean()['Other country']) and not np.isnan(vin.groupby(by=['originsCat'])['serving_quantity'].mean()['Switzerland'])):\n",
    "    aveQ = ((vin.groupby(by=['originsCat'])['serving_quantity'].mean()['Switzerland']+vin.groupby(by=['originsCat'])['serving_quantity'].mean()['Other country'])/2)\n",
    "    propVIQuanOS = vin.groupby(by=['originsCat'])['serving_quantity'].mean()['Switzerland']/aveQ\n",
    "else:\n",
    "    propVIQuanOS = 1\n",
    "propVIQuanOS"
   ]
  },
  {
   "cell_type": "code",
   "execution_count": 251,
   "metadata": {},
   "outputs": [],
   "source": [
    "prop = np.zeros((100,12))\n",
    "propQ = np.zeros((100,12))\n",
    "temp = []\n",
    "tempQ = []\n",
    "tempCatConsSwitOS = pd.DataFrame(index = catConsSwit.index, columns = catConsSwit.columns)\n",
    "propConsSwitOS = np.zeros((100,9))\n",
    "for iteration in range(0,100):\n",
    "    #temporal samples\n",
    "    c0 = cereales.sample(n=len(cereales), replace=True)\n",
    "    c1 = pomme.sample(n=len(pomme), replace=True)\n",
    "    c2 = sucre.sample(n=len(sucre), replace=True)\n",
    "    c3 = miel.sample(n=len(miel), replace=True)\n",
    "    c4 = legumes.sample(n=len(legumes), replace=True)\n",
    "    c5 = fruits.sample(n=len(fruits), replace=True)\n",
    "    c6 = huiles.sample(n=len(huiles), replace=True)\n",
    "    c7 = viande.sample(n=len(viande), replace=True)\n",
    "    c8 = lait.sample(n=len(lait), replace=True)\n",
    "    c9 = oeuf.sample(n=len(oeuf), replace=True)\n",
    "    c10 = pois.sample(n=len(pois), replace=True)\n",
    "    c11 = vin.sample(n=len(vin), replace=True)\n",
    "    \n",
    "    #recollect temporal vectors associated with originsCat\n",
    "    temp.append(c0.originsCat);temp.append(c1.originsCat); temp.append(c2.originsCat);temp.append(c3.originsCat); temp.append(c4.originsCat); temp.append(c5.originsCat); temp.append(c6.originsCat);temp.append(c7.originsCat); temp.append(c8.originsCat); temp.append(c9.originsCat); temp.append(c10.originsCat);temp.append(c11.originsCat)\n",
    "   \n",
    "    #recollect temporal vectors associated with serving quantity\n",
    "    tempQ.append(c0.serving_quantity);tempQ.append(c1.serving_quantity); tempQ.append(c2.serving_quantity);tempQ.append(c3.serving_quantity); tempQ.append(c4.serving_quantity); tempQ.append(c5.serving_quantity); tempQ.append(c6.serving_quantity);tempQ.append(c7.serving_quantity); tempQ.append(c8.serving_quantity); tempQ.append(c9.serving_quantity); tempQ.append(c10.serving_quantity);tempQ.append(c11.serving_quantity)\n",
    "   \n",
    "    #temporal proportions Origin\n",
    "    for i in range (0,len(temp)):\n",
    "        if (not pd.isnull(temp[i]).all()):\n",
    "            if (temp[i].value_counts().idxmax()=='Switzerland'):\n",
    "                prop[iteration][i] = temp[i].describe().freq/temp[i].count()\n",
    "            else:\n",
    "                prop[iteration][i] = (temp[i].count()-temp[i].describe().freq)/temp[i].count()\n",
    "        else:\n",
    "            prop[iteration][i] = np.nan\n",
    "    \n",
    "    #temporal proportions quantity\n",
    "    for i in range (0,len(temp)):\n",
    "        #Verify that there are at least one non nan-value for quantity for each category 'switzerland'/'other country'\n",
    "        sumS = 0\n",
    "        sumO = 0\n",
    "        for j in range (0, len(temp[i])):\n",
    "            if (temp[i].iloc[j]=='Switzerland' and not np.isnan(tempQ[i].iloc[j])):\n",
    "                sumS = sumS + 1\n",
    "            if (temp[i].iloc[j]=='Other country' and not np.isnan(tempQ[i].iloc[j])):\n",
    "                sumO = sumO + 1\n",
    "        if (np.size(temp[i].value_counts()) and sumS>0 and sumO>0):\n",
    "            sumQS = 0\n",
    "            countQS = 0\n",
    "            sumQO = 0\n",
    "            countQO = 0\n",
    "            for j in range (0,len(temp[i])):\n",
    "                if (temp[i].iloc[j]=='Switzerland'):\n",
    "                    sumQS = tempQ[i].iloc[j]+sumQS\n",
    "                    countQS = 1 + countQS\n",
    "                elif (temp[i].iloc[j]=='Other Country'):\n",
    "                    sumQO = tempQ[i].iloc[j]+sumQO\n",
    "                    countQO = 1 + countQO\n",
    "            if (countQS>0 and countQO>0):\n",
    "                aveQ = ((sumQS/countQS)+(sumQO/countQO))/2\n",
    "                propQ[iteration][i] = (sumQS/countQS)/aveQ\n",
    "            else:\n",
    "                propQ[iteration][i] = 1\n",
    "        else:\n",
    "            propQ[iteration][i] = 1\n",
    "\n",
    "    #For having the kg/pers of products with origin in Switzerland over the years\n",
    "    for i in range (0,len(tempCatConsSwitOS)):\n",
    "        tempCatConsSwitOS.iloc[i] = prop[iteration][i]*propQ[iteration][i]*catConsSwit.iloc[i]\n",
    "    \n",
    "    #proportion of kg of products consumed that have origin Switzerland\n",
    "    propConsSwitOS[iteration] = tempCatConsSwitOS.agg(['sum'])/catConsSwit.agg(['sum'])\n",
    "    \n",
    "    #clear temporal arrays for next iteration\n",
    "    temp.clear()\n",
    "    tempCatConsSwitOS.iloc[0:0]\n",
    "\n",
    "#std by year\n",
    "propCATstd = np.nanstd(propConsSwitOS, axis=0)"
   ]
  },
  {
   "cell_type": "code",
   "execution_count": 252,
   "metadata": {},
   "outputs": [
    {
     "data": {
      "text/plain": [
       "array([0.03188904, 0.03203404, 0.03209886, 0.03202388, 0.03174631,\n",
       "       0.03201639, 0.03200695, 0.03144161, 0.03195421])"
      ]
     },
     "execution_count": 252,
     "metadata": {},
     "output_type": "execute_result"
    }
   ],
   "source": [
    "propCATstd"
   ]
  },
  {
   "cell_type": "code",
   "execution_count": 253,
   "metadata": {},
   "outputs": [
    {
     "data": {
      "text/plain": [
       "<matplotlib.axes._subplots.AxesSubplot at 0x134020550>"
      ]
     },
     "execution_count": 253,
     "metadata": {},
     "output_type": "execute_result"
    },
    {
     "data": {
      "image/png": "[encoded data removed]",
      "text/plain": [
       "<Figure size 432x288 with 1 Axes>"
      ]
     },
     "metadata": {
      "needs_background": "light"
     },
     "output_type": "display_data"
    }
   ],
   "source": [
    "propConsSwit.T.plot(kind='line', yerr = propCATstd,title='Proportion of consumption of products with origin in Switzerland')"
   ]
  },
  {
   "cell_type": "markdown",
   "metadata": {},
   "source": [
    "__Assumptions:__ \n",
    "\n",
    "->The 'set of products' is the same for all the years, and therefore the number of products-made-in-Switzerland is constant in time. This assumption implies that Switzerland is a stable market, in wich there is no product innovation.\n",
    "\n",
    "->If there are not information on the serving quantity of the products in a category, is asumed all have a homogeneous quantity within the category"
   ]
  },
  {
   "cell_type": "markdown",
   "metadata": {},
   "source": [
    "__Conclusion:__ \n",
    "As the confidence intervals suggest the proportion of consumption of products-with-origin-in-Switzerland is statistically the same for all the nine years of study. This would be against the initial hypothesis that \"we are consuming more local\".\n",
    "Even if the results are likely-looking, a more accurate study should take into account the new-products that were consumed each year (this is, tackle the assumption of no product innovation). "
   ]
  },
  {
   "cell_type": "markdown",
   "metadata": {},
   "source": [
    "__Possible improvements:__ \n",
    "\n",
    "->Improve filters of categories\n",
    "\n",
    "->Do it by subcategory\n",
    "\n",
    "->Explore not only 'origin Switzerland' but also 'manufactured in Switzerland'\n",
    "\n",
    "->Reduce NaN in 'origins' and 'serving_quantity'. Use of predictive models for NaN observations(?)\n",
    "\n",
    "->Divide the timeframe by periods, calculating for each period, the proportion of 'origin_Switzerland'. This is, tackling the assumption that for every year, the products in the market are the same."
   ]
  },
  {
   "cell_type": "markdown",
   "metadata": {},
   "source": [
    "### Other datasets exploration"
   ]
  },
  {
   "cell_type": "markdown",
   "metadata": {},
   "source": [
    "Consumption Switzerland"
   ]
  },
  {
   "cell_type": "markdown",
   "metadata": {},
   "source": [
    "> subCategories"
   ]
  },
  {
   "cell_type": "code",
   "execution_count": 140,
   "metadata": {},
   "outputs": [
    {
     "data": {
      "text/html": [
       "<div>\n",
       "<style scoped>\n",
       "    .dataframe tbody tr th:only-of-type {\n",
       "        vertical-align: middle;\n",
       "    }\n",
       "\n",
       "    .dataframe tbody tr th {\n",
       "        vertical-align: top;\n",
       "    }\n",
       "\n",
       "    .dataframe thead th {\n",
       "        text-align: right;\n",
       "    }\n",
       "</style>\n",
       "<table border=\"1\" class=\"dataframe\">\n",
       "  <thead>\n",
       "    <tr style=\"text-align: right;\">\n",
       "      <th></th>\n",
       "      <th>2007</th>\n",
       "      <th>2008</th>\n",
       "      <th>2009</th>\n",
       "      <th>2010</th>\n",
       "      <th>2011</th>\n",
       "      <th>2012</th>\n",
       "      <th>2013</th>\n",
       "      <th>2014</th>\n",
       "      <th>2015</th>\n",
       "    </tr>\n",
       "    <tr>\n",
       "      <th>products</th>\n",
       "      <th></th>\n",
       "      <th></th>\n",
       "      <th></th>\n",
       "      <th></th>\n",
       "      <th></th>\n",
       "      <th></th>\n",
       "      <th></th>\n",
       "      <th></th>\n",
       "      <th></th>\n",
       "    </tr>\n",
       "  </thead>\n",
       "  <tbody>\n",
       "    <tr>\n",
       "      <th>Céréales</th>\n",
       "      <td>98.013754</td>\n",
       "      <td>93.737296</td>\n",
       "      <td>96.762305</td>\n",
       "      <td>93.884316</td>\n",
       "      <td>99.974945</td>\n",
       "      <td>91.893762</td>\n",
       "      <td>90.099344</td>\n",
       "      <td>89.972571</td>\n",
       "      <td>92.587820</td>\n",
       "    </tr>\n",
       "    <tr>\n",
       "      <th>Pommes de terre</th>\n",
       "      <td>41.778600</td>\n",
       "      <td>46.869346</td>\n",
       "      <td>46.268682</td>\n",
       "      <td>47.817157</td>\n",
       "      <td>44.481201</td>\n",
       "      <td>48.713089</td>\n",
       "      <td>51.708254</td>\n",
       "      <td>41.844096</td>\n",
       "      <td>50.635046</td>\n",
       "    </tr>\n",
       "    <tr>\n",
       "      <th>Sucre</th>\n",
       "      <td>43.167207</td>\n",
       "      <td>43.590842</td>\n",
       "      <td>40.974560</td>\n",
       "      <td>37.465394</td>\n",
       "      <td>37.445127</td>\n",
       "      <td>36.370639</td>\n",
       "      <td>40.214113</td>\n",
       "      <td>37.856708</td>\n",
       "      <td>38.065779</td>\n",
       "    </tr>\n",
       "    <tr>\n",
       "      <th>Miel</th>\n",
       "      <td>1.348237</td>\n",
       "      <td>1.210427</td>\n",
       "      <td>1.288076</td>\n",
       "      <td>1.321601</td>\n",
       "      <td>1.432108</td>\n",
       "      <td>1.158042</td>\n",
       "      <td>1.392348</td>\n",
       "      <td>1.136757</td>\n",
       "      <td>1.435543</td>\n",
       "    </tr>\n",
       "    <tr>\n",
       "      <th>Légumes 1</th>\n",
       "      <td>103.237925</td>\n",
       "      <td>105.738089</td>\n",
       "      <td>108.198836</td>\n",
       "      <td>107.227660</td>\n",
       "      <td>108.150723</td>\n",
       "      <td>106.543807</td>\n",
       "      <td>105.200511</td>\n",
       "      <td>104.577329</td>\n",
       "      <td>104.155867</td>\n",
       "    </tr>\n",
       "    <tr>\n",
       "      <th>jus de légumes et de fruits</th>\n",
       "      <td>29.253410</td>\n",
       "      <td>32.029329</td>\n",
       "      <td>29.792858</td>\n",
       "      <td>26.973705</td>\n",
       "      <td>25.599959</td>\n",
       "      <td>28.426779</td>\n",
       "      <td>27.256378</td>\n",
       "      <td>23.147393</td>\n",
       "      <td>22.569690</td>\n",
       "    </tr>\n",
       "    <tr>\n",
       "      <th>Huiles et graisses végétales</th>\n",
       "      <td>16.167350</td>\n",
       "      <td>16.141488</td>\n",
       "      <td>17.108515</td>\n",
       "      <td>17.395802</td>\n",
       "      <td>17.695043</td>\n",
       "      <td>16.176501</td>\n",
       "      <td>17.683895</td>\n",
       "      <td>17.861493</td>\n",
       "      <td>16.843297</td>\n",
       "    </tr>\n",
       "    <tr>\n",
       "      <th>de boeuf</th>\n",
       "      <td>11.104512</td>\n",
       "      <td>11.678009</td>\n",
       "      <td>10.972415</td>\n",
       "      <td>11.116410</td>\n",
       "      <td>11.078811</td>\n",
       "      <td>10.827222</td>\n",
       "      <td>11.337183</td>\n",
       "      <td>11.140308</td>\n",
       "      <td>10.954513</td>\n",
       "    </tr>\n",
       "    <tr>\n",
       "      <th>de veau</th>\n",
       "      <td>2.831675</td>\n",
       "      <td>2.715483</td>\n",
       "      <td>2.825663</td>\n",
       "      <td>2.784833</td>\n",
       "      <td>2.799275</td>\n",
       "      <td>2.735075</td>\n",
       "      <td>2.635967</td>\n",
       "      <td>2.540798</td>\n",
       "      <td>2.422341</td>\n",
       "    </tr>\n",
       "    <tr>\n",
       "      <th>de porc</th>\n",
       "      <td>25.833793</td>\n",
       "      <td>25.570637</td>\n",
       "      <td>25.098727</td>\n",
       "      <td>25.904411</td>\n",
       "      <td>25.473491</td>\n",
       "      <td>24.072206</td>\n",
       "      <td>24.029038</td>\n",
       "      <td>24.131084</td>\n",
       "      <td>23.396022</td>\n",
       "    </tr>\n",
       "    <tr>\n",
       "      <th>de mouton</th>\n",
       "      <td>1.198476</td>\n",
       "      <td>1.167755</td>\n",
       "      <td>1.130143</td>\n",
       "      <td>1.147312</td>\n",
       "      <td>1.148784</td>\n",
       "      <td>1.103081</td>\n",
       "      <td>1.071986</td>\n",
       "      <td>1.109671</td>\n",
       "      <td>1.147164</td>\n",
       "    </tr>\n",
       "    <tr>\n",
       "      <th>de chèvre et de cheval</th>\n",
       "      <td>0.767985</td>\n",
       "      <td>0.762003</td>\n",
       "      <td>0.724467</td>\n",
       "      <td>0.734749</td>\n",
       "      <td>0.748878</td>\n",
       "      <td>0.741959</td>\n",
       "      <td>0.624976</td>\n",
       "      <td>0.525013</td>\n",
       "      <td>0.498020</td>\n",
       "    </tr>\n",
       "    <tr>\n",
       "      <th>Volaille</th>\n",
       "      <td>8.904753</td>\n",
       "      <td>9.591962</td>\n",
       "      <td>9.484601</td>\n",
       "      <td>9.688931</td>\n",
       "      <td>10.059645</td>\n",
       "      <td>10.060438</td>\n",
       "      <td>10.027577</td>\n",
       "      <td>10.434927</td>\n",
       "      <td>10.598023</td>\n",
       "    </tr>\n",
       "    <tr>\n",
       "      <th>Oeufs</th>\n",
       "      <td>11.674521</td>\n",
       "      <td>11.814421</td>\n",
       "      <td>11.937904</td>\n",
       "      <td>12.130130</td>\n",
       "      <td>11.517631</td>\n",
       "      <td>11.500115</td>\n",
       "      <td>11.625213</td>\n",
       "      <td>11.759390</td>\n",
       "      <td>11.750973</td>\n",
       "    </tr>\n",
       "    <tr>\n",
       "      <th>Vin</th>\n",
       "      <td>38.817489</td>\n",
       "      <td>38.085653</td>\n",
       "      <td>37.275728</td>\n",
       "      <td>37.548044</td>\n",
       "      <td>36.259580</td>\n",
       "      <td>35.395622</td>\n",
       "      <td>35.761102</td>\n",
       "      <td>34.617030</td>\n",
       "      <td>34.164420</td>\n",
       "    </tr>\n",
       "  </tbody>\n",
       "</table>\n",
       "</div>"
      ],
      "text/plain": [
       "                                    2007        2008        2009        2010  \\\n",
       "products                                                                       \n",
       "Céréales                       98.013754   93.737296   96.762305   93.884316   \n",
       "Pommes de terre                41.778600   46.869346   46.268682   47.817157   \n",
       "Sucre                          43.167207   43.590842   40.974560   37.465394   \n",
       "Miel                            1.348237    1.210427    1.288076    1.321601   \n",
       "Légumes 1                     103.237925  105.738089  108.198836  107.227660   \n",
       "jus de légumes et de fruits    29.253410   32.029329   29.792858   26.973705   \n",
       "Huiles et graisses végétales   16.167350   16.141488   17.108515   17.395802   \n",
       "de boeuf                       11.104512   11.678009   10.972415   11.116410   \n",
       "de veau                         2.831675    2.715483    2.825663    2.784833   \n",
       "de porc                        25.833793   25.570637   25.098727   25.904411   \n",
       "de mouton                       1.198476    1.167755    1.130143    1.147312   \n",
       "de chèvre et de cheval          0.767985    0.762003    0.724467    0.734749   \n",
       "Volaille                        8.904753    9.591962    9.484601    9.688931   \n",
       "Oeufs                          11.674521   11.814421   11.937904   12.130130   \n",
       "Vin                            38.817489   38.085653   37.275728   37.548044   \n",
       "\n",
       "                                    2011        2012        2013        2014  \\\n",
       "products                                                                       \n",
       "Céréales                       99.974945   91.893762   90.099344   89.972571   \n",
       "Pommes de terre                44.481201   48.713089   51.708254   41.844096   \n",
       "Sucre                          37.445127   36.370639   40.214113   37.856708   \n",
       "Miel                            1.432108    1.158042    1.392348    1.136757   \n",
       "Légumes 1                     108.150723  106.543807  105.200511  104.577329   \n",
       "jus de légumes et de fruits    25.599959   28.426779   27.256378   23.147393   \n",
       "Huiles et graisses végétales   17.695043   16.176501   17.683895   17.861493   \n",
       "de boeuf                       11.078811   10.827222   11.337183   11.140308   \n",
       "de veau                         2.799275    2.735075    2.635967    2.540798   \n",
       "de porc                        25.473491   24.072206   24.029038   24.131084   \n",
       "de mouton                       1.148784    1.103081    1.071986    1.109671   \n",
       "de chèvre et de cheval          0.748878    0.741959    0.624976    0.525013   \n",
       "Volaille                       10.059645   10.060438   10.027577   10.434927   \n",
       "Oeufs                          11.517631   11.500115   11.625213   11.759390   \n",
       "Vin                            36.259580   35.395622   35.761102   34.617030   \n",
       "\n",
       "                                    2015  \n",
       "products                                  \n",
       "Céréales                       92.587820  \n",
       "Pommes de terre                50.635046  \n",
       "Sucre                          38.065779  \n",
       "Miel                            1.435543  \n",
       "Légumes 1                     104.155867  \n",
       "jus de légumes et de fruits    22.569690  \n",
       "Huiles et graisses végétales   16.843297  \n",
       "de boeuf                       10.954513  \n",
       "de veau                         2.422341  \n",
       "de porc                        23.396022  \n",
       "de mouton                       1.147164  \n",
       "de chèvre et de cheval          0.498020  \n",
       "Volaille                       10.598023  \n",
       "Oeufs                          11.750973  \n",
       "Vin                            34.164420  "
      ]
     },
     "execution_count": 140,
     "metadata": {},
     "output_type": "execute_result"
    }
   ],
   "source": [
    "subConsSwit = consSwit.loc[(consSwit.index== 'Céréales')]\n",
    "subConsSwit = subConsSwit.append(consSwit.loc[(consSwit.index== 'Pommes de terre')])\n",
    "subConsSwit = subConsSwit.append(consSwit.loc[(consSwit.index== 'Sucre')])\n",
    "subConsSwit = subConsSwit.append(consSwit.loc[(consSwit.index== 'Miel')])\n",
    "subConsSwit = subConsSwit.append(consSwit.loc[(consSwit.index== 'Légumes 1')])\n",
    "subConsSwit = subConsSwit.append(consSwit.loc[(consSwit.index== 'jus de légumes et de fruits')])\n",
    "subConsSwit = subConsSwit.append(consSwit.loc[(consSwit.index== 'Huiles et graisses végétales')])\n",
    "subConsSwit = subConsSwit.append(consSwit.loc[(consSwit.index== 'de boeuf')])\n",
    "subConsSwit = subConsSwit.append(consSwit.loc[(consSwit.index== 'de veau')])\n",
    "subConsSwit = subConsSwit.append(consSwit.loc[(consSwit.index== 'de porc')])\n",
    "subConsSwit = subConsSwit.append(consSwit.loc[(consSwit.index== 'de mouton')])\n",
    "subConsSwit = subConsSwit.append(consSwit.loc[(consSwit.index== 'de chèvre et de cheval')])\n",
    "subConsSwit = subConsSwit.append(consSwit.loc[(consSwit.index== 'Volaille')])\n",
    "subConsSwit = subConsSwit.append(consSwit.loc[(consSwit.index== 'Lait de consommation')])\n",
    "subConsSwit = subConsSwit.append(consSwit.loc[(consSwit.index== 'Yogourt')])\n",
    "subConsSwit = subConsSwit.append(consSwit.loc[(consSwit.index== 'Fromage y compris séré')])\n",
    "subConsSwit = subConsSwit.append(consSwit.loc[(consSwit.index== 'Beurre')])\n",
    "subConsSwit = subConsSwit.append(consSwit.loc[(consSwit.index== 'Oeufs')])\n",
    "subConsSwit = subConsSwit.append(consSwit.loc[(consSwit.index== 'Vin')])\n",
    "subConsSwit"
   ]
  },
  {
   "cell_type": "markdown",
   "metadata": {},
   "source": [
    "Wine, cheese and meat: A Swiss Romande classic combination"
   ]
  },
  {
   "cell_type": "code",
   "execution_count": 154,
   "metadata": {},
   "outputs": [
    {
     "data": {
      "text/html": [
       "<div>\n",
       "<style scoped>\n",
       "    .dataframe tbody tr th:only-of-type {\n",
       "        vertical-align: middle;\n",
       "    }\n",
       "\n",
       "    .dataframe tbody tr th {\n",
       "        vertical-align: top;\n",
       "    }\n",
       "\n",
       "    .dataframe thead th {\n",
       "        text-align: right;\n",
       "    }\n",
       "</style>\n",
       "<table border=\"1\" class=\"dataframe\">\n",
       "  <thead>\n",
       "    <tr style=\"text-align: right;\">\n",
       "      <th></th>\n",
       "      <th>2007</th>\n",
       "      <th>2008</th>\n",
       "      <th>2009</th>\n",
       "      <th>2010</th>\n",
       "      <th>2011</th>\n",
       "      <th>2012</th>\n",
       "      <th>2013</th>\n",
       "      <th>2014</th>\n",
       "      <th>2015</th>\n",
       "    </tr>\n",
       "    <tr>\n",
       "      <th>products</th>\n",
       "      <th></th>\n",
       "      <th></th>\n",
       "      <th></th>\n",
       "      <th></th>\n",
       "      <th></th>\n",
       "      <th></th>\n",
       "      <th></th>\n",
       "      <th></th>\n",
       "      <th></th>\n",
       "    </tr>\n",
       "  </thead>\n",
       "  <tbody>\n",
       "    <tr>\n",
       "      <th>de boeuf</th>\n",
       "      <td>11.104512</td>\n",
       "      <td>11.678009</td>\n",
       "      <td>10.972415</td>\n",
       "      <td>11.116410</td>\n",
       "      <td>11.078811</td>\n",
       "      <td>10.827222</td>\n",
       "      <td>11.337183</td>\n",
       "      <td>11.140308</td>\n",
       "      <td>10.954513</td>\n",
       "    </tr>\n",
       "    <tr>\n",
       "      <th>de porc</th>\n",
       "      <td>25.833793</td>\n",
       "      <td>25.570637</td>\n",
       "      <td>25.098727</td>\n",
       "      <td>25.904411</td>\n",
       "      <td>25.473491</td>\n",
       "      <td>24.072206</td>\n",
       "      <td>24.029038</td>\n",
       "      <td>24.131084</td>\n",
       "      <td>23.396022</td>\n",
       "    </tr>\n",
       "    <tr>\n",
       "      <th>Fromage y compris séré</th>\n",
       "      <td>19.563660</td>\n",
       "      <td>19.845201</td>\n",
       "      <td>19.926409</td>\n",
       "      <td>20.253993</td>\n",
       "      <td>19.985223</td>\n",
       "      <td>19.470463</td>\n",
       "      <td>19.746472</td>\n",
       "      <td>19.771726</td>\n",
       "      <td>20.183892</td>\n",
       "    </tr>\n",
       "    <tr>\n",
       "      <th>Vin</th>\n",
       "      <td>38.817489</td>\n",
       "      <td>38.085653</td>\n",
       "      <td>37.275728</td>\n",
       "      <td>37.548044</td>\n",
       "      <td>36.259580</td>\n",
       "      <td>35.395622</td>\n",
       "      <td>35.761102</td>\n",
       "      <td>34.617030</td>\n",
       "      <td>34.164420</td>\n",
       "    </tr>\n",
       "  </tbody>\n",
       "</table>\n",
       "</div>"
      ],
      "text/plain": [
       "                                 2007       2008       2009       2010  \\\n",
       "products                                                                 \n",
       "de boeuf                    11.104512  11.678009  10.972415  11.116410   \n",
       "de porc                     25.833793  25.570637  25.098727  25.904411   \n",
       "    Fromage y compris séré  19.563660  19.845201  19.926409  20.253993   \n",
       "Vin                         38.817489  38.085653  37.275728  37.548044   \n",
       "\n",
       "                                 2011       2012       2013       2014  \\\n",
       "products                                                                 \n",
       "de boeuf                    11.078811  10.827222  11.337183  11.140308   \n",
       "de porc                     25.473491  24.072206  24.029038  24.131084   \n",
       "    Fromage y compris séré  19.985223  19.470463  19.746472  19.771726   \n",
       "Vin                         36.259580  35.395622  35.761102  34.617030   \n",
       "\n",
       "                                 2015  \n",
       "products                               \n",
       "de boeuf                    10.954513  \n",
       "de porc                     23.396022  \n",
       "    Fromage y compris séré  20.183892  \n",
       "Vin                         34.164420  "
      ]
     },
     "execution_count": 154,
     "metadata": {},
     "output_type": "execute_result"
    }
   ],
   "source": [
    "subConsSwit = consSwit.loc[(consSwit.index== 'de boeuf')]\n",
    "subConsSwit = subConsSwit.append(consSwit.loc[(consSwit.index== 'de porc')])\n",
    "#fromage addition\n",
    "subConsSwit = subConsSwit.append(consSwit.iloc[18])\n",
    "subConsSwit = subConsSwit.append(consSwit.loc[(consSwit.index== 'Vin')])\n",
    "subConsSwit"
   ]
  },
  {
   "cell_type": "code",
   "execution_count": 156,
   "metadata": {
    "scrolled": true
   },
   "outputs": [
    {
     "data": {
      "text/html": [
       "<div>\n",
       "<style scoped>\n",
       "    .dataframe tbody tr th:only-of-type {\n",
       "        vertical-align: middle;\n",
       "    }\n",
       "\n",
       "    .dataframe tbody tr th {\n",
       "        vertical-align: top;\n",
       "    }\n",
       "\n",
       "    .dataframe thead th {\n",
       "        text-align: right;\n",
       "    }\n",
       "</style>\n",
       "<table border=\"1\" class=\"dataframe\">\n",
       "  <thead>\n",
       "    <tr style=\"text-align: right;\">\n",
       "      <th>products</th>\n",
       "      <th>de boeuf</th>\n",
       "      <th>de porc</th>\n",
       "      <th>Fromage y compris séré</th>\n",
       "      <th>Vin</th>\n",
       "    </tr>\n",
       "    <tr>\n",
       "      <th>products</th>\n",
       "      <th></th>\n",
       "      <th></th>\n",
       "      <th></th>\n",
       "      <th></th>\n",
       "    </tr>\n",
       "  </thead>\n",
       "  <tbody>\n",
       "    <tr>\n",
       "      <th>de boeuf</th>\n",
       "      <td>1.000000</td>\n",
       "      <td>0.322681</td>\n",
       "      <td>0.026813</td>\n",
       "      <td>0.397198</td>\n",
       "    </tr>\n",
       "    <tr>\n",
       "      <th>de porc</th>\n",
       "      <td>0.322681</td>\n",
       "      <td>1.000000</td>\n",
       "      <td>0.101389</td>\n",
       "      <td>0.905224</td>\n",
       "    </tr>\n",
       "    <tr>\n",
       "      <th>Fromage y compris séré</th>\n",
       "      <td>0.026813</td>\n",
       "      <td>0.101389</td>\n",
       "      <td>1.000000</td>\n",
       "      <td>-0.105948</td>\n",
       "    </tr>\n",
       "    <tr>\n",
       "      <th>Vin</th>\n",
       "      <td>0.397198</td>\n",
       "      <td>0.905224</td>\n",
       "      <td>-0.105948</td>\n",
       "      <td>1.000000</td>\n",
       "    </tr>\n",
       "  </tbody>\n",
       "</table>\n",
       "</div>"
      ],
      "text/plain": [
       "products                    de boeuf   de porc      Fromage y compris séré  \\\n",
       "products                                                                     \n",
       "de boeuf                    1.000000  0.322681                    0.026813   \n",
       "de porc                     0.322681  1.000000                    0.101389   \n",
       "    Fromage y compris séré  0.026813  0.101389                    1.000000   \n",
       "Vin                         0.397198  0.905224                   -0.105948   \n",
       "\n",
       "products                         Vin  \n",
       "products                              \n",
       "de boeuf                    0.397198  \n",
       "de porc                     0.905224  \n",
       "    Fromage y compris séré -0.105948  \n",
       "Vin                         1.000000  "
      ]
     },
     "execution_count": 156,
     "metadata": {},
     "output_type": "execute_result"
    }
   ],
   "source": [
    "subConsSwit.T.corr()"
   ]
  },
  {
   "cell_type": "code",
   "execution_count": null,
   "metadata": {},
   "outputs": [],
   "source": []
  },
  {
   "cell_type": "markdown",
   "metadata": {},
   "source": [
    "##### Agriculture investment"
   ]
  },
  {
   "cell_type": "markdown",
   "metadata": {},
   "source": [
    "> Super categories"
   ]
  },
  {
   "cell_type": "code",
   "execution_count": 77,
   "metadata": {},
   "outputs": [
    {
     "data": {
      "text/html": [
       "<div>\n",
       "<style scoped>\n",
       "    .dataframe tbody tr th:only-of-type {\n",
       "        vertical-align: middle;\n",
       "    }\n",
       "\n",
       "    .dataframe tbody tr th {\n",
       "        vertical-align: top;\n",
       "    }\n",
       "\n",
       "    .dataframe thead th {\n",
       "        text-align: right;\n",
       "    }\n",
       "</style>\n",
       "<table border=\"1\" class=\"dataframe\">\n",
       "  <thead>\n",
       "    <tr style=\"text-align: right;\">\n",
       "      <th></th>\n",
       "      <th>1990</th>\n",
       "      <th>1991</th>\n",
       "      <th>1992</th>\n",
       "      <th>1993</th>\n",
       "      <th>1994</th>\n",
       "      <th>1995</th>\n",
       "      <th>1996</th>\n",
       "      <th>1997</th>\n",
       "      <th>1998</th>\n",
       "      <th>1999</th>\n",
       "      <th>...</th>\n",
       "      <th>2008</th>\n",
       "      <th>2009</th>\n",
       "      <th>2010</th>\n",
       "      <th>2011</th>\n",
       "      <th>2012</th>\n",
       "      <th>2013</th>\n",
       "      <th>2014</th>\n",
       "      <th>2015</th>\n",
       "      <th>2016</th>\n",
       "      <th>2017</th>\n",
       "    </tr>\n",
       "    <tr>\n",
       "      <th>typeInv</th>\n",
       "      <th></th>\n",
       "      <th></th>\n",
       "      <th></th>\n",
       "      <th></th>\n",
       "      <th></th>\n",
       "      <th></th>\n",
       "      <th></th>\n",
       "      <th></th>\n",
       "      <th></th>\n",
       "      <th></th>\n",
       "      <th></th>\n",
       "      <th></th>\n",
       "      <th></th>\n",
       "      <th></th>\n",
       "      <th></th>\n",
       "      <th></th>\n",
       "      <th></th>\n",
       "      <th></th>\n",
       "      <th></th>\n",
       "      <th></th>\n",
       "      <th></th>\n",
       "    </tr>\n",
       "  </thead>\n",
       "  <tbody>\n",
       "    <tr>\n",
       "      <th>Administration, exécution et contrôle</th>\n",
       "      <td>25.5316</td>\n",
       "      <td>27.9445</td>\n",
       "      <td>34.5693</td>\n",
       "      <td>34.9648</td>\n",
       "      <td>34.5059</td>\n",
       "      <td>33.7511</td>\n",
       "      <td>33.9551</td>\n",
       "      <td>35.3384</td>\n",
       "      <td>37.5954</td>\n",
       "      <td>40.9842</td>\n",
       "      <td>...</td>\n",
       "      <td>103.99</td>\n",
       "      <td>110.646</td>\n",
       "      <td>115.068</td>\n",
       "      <td>118.362</td>\n",
       "      <td>122.594</td>\n",
       "      <td>121.58</td>\n",
       "      <td>122.639</td>\n",
       "      <td>121.9</td>\n",
       "      <td>119.066</td>\n",
       "      <td>115.32</td>\n",
       "    </tr>\n",
       "    <tr>\n",
       "      <th>Amélioration des bases de production</th>\n",
       "      <td>228.481</td>\n",
       "      <td>258.363</td>\n",
       "      <td>214.028</td>\n",
       "      <td>225.648</td>\n",
       "      <td>213.423</td>\n",
       "      <td>164.163</td>\n",
       "      <td>156.527</td>\n",
       "      <td>152.18</td>\n",
       "      <td>163.718</td>\n",
       "      <td>157.664</td>\n",
       "      <td>...</td>\n",
       "      <td>200.212</td>\n",
       "      <td>177.771</td>\n",
       "      <td>178.787</td>\n",
       "      <td>143.227</td>\n",
       "      <td>189.71</td>\n",
       "      <td>187.406</td>\n",
       "      <td>181.907</td>\n",
       "      <td>157.544</td>\n",
       "      <td>144.163</td>\n",
       "      <td>135.075</td>\n",
       "    </tr>\n",
       "    <tr>\n",
       "      <th>Production et ventes</th>\n",
       "      <td>1484.78</td>\n",
       "      <td>1542.46</td>\n",
       "      <td>1537.93</td>\n",
       "      <td>1476.32</td>\n",
       "      <td>1296.38</td>\n",
       "      <td>1336.69</td>\n",
       "      <td>1336.58</td>\n",
       "      <td>1161.16</td>\n",
       "      <td>1059.1</td>\n",
       "      <td>1445.6</td>\n",
       "      <td>...</td>\n",
       "      <td>611.164</td>\n",
       "      <td>564.031</td>\n",
       "      <td>504.762</td>\n",
       "      <td>517.126</td>\n",
       "      <td>504.27</td>\n",
       "      <td>520.089</td>\n",
       "      <td>500.739</td>\n",
       "      <td>526.136</td>\n",
       "      <td>530.371</td>\n",
       "      <td>531.526</td>\n",
       "    </tr>\n",
       "    <tr>\n",
       "      <th>Paiements directs et mesures sociales</th>\n",
       "      <td>774.487</td>\n",
       "      <td>1073.75</td>\n",
       "      <td>1180.01</td>\n",
       "      <td>1486.5</td>\n",
       "      <td>1759.85</td>\n",
       "      <td>1821.01</td>\n",
       "      <td>2237.48</td>\n",
       "      <td>2379.81</td>\n",
       "      <td>2482.57</td>\n",
       "      <td>2383.88</td>\n",
       "      <td>...</td>\n",
       "      <td>2635.51</td>\n",
       "      <td>2839.83</td>\n",
       "      <td>2867.09</td>\n",
       "      <td>2884.3</td>\n",
       "      <td>2894.54</td>\n",
       "      <td>2876.9</td>\n",
       "      <td>2887.22</td>\n",
       "      <td>2861.69</td>\n",
       "      <td>2864.42</td>\n",
       "      <td>2870.05</td>\n",
       "    </tr>\n",
       "  </tbody>\n",
       "</table>\n",
       "<p>4 rows × 28 columns</p>\n",
       "</div>"
      ],
      "text/plain": [
       "                                          1990     1991     1992     1993  \\\n",
       "typeInv                                                                     \n",
       "Administration, exécution et contrôle  25.5316  27.9445  34.5693  34.9648   \n",
       "Amélioration des bases de production   228.481  258.363  214.028  225.648   \n",
       "Production et ventes                   1484.78  1542.46  1537.93  1476.32   \n",
       "Paiements directs et mesures sociales  774.487  1073.75  1180.01   1486.5   \n",
       "\n",
       "                                          1994     1995     1996     1997  \\\n",
       "typeInv                                                                     \n",
       "Administration, exécution et contrôle  34.5059  33.7511  33.9551  35.3384   \n",
       "Amélioration des bases de production   213.423  164.163  156.527   152.18   \n",
       "Production et ventes                   1296.38  1336.69  1336.58  1161.16   \n",
       "Paiements directs et mesures sociales  1759.85  1821.01  2237.48  2379.81   \n",
       "\n",
       "                                          1998     1999   ...        2008  \\\n",
       "typeInv                                                   ...               \n",
       "Administration, exécution et contrôle  37.5954  40.9842   ...      103.99   \n",
       "Amélioration des bases de production   163.718  157.664   ...     200.212   \n",
       "Production et ventes                    1059.1   1445.6   ...     611.164   \n",
       "Paiements directs et mesures sociales  2482.57  2383.88   ...     2635.51   \n",
       "\n",
       "                                          2009     2010     2011     2012  \\\n",
       "typeInv                                                                     \n",
       "Administration, exécution et contrôle  110.646  115.068  118.362  122.594   \n",
       "Amélioration des bases de production   177.771  178.787  143.227   189.71   \n",
       "Production et ventes                   564.031  504.762  517.126   504.27   \n",
       "Paiements directs et mesures sociales  2839.83  2867.09   2884.3  2894.54   \n",
       "\n",
       "                                          2013     2014     2015     2016  \\\n",
       "typeInv                                                                     \n",
       "Administration, exécution et contrôle   121.58  122.639    121.9  119.066   \n",
       "Amélioration des bases de production   187.406  181.907  157.544  144.163   \n",
       "Production et ventes                   520.089  500.739  526.136  530.371   \n",
       "Paiements directs et mesures sociales   2876.9  2887.22  2861.69  2864.42   \n",
       "\n",
       "                                          2017  \n",
       "typeInv                                         \n",
       "Administration, exécution et contrôle   115.32  \n",
       "Amélioration des bases de production   135.075  \n",
       "Production et ventes                   531.526  \n",
       "Paiements directs et mesures sociales  2870.05  \n",
       "\n",
       "[4 rows x 28 columns]"
      ]
     },
     "execution_count": 77,
     "metadata": {},
     "output_type": "execute_result"
    }
   ],
   "source": [
    "catInvAgr = invAgr.loc[(invAgr.index== 'Administration, exécution et contrôle')]\n",
    "catInvAgr = catInvAgr.append(invAgr.loc[(invAgr.index== 'Amélioration des bases de production')])\n",
    "catInvAgr = catInvAgr.append(invAgr.loc[(invAgr.index== 'Production et ventes')])\n",
    "catInvAgr = catInvAgr.append(invAgr.loc[(invAgr.index== 'Paiements directs et mesures sociales')])\n",
    "catInvAgr"
   ]
  },
  {
   "cell_type": "code",
   "execution_count": 78,
   "metadata": {},
   "outputs": [
    {
     "data": {
      "image/png": "[encoded data removed]",
      "text/plain": [
       "<Figure size 1440x360 with 4 Axes>"
      ]
     },
     "metadata": {
      "needs_background": "light"
     },
     "output_type": "display_data"
    }
   ],
   "source": [
    "# 3 figures in same output\n",
    "fig, axes = plt.subplots(nrows=1, ncols=4, figsize=(20,5))\n",
    "_ = catInvAgr.iloc[0].plot(ax=axes[0], kind='line', title=\"Administration, exécution et contrôle\")\n",
    "_ = catInvAgr.iloc[1].plot(ax=axes[1], kind='line', title=\"Amélioration des bases de production\")\n",
    "_ = catInvAgr.iloc[2].plot(ax=axes[2], kind='line', title=\"Production et ventes\")\n",
    "_ = catInvAgr.iloc[3].plot(ax=axes[3], kind='line', title=\"Paiements directs et mesures sociales\")"
   ]
  },
  {
   "cell_type": "markdown",
   "metadata": {},
   "source": [
    "> Subcategories"
   ]
  },
  {
   "cell_type": "code",
   "execution_count": 79,
   "metadata": {
    "scrolled": false
   },
   "outputs": [
    {
     "data": {
      "text/html": [
       "<div>\n",
       "<style scoped>\n",
       "    .dataframe tbody tr th:only-of-type {\n",
       "        vertical-align: middle;\n",
       "    }\n",
       "\n",
       "    .dataframe tbody tr th {\n",
       "        vertical-align: top;\n",
       "    }\n",
       "\n",
       "    .dataframe thead th {\n",
       "        text-align: right;\n",
       "    }\n",
       "</style>\n",
       "<table border=\"1\" class=\"dataframe\">\n",
       "  <thead>\n",
       "    <tr style=\"text-align: right;\">\n",
       "      <th></th>\n",
       "      <th>1990</th>\n",
       "      <th>1991</th>\n",
       "      <th>1992</th>\n",
       "      <th>1993</th>\n",
       "      <th>1994</th>\n",
       "      <th>1995</th>\n",
       "      <th>1996</th>\n",
       "      <th>1997</th>\n",
       "      <th>1998</th>\n",
       "      <th>1999</th>\n",
       "      <th>...</th>\n",
       "      <th>2008</th>\n",
       "      <th>2009</th>\n",
       "      <th>2010</th>\n",
       "      <th>2011</th>\n",
       "      <th>2012</th>\n",
       "      <th>2013</th>\n",
       "      <th>2014</th>\n",
       "      <th>2015</th>\n",
       "      <th>2016</th>\n",
       "      <th>2017</th>\n",
       "    </tr>\n",
       "    <tr>\n",
       "      <th>typeInv</th>\n",
       "      <th></th>\n",
       "      <th></th>\n",
       "      <th></th>\n",
       "      <th></th>\n",
       "      <th></th>\n",
       "      <th></th>\n",
       "      <th></th>\n",
       "      <th></th>\n",
       "      <th></th>\n",
       "      <th></th>\n",
       "      <th></th>\n",
       "      <th></th>\n",
       "      <th></th>\n",
       "      <th></th>\n",
       "      <th></th>\n",
       "      <th></th>\n",
       "      <th></th>\n",
       "      <th></th>\n",
       "      <th></th>\n",
       "      <th></th>\n",
       "      <th></th>\n",
       "    </tr>\n",
       "  </thead>\n",
       "  <tbody>\n",
       "    <tr>\n",
       "      <th>Administration</th>\n",
       "      <td>25.5316</td>\n",
       "      <td>27.9445</td>\n",
       "      <td>34.5693</td>\n",
       "      <td>34.9648</td>\n",
       "      <td>34.5059</td>\n",
       "      <td>33.7511</td>\n",
       "      <td>33.9551</td>\n",
       "      <td>35.3384</td>\n",
       "      <td>37.5954</td>\n",
       "      <td>40.9842</td>\n",
       "      <td>...</td>\n",
       "      <td>47.7666</td>\n",
       "      <td>51.8475</td>\n",
       "      <td>55.2193</td>\n",
       "      <td>55.1342</td>\n",
       "      <td>54.5769</td>\n",
       "      <td>54.2367</td>\n",
       "      <td>55.8413</td>\n",
       "      <td>54.6635</td>\n",
       "      <td>53.7946</td>\n",
       "      <td>51.8627</td>\n",
       "    </tr>\n",
       "    <tr>\n",
       "      <th>Vulgarisation</th>\n",
       "      <td>0</td>\n",
       "      <td>0</td>\n",
       "      <td>0</td>\n",
       "      <td>0</td>\n",
       "      <td>0</td>\n",
       "      <td>0</td>\n",
       "      <td>0</td>\n",
       "      <td>0</td>\n",
       "      <td>0</td>\n",
       "      <td>0</td>\n",
       "      <td>...</td>\n",
       "      <td>11.3264</td>\n",
       "      <td>11.15</td>\n",
       "      <td>12.1774</td>\n",
       "      <td>12.0389</td>\n",
       "      <td>12</td>\n",
       "      <td>11.9972</td>\n",
       "      <td>11.9907</td>\n",
       "      <td>11.8702</td>\n",
       "      <td>11.5978</td>\n",
       "      <td>11.6199</td>\n",
       "    </tr>\n",
       "    <tr>\n",
       "      <th>Exécution et contrôle</th>\n",
       "      <td>0</td>\n",
       "      <td>0</td>\n",
       "      <td>0</td>\n",
       "      <td>0</td>\n",
       "      <td>0</td>\n",
       "      <td>0</td>\n",
       "      <td>0</td>\n",
       "      <td>0</td>\n",
       "      <td>0</td>\n",
       "      <td>0</td>\n",
       "      <td>...</td>\n",
       "      <td>44.8971</td>\n",
       "      <td>47.6487</td>\n",
       "      <td>47.6711</td>\n",
       "      <td>51.1889</td>\n",
       "      <td>56.017</td>\n",
       "      <td>55.3459</td>\n",
       "      <td>54.8072</td>\n",
       "      <td>55.3661</td>\n",
       "      <td>53.6737</td>\n",
       "      <td>51.8376</td>\n",
       "    </tr>\n",
       "    <tr>\n",
       "      <th>Améliorations structurelles</th>\n",
       "      <td>156.629</td>\n",
       "      <td>181.957</td>\n",
       "      <td>132.111</td>\n",
       "      <td>146.864</td>\n",
       "      <td>137.128</td>\n",
       "      <td>92.8777</td>\n",
       "      <td>91.0377</td>\n",
       "      <td>88.0971</td>\n",
       "      <td>95.9802</td>\n",
       "      <td>95.8635</td>\n",
       "      <td>...</td>\n",
       "      <td>139.501</td>\n",
       "      <td>129.792</td>\n",
       "      <td>132</td>\n",
       "      <td>95.9998</td>\n",
       "      <td>141</td>\n",
       "      <td>138.808</td>\n",
       "      <td>134.225</td>\n",
       "      <td>109.943</td>\n",
       "      <td>96.6955</td>\n",
       "      <td>86.3919</td>\n",
       "    </tr>\n",
       "    <tr>\n",
       "      <th>Améliorations de l'élevage</th>\n",
       "      <td>39.6888</td>\n",
       "      <td>41.864</td>\n",
       "      <td>46.002</td>\n",
       "      <td>45.1904</td>\n",
       "      <td>44.1103</td>\n",
       "      <td>42.3632</td>\n",
       "      <td>40.5382</td>\n",
       "      <td>38.8595</td>\n",
       "      <td>39.6513</td>\n",
       "      <td>34.2381</td>\n",
       "      <td>...</td>\n",
       "      <td>49.6232</td>\n",
       "      <td>45.8841</td>\n",
       "      <td>45.1557</td>\n",
       "      <td>45.7281</td>\n",
       "      <td>46.8031</td>\n",
       "      <td>46.4854</td>\n",
       "      <td>45.627</td>\n",
       "      <td>46.2907</td>\n",
       "      <td>46.9538</td>\n",
       "      <td>46.5638</td>\n",
       "    </tr>\n",
       "    <tr>\n",
       "      <th>Protection des plantes</th>\n",
       "      <td>32.1631</td>\n",
       "      <td>34.5424</td>\n",
       "      <td>35.9143</td>\n",
       "      <td>33.5941</td>\n",
       "      <td>32.1853</td>\n",
       "      <td>28.922</td>\n",
       "      <td>24.9516</td>\n",
       "      <td>25.2233</td>\n",
       "      <td>28.086</td>\n",
       "      <td>27.5623</td>\n",
       "      <td>...</td>\n",
       "      <td>11.088</td>\n",
       "      <td>2.09423</td>\n",
       "      <td>1.63093</td>\n",
       "      <td>1.49867</td>\n",
       "      <td>1.90723</td>\n",
       "      <td>2.11288</td>\n",
       "      <td>2.05525</td>\n",
       "      <td>1.31005</td>\n",
       "      <td>0.514118</td>\n",
       "      <td>2.11973</td>\n",
       "    </tr>\n",
       "    <tr>\n",
       "      <th>Promotion des ventes</th>\n",
       "      <td>114.274</td>\n",
       "      <td>125.817</td>\n",
       "      <td>101.523</td>\n",
       "      <td>96.2237</td>\n",
       "      <td>72.4062</td>\n",
       "      <td>53.159</td>\n",
       "      <td>118.812</td>\n",
       "      <td>54.3641</td>\n",
       "      <td>6.11985</td>\n",
       "      <td>49.5465</td>\n",
       "      <td>...</td>\n",
       "      <td>0</td>\n",
       "      <td>0</td>\n",
       "      <td>0</td>\n",
       "      <td>0</td>\n",
       "      <td>0</td>\n",
       "      <td>0</td>\n",
       "      <td>0</td>\n",
       "      <td>0</td>\n",
       "      <td>0</td>\n",
       "      <td>0</td>\n",
       "    </tr>\n",
       "    <tr>\n",
       "      <th>Economie laitière</th>\n",
       "      <td>954.492</td>\n",
       "      <td>1048.93</td>\n",
       "      <td>1104.35</td>\n",
       "      <td>1091.71</td>\n",
       "      <td>959.697</td>\n",
       "      <td>1042.77</td>\n",
       "      <td>943.557</td>\n",
       "      <td>793.305</td>\n",
       "      <td>713.598</td>\n",
       "      <td>1052.23</td>\n",
       "      <td>...</td>\n",
       "      <td>349.663</td>\n",
       "      <td>298.212</td>\n",
       "      <td>291.944</td>\n",
       "      <td>295.311</td>\n",
       "      <td>300.738</td>\n",
       "      <td>301.329</td>\n",
       "      <td>295.53</td>\n",
       "      <td>295.436</td>\n",
       "      <td>296.414</td>\n",
       "      <td>296.273</td>\n",
       "    </tr>\n",
       "    <tr>\n",
       "      <th>Production animale</th>\n",
       "      <td>0</td>\n",
       "      <td>0</td>\n",
       "      <td>0</td>\n",
       "      <td>0</td>\n",
       "      <td>0</td>\n",
       "      <td>0</td>\n",
       "      <td>0</td>\n",
       "      <td>0</td>\n",
       "      <td>13.6229</td>\n",
       "      <td>32.585</td>\n",
       "      <td>...</td>\n",
       "      <td>18.2183</td>\n",
       "      <td>17.7981</td>\n",
       "      <td>10.1908</td>\n",
       "      <td>12.4234</td>\n",
       "      <td>11.49</td>\n",
       "      <td>11.8461</td>\n",
       "      <td>11.8762</td>\n",
       "      <td>11.9674</td>\n",
       "      <td>12.5758</td>\n",
       "      <td>12.2882</td>\n",
       "    </tr>\n",
       "    <tr>\n",
       "      <th>Production végétale</th>\n",
       "      <td>416.019</td>\n",
       "      <td>367.715</td>\n",
       "      <td>332.051</td>\n",
       "      <td>288.388</td>\n",
       "      <td>264.281</td>\n",
       "      <td>240.767</td>\n",
       "      <td>274.211</td>\n",
       "      <td>313.496</td>\n",
       "      <td>325.762</td>\n",
       "      <td>311.237</td>\n",
       "      <td>...</td>\n",
       "      <td>114.008</td>\n",
       "      <td>99.4859</td>\n",
       "      <td>70.0771</td>\n",
       "      <td>77.6859</td>\n",
       "      <td>71.9764</td>\n",
       "      <td>80.5486</td>\n",
       "      <td>63.5975</td>\n",
       "      <td>62.335</td>\n",
       "      <td>64.5571</td>\n",
       "      <td>64.1745</td>\n",
       "    </tr>\n",
       "    <tr>\n",
       "      <th>Autre soutien du marché</th>\n",
       "      <td>0</td>\n",
       "      <td>0</td>\n",
       "      <td>0</td>\n",
       "      <td>0</td>\n",
       "      <td>0</td>\n",
       "      <td>0</td>\n",
       "      <td>0</td>\n",
       "      <td>0</td>\n",
       "      <td>0</td>\n",
       "      <td>0</td>\n",
       "      <td>...</td>\n",
       "      <td>129.275</td>\n",
       "      <td>148.535</td>\n",
       "      <td>132.551</td>\n",
       "      <td>131.706</td>\n",
       "      <td>120.066</td>\n",
       "      <td>126.366</td>\n",
       "      <td>129.736</td>\n",
       "      <td>156.397</td>\n",
       "      <td>156.825</td>\n",
       "      <td>158.79</td>\n",
       "    </tr>\n",
       "    <tr>\n",
       "      <th>Paiements directs</th>\n",
       "      <td>707.609</td>\n",
       "      <td>993.402</td>\n",
       "      <td>1090.94</td>\n",
       "      <td>1406.64</td>\n",
       "      <td>1677.05</td>\n",
       "      <td>1730.6</td>\n",
       "      <td>2146.61</td>\n",
       "      <td>2274.04</td>\n",
       "      <td>2385.18</td>\n",
       "      <td>2285.6</td>\n",
       "      <td>...</td>\n",
       "      <td>2545.67</td>\n",
       "      <td>2742.23</td>\n",
       "      <td>2769.27</td>\n",
       "      <td>2794.9</td>\n",
       "      <td>2809.19</td>\n",
       "      <td>2798.73</td>\n",
       "      <td>2814.87</td>\n",
       "      <td>2795.18</td>\n",
       "      <td>2801.23</td>\n",
       "      <td>2805.99</td>\n",
       "    </tr>\n",
       "  </tbody>\n",
       "</table>\n",
       "<p>12 rows × 28 columns</p>\n",
       "</div>"
      ],
      "text/plain": [
       "                                1990     1991     1992     1993     1994  \\\n",
       "typeInv                                                                    \n",
       "Administration               25.5316  27.9445  34.5693  34.9648  34.5059   \n",
       "Vulgarisation                      0        0        0        0        0   \n",
       "Exécution et contrôle              0        0        0        0        0   \n",
       "Améliorations structurelles  156.629  181.957  132.111  146.864  137.128   \n",
       "Améliorations de l'élevage   39.6888   41.864   46.002  45.1904  44.1103   \n",
       "Protection des plantes       32.1631  34.5424  35.9143  33.5941  32.1853   \n",
       "Promotion des ventes         114.274  125.817  101.523  96.2237  72.4062   \n",
       "Economie laitière            954.492  1048.93  1104.35  1091.71  959.697   \n",
       "Production animale                 0        0        0        0        0   \n",
       "Production végétale          416.019  367.715  332.051  288.388  264.281   \n",
       "Autre soutien du marché            0        0        0        0        0   \n",
       "Paiements directs            707.609  993.402  1090.94  1406.64  1677.05   \n",
       "\n",
       "                                1995     1996     1997     1998     1999  \\\n",
       "typeInv                                                                    \n",
       "Administration               33.7511  33.9551  35.3384  37.5954  40.9842   \n",
       "Vulgarisation                      0        0        0        0        0   \n",
       "Exécution et contrôle              0        0        0        0        0   \n",
       "Améliorations structurelles  92.8777  91.0377  88.0971  95.9802  95.8635   \n",
       "Améliorations de l'élevage   42.3632  40.5382  38.8595  39.6513  34.2381   \n",
       "Protection des plantes        28.922  24.9516  25.2233   28.086  27.5623   \n",
       "Promotion des ventes          53.159  118.812  54.3641  6.11985  49.5465   \n",
       "Economie laitière            1042.77  943.557  793.305  713.598  1052.23   \n",
       "Production animale                 0        0        0  13.6229   32.585   \n",
       "Production végétale          240.767  274.211  313.496  325.762  311.237   \n",
       "Autre soutien du marché            0        0        0        0        0   \n",
       "Paiements directs             1730.6  2146.61  2274.04  2385.18   2285.6   \n",
       "\n",
       "                              ...        2008     2009     2010     2011  \\\n",
       "typeInv                       ...                                          \n",
       "Administration                ...     47.7666  51.8475  55.2193  55.1342   \n",
       "Vulgarisation                 ...     11.3264    11.15  12.1774  12.0389   \n",
       "Exécution et contrôle         ...     44.8971  47.6487  47.6711  51.1889   \n",
       "Améliorations structurelles   ...     139.501  129.792      132  95.9998   \n",
       "Améliorations de l'élevage    ...     49.6232  45.8841  45.1557  45.7281   \n",
       "Protection des plantes        ...      11.088  2.09423  1.63093  1.49867   \n",
       "Promotion des ventes          ...           0        0        0        0   \n",
       "Economie laitière             ...     349.663  298.212  291.944  295.311   \n",
       "Production animale            ...     18.2183  17.7981  10.1908  12.4234   \n",
       "Production végétale           ...     114.008  99.4859  70.0771  77.6859   \n",
       "Autre soutien du marché       ...     129.275  148.535  132.551  131.706   \n",
       "Paiements directs             ...     2545.67  2742.23  2769.27   2794.9   \n",
       "\n",
       "                                2012     2013     2014     2015      2016  \\\n",
       "typeInv                                                                     \n",
       "Administration               54.5769  54.2367  55.8413  54.6635   53.7946   \n",
       "Vulgarisation                     12  11.9972  11.9907  11.8702   11.5978   \n",
       "Exécution et contrôle         56.017  55.3459  54.8072  55.3661   53.6737   \n",
       "Améliorations structurelles      141  138.808  134.225  109.943   96.6955   \n",
       "Améliorations de l'élevage   46.8031  46.4854   45.627  46.2907   46.9538   \n",
       "Protection des plantes       1.90723  2.11288  2.05525  1.31005  0.514118   \n",
       "Promotion des ventes               0        0        0        0         0   \n",
       "Economie laitière            300.738  301.329   295.53  295.436   296.414   \n",
       "Production animale             11.49  11.8461  11.8762  11.9674   12.5758   \n",
       "Production végétale          71.9764  80.5486  63.5975   62.335   64.5571   \n",
       "Autre soutien du marché      120.066  126.366  129.736  156.397   156.825   \n",
       "Paiements directs            2809.19  2798.73  2814.87  2795.18   2801.23   \n",
       "\n",
       "                                2017  \n",
       "typeInv                               \n",
       "Administration               51.8627  \n",
       "Vulgarisation                11.6199  \n",
       "Exécution et contrôle        51.8376  \n",
       "Améliorations structurelles  86.3919  \n",
       "Améliorations de l'élevage   46.5638  \n",
       "Protection des plantes       2.11973  \n",
       "Promotion des ventes               0  \n",
       "Economie laitière            296.273  \n",
       "Production animale           12.2882  \n",
       "Production végétale          64.1745  \n",
       "Autre soutien du marché       158.79  \n",
       "Paiements directs            2805.99  \n",
       "\n",
       "[12 rows x 28 columns]"
      ]
     },
     "execution_count": 79,
     "metadata": {},
     "output_type": "execute_result"
    }
   ],
   "source": [
    "##Lets analyze sub categories\n",
    "subCatInvAgr = invAgr.drop(invAgr.index[[0,4,8,14]])\n",
    "subCatInvAgr"
   ]
  },
  {
   "cell_type": "markdown",
   "metadata": {},
   "source": [
    "A decreasement in the investment in the milk economy is seen (support in \"production and sells\"). From 2007 to 2015, decreasement of more than 10%. Is there a repercution in the quantity of milk derivates importations?"
   ]
  },
  {
   "cell_type": "markdown",
   "metadata": {},
   "source": [
    "##### Treatment categories-produits laitiers"
   ]
  },
  {
   "cell_type": "code",
   "execution_count": 259,
   "metadata": {},
   "outputs": [
    {
     "name": "stdout",
     "output_type": "stream",
     "text": [
      "2515\n"
     ]
    }
   ],
   "source": [
    "#Removing observations that does not have categories description\n",
    "foodSwitzerland = foodSwitzerland.dropna(subset=['categories'])\n",
    "print (len(foodSwitzerland))"
   ]
  },
  {
   "cell_type": "code",
   "execution_count": 260,
   "metadata": {},
   "outputs": [
    {
     "name": "stdout",
     "output_type": "stream",
     "text": [
      "Number of milk derivates products: 125\n"
     ]
    },
    {
     "data": {
      "text/html": [
       "<div>\n",
       "<style scoped>\n",
       "    .dataframe tbody tr th:only-of-type {\n",
       "        vertical-align: middle;\n",
       "    }\n",
       "\n",
       "    .dataframe tbody tr th {\n",
       "        vertical-align: top;\n",
       "    }\n",
       "\n",
       "    .dataframe thead th {\n",
       "        text-align: right;\n",
       "    }\n",
       "</style>\n",
       "<table border=\"1\" class=\"dataframe\">\n",
       "  <thead>\n",
       "    <tr style=\"text-align: right;\">\n",
       "      <th></th>\n",
       "      <th>code</th>\n",
       "      <th>url</th>\n",
       "      <th>creator</th>\n",
       "      <th>created_t</th>\n",
       "      <th>created_datetime</th>\n",
       "      <th>last_modified_t</th>\n",
       "      <th>last_modified_datetime</th>\n",
       "      <th>product_name</th>\n",
       "      <th>generic_name</th>\n",
       "      <th>quantity</th>\n",
       "      <th>...</th>\n",
       "      <th>glycemic-index_100g</th>\n",
       "      <th>water-hardness_100g</th>\n",
       "      <th>choline_100g</th>\n",
       "      <th>phylloquinone_100g</th>\n",
       "      <th>beta-glucan_100g</th>\n",
       "      <th>inositol_100g</th>\n",
       "      <th>carnitine_100g</th>\n",
       "      <th>originsCat</th>\n",
       "      <th>manuCat</th>\n",
       "      <th>labCat</th>\n",
       "    </tr>\n",
       "  </thead>\n",
       "  <tbody>\n",
       "    <tr>\n",
       "      <th>602307</th>\n",
       "      <td>7610200379351</td>\n",
       "      <td>http://world-en.openfoodfacts.org/product/7610...</td>\n",
       "      <td>gaelle</td>\n",
       "      <td>1337690958</td>\n",
       "      <td>2012-05-22 12:49:18</td>\n",
       "      <td>1486507535</td>\n",
       "      <td>2017-02-07T22:45:35Z</td>\n",
       "      <td>Yogourt fraise BIO</td>\n",
       "      <td>Yogourt à la fraise</td>\n",
       "      <td>180g</td>\n",
       "      <td>...</td>\n",
       "      <td>NaN</td>\n",
       "      <td>NaN</td>\n",
       "      <td>NaN</td>\n",
       "      <td>NaN</td>\n",
       "      <td>NaN</td>\n",
       "      <td>NaN</td>\n",
       "      <td>NaN</td>\n",
       "      <td>Switzerland</td>\n",
       "      <td>Switzerland</td>\n",
       "      <td>Other Label</td>\n",
       "    </tr>\n",
       "    <tr>\n",
       "      <th>602653</th>\n",
       "      <td>76102653</td>\n",
       "      <td>http://world-en.openfoodfacts.org/product/7610...</td>\n",
       "      <td>roxane</td>\n",
       "      <td>1353268352</td>\n",
       "      <td>2012-11-18 19:52:32</td>\n",
       "      <td>1493751546</td>\n",
       "      <td>2017-05-02T18:59:06Z</td>\n",
       "      <td>Crème entière UHT 250 ml</td>\n",
       "      <td>Crème entière upérisée</td>\n",
       "      <td>250ml</td>\n",
       "      <td>...</td>\n",
       "      <td>NaN</td>\n",
       "      <td>NaN</td>\n",
       "      <td>NaN</td>\n",
       "      <td>NaN</td>\n",
       "      <td>NaN</td>\n",
       "      <td>NaN</td>\n",
       "      <td>NaN</td>\n",
       "      <td>Switzerland</td>\n",
       "      <td>Switzerland</td>\n",
       "      <td>NaN</td>\n",
       "    </tr>\n",
       "    <tr>\n",
       "      <th>602347</th>\n",
       "      <td>7610200398697</td>\n",
       "      <td>http://world-en.openfoodfacts.org/product/7610...</td>\n",
       "      <td>roxane</td>\n",
       "      <td>1353272804</td>\n",
       "      <td>2012-11-18 21:06:44</td>\n",
       "      <td>1411715676</td>\n",
       "      <td>2014-09-26T07:14:36Z</td>\n",
       "      <td>Yogourt Chocolat ferme M-Classic</td>\n",
       "      <td>Yaourt chocolat ferme,</td>\n",
       "      <td>500g 4 x 125 g</td>\n",
       "      <td>...</td>\n",
       "      <td>NaN</td>\n",
       "      <td>NaN</td>\n",
       "      <td>NaN</td>\n",
       "      <td>NaN</td>\n",
       "      <td>NaN</td>\n",
       "      <td>NaN</td>\n",
       "      <td>NaN</td>\n",
       "      <td>Switzerland</td>\n",
       "      <td>Switzerland</td>\n",
       "      <td>Other Label</td>\n",
       "    </tr>\n",
       "    <tr>\n",
       "      <th>604213</th>\n",
       "      <td>7610807063561</td>\n",
       "      <td>http://world-en.openfoodfacts.org/product/7610...</td>\n",
       "      <td>roxane</td>\n",
       "      <td>1353273889</td>\n",
       "      <td>2012-11-18 21:24:49</td>\n",
       "      <td>1537302933</td>\n",
       "      <td>2018-09-18T20:35:33Z</td>\n",
       "      <td>Jogurt Noisette</td>\n",
       "      <td>Yaourt Noisette</td>\n",
       "      <td>180g</td>\n",
       "      <td>...</td>\n",
       "      <td>NaN</td>\n",
       "      <td>NaN</td>\n",
       "      <td>NaN</td>\n",
       "      <td>NaN</td>\n",
       "      <td>NaN</td>\n",
       "      <td>NaN</td>\n",
       "      <td>NaN</td>\n",
       "      <td>Switzerland</td>\n",
       "      <td>NaN</td>\n",
       "      <td>NaN</td>\n",
       "    </tr>\n",
       "    <tr>\n",
       "      <th>616256</th>\n",
       "      <td>7616600702522</td>\n",
       "      <td>http://world-en.openfoodfacts.org/product/7616...</td>\n",
       "      <td>roxane</td>\n",
       "      <td>1357396349</td>\n",
       "      <td>2013-01-05 14:32:29</td>\n",
       "      <td>1358475406</td>\n",
       "      <td>2013-01-18T02:16:46Z</td>\n",
       "      <td>Boisson au riz</td>\n",
       "      <td>Boisson au riz</td>\n",
       "      <td>500ml</td>\n",
       "      <td>...</td>\n",
       "      <td>NaN</td>\n",
       "      <td>NaN</td>\n",
       "      <td>NaN</td>\n",
       "      <td>NaN</td>\n",
       "      <td>NaN</td>\n",
       "      <td>NaN</td>\n",
       "      <td>NaN</td>\n",
       "      <td>Switzerland</td>\n",
       "      <td>NaN</td>\n",
       "      <td>Other Label</td>\n",
       "    </tr>\n",
       "  </tbody>\n",
       "</table>\n",
       "<p>5 rows × 176 columns</p>\n",
       "</div>"
      ],
      "text/plain": [
       "                 code                                                url  \\\n",
       "602307  7610200379351  http://world-en.openfoodfacts.org/product/7610...   \n",
       "602653       76102653  http://world-en.openfoodfacts.org/product/7610...   \n",
       "602347  7610200398697  http://world-en.openfoodfacts.org/product/7610...   \n",
       "604213  7610807063561  http://world-en.openfoodfacts.org/product/7610...   \n",
       "616256  7616600702522  http://world-en.openfoodfacts.org/product/7616...   \n",
       "\n",
       "       creator   created_t    created_datetime last_modified_t  \\\n",
       "602307  gaelle  1337690958 2012-05-22 12:49:18      1486507535   \n",
       "602653  roxane  1353268352 2012-11-18 19:52:32      1493751546   \n",
       "602347  roxane  1353272804 2012-11-18 21:06:44      1411715676   \n",
       "604213  roxane  1353273889 2012-11-18 21:24:49      1537302933   \n",
       "616256  roxane  1357396349 2013-01-05 14:32:29      1358475406   \n",
       "\n",
       "       last_modified_datetime                      product_name  \\\n",
       "602307   2017-02-07T22:45:35Z                Yogourt fraise BIO   \n",
       "602653   2017-05-02T18:59:06Z          Crème entière UHT 250 ml   \n",
       "602347   2014-09-26T07:14:36Z  Yogourt Chocolat ferme M-Classic   \n",
       "604213   2018-09-18T20:35:33Z                   Jogurt Noisette   \n",
       "616256   2013-01-18T02:16:46Z                    Boisson au riz   \n",
       "\n",
       "                  generic_name        quantity     ...       \\\n",
       "602307     Yogourt à la fraise            180g     ...        \n",
       "602653  Crème entière upérisée           250ml     ...        \n",
       "602347  Yaourt chocolat ferme,  500g 4 x 125 g     ...        \n",
       "604213         Yaourt Noisette            180g     ...        \n",
       "616256          Boisson au riz           500ml     ...        \n",
       "\n",
       "       glycemic-index_100g water-hardness_100g choline_100g  \\\n",
       "602307                 NaN                 NaN          NaN   \n",
       "602653                 NaN                 NaN          NaN   \n",
       "602347                 NaN                 NaN          NaN   \n",
       "604213                 NaN                 NaN          NaN   \n",
       "616256                 NaN                 NaN          NaN   \n",
       "\n",
       "       phylloquinone_100g beta-glucan_100g inositol_100g carnitine_100g  \\\n",
       "602307                NaN              NaN           NaN            NaN   \n",
       "602653                NaN              NaN           NaN            NaN   \n",
       "602347                NaN              NaN           NaN            NaN   \n",
       "604213                NaN              NaN           NaN            NaN   \n",
       "616256                NaN              NaN           NaN            NaN   \n",
       "\n",
       "         originsCat      manuCat       labCat  \n",
       "602307  Switzerland  Switzerland  Other Label  \n",
       "602653  Switzerland  Switzerland          NaN  \n",
       "602347  Switzerland  Switzerland  Other Label  \n",
       "604213  Switzerland          NaN          NaN  \n",
       "616256  Switzerland          NaN  Other Label  \n",
       "\n",
       "[5 rows x 176 columns]"
      ]
     },
     "execution_count": 260,
     "metadata": {},
     "output_type": "execute_result"
    }
   ],
   "source": [
    "filter_pl = 'Produits laitiers|Dairies|Lait'\n",
    "prodLaitSwitzerland = foodSwitzerland[foodSwitzerland[\"categories\"].str.contains(filter_pl,regex=True)]\n",
    "print(\"Number of milk derivates products:\",len(prodLaitSwitzerland))\n",
    "prodLaitSwitzerland.head(5)"
   ]
  },
  {
   "cell_type": "code",
   "execution_count": 261,
   "metadata": {},
   "outputs": [
    {
     "data": {
      "image/png": "[encoded data removed]",
      "text/plain": [
       "<Figure size 1080x360 with 3 Axes>"
      ]
     },
     "metadata": {
      "needs_background": "light"
     },
     "output_type": "display_data"
    }
   ],
   "source": [
    "fig, axes = plt.subplots(nrows=1, ncols=3, figsize=(15,5))\n",
    "plt.subplot(1,3,1)\n",
    "(prodLaitSwitzerland[\"originsCat\"].value_counts()/len(prodLaitSwitzerland[\"originsCat\"])).plot(kind='bar',title='Origins')\n",
    "plt.subplot(1,3,2)\n",
    "(prodLaitSwitzerland[\"manuCat\"].value_counts()/len(prodLaitSwitzerland[\"manuCat\"])).plot(kind='bar',title='Manufacture')\n",
    "plt.subplot(1,3,3)\n",
    "(prodLaitSwitzerland[\"labCat\"].value_counts()/len(prodLaitSwitzerland[\"labCat\"])).plot(kind='bar',title='labels')\n",
    "plt.show()"
   ]
  },
  {
   "cell_type": "code",
   "execution_count": 262,
   "metadata": {},
   "outputs": [
    {
     "name": "stdout",
     "output_type": "stream",
     "text": [
      "Date of first upload:  2012-05-22 12:49:18\n",
      "Date of last upload retrieved:  2018-10-22 12:59:26\n"
     ]
    }
   ],
   "source": [
    "print(\"Date of first upload: \", min(prodLaitSwitzerland['created_datetime']))\n",
    "print(\"Date of last upload retrieved: \", max(prodLaitSwitzerland['created_datetime']))"
   ]
  },
  {
   "cell_type": "markdown",
   "metadata": {},
   "source": [
    "Origins"
   ]
  },
  {
   "cell_type": "code",
   "execution_count": 263,
   "metadata": {},
   "outputs": [
    {
     "data": {
      "text/plain": [
       "array([<matplotlib.axes._subplots.AxesSubplot object at 0x164872710>,\n",
       "       <matplotlib.axes._subplots.AxesSubplot object at 0x165bf0cf8>],\n",
       "      dtype=object)"
      ]
     },
     "execution_count": 263,
     "metadata": {},
     "output_type": "execute_result"
    },
    {
     "data": {
      "image/png": "[encoded data removed]",
      "text/plain": [
       "<Figure size 432x288 with 2 Axes>"
      ]
     },
     "metadata": {
      "needs_background": "light"
     },
     "output_type": "display_data"
    }
   ],
   "source": [
    "prodLaitSwitzerland['created_datetime'].hist(by=prodLaitSwitzerland['originsCat'],bins=7)"
   ]
  },
  {
   "cell_type": "code",
   "execution_count": 264,
   "metadata": {},
   "outputs": [],
   "source": [
    "prodLaitSwitzerland['year'] = np.ones(len(prodLaitSwitzerland['created_datetime']))\n",
    "for i in range (0, len(prodLaitSwitzerland['year'])):\n",
    "    prodLaitSwitzerland['year'].iloc[i] = prodLaitSwitzerland['created_datetime'].iloc[i].year"
   ]
  },
  {
   "cell_type": "code",
   "execution_count": 265,
   "metadata": {},
   "outputs": [],
   "source": [
    "prodLaitSwitzerland['year'] = prodLaitSwitzerland['year'].astype(str)"
   ]
  },
  {
   "cell_type": "code",
   "execution_count": 266,
   "metadata": {},
   "outputs": [],
   "source": [
    "prodLaitSwitzerland = pd.get_dummies(prodLaitSwitzerland, columns=['originsCat'])"
   ]
  },
  {
   "cell_type": "code",
   "execution_count": 288,
   "metadata": {
    "scrolled": true
   },
   "outputs": [],
   "source": [
    "temp = prodLaitSwitzerland.groupby(['year'])['originsCat_Switzerland'].sum()"
   ]
  },
  {
   "cell_type": "code",
   "execution_count": 279,
   "metadata": {},
   "outputs": [],
   "source": [
    "temp = temp[0:4]"
   ]
  },
  {
   "cell_type": "code",
   "execution_count": 289,
   "metadata": {},
   "outputs": [
    {
     "data": {
      "text/plain": [
       "year\n",
       "2012.0     4\n",
       "2013.0     6\n",
       "2014.0    21\n",
       "2015.0     9\n",
       "2016.0    21\n",
       "2017.0     1\n",
       "2018.0     5\n",
       "Name: originsCat_Switzerland, dtype: uint8"
      ]
     },
     "execution_count": 289,
     "metadata": {},
     "output_type": "execute_result"
    }
   ],
   "source": [
    "temp"
   ]
  },
  {
   "cell_type": "code",
   "execution_count": 301,
   "metadata": {},
   "outputs": [
    {
     "data": {
      "text/html": [
       "<div>\n",
       "<style scoped>\n",
       "    .dataframe tbody tr th:only-of-type {\n",
       "        vertical-align: middle;\n",
       "    }\n",
       "\n",
       "    .dataframe tbody tr th {\n",
       "        vertical-align: top;\n",
       "    }\n",
       "\n",
       "    .dataframe thead th {\n",
       "        text-align: right;\n",
       "    }\n",
       "</style>\n",
       "<table border=\"1\" class=\"dataframe\">\n",
       "  <thead>\n",
       "    <tr style=\"text-align: right;\">\n",
       "      <th></th>\n",
       "      <th>2007</th>\n",
       "      <th>2008</th>\n",
       "      <th>2009</th>\n",
       "      <th>2010</th>\n",
       "      <th>2011</th>\n",
       "      <th>2012</th>\n",
       "      <th>2013</th>\n",
       "      <th>2014</th>\n",
       "      <th>2015</th>\n",
       "    </tr>\n",
       "    <tr>\n",
       "      <th>products</th>\n",
       "      <th></th>\n",
       "      <th></th>\n",
       "      <th></th>\n",
       "      <th></th>\n",
       "      <th></th>\n",
       "      <th></th>\n",
       "      <th></th>\n",
       "      <th></th>\n",
       "      <th></th>\n",
       "    </tr>\n",
       "  </thead>\n",
       "  <tbody>\n",
       "    <tr>\n",
       "      <th>Lait et produits laitiers</th>\n",
       "      <td>255.683841</td>\n",
       "      <td>252.642256</td>\n",
       "      <td>245.855948</td>\n",
       "      <td>248.891431</td>\n",
       "      <td>252.199542</td>\n",
       "      <td>247.679618</td>\n",
       "      <td>251.584253</td>\n",
       "      <td>248.167039</td>\n",
       "      <td>246.696216</td>\n",
       "    </tr>\n",
       "  </tbody>\n",
       "</table>\n",
       "</div>"
      ],
      "text/plain": [
       "                                 2007        2008        2009        2010  \\\n",
       "products                                                                    \n",
       "Lait et produits laitiers  255.683841  252.642256  245.855948  248.891431   \n",
       "\n",
       "                                 2011        2012        2013        2014  \\\n",
       "products                                                                    \n",
       "Lait et produits laitiers  252.199542  247.679618  251.584253  248.167039   \n",
       "\n",
       "                                 2015  \n",
       "products                               \n",
       "Lait et produits laitiers  246.696216  "
      ]
     },
     "execution_count": 301,
     "metadata": {},
     "output_type": "execute_result"
    }
   ],
   "source": [
    "temp2 = consSwit.loc[(consSwit.index== 'Lait et produits laitiers')]\n",
    "temp2"
   ]
  },
  {
   "cell_type": "code",
   "execution_count": null,
   "metadata": {},
   "outputs": [],
   "source": [
    "##Take into account this quantity(?) for evolu"
   ]
  },
  {
   "cell_type": "markdown",
   "metadata": {},
   "source": [
    "Manufacture"
   ]
  },
  {
   "cell_type": "code",
   "execution_count": 201,
   "metadata": {},
   "outputs": [
    {
     "data": {
      "text/plain": [
       "array([<matplotlib.axes._subplots.AxesSubplot object at 0x1626eebe0>,\n",
       "       <matplotlib.axes._subplots.AxesSubplot object at 0x162968390>],\n",
       "      dtype=object)"
      ]
     },
     "execution_count": 201,
     "metadata": {},
     "output_type": "execute_result"
    },
    {
     "data": {
      "image/png": "[encoded data removed]",
      "text/plain": [
       "<Figure size 432x288 with 2 Axes>"
      ]
     },
     "metadata": {
      "needs_background": "light"
     },
     "output_type": "display_data"
    }
   ],
   "source": [
    "prodLaitSwitzerland['created_datetime'].hist(by=prodLaitSwitzerland['manuCat'])"
   ]
  },
  {
   "cell_type": "code",
   "execution_count": 202,
   "metadata": {},
   "outputs": [
    {
     "data": {
      "text/plain": [
       "array([<matplotlib.axes._subplots.AxesSubplot object at 0x162a6d320>,\n",
       "       <matplotlib.axes._subplots.AxesSubplot object at 0x1624ab128>],\n",
       "      dtype=object)"
      ]
     },
     "execution_count": 202,
     "metadata": {},
     "output_type": "execute_result"
    },
    {
     "data": {
      "image/png": "[encoded data removed]",
      "text/plain": [
       "<Figure size 432x288 with 2 Axes>"
      ]
     },
     "metadata": {
      "needs_background": "light"
     },
     "output_type": "display_data"
    }
   ],
   "source": [
    "prodLaitSwitzerland['created_datetime'].hist(by=prodLaitSwitzerland['labCat'])"
   ]
  },
  {
   "cell_type": "code",
   "execution_count": null,
   "metadata": {},
   "outputs": [],
   "source": []
  },
  {
   "cell_type": "markdown",
   "metadata": {},
   "source": [
    "## 2. A first perspective: Compare old vs new products inside the dataset"
   ]
  },
  {
   "cell_type": "markdown",
   "metadata": {},
   "source": [
    "A product in the dataset is considered \"old\" if its description was uploaded to the dataset before February 2017. By the contrary, it is considered as \"new\" if its description was uploaded after that date.\n",
    "\n",
    "_As that definition is a little rigid, in order to get closer to the real situation, the following assumption is made: From the total products uploaded to the dataset after February 2017, 20% are old products._  "
   ]
  },
  {
   "cell_type": "markdown",
   "metadata": {},
   "source": [
    "A first perspective to tackle the research question, is to compare how in this more than 6 years of existance of the dataset, the characteristics of the products have changed. Specifically, we would like to know if there have been some changes in the origin of the primary resources, or in the origin of the manufacture or in the labels of the products.\n",
    "\n",
    "The study of the evolution in time of each one of those features, will include an __exploratory data analysis__.\n",
    "Finally, a study including the three features will be done, aiming to find an aggregated differentiated behavior in time, reflected in different clusters of periods of time. For that the __K-modes algorithm__ will be used."
   ]
  },
  {
   "cell_type": "markdown",
   "metadata": {},
   "source": [
    "The uploads of products sold in Switzerland, behaves differently in time. Taking into account the histogram presented below, two periods of time are defined:\n",
    "- Period 1: Created for studying the behaviour from \"old\" products. Products uploaded before Feb 2017.\n",
    "- Period 2: Created for studying the behaviour from \"new\" products. Products uploaded after Feb 2017."
   ]
  },
  {
   "cell_type": "code",
   "execution_count": 180,
   "metadata": {
    "scrolled": true
   },
   "outputs": [
    {
     "name": "stdout",
     "output_type": "stream",
     "text": [
      "Old products:  11826.8\n",
      "New products:  1627.2\n"
     ]
    },
    {
     "data": {
      "text/plain": [
       "<matplotlib.axes._subplots.AxesSubplot at 0x1139054e0>"
      ]
     },
     "execution_count": 180,
     "metadata": {},
     "output_type": "execute_result"
    },
    {
     "data": {
      "image/png": "[encoded data removed]",
      "text/plain": [
       "<Figure size 432x288 with 1 Axes>"
      ]
     },
     "metadata": {
      "needs_background": "light"
     },
     "output_type": "display_data"
    }
   ],
   "source": [
    "rateOldInNew = 0.2\n",
    "old_products = len(foodSwitzerland[foodSwitzerland['created_datetime']<\"2017-03-01 00:00:00\"])\n",
    "print(\"Old products: \", old_products + (len(foodSwitzerland)-old_products)*(rateOldInNew))\n",
    "print(\"New products: \", (len(foodSwitzerland)-old_products)*(1-rateOldInNew))\n",
    "foodSwitzerland['created_datetime'].hist()"
   ]
  },
  {
   "cell_type": "code",
   "execution_count": null,
   "metadata": {},
   "outputs": [],
   "source": []
  },
  {
   "cell_type": "code",
   "execution_count": null,
   "metadata": {},
   "outputs": [],
   "source": []
  },
  {
   "cell_type": "markdown",
   "metadata": {},
   "source": [
    "Now, let's do the subdivision in the two periods, taking care of our assumption of 20%:"
   ]
  },
  {
   "cell_type": "code",
   "execution_count": 11,
   "metadata": {},
   "outputs": [
    {
     "name": "stdout",
     "output_type": "stream",
     "text": [
      "Number of Old products:  (11826, 176)\n",
      "Number of New products:  (1627, 176)\n"
     ]
    }
   ],
   "source": [
    "foodSwitzerlandBef = foodSwitzerland[foodSwitzerland['created_datetime']<\"2017-03-01 00:00:00\"]\n",
    "foodSwitzerlandAft = foodSwitzerland[foodSwitzerland['created_datetime']>=\"2017-03-01 00:00:00\"]\n",
    "\n",
    "befInAft = foodSwitzerlandAft.sample(n=int(rateOldInNew*len(foodSwitzerlandAft)), replace=False)\n",
    "foodSwitzerlandBef = pd.concat([foodSwitzerlandBef,befInAft],axis=0)\n",
    "\n",
    "for i in range (0,len(befInAft)):\n",
    "    foodSwitzerlandAft = foodSwitzerlandAft[foodSwitzerlandAft['code']!=befInAft['code'].iloc[i]]\n",
    "print(\"Number of Old products: \", np.shape(foodSwitzerlandBef))\n",
    "print(\"Number of New products: \", np.shape(foodSwitzerlandAft))"
   ]
  },
  {
   "cell_type": "markdown",
   "metadata": {},
   "source": [
    "### 2.1. Study of the evolution in time of each one of the interest features"
   ]
  },
  {
   "cell_type": "markdown",
   "metadata": {},
   "source": [
    "### 2.1.1 With respect to: Origin of the primary resources"
   ]
  },
  {
   "cell_type": "markdown",
   "metadata": {},
   "source": [
    "First, bootstrapping for include confidence intervals to results"
   ]
  },
  {
   "cell_type": "code",
   "execution_count": 27,
   "metadata": {},
   "outputs": [],
   "source": [
    "#before\n",
    "propSB_100ite = np.zeros (100)\n",
    "propOCB_100ite = np.zeros (100)\n",
    "#after\n",
    "propSA_100ite = np.zeros (100)\n",
    "propOCA_100ite = np.zeros (100)\n",
    "\n",
    "for iteration in range(0,100):\n",
    "    #before\n",
    "    temp_bef = foodSwitzerlandBef[\"originsCat\"].sample(n=len(foodSwitzerlandBef), replace=True)\n",
    "    propSB_100ite[iteration] = (sum(temp_bef==\"Switzerland\")/len(foodSwitzerlandBef))\n",
    "    propOCB_100ite[iteration] = sum(temp_bef==\"Other country\")/len(foodSwitzerlandBef)\n",
    "    #after\n",
    "    temp_aft = foodSwitzerlandAft[\"originsCat\"].sample(n=len(foodSwitzerlandAft), replace=True)\n",
    "    propSA_100ite[iteration] = sum(temp_aft==\"Switzerland\")/len(foodSwitzerlandAft)\n",
    "    propOCA_100ite[iteration] = sum(temp_aft==\"Other country\")/len(foodSwitzerlandAft)\n",
    "    \n",
    "    #Relation of time evolution and difference of products in each categories\n",
    "    difpropB = propSB_100ite[iteration]-propOCB_100ite[iteration]\n",
    "    difpropA = propSB_100ite[iteration]-propOCA_100ite[iteration]\n",
    "\n",
    "#Calculating standard deviation of count of each category\n",
    "SBstd = np.std(propSB_100ite)\n",
    "OCBstd = np.std(propOCB_100ite)\n",
    "#Calculating standard deviation of count of each category\n",
    "SAstd = propSA_100ite.std()\n",
    "OCAstd = propOCA_100ite.std()"
   ]
  },
  {
   "cell_type": "markdown",
   "metadata": {},
   "source": [
    "Then, plotting of behavior "
   ]
  },
  {
   "cell_type": "code",
   "execution_count": 28,
   "metadata": {},
   "outputs": [
    {
     "name": "stdout",
     "output_type": "stream",
     "text": [
      "There was not information for  11167  products in the period 1.\n",
      "There was not information for  1544  products in the period 2.\n"
     ]
    },
    {
     "data": {
      "image/png": "[encoded data removed]",
      "text/plain": [
       "<Figure size 1080x360 with 2 Axes>"
      ]
     },
     "metadata": {
      "needs_background": "light"
     },
     "output_type": "display_data"
    }
   ],
   "source": [
    "#Report information of NAN cases\n",
    "fig, axes = plt.subplots(nrows=1, ncols=3, figsize=(15,5))\n",
    "print(\"There was not information for \",len(foodSwitzerlandBef[\"originsCat\"])-sum(foodSwitzerlandBef[\"originsCat\"]==\"Switzerland\")-sum(foodSwitzerlandBef[\"originsCat\"]==\"Other country\"),\" products in the period 1.\")\n",
    "print(\"There was not information for \",len(foodSwitzerlandAft[\"originsCat\"])-sum(foodSwitzerlandAft[\"originsCat\"]==\"Switzerland\")-sum(foodSwitzerlandAft[\"originsCat\"]==\"Other country\"),\" products in the period 2.\")\n",
    "\n",
    "#Plot origin of primary resources by periods\n",
    "plt.subplot(1,2,1)\n",
    "(foodSwitzerlandBef[\"originsCat\"].value_counts()/len(foodSwitzerlandBef[\"originsCat\"])).plot(kind='bar', yerr = [SBstd,OCBstd],title='Period 1')\n",
    "plt.subplot(1,2,2)\n",
    "(foodSwitzerlandAft[\"originsCat\"].value_counts()/len(foodSwitzerlandAft[\"originsCat\"])).plot(kind='bar', yerr = [SAstd,OCAstd],title='Period 2')\n",
    "\n",
    "plt.show()"
   ]
  },
  {
   "cell_type": "markdown",
   "metadata": {},
   "source": [
    "### 2.1.2 With respect to: Manufacture"
   ]
  },
  {
   "cell_type": "markdown",
   "metadata": {},
   "source": [
    "First, bootstrapping for include confidence intervals to results"
   ]
  },
  {
   "cell_type": "code",
   "execution_count": 29,
   "metadata": {},
   "outputs": [],
   "source": [
    "#before\n",
    "propSB_100ite = np.zeros (100)\n",
    "propOCB_100ite = np.zeros (100)\n",
    "\n",
    "#after\n",
    "propSA_100ite = np.zeros (100)\n",
    "propOCA_100ite = np.zeros (100)\n",
    "\n",
    "for iteration in range(0,100):\n",
    "    #before\n",
    "    temp_bef = foodSwitzerlandBef[\"manuCat\"].sample(n=len(foodSwitzerlandBef), replace=True)\n",
    "    propSB_100ite[iteration] = sum(temp_bef==\"Switzerland\")/len(foodSwitzerlandBef)\n",
    "    propOCB_100ite[iteration] = sum(temp_bef==\"Other country\")/len(foodSwitzerlandBef)\n",
    "    #after\n",
    "    temp_aft = foodSwitzerlandAft[\"manuCat\"].sample(n=len(foodSwitzerlandAft), replace=True)\n",
    "    propSA_100ite[iteration] = sum(temp_aft==\"Switzerland\")/len(foodSwitzerlandAft)\n",
    "    propOCA_100ite[iteration] = sum(temp_aft==\"Other country\")/len(foodSwitzerlandAft)\n",
    "    \n",
    "\n",
    "#Calculating standard deviation of count of each category\n",
    "SBstd = propSB_100ite.std()\n",
    "OCBstd = propOCB_100ite.std()\n",
    "#Calculating standard deviation of count of each category\n",
    "SAstd = propSA_100ite.std()\n",
    "OCAstd = propOCA_100ite.std()"
   ]
  },
  {
   "cell_type": "code",
   "execution_count": 30,
   "metadata": {},
   "outputs": [
    {
     "name": "stdout",
     "output_type": "stream",
     "text": [
      "There was not information for  10871  products in the period 1.\n",
      "There was not information for  1487  products in the period 2.\n"
     ]
    },
    {
     "data": {
      "image/png": "[encoded data removed]",
      "text/plain": [
       "<Figure size 1080x360 with 2 Axes>"
      ]
     },
     "metadata": {
      "needs_background": "light"
     },
     "output_type": "display_data"
    }
   ],
   "source": [
    "#Report information of NAN cases\n",
    "fig, axes = plt.subplots(nrows=1, ncols=2, figsize=(15,5))\n",
    "print(\"There was not information for \",len(foodSwitzerlandBef[\"manuCat\"])-sum(foodSwitzerlandBef[\"manuCat\"]==\"Switzerland\")-sum(foodSwitzerlandBef[\"manuCat\"]==\"Other country\"),\" products in the period 1.\")\n",
    "print(\"There was not information for \",len(foodSwitzerlandAft[\"manuCat\"])-sum(foodSwitzerlandAft[\"manuCat\"]==\"Switzerland\")-sum(foodSwitzerlandAft[\"manuCat\"]==\"Other country\"),\" products in the period 2.\")\n",
    "\n",
    "#Plot origin of primary resources by periods\n",
    "plt.subplot(1,2,1)\n",
    "(foodSwitzerlandBef[\"manuCat\"].value_counts()/len(foodSwitzerlandBef[\"manuCat\"])).plot(kind='bar', yerr = [SBstd,OCBstd],title='Period 1')\n",
    "plt.subplot(1,2,2)\n",
    "(foodSwitzerlandAft[\"manuCat\"].value_counts()/len(foodSwitzerlandBef[\"manuCat\"])).plot(kind='bar', yerr = [SAstd,OCAstd],title='Period 2')\n",
    "\n",
    "plt.show()"
   ]
  },
  {
   "cell_type": "markdown",
   "metadata": {},
   "source": [
    "### 2.1.3 With respect to: Labels"
   ]
  },
  {
   "cell_type": "code",
   "execution_count": 31,
   "metadata": {},
   "outputs": [],
   "source": [
    "#before\n",
    "propSB_100ite = np.zeros (100)\n",
    "propOCB_100ite = np.zeros (100)\n",
    "#after\n",
    "propSA_100ite = np.zeros (100)\n",
    "propOCA_100ite = np.zeros (100)\n",
    "\n",
    "for iteration in range(0,100):\n",
    "    #before\n",
    "    temp_bef = foodSwitzerlandBef[\"labCat\"].sample(n=len(foodSwitzerlandBef), replace=True)\n",
    "    propSB_100ite[iteration] = sum(temp_bef==\"Related with Switzerland\")/len(foodSwitzerlandBef)\n",
    "    propOCB_100ite[iteration] = sum(temp_bef==\"Other Label\")/len(foodSwitzerlandBef)\n",
    "    #after\n",
    "    temp_aft = foodSwitzerlandAft[\"labCat\"].sample(n=len(foodSwitzerlandAft), replace=True)\n",
    "    propSA_100ite[iteration] = sum(temp_aft==\"Related with Switzerland\")/len(foodSwitzerlandAft)\n",
    "    propOCA_100ite[iteration] = sum(temp_aft==\"Other Label\")/len(foodSwitzerlandAft)\n",
    "    \n",
    "    #Relation of time evolution and difference of products in each categories\n",
    "    difpropB = propSB_100ite[iteration]-propOCB_100ite[iteration]\n",
    "    difpropA = propSB_100ite[iteration]-propOCA_100ite[iteration]\n",
    "\n",
    "#Calculating standard deviation of count of each category\n",
    "SBstd = propSB_100ite.std()\n",
    "OCBstd = propOCB_100ite.std()\n",
    "#Calculating standard deviation of count of each category\n",
    "SAstd = propSA_100ite.std()\n",
    "OCAstd = propOCA_100ite.std()"
   ]
  },
  {
   "cell_type": "code",
   "execution_count": 32,
   "metadata": {},
   "outputs": [
    {
     "name": "stdout",
     "output_type": "stream",
     "text": [
      "There was not information for  11826  products in the period 1.\n",
      "There was not information for  1627  products in the period 2.\n"
     ]
    },
    {
     "data": {
      "image/png": "[encoded data removed]",
      "text/plain": [
       "<Figure size 1080x360 with 2 Axes>"
      ]
     },
     "metadata": {
      "needs_background": "light"
     },
     "output_type": "display_data"
    }
   ],
   "source": [
    "#Report information of NAN cases\n",
    "fig, axes = plt.subplots(nrows=1, ncols=2, figsize=(15,5))\n",
    "print(\"There was not information for \",len(foodSwitzerlandBef[\"labCat\"])-sum(foodSwitzerlandBef[\"labCat\"]==\"Switzerland\")-sum(foodSwitzerlandBef[\"labCat\"]==\"Other country\"),\" products in the period 1.\")\n",
    "print(\"There was not information for \",len(foodSwitzerlandAft[\"labCat\"])-sum(foodSwitzerlandAft[\"labCat\"]==\"Switzerland\")-sum(foodSwitzerlandAft[\"labCat\"]==\"Other country\"),\" products in the period 2.\")\n",
    "\n",
    "#Plot origin of primary resources by periods\n",
    "plt.subplot(1,2,1)\n",
    "(foodSwitzerlandBef[\"labCat\"].value_counts()/len(foodSwitzerlandBef[\"labCat\"])).plot(kind='bar', yerr = [SBstd,OCBstd],title='Period 1')\n",
    "plt.subplot(1,2,2)\n",
    "(foodSwitzerlandAft[\"labCat\"].value_counts()/len(foodSwitzerlandBef[\"labCat\"])).plot(kind='bar', yerr = [SAstd,OCAstd],title='Period 2')\n",
    "\n",
    "plt.show()"
   ]
  },
  {
   "cell_type": "markdown",
   "metadata": {},
   "source": [
    "### 2.2 Study of the evolution in time of the interest features combined"
   ]
  },
  {
   "cell_type": "markdown",
   "metadata": {},
   "source": [
    "The k-modes algorithm is expected to be done for the milestone 3."
   ]
  },
  {
   "cell_type": "code",
   "execution_count": null,
   "metadata": {},
   "outputs": [],
   "source": []
  }
 ],
 "metadata": {
  "kernelspec": {
   "display_name": "Python 3",
   "language": "python",
   "name": "python3"
  },
  "language_info": {
   "codemirror_mode": {
    "name": "ipython",
    "version": 3
   },
   "file_extension": ".py",
   "mimetype": "text/x-python",
   "name": "python",
   "nbconvert_exporter": "python",
   "pygments_lexer": "ipython3",
   "version": "3.6.6"
  }
 },
 "nbformat": 4,
 "nbformat_minor": 2
}
