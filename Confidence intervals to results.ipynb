{
 "cells": [
  {
   "cell_type": "code",
   "execution_count": 1,
   "metadata": {},
   "outputs": [],
   "source": [
    "import numpy as np\n",
    "import pandas as pd"
   ]
  },
  {
   "cell_type": "code",
   "execution_count": null,
   "metadata": {},
   "outputs": [],
   "source": [
    "DATA_FOLDER = 'data'\n",
    "cleaned_off_dataset = 'output/cleaned_off.csv'\n",
    "\n",
    "consumption_dataset = 'official_source_foodstuffs_consumption_kg.xlsx'\n",
    "import_food_dataset = 'official_source_foodstuffs_food_import_tj.xlsx'\n",
    "\n",
    "import_dataset = 'imports_food_products_1988-2017.xlsx'\n",
    "population_dataset = 'official_population_1988-2017.xlsx'"
   ]
  },
  {
   "cell_type": "markdown",
   "metadata": {},
   "source": [
    "## Where do the products we consume come from?"
   ]
  },
  {
   "cell_type": "markdown",
   "metadata": {},
   "source": [
    "Previously we have shown the products that are sold in Switzerland, and from there, we had reported the number of products associated to each manufacturing country.\n",
    "Now we would like to take a probabilistic approach, to give some statistical confidence to our results (assuming that the dataset is a sample of the true distribution of the products consumed in Switzerland). "
   ]
  },
  {
   "cell_type": "code",
   "execution_count": 2,
   "metadata": {},
   "outputs": [],
   "source": [
    "##bootstrapping procedure applied to cleaned dataset \n",
    "###(select n products randomly with replacement and have the proportion by country for each run)\n",
    "# bar errors by country"
   ]
  },
  {
   "cell_type": "markdown",
   "metadata": {},
   "source": [
    "## Which kind of products are being manufactured in these countries?"
   ]
  },
  {
   "cell_type": "code",
   "execution_count": 3,
   "metadata": {},
   "outputs": [],
   "source": [
    "##bootstrapping procedure applied to cleaned dataset \n",
    "###(select n products randomly with replacement and have the proportion by category for each run)\n",
    "# bar errors by category"
   ]
  },
  {
   "cell_type": "markdown",
   "metadata": {},
   "source": [
    "## Which have been the evolution of local consumption in Switzerland?"
   ]
  },
  {
   "cell_type": "code",
   "execution_count": 4,
   "metadata": {},
   "outputs": [],
   "source": [
    "## Tukey test compare change in 2015, 2016, 2017, 2018 of proportion of _consumed products_out of _imported products_\n",
    "## Use import and consumption dataset"
   ]
  },
  {
   "cell_type": "markdown",
   "metadata": {},
   "source": [
    "## Evolution of imports vs population growth"
   ]
  },
  {
   "cell_type": "code",
   "execution_count": 5,
   "metadata": {},
   "outputs": [],
   "source": [
    "## Correlation of _swiss population growth_ and _imported products_ from 1988\n",
    "## Use import and consumption datasets"
   ]
  },
  {
   "cell_type": "code",
   "execution_count": 6,
   "metadata": {},
   "outputs": [],
   "source": [
    "##Calculate factor growth year by year of _swiss population growth_ in interval 2011 to 2018\n",
    "## Multiply _imported products_ each year by (1-factor.growth.population)\n",
    "### Make two groups 2011-2014 and 2015-2018\n",
    "###Tukey test compare change in two groups"
   ]
  }
 ],
 "metadata": {
  "kernelspec": {
   "display_name": "Python 2",
   "language": "python",
   "name": "python2"
  },
  "language_info": {
   "codemirror_mode": {
    "name": "ipython",
    "version": 2
   },
   "file_extension": ".py",
   "mimetype": "text/x-python",
   "name": "python",
   "nbconvert_exporter": "python",
   "pygments_lexer": "ipython2",
   "version": "2.7.15"
  }
 },
 "nbformat": 4,
 "nbformat_minor": 2
}
