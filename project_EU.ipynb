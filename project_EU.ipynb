{
 "cells": [
  {
   "cell_type": "markdown",
   "metadata": {},
   "source": [
    "# Are we consuming more local?\n",
    "\n",
    "## Research questions\n",
    "\n",
    "1. Where are the products we consume in our everyday life coming from?\n",
    "\n",
    "    - Which countries produce the primary resources (ground ingredients) consumed in Switzerland?\n",
    "    - Which countries manufacture most of the products consumed in Switzerland?\n",
    "\n",
    "\n",
    "2. Is there a trend over time to consume more local products?\n",
    "\n",
    "    - Are new products mostly using primary resources from Switzerland? Or from other countries inside Europe?\n",
    "    - Are new products mostly manufactured in Switzerland? Or from other countries inside Europe?\n",
    "    - Is there a trend over time to local products to promote their origin?\n",
    "\n",
    "## Datasets\n",
    "\n",
    "Open Food Facts (https://world.openfoodfacts.org/data)\n",
    "\n",
    "Additional datasets “Evolution de la consommation de denrées alimentaires en Suisse” (https://opendata.swiss/fr/dataset/entwicklung-des-nahrungsmittelverbrauches-in-der-schweiz-je-kopf-und-jahr1) and “Dépenses fédérales pour l’agriculture et l’alimentation” (https://opendata.swiss/fr/dataset/bundesausgaben-fur-die-landwirtschaft-und-die-ernahrung1) from https://opendata.swiss/fr/group/agriculture\n",
    "\n",
    "A last additional dataset for the second question of the project\n",
    "https://www.gate.ezv.admin.ch/swissimpex/public/bereiche/waren/result.xhtml\n",
    "Total of imports of agriculture, forestry and fishing goods\n"
   ]
  },
  {
   "cell_type": "code",
   "execution_count": 2,
   "metadata": {},
   "outputs": [],
   "source": [
    "import re\n",
    "import pandas as pd\n",
    "import numpy as np\n",
    "import scipy as sp\n",
    "import scipy.stats as stats\n",
    "import matplotlib.pyplot as plt\n",
    "from datetime import timedelta\n",
    "import findspark\n",
    "findspark.init()\n",
    "import pyspark\n",
    "\n",
    "from functools import reduce\n",
    "from pyspark.sql import *\n",
    "from pyspark.sql import functions as F\n",
    "from pyspark.sql import SQLContext\n",
    "from pyspark.sql.functions import *\n",
    "from pyspark.sql.functions import min\n",
    "from pyspark.sql.functions import to_date, last_day,date_add\n",
    "from datetime import timedelta\n",
    "\n",
    "spark = SparkSession.builder.getOrCreate()\n",
    "sc = spark.sparkContext"
   ]
  },
  {
   "cell_type": "code",
   "execution_count": 3,
   "metadata": {},
   "outputs": [],
   "source": [
    "DATA_FOLDER = 'data'\n",
    "openfood_file = \"/en.openfoodfacts.org.products.csv\"\n",
    "PARQUET_PATH = 'output/data.parquet'\n",
    "temp_file = 'output/temp.csv'"
   ]
  },
  {
   "cell_type": "markdown",
   "metadata": {},
   "source": [
    "# Loading data"
   ]
  },
  {
   "cell_type": "code",
   "execution_count": 327,
   "metadata": {},
   "outputs": [
    {
     "name": "stdout",
     "output_type": "stream",
     "text": [
      "root\n",
      " |-- code: string (nullable = true)\n",
      " |-- origins_tags: string (nullable = true)\n",
      " |-- manufacturing_places_tags: string (nullable = true)\n",
      " |-- countries_tags: string (nullable = true)\n",
      "\n"
     ]
    }
   ],
   "source": [
    "dataset_main = spark.read.csv(DATA_FOLDER+ openfood_file, header=True, mode=\"DROPMALFORMED\", sep = '\\t')\n",
    "\n",
    "dataset_main.createOrReplaceTempView(\"data_main\")\n",
    "\n",
    "# Filter required columns\n",
    "p_id_col = \" code, product_name \"\n",
    "general_cols = \" brands, brands_tags, categories, categories_tags, origins, origins_tags, manufacturing_places, manufacturing_places_tags,labels,labels_tags,emb_codes,emb_codes_tags,first_packaging_code_geo,cities,cities_tags,purchase_places,stores,countries,countries_tags \"\n",
    "geo_cols = \" origins, manufacturing_places, countries \"\n",
    "geo_tags_cols = \" origins_tags, manufacturing_places_tags, countries_tags \"\n",
    "\n",
    "off_df = spark.sql(\"SELECT\" + p_id_col +geo_tags_cols + \" FROM data_main\")\n",
    "off_df.printSchema()"
   ]
  },
  {
   "cell_type": "markdown",
   "metadata": {},
   "source": [
    "## Data Cleaning and Preprocessing"
   ]
  },
  {
   "cell_type": "code",
   "execution_count": 5,
   "metadata": {},
   "outputs": [],
   "source": [
    "off_df.createOrReplaceTempView(\"off_df\")\n",
    "\n",
    "sql_filter = \"SELECT * FROM off_df WHERE countries_tags is not NULL AND manufacturing_places_tags is not NULL AND origins_tags is not NULL\"\n",
    "off_p_df = spark.sql(sql_filter)\n",
    "\n",
    "# off_p_all_size = off_p_df.count()\n",
    "# off_p_cols_size = len(off_p_df.columns)\n",
    "# print(\"Full GEO information data Size:\\n\" + str(off_p_cols_size) + \"(columns) * \" + str(off_p_all_size) + \"(rows)\")"
   ]
  },
  {
   "cell_type": "code",
   "execution_count": 6,
   "metadata": {},
   "outputs": [],
   "source": [
    "# Explode countries\n",
    "off_p_df = off_p_df.withColumn('origins_tags', F.explode_outer(F.split('origins_tags', ',')))\\\n",
    ".withColumn('manufacturing_places_tags', F.explode_outer(F.split('manufacturing_places_tags', ',')))\\\n",
    ".withColumn('countries_tags', F.explode_outer(F.split('countries_tags', ',')))\n",
    "\n",
    "# Remove \"en:\" occurances before name of each country in coutries_tags\n",
    "off_p_df = off_p_df.withColumn('countries_tags', F.regexp_replace('countries_tags', \"en:\", \"\"))\n",
    "# Remove - in name of countries\n",
    "off_p_df = off_p_df.withColumn('countries_tags', F.regexp_replace('countries_tags', \"-\", \" \"))\n",
    "off_p_df = off_p_df.withColumn('manufacturing_places_tags', F.regexp_replace('manufacturing_places_tags', \"-\", \" \"))\n",
    "off_p_df = off_p_df.withColumn('origins_tags', F.regexp_replace('origins_tags', \"-\", \" \"))\n",
    "\n",
    "# Remove numbers from name of countries\n",
    "off_p_df = off_p_df.withColumn('countries_tags', F.regexp_replace('countries_tags', \"\\d+\", \"\"))\n",
    "off_p_df = off_p_df.withColumn('manufacturing_places_tags', F.regexp_replace('countries_tags', \"\\d+\", \"\"))\n",
    "off_p_df = off_p_df.withColumn('origins_tags', F.regexp_replace('origins_tags', \"\\d+\", \"\"))"
   ]
  },
  {
   "cell_type": "code",
   "execution_count": 7,
   "metadata": {},
   "outputs": [
    {
     "name": "stdout",
     "output_type": "stream",
     "text": [
      "root\n",
      " |-- code: string (nullable = true)\n",
      " |-- product_name: string (nullable = true)\n",
      " |-- origins_tags: string (nullable = true)\n",
      " |-- manufacturing_places_tags: string (nullable = true)\n",
      " |-- countries_tags: string (nullable = true)\n",
      " |-- countries: string (nullable = true)\n",
      " |-- manufacturing_places: string (nullable = true)\n",
      " |-- origins: string (nullable = true)\n",
      " |-- is_eu: integer (nullable = false)\n",
      "\n"
     ]
    }
   ],
   "source": [
    "off_p_df = off_p_df.withColumn(\"countries\", off_p_df[\"countries_tags\"])\n",
    "off_p_df = off_p_df.withColumn(\"manufacturing_places\", off_p_df[\"manufacturing_places_tags\"])\n",
    "off_p_df = off_p_df.withColumn(\"origins\", off_p_df[\"origins_tags\"])\n",
    "off_p_df = off_p_df.withColumn(\"is_eu\", lit(0))\n",
    "off_p_df.printSchema()"
   ]
  },
  {
   "cell_type": "code",
   "execution_count": 8,
   "metadata": {},
   "outputs": [
    {
     "name": "stdout",
     "output_type": "stream",
     "text": [
      "Full GEO information data Size:\n",
      "9(columns) * 73575(rows)\n"
     ]
    }
   ],
   "source": [
    "off_p_all_size = off_p_df.count()\n",
    "off_p_cols_size = len(off_p_df.columns)\n",
    "print(\"Full GEO information data Size:\\n\" + str(off_p_cols_size) + \"(columns) * \" + str(off_p_all_size) + \"(rows)\")"
   ]
  },
  {
   "cell_type": "code",
   "execution_count": 9,
   "metadata": {},
   "outputs": [
    {
     "data": {
      "text/html": [
       "<div>\n",
       "<style scoped>\n",
       "    .dataframe tbody tr th:only-of-type {\n",
       "        vertical-align: middle;\n",
       "    }\n",
       "\n",
       "    .dataframe tbody tr th {\n",
       "        vertical-align: top;\n",
       "    }\n",
       "\n",
       "    .dataframe thead th {\n",
       "        text-align: right;\n",
       "    }\n",
       "</style>\n",
       "<table border=\"1\" class=\"dataframe\">\n",
       "  <thead>\n",
       "    <tr style=\"text-align: right;\">\n",
       "      <th></th>\n",
       "      <th>Unnamed: 0</th>\n",
       "      <th>input</th>\n",
       "      <th>country_code</th>\n",
       "    </tr>\n",
       "  </thead>\n",
       "  <tbody>\n",
       "    <tr>\n",
       "      <th>0</th>\n",
       "      <td>0</td>\n",
       "      <td>france</td>\n",
       "      <td>fr</td>\n",
       "    </tr>\n",
       "    <tr>\n",
       "      <th>1</th>\n",
       "      <td>1</td>\n",
       "      <td>united kingdom</td>\n",
       "      <td>uk</td>\n",
       "    </tr>\n",
       "    <tr>\n",
       "      <th>2</th>\n",
       "      <td>2</td>\n",
       "      <td>canada</td>\n",
       "      <td>ca</td>\n",
       "    </tr>\n",
       "    <tr>\n",
       "      <th>3</th>\n",
       "      <td>3</td>\n",
       "      <td>germany</td>\n",
       "      <td>gm</td>\n",
       "    </tr>\n",
       "    <tr>\n",
       "      <th>4</th>\n",
       "      <td>4</td>\n",
       "      <td>vietnam</td>\n",
       "      <td>vm</td>\n",
       "    </tr>\n",
       "  </tbody>\n",
       "</table>\n",
       "</div>"
      ],
      "text/plain": [
       "   Unnamed: 0           input country_code\n",
       "0           0          france           fr\n",
       "1           1  united kingdom           uk\n",
       "2           2          canada           ca\n",
       "3           3         germany           gm\n",
       "4           4         vietnam           vm"
      ]
     },
     "execution_count": 9,
     "metadata": {},
     "output_type": "execute_result"
    }
   ],
   "source": [
    "# Clean countries\n",
    "cleaned_countries= pd.read_csv(DATA_FOLDER+ \"/mapping_countries.csv\",sep=',', error_bad_lines=False, encoding = \"utf-8\")\n",
    "cleaned_countries['country_code'] = cleaned_countries['country_code'].str.lower()\n",
    "cleaned_countries.head()"
   ]
  },
  {
   "cell_type": "code",
   "execution_count": 10,
   "metadata": {},
   "outputs": [],
   "source": [
    "seen = 0"
   ]
  },
  {
   "cell_type": "code",
   "execution_count": 25,
   "metadata": {},
   "outputs": [
    {
     "name": "stdout",
     "output_type": "stream",
     "text": [
      "7000\n",
      "7100\n",
      "Seen: 7150\n"
     ]
    }
   ],
   "source": [
    "interval = 501\n",
    "if seen:\n",
    "    off_p_df = spark.read.csv(temp_file, header=True)\n",
    "\n",
    "# Clean origins countries\n",
    "for index, row in cleaned_countries.head(seen + interval).iterrows():\n",
    "        if index < seen:\n",
    "            continue\n",
    "        if index%100 == 0:\n",
    "            print(index)\n",
    "        off_p_df = off_p_df.withColumn('origins', F.regexp_replace('countries', \"^\" + str(row['input']) + \"$\", row['country_code']))\n",
    "        off_p_df = off_p_df.withColumn('manufacturing_places', F.regexp_replace('manufacturing_places', \"^\" + str(row['input']) + \"$\", row['country_code']))\n",
    "        off_p_df = off_p_df.withColumn('countries', F.regexp_replace('countries', \"^\" + str(row['input']) + \"$\", row['country_code']))\n",
    "        seen = index\n",
    "\n",
    "# Save Spark dataframe in the Parquet format\n",
    "off_p_df.toPandas().to_csv(temp_file, index=False)\n",
    "\n",
    "print(\"Seen: {0}\".format(seen))"
   ]
  },
  {
   "cell_type": "code",
   "execution_count": 124,
   "metadata": {},
   "outputs": [
    {
     "name": "stdout",
     "output_type": "stream",
     "text": [
      "+-------------+--------------------+--------------------+-------------------------+--------------+---------+--------------------+---------+-----+\n",
      "|         code|        product_name|        origins_tags|manufacturing_places_tags|countries_tags|countries|manufacturing_places|  origins|is_eu|\n",
      "+-------------+--------------------+--------------------+-------------------------+--------------+---------+--------------------+---------+-----+\n",
      "|0000000274722|Blanquette de Vol...|              france|                   france|        france|       ct|                  ct|       ct|    0|\n",
      "|0000000290616|        Salade Cesar|              quebec|                   canada|        canada|       aq|                  aq|       aq|    0|\n",
      "|0000000394710|Danoises à la can...|              quebec|                   canada|        canada|       aq|                  aq|       aq|    0|\n",
      "|0000001071894|               Flute|              france|           united kingdom|united kingdom|       up|                  up|       up|    0|\n",
      "|0000001938067|Chaussons tressés...|              quebec|                   canada|        canada|       aq|                  aq|       aq|    0|\n",
      "|0000004302544| Pain Burger Artisan|              quebec|                   canada|        canada|       aq|                  aq|       aq|    0|\n",
      "|0000004302544| Pain Burger Artisan|              quebec|                   canada|        canada|       aq|                  aq|       aq|    0|\n",
      "|0000008237798|     Quiche Lorraine|              quebec|                   canada|        canada|       aq|                  aq|       aq|    0|\n",
      "|0000008237798|     Quiche Lorraine|              quebec|                   canada|        canada|       aq|                  aq|       aq|    0|\n",
      "|0000008240095|      Pâté au poulet|              quebec|                   canada|        canada|       aq|                  aq|       aq|    0|\n",
      "|0000012167005|Brioches roulées ...|              quebec|                   canada|        canada|       aq|                  aq|       aq|    0|\n",
      "|0000012167005|Brioches roulées ...|              quebec|                   canada|        canada|       aq|                  aq|       aq|    0|\n",
      "|0000012167005|Brioches roulées ...|              canada|                   canada|        canada|       aq|                  aq|       aq|    0|\n",
      "|0000012167005|Brioches roulées ...|              canada|                   canada|        canada|       aq|                  aq|       aq|    0|\n",
      "|0000020004552|Côtes du Rhône Vi...|              france|                   france|        france|       ct|                  ct|       ct|    0|\n",
      "|0000034152010|      Reese's sticks|              france|                   france|        france|       ct|                  ct|       ct|    0|\n",
      "|0000204286484|Mehrkomponeneten ...|             germany|                  germany|       germany|       gm|                  gm|       gm|    0|\n",
      "|0000204286644|Mehrkomponeneten ...|             germany|                  germany|       germany|       gm|                  gm|       gm|    0|\n",
      "|0000250632969|Mehrkomponeneten ...|             germany|                  germany|       germany|       gm|                  gm|       gm|    0|\n",
      "|     00003100|    Chair à saucisse|              france|                   france|        france|       ct|                  ct|       ct|    0|\n",
      "|0000470322800|Whey Protein aus ...|             germany|                  germany|       germany|       gm|                  gm|       gm|    0|\n",
      "|0000501050603|Whey Protein aus ...|             germany|                  germany|       germany|       gm|                  gm|       gm|    0|\n",
      "|0000526938306|Whey Protein aus ...|             germany|                  germany|       germany|       gm|                  gm|       gm|    0|\n",
      "|  00011051096|bloc de foie gras...|              france|                   france|        france|       ct|                  ct|       ct|    0|\n",
      "|  00011051096|bloc de foie gras...|              france|                fr:sarlat|     fr:sarlat|fr:sarlat|           fr:sarlat|fr:sarlat|    0|\n",
      "|0002042861915|Mehrkomponeneten ...|             germany|                  germany|       germany|       gm|                  gm|       gm|    0|\n",
      "|       000224|madeleine Bijou C...|              france|                   france|        france|       ct|                  ct|       ct|    0|\n",
      "|     00025751|     Honey roast ham|         royaume uni|                   france|        france|       ct|                  ct|       ct|    0|\n",
      "|     00025751|     Honey roast ham|         royaume uni|           united kingdom|united kingdom|       up|                  up|       up|    0|\n",
      "|     00028202|Cornish Cruncher ...|         royaume uni|                   france|        france|       ct|                  ct|       ct|    0|\n",
      "|     00028202|Cornish Cruncher ...|         royaume uni|           united kingdom|united kingdom|       up|                  up|       up|    0|\n",
      "|0002983542515|100% Soja Protein...|             germany|                  germany|       germany|       gm|                  gm|       gm|    0|\n",
      "|     00033046|British Beef Brai...|      united kingdom|           united kingdom|united kingdom|       up|                  up|       up|    0|\n",
      "|     00035460|6 Breaded Jumbo T...|             vietnam|                   france|        france|       ct|                  ct|       ct|    0|\n",
      "|     00035460|6 Breaded Jumbo T...|             vietnam|           united kingdom|united kingdom|       up|                  up|       up|    0|\n",
      "|        00039|          Yerba Mate|           argentine|                   france|        france|       ct|                  ct|       ct|    0|\n",
      "|     00050319|        Blanche Drao|              france|                   france|        france|       ct|                  ct|       ct|    0|\n",
      "|     00073455|grilled Cajun chi...|              europe|                   france|        france|       ct|                  ct|       ct|    0|\n",
      "|     00073455|grilled Cajun chi...|              europe|           united kingdom|united kingdom|       up|                  up|       up|    0|\n",
      "|     00073455|grilled Cajun chi...|         royaume uni|                   france|        france|       ct|                  ct|       ct|    0|\n",
      "|     00073455|grilled Cajun chi...|         royaume uni|           united kingdom|united kingdom|       up|                  up|       up|    0|\n",
      "|     00073899|Cornish Cove Cheddar|         royaume uni|                   france|        france|       ct|                  ct|       ct|    0|\n",
      "|     00078115|Mild Cheddar with...|         royaume uni|                   france|        france|       ct|                  ct|       ct|    0|\n",
      "|     00078115|Mild Cheddar with...|         royaume uni|           united kingdom|united kingdom|       up|                  up|       up|    0|\n",
      "|     00078115|Mild Cheddar with...|         royaume uni|                   france|        france|       ct|                  ct|       ct|    0|\n",
      "|     00078115|Mild Cheddar with...|         royaume uni|           united kingdom|united kingdom|       up|                  up|       up|    0|\n",
      "|     00080897|Poulet Korma & Ri...|         royaume uni|                   france|        france|       ct|                  ct|       ct|    0|\n",
      "|     00080897|Poulet Korma & Ri...|         royaume uni|           united kingdom|united kingdom|       up|                  up|       up|    0|\n",
      "|     00080897|Poulet Korma & Ri...|    hors royaume uni|                   france|        france|       ct|                  ct|       ct|    0|\n",
      "|     00080897|Poulet Korma & Ri...|    hors royaume uni|           united kingdom|united kingdom|       up|                  up|       up|    0|\n",
      "|     00088886|British Self Rais...|         royaume uni|                   france|        france|       ct|                  ct|       ct|    0|\n",
      "|     00088886|British Self Rais...|         royaume uni|           united kingdom|united kingdom|       up|                  up|       up|    0|\n",
      "|     00089227|Tomato & Sausage ...|              italie|                   france|        france|       ct|                  ct|       ct|    0|\n",
      "|     00090100|Pulled Pork & Cho...|             espagne|                   france|        france|       ct|                  ct|       ct|    0|\n",
      "|     00090100|Pulled Pork & Cho...|             espagne|           united kingdom|united kingdom|       up|                  up|       up|    0|\n",
      "|     00090100|Pulled Pork & Cho...|         royaume uni|                   france|        france|       ct|                  ct|       ct|    0|\n",
      "|     00090100|Pulled Pork & Cho...|         royaume uni|           united kingdom|united kingdom|       up|                  up|       up|    0|\n",
      "|0009138378043|      Rainbow Cherry|       united states|            united states| united states|       as|                  as|       as|    0|\n",
      "|     00096225|Made Without Whea...|         royaume uni|                   france|        france|       ct|                  ct|       ct|    0|\n",
      "|     00096225|Made Without Whea...|         royaume uni|           united kingdom|united kingdom|       up|                  up|       up|    0|\n",
      "|     00099332|Wrap Poulet à la ...|     grande bretagne|                   france|        france|       ct|                  ct|       ct|    0|\n",
      "|     00099332|Wrap Poulet à la ...|     grande bretagne|           united kingdom|united kingdom|       up|                  up|       up|    0|\n",
      "|     00101639|Dark Chocolate Si...|          madagascar|                   france|        france|       ct|                  ct|       ct|    0|\n",
      "|     00101639|Dark Chocolate Si...|          madagascar|           united kingdom|united kingdom|       up|                  up|       up|    0|\n",
      "|0011110002013|   honey wheat bread|       united states|            united states| united states|       as|                  as|       as|    0|\n",
      "|0011110816337|        Tomato Paste|       united states|            united states| united states|       as|                  as|       as|    0|\n",
      "|0011110844965|italian style tom...|       united states|            united states| united states|       as|                  as|       as|    0|\n",
      "|0011110894953|No Stir Creamy Pe...|              canada|            united states| united states|       as|                  as|       as|    0|\n",
      "|0011152206929|Japanese Ramen No...|               japon|                   france|        france|       ct|                  ct|       ct|    0|\n",
      "|0011182003987|Johnsonville Salc...|      estados unidos|                   mexico|        mexico|       mx|                  mx|       mx|    0|\n",
      "|0011182003987|Johnsonville Salc...|      estados unidos|                   mexico|        mexico|       mx|                  mx|       mx|    0|\n",
      "|0011194156770| Dark Sweet Cherries|          california|                   mexico|        mexico|       mx|                  mx|       mx|    0|\n",
      "|0011194156770| Dark Sweet Cherries|          california|            united states| united states|       as|                  as|       as|    0|\n",
      "| 001120790927|     Coop fusilli 64|              estero|                    italy|         italy|       it|                  it|       it|    0|\n",
      "|     00113380|Canadian Dressed ...|atlantique nord o...|                  belgium|       belgium|       be|                  be|       be|    0|\n",
      "|     00113380|Canadian Dressed ...|atlantique nord o...|                   france|        france|       ct|                  ct|       ct|    0|\n",
      "|     00113380|Canadian Dressed ...|atlantique nord o...|              netherlands|   netherlands|       nl|                  nl|       nl|    0|\n",
      "|     00113380|Canadian Dressed ...|atlantique nord o...|           united kingdom|united kingdom|       up|                  up|       up|    0|\n",
      "|     00113380|Canadian Dressed ...|              canada|                  belgium|       belgium|       be|                  be|       be|    0|\n",
      "|     00113380|Canadian Dressed ...|              canada|                   france|        france|       ct|                  ct|       ct|    0|\n",
      "+-------------+--------------------+--------------------+-------------------------+--------------+---------+--------------------+---------+-----+\n",
      "only showing top 80 rows\n",
      "\n"
     ]
    }
   ],
   "source": [
    "off_p_df.show(80)"
   ]
  },
  {
   "cell_type": "code",
   "execution_count": 27,
   "metadata": {},
   "outputs": [
    {
     "name": "stdout",
     "output_type": "stream",
     "text": [
      "Full GEO information data Size:\n",
      "9(columns) * 64069(rows)\n"
     ]
    }
   ],
   "source": [
    "off_p_all_size = off_p_df.count()\n",
    "off_p_cols_size = len(off_p_df.columns)\n",
    "print(\"Full GEO information data Size:\\n\" + str(off_p_cols_size) + \"(columns) * \" + str(off_p_all_size) + \"(rows)\")"
   ]
  },
  {
   "cell_type": "code",
   "execution_count": 133,
   "metadata": {},
   "outputs": [
    {
     "data": {
      "text/plain": [
       "0    BE\n",
       "1    BG\n",
       "2    CZ\n",
       "3    DK\n",
       "4    DE\n",
       "Name: Code, dtype: object"
      ]
     },
     "execution_count": 133,
     "metadata": {},
     "output_type": "execute_result"
    }
   ],
   "source": [
    "# Detect european countries\n",
    "eu_countries= pd.read_csv(DATA_FOLDER+ \"/EU-countries.csv\",sep=',', error_bad_lines=False, encoding = \"utf-8\")\n",
    "eu_countries= eu_countries.Code\n",
    "eu_countries.head()"
   ]
  },
  {
   "cell_type": "code",
   "execution_count": 134,
   "metadata": {},
   "outputs": [],
   "source": [
    "#filter for identifying products from european countries\n",
    "filter_eu = eu_countries.to_string(index=False).replace(\"\\n\",\"|\").lower()\n",
    "#filter for <our> cleaning codification\n",
    "filter_EU ='be|bu|ez|da|gm|en|ei|gb|sp|ct|hr|it|cy|lg|lh|lu|co|hu|mt|nl|au|pl|pt|po|co|si|lo|fi|sw|up|gr'"
   ]
  },
  {
   "cell_type": "code",
   "execution_count": 279,
   "metadata": {},
   "outputs": [
    {
     "name": "stdout",
     "output_type": "stream",
     "text": [
      "eu_sold data Size:\n",
      " 57718\n"
     ]
    }
   ],
   "source": [
    "# store products that are sold in european union (france as ct)\n",
    "eu_sold_data = off_p_df.filter(off_p_df[\"countries\"].rlike(filter_EU))\n",
    "print(\"eu_sold data Size:\\n {0}\".format(eu_sold_data.count()))"
   ]
  },
  {
   "cell_type": "code",
   "execution_count": 188,
   "metadata": {},
   "outputs": [
    {
     "name": "stdout",
     "output_type": "stream",
     "text": [
      "swiss_sold data Size:\n",
      " 1913\n"
     ]
    }
   ],
   "source": [
    "# store products that are sold in Switzerland- using FIPS country code\n",
    "swiss_sold_data = off_p_df[off_p_df[\"countries\"] == \"sz\"]\n",
    "\n",
    "print(\"swiss_sold data Size:\\n {0}\".format(swiss_sold_data.count()))"
   ]
  },
  {
   "cell_type": "code",
   "execution_count": 106,
   "metadata": {},
   "outputs": [],
   "source": [
    "eu_sold_data_df = eu_sold_data.toPandas()\n",
    "swiss_sold_data_df = swiss_sold_data.toPandas()"
   ]
  },
  {
   "cell_type": "markdown",
   "metadata": {},
   "source": [
    "Now that the two datasets of products sold in the European Union, and products sold in Switzerland are created, the analysis for each one is done. The study is going to focus in the behavior of the \"manufacturing place\" of those products."
   ]
  },
  {
   "cell_type": "markdown",
   "metadata": {},
   "source": [
    "## Principal categories of products"
   ]
  },
  {
   "cell_type": "code",
   "execution_count": 364,
   "metadata": {},
   "outputs": [
    {
     "name": "stdout",
     "output_type": "stream",
     "text": [
      "+-------------+--------------------+\n",
      "|         code|          categories|\n",
      "+-------------+--------------------+\n",
      "|0000000000017|    Vitória crackers|\n",
      "|0000000000031|               Cacao|\n",
      "|0000000000123|Sauce Sweety chil...|\n",
      "|0000000000291|           Mendiants|\n",
      "|0000000000949|Salade de carotte...|\n",
      "|0000000000970|Fromage blanc aux...|\n",
      "|0000000001001|                null|\n",
      "|0000000001007|            Vainilla|\n",
      "|0000000001137|   Baguette parisien|\n",
      "|0000000001151|&quot;Baguette Ly...|\n",
      "+-------------+--------------------+\n",
      "only showing top 10 rows\n",
      "\n"
     ]
    }
   ],
   "source": [
    "extra_info_df = ' categories '\n",
    "categories_df = spark.sql(\"SELECT\" + p_id_col + extra_info_df + \" FROM data_main\")\n",
    "categories_df.show(10)"
   ]
  },
  {
   "cell_type": "markdown",
   "metadata": {},
   "source": [
    "In order to have information about the categories, the dataset of open-food is open"
   ]
  },
  {
   "cell_type": "code",
   "execution_count": 329,
   "metadata": {},
   "outputs": [
    {
     "name": "stderr",
     "output_type": "stream",
     "text": [
      "/Library/Frameworks/Python.framework/Versions/3.6/lib/python3.6/site-packages/IPython/core/interactiveshell.py:3020: DtypeWarning: Columns (0,3,5,24,25,26,28,36,41,49) have mixed types. Specify dtype option on import or set low_memory=False.\n",
      "  interactivity=interactivity, compiler=compiler, result=result)\n"
     ]
    }
   ],
   "source": [
    "openfood = pd.read_csv(DATA_FOLDER + openfood_file, sep = '\\t')"
   ]
  },
  {
   "cell_type": "markdown",
   "metadata": {},
   "source": [
    "### European Union Countries"
   ]
  },
  {
   "cell_type": "markdown",
   "metadata": {},
   "source": [
    "#### Belgique"
   ]
  },
  {
   "cell_type": "code",
   "execution_count": 365,
   "metadata": {},
   "outputs": [
    {
     "name": "stdout",
     "output_type": "stream",
     "text": [
      "+-------------+--------------------+--------------------+-------------------------+--------------+---------+--------------------+-------+-----+-------------+--------------------+\n",
      "|         code|        product_name|        origins_tags|manufacturing_places_tags|countries_tags|countries|manufacturing_places|origins|is_eu|         code|          categories|\n",
      "+-------------+--------------------+--------------------+-------------------------+--------------+---------+--------------------+-------+-----+-------------+--------------------+\n",
      "|     00113380|Canadian Dressed ...|              canada|                  belgium|       belgium|       be|                  be|     be|    0|     00113380|Canadian Dressed ...|\n",
      "|     00113380|Canadian Dressed ...|atlantique nord o...|                  belgium|       belgium|       be|                  be|     be|    0|     00113380|Canadian Dressed ...|\n",
      "|     00378611|Sicilian-Style Sa...|              ecosse|                  belgium|       belgium|       be|                  be|     be|    0|     00378611|Sicilian-Style Sa...|\n",
      "|     00378611|Sicilian-Style Sa...|         royaume uni|                  belgium|       belgium|       be|                  be|     be|    0|     00378611|Sicilian-Style Sa...|\n",
      "|     00416986|Chargrilled chick...|    union europeenne|                  belgium|       belgium|       be|                  be|     be|    0|     00416986|Chargrilled chick...|\n",
      "|     00416986|Chargrilled chick...|         royaume uni|                  belgium|       belgium|       be|                  be|     be|    0|     00416986|Chargrilled chick...|\n",
      "|     00437622|Arbroath Lochmuir...|              ecosse|                  belgium|       belgium|       be|                  be|     be|    0|     00437622|Arbroath Lochmuir...|\n",
      "|     00437622|Arbroath Lochmuir...|              ecosse|                  belgium|       belgium|       be|                  be|     be|    0|     00437622|Arbroath Lochmuir...|\n",
      "|     00437622|Arbroath Lochmuir...|         royaume uni|                  belgium|       belgium|       be|                  be|     be|    0|     00437622|Arbroath Lochmuir...|\n",
      "|     00437622|Arbroath Lochmuir...|         royaume uni|                  belgium|       belgium|       be|                  be|     be|    0|     00437622|Arbroath Lochmuir...|\n",
      "|     00509077|Breaded Applewood...|         royaume uni|                  belgium|       belgium|       be|                  be|     be|    0|     00509077|Breaded Applewood...|\n",
      "|     00702317|Smokey Cajun chic...|         royaume uni|                  belgium|       belgium|       be|                  be|     be|    0|     00702317|Smokey Cajun chic...|\n",
      "|     00724289|            Brownies|            belgique|                  belgium|       belgium|       be|                  be|     be|    0|     00724289|            Brownies|\n",
      "|     00735346|Empress grey teabags|               chine|                  belgium|       belgium|       be|                  be|     be|    0|     00735346|Empress grey teabags|\n",
      "|0073755603888|  Lait de coco Ayam™|           indonesie|                  belgium|       belgium|       be|                  be|     be|    0|0073755603888|  Lait de coco Ayam™|\n",
      "|0073755603888|  Lait de coco Ayam™|            malaisie|                  belgium|       belgium|       be|                  be|     be|    0|0073755603888|  Lait de coco Ayam™|\n",
      "|     00749145|Ham & Mushroom Ta...|         royaume uni|                  belgium|       belgium|       be|                  be|     be|    0|     00749145|Ham & Mushroom Ta...|\n",
      "|     00885584|Prawn & Mangetout...|             vietnam|                  belgium|       belgium|       be|                  be|     be|    0|     00885584|Prawn & Mangetout...|\n",
      "|     00895736|      Pea & Ham Soup|         royaume uni|                  belgium|       belgium|       be|                  be|     be|    0|     00895736|      Pea & Ham Soup|\n",
      "|0123120867183|Marmeladas Cactus...|            canarias|                  belgium|       belgium|       be|                  be|     be|    0|0123120867183|Marmeladas Cactus...|\n",
      "+-------------+--------------------+--------------------+-------------------------+--------------+---------+--------------------+-------+-----+-------------+--------------------+\n",
      "only showing top 20 rows\n",
      "\n"
     ]
    }
   ],
   "source": [
    "inner_join = be_sold_data.join(categories_df, be_sold_data.code == categories_df.code)\n",
    "inner_join.show()"
   ]
  },
  {
   "cell_type": "code",
   "execution_count": 366,
   "metadata": {},
   "outputs": [
    {
     "data": {
      "text/plain": [
       "974"
      ]
     },
     "execution_count": 366,
     "metadata": {},
     "output_type": "execute_result"
    }
   ],
   "source": [
    "inner_join.count()"
   ]
  },
  {
   "cell_type": "code",
   "execution_count": 367,
   "metadata": {},
   "outputs": [
    {
     "name": "stdout",
     "output_type": "stream",
     "text": [
      "Number of Products sold in Belgic with categories:\n",
      "970\n"
     ]
    }
   ],
   "source": [
    "inner_join.createOrReplaceTempView(\"inner_join\")\n",
    "sql_filter = \"SELECT * FROM inner_join WHERE categories is not NULL\"\n",
    "target_products_categories_p = spark.sql(sql_filter)\n",
    "\n",
    "print(\"Number of Products sold in Belgic with categories:\\n\" + str(target_products_categories_p.count()))"
   ]
  },
  {
   "cell_type": "code",
   "execution_count": 368,
   "metadata": {},
   "outputs": [
    {
     "name": "stdout",
     "output_type": "stream",
     "text": [
      "+--------+--------------------+--------------------+-------------------------+--------------+---------+--------------------+-------+-----+--------+--------------------+\n",
      "|    code|        product_name|        origins_tags|manufacturing_places_tags|countries_tags|countries|manufacturing_places|origins|is_eu|    code|          categories|\n",
      "+--------+--------------------+--------------------+-------------------------+--------------+---------+--------------------+-------+-----+--------+--------------------+\n",
      "|00113380|Canadian Dressed ...|              canada|                  belgium|       belgium|       be|                  be|     be|    0|00113380|Canadian Dressed ...|\n",
      "|00113380|Canadian Dressed ...|atlantique nord o...|                  belgium|       belgium|       be|                  be|     be|    0|00113380|Canadian Dressed ...|\n",
      "|00378611|Sicilian-Style Sa...|              ecosse|                  belgium|       belgium|       be|                  be|     be|    0|00378611|Sicilian-Style Sa...|\n",
      "|00378611|Sicilian-Style Sa...|         royaume uni|                  belgium|       belgium|       be|                  be|     be|    0|00378611|Sicilian-Style Sa...|\n",
      "|00416986|Chargrilled chick...|    union europeenne|                  belgium|       belgium|       be|                  be|     be|    0|00416986|Chargrilled chick...|\n",
      "+--------+--------------------+--------------------+-------------------------+--------------+---------+--------------------+-------+-----+--------+--------------------+\n",
      "only showing top 5 rows\n",
      "\n"
     ]
    }
   ],
   "source": [
    "target_products_categories_p.show(5)"
   ]
  },
  {
   "cell_type": "code",
   "execution_count": 369,
   "metadata": {},
   "outputs": [
    {
     "name": "stdout",
     "output_type": "stream",
     "text": [
      "+--------+--------------------+--------------------+-------------------------+--------------+---------+--------------------+-------+-----+--------+--------------------+\n",
      "|    code|        product_name|        origins_tags|manufacturing_places_tags|countries_tags|countries|manufacturing_places|origins|is_eu|    code|          categories|\n",
      "+--------+--------------------+--------------------+-------------------------+--------------+---------+--------------------+-------+-----+--------+--------------------+\n",
      "|00113380|Canadian Dressed ...|              canada|                  belgium|       belgium|       be|                  be|     be|    0|00113380|Canadian Dressed ...|\n",
      "|00113380|Canadian Dressed ...|atlantique nord o...|                  belgium|       belgium|       be|                  be|     be|    0|00113380|Canadian Dressed ...|\n",
      "|00378611|Sicilian-Style Sa...|              ecosse|                  belgium|       belgium|       be|                  be|     be|    0|00378611|Sicilian-Style Sa...|\n",
      "|00378611|Sicilian-Style Sa...|         royaume uni|                  belgium|       belgium|       be|                  be|     be|    0|00378611|Sicilian-Style Sa...|\n",
      "|00416986|Chargrilled chick...|    union europeenne|                  belgium|       belgium|       be|                  be|     be|    0|00416986|Chargrilled chick...|\n",
      "+--------+--------------------+--------------------+-------------------------+--------------+---------+--------------------+-------+-----+--------+--------------------+\n",
      "only showing top 5 rows\n",
      "\n"
     ]
    }
   ],
   "source": [
    "# Flatten categories column\n",
    "target_products_categories_p = target_products_categories_p.withColumn('categories', F.explode_outer(F.split('categories', ',')))\n",
    "\n",
    "# Remove occurances of en: in name of categories\n",
    "target_products_categories_p = target_products_categories_p.withColumn('categories', F.regexp_replace('categories', 'en:', ''))\n",
    "\n",
    "target_products_categories_p.show(5)"
   ]
  },
  {
   "cell_type": "code",
   "execution_count": 420,
   "metadata": {},
   "outputs": [
    {
     "name": "stdout",
     "output_type": "stream",
     "text": [
      "+--------------------+-----+\n",
      "|          categories|Count|\n",
      "+--------------------+-----+\n",
      "|Thon (Albacore) a...|   56|\n",
      "|               Ebly®|   30|\n",
      "|      Boisson avoine|   28|\n",
      "|Terroirs du Comté...|   24|\n",
      "|        Le Bon Paris|   24|\n",
      "|Mille-feuilles de...|   22|\n",
      "|      Eau Cristaline|   22|\n",
      "|Caprice des Dieux...|   14|\n",
      "|   Galets de Quimper|   12|\n",
      "|           P'tit dej|   12|\n",
      "|         Cordon bleu|   12|\n",
      "|J'aime le lait d'ici|   10|\n",
      "|Lait Bio Demi-Écrémé|   10|\n",
      "|Tartines craquant...|   10|\n",
      "|       Bordeaux 2013|    9|\n",
      "|Jus de pamplemous...|    8|\n",
      "|         Tendre Noix|    8|\n",
      "| à la Broche (4 T...|    8|\n",
      "|     Jambon de Paris|    8|\n",
      "| À l'Étouffée (6 ...|    8|\n",
      "+--------------------+-----+\n",
      "only showing top 20 rows\n",
      "\n",
      "Number of Categories:\n",
      "385\n"
     ]
    }
   ],
   "source": [
    "# Find dominant categories\n",
    "target_products_categories_p.createOrReplaceTempView(\"target_products_categories_p\")\n",
    "target_categories = spark.sql(\"SELECT categories, COUNT(categories) FROM target_products_categories_p GROUP BY categories ORDER BY COUNT(categories) DESC\")\n",
    "target_categories = target_categories.withColumnRenamed('count(categories)' , 'Count')\n",
    "target_categories.show()\n",
    "\n",
    "print(\"Number of Categories:\\n\" + str(target_categories.count()))"
   ]
  },
  {
   "cell_type": "markdown",
   "metadata": {},
   "source": [
    "Filter for reducing number of categories, for a 20-categories one"
   ]
  },
  {
   "cell_type": "code",
   "execution_count": 421,
   "metadata": {},
   "outputs": [],
   "source": [
    "cleaned_categories = spark.read.csv(\"cleaning_data/categories_db.csv\", header=True, mode=\"DROPMALFORMED\", sep = ',')"
   ]
  },
  {
   "cell_type": "code",
   "execution_count": 422,
   "metadata": {},
   "outputs": [],
   "source": [
    "# Flatten categories column\n",
    "cleaned_categories_p = cleaned_categories.withColumn('categories', F.explode_outer(F.split('categories', ',')))"
   ]
  },
  {
   "cell_type": "code",
   "execution_count": 423,
   "metadata": {
    "scrolled": true
   },
   "outputs": [
    {
     "name": "stdout",
     "output_type": "stream",
     "text": [
      "+---+--------------------+-----+--------------------+\n",
      "|_c0|       category_main|Count|          categories|\n",
      "+---+--------------------+-----+--------------------+\n",
      "|  0|Dried fruits and ...|    3|Cranberries sucré...|\n",
      "|  0|Dried fruits and ...|    3|       Figues sèches|\n",
      "|  0|Dried fruits and ...|    3|      Figues séchées|\n",
      "|  1|              Fruits|    6|    salade de fruits|\n",
      "|  1|              Fruits|    6|        Fruits frais|\n",
      "+---+--------------------+-----+--------------------+\n",
      "only showing top 5 rows\n",
      "\n"
     ]
    }
   ],
   "source": [
    "cleaned_categories_p.show(5)"
   ]
  },
  {
   "cell_type": "code",
   "execution_count": 424,
   "metadata": {},
   "outputs": [],
   "source": [
    "cleaned_categories = cleaned_categories_p.toPandas()"
   ]
  },
  {
   "cell_type": "markdown",
   "metadata": {},
   "source": [
    "Now map categories of dataset to category_main"
   ]
  },
  {
   "cell_type": "code",
   "execution_count": 425,
   "metadata": {},
   "outputs": [],
   "source": [
    "seen = 0"
   ]
  },
  {
   "cell_type": "code",
   "execution_count": 427,
   "metadata": {},
   "outputs": [
    {
     "name": "stdout",
     "output_type": "stream",
     "text": [
      "500\n",
      "600\n",
      "Seen: 603\n"
     ]
    }
   ],
   "source": [
    "interval = 501\n",
    "if seen:\n",
    "    off_p_df = spark.read.csv(temp_file, header=True)\n",
    "\n",
    "# Clean origins countries\n",
    "for index, row in cleaned_categories.head(seen + interval).iterrows():\n",
    "        if index < seen:\n",
    "            continue\n",
    "        if index%100 == 0:\n",
    "            print(index)\n",
    "        target_categories = target_categories.withColumn('category_main', F.regexp_replace('categories', \"^\" + str(row['categories']) + \"$\", row['category_main']))\n",
    "        seen = index\n",
    "\n",
    "# Save Spark dataframe in the Parquet format\n",
    "#off_p_df.toPandas().to_csv(temp_file, index=False)\n",
    "\n",
    "print(\"Seen: {0}\".format(seen))"
   ]
  },
  {
   "cell_type": "code",
   "execution_count": 428,
   "metadata": {},
   "outputs": [
    {
     "name": "stdout",
     "output_type": "stream",
     "text": [
      "+--------------------+-----+--------------------+\n",
      "|          categories|Count|       category_main|\n",
      "+--------------------+-----+--------------------+\n",
      "|Thon (Albacore) a...|   56|Thon (Albacore) a...|\n",
      "|               Ebly®|   30|               Ebly®|\n",
      "|      Boisson avoine|   28|      Boisson avoine|\n",
      "|Terroirs du Comté...|   24|Terroirs du Comté...|\n",
      "|        Le Bon Paris|   24|        Le Bon Paris|\n",
      "+--------------------+-----+--------------------+\n",
      "only showing top 5 rows\n",
      "\n"
     ]
    }
   ],
   "source": [
    "target_categories.show(5)"
   ]
  },
  {
   "cell_type": "code",
   "execution_count": null,
   "metadata": {},
   "outputs": [],
   "source": []
  },
  {
   "cell_type": "code",
   "execution_count": null,
   "metadata": {},
   "outputs": [],
   "source": []
  },
  {
   "cell_type": "code",
   "execution_count": null,
   "metadata": {},
   "outputs": [],
   "source": []
  },
  {
   "cell_type": "code",
   "execution_count": 285,
   "metadata": {},
   "outputs": [],
   "source": [
    "be_sold_data = off_p_df.filter(off_p_df[\"countries\"].rlike('be'))\n",
    "be_sold_data_df = be_sold_data.toPandas()"
   ]
  },
  {
   "cell_type": "code",
   "execution_count": 303,
   "metadata": {},
   "outputs": [],
   "source": [
    "openfood['code'] = pd.to_numeric(openfood['code'], errors='coerce')\n",
    "be_sold_data_df['code'] = pd.to_numeric(be_sold_data_df['code'], errors='coerce')"
   ]
  },
  {
   "cell_type": "code",
   "execution_count": 317,
   "metadata": {},
   "outputs": [],
   "source": [
    "catBE = be_sold_data_df.join(openfood,on='code',how='left',lsuffix='eu',rsuffix='raw')['categories']"
   ]
  },
  {
   "cell_type": "code",
   "execution_count": 349,
   "metadata": {},
   "outputs": [],
   "source": [
    "new_df = off_p_df.join(be_sold_data, on=['code'], how='inner')"
   ]
  },
  {
   "cell_type": "code",
   "execution_count": 350,
   "metadata": {},
   "outputs": [
    {
     "data": {
      "text/plain": [
       "24381"
      ]
     },
     "execution_count": 350,
     "metadata": {},
     "output_type": "execute_result"
    }
   ],
   "source": [
    "new_df.count()"
   ]
  },
  {
   "cell_type": "code",
   "execution_count": 352,
   "metadata": {},
   "outputs": [
    {
     "name": "stdout",
     "output_type": "stream",
     "text": [
      "+--------+--------------------+--------------------+-------------------------+--------------+---------+--------------------+-------+-----+--------------------+--------------------+-------------------------+--------------+---------+--------------------+-------+-----+\n",
      "|    code|        product_name|        origins_tags|manufacturing_places_tags|countries_tags|countries|manufacturing_places|origins|is_eu|        product_name|        origins_tags|manufacturing_places_tags|countries_tags|countries|manufacturing_places|origins|is_eu|\n",
      "+--------+--------------------+--------------------+-------------------------+--------------+---------+--------------------+-------+-----+--------------------+--------------------+-------------------------+--------------+---------+--------------------+-------+-----+\n",
      "|00113380|Canadian Dressed ...|atlantique nord o...|                  belgium|       belgium|       be|                  be|     be|    0|Canadian Dressed ...|              canada|                  belgium|       belgium|       be|                  be|     be|    0|\n",
      "|00113380|Canadian Dressed ...|atlantique nord o...|                  belgium|       belgium|       be|                  be|     be|    0|Canadian Dressed ...|atlantique nord o...|                  belgium|       belgium|       be|                  be|     be|    0|\n",
      "|00113380|Canadian Dressed ...|atlantique nord o...|                   france|        france|       ct|                  ct|     ct|    0|Canadian Dressed ...|              canada|                  belgium|       belgium|       be|                  be|     be|    0|\n",
      "|00113380|Canadian Dressed ...|atlantique nord o...|                   france|        france|       ct|                  ct|     ct|    0|Canadian Dressed ...|atlantique nord o...|                  belgium|       belgium|       be|                  be|     be|    0|\n",
      "|00113380|Canadian Dressed ...|atlantique nord o...|              netherlands|   netherlands|       nl|                  nl|     nl|    0|Canadian Dressed ...|              canada|                  belgium|       belgium|       be|                  be|     be|    0|\n",
      "|00113380|Canadian Dressed ...|atlantique nord o...|              netherlands|   netherlands|       nl|                  nl|     nl|    0|Canadian Dressed ...|atlantique nord o...|                  belgium|       belgium|       be|                  be|     be|    0|\n",
      "|00113380|Canadian Dressed ...|atlantique nord o...|           united kingdom|united kingdom|       up|                  up|     up|    0|Canadian Dressed ...|              canada|                  belgium|       belgium|       be|                  be|     be|    0|\n",
      "|00113380|Canadian Dressed ...|atlantique nord o...|           united kingdom|united kingdom|       up|                  up|     up|    0|Canadian Dressed ...|atlantique nord o...|                  belgium|       belgium|       be|                  be|     be|    0|\n",
      "|00113380|Canadian Dressed ...|              canada|                  belgium|       belgium|       be|                  be|     be|    0|Canadian Dressed ...|              canada|                  belgium|       belgium|       be|                  be|     be|    0|\n",
      "|00113380|Canadian Dressed ...|              canada|                  belgium|       belgium|       be|                  be|     be|    0|Canadian Dressed ...|atlantique nord o...|                  belgium|       belgium|       be|                  be|     be|    0|\n",
      "+--------+--------------------+--------------------+-------------------------+--------------+---------+--------------------+-------+-----+--------------------+--------------------+-------------------------+--------------+---------+--------------------+-------+-----+\n",
      "only showing top 10 rows\n",
      "\n"
     ]
    }
   ],
   "source": [
    "new_df.show(10)"
   ]
  },
  {
   "cell_type": "code",
   "execution_count": null,
   "metadata": {},
   "outputs": [],
   "source": [
    "Filer by category"
   ]
  },
  {
   "cell_type": "code",
   "execution_count": null,
   "metadata": {},
   "outputs": [],
   "source": []
  },
  {
   "cell_type": "code",
   "execution_count": 195,
   "metadata": {},
   "outputs": [
    {
     "name": "stdout",
     "output_type": "stream",
     "text": [
      "+-------------+--------------------+----------+\n",
      "|         code|        product_name|categories|\n",
      "+-------------+--------------------+----------+\n",
      "|0000000000017|    Vitória crackers|      null|\n",
      "|0000000000031|               Cacao|      null|\n",
      "|0000000000123|Sauce Sweety chil...|      null|\n",
      "|0000000000291|           Mendiants|      null|\n",
      "|0000000000949|Salade de carotte...|      null|\n",
      "|0000000000970|Fromage blanc aux...|      null|\n",
      "|0000000001001|                null|      null|\n",
      "|0000000001007|            Vainilla|      null|\n",
      "|0000000001137|   Baguette parisien|      null|\n",
      "|0000000001151|&quot;Baguette Ly...|      null|\n",
      "+-------------+--------------------+----------+\n",
      "only showing top 10 rows\n",
      "\n"
     ]
    }
   ],
   "source": [
    "extra_info_df = ' categories '\n",
    "categories_df = spark.sql(\"SELECT\" + p_id_col + extra_info_df + \" FROM data_main\")\n",
    "categories_df.show(10)"
   ]
  },
  {
   "cell_type": "code",
   "execution_count": 197,
   "metadata": {},
   "outputs": [],
   "source": [
    "eu_sold_data.createOrReplaceTempView(\"target_products_df\")\n",
    "categories_df.createOrReplaceTempView(\"categories_df\")\n",
    "joined_df = spark.sql(\"SELECT p.code, c.categories, p.origins, p.manufacturing_places, p.countries  FROM target_products_df p INNER JOIN categories_df c ON p.code = c.code\")"
   ]
  },
  {
   "cell_type": "code",
   "execution_count": 198,
   "metadata": {},
   "outputs": [
    {
     "name": "stdout",
     "output_type": "stream",
     "text": [
      "+----+----------+-------+--------------------+---------+\n",
      "|code|categories|origins|manufacturing_places|countries|\n",
      "+----+----------+-------+--------------------+---------+\n",
      "|   0|      1096|      0|                   0|        0|\n",
      "+----+----------+-------+--------------------+---------+\n",
      "\n"
     ]
    }
   ],
   "source": [
    "joined_df.select([count(when(isnan(c) | col(c).isNull(), c)).alias(c) for c in joined_df.columns]).show()"
   ]
  },
  {
   "cell_type": "markdown",
   "metadata": {},
   "source": [
    "According to above table, 1096 products do not have any category. "
   ]
  },
  {
   "cell_type": "code",
   "execution_count": 199,
   "metadata": {},
   "outputs": [
    {
     "name": "stdout",
     "output_type": "stream",
     "text": [
      "Number of Products sold in European Union with categories:\n",
      "56648\n"
     ]
    }
   ],
   "source": [
    "joined_df.createOrReplaceTempView(\"target_products_cats\")\n",
    "sql_filter = \"SELECT * FROM target_products_cats WHERE categories is not NULL\"\n",
    "target_products_categories_p = spark.sql(sql_filter)\n",
    "\n",
    "print(\"Number of Products sold in European Union with categories:\\n\" + str(target_products_categories_p.count()))"
   ]
  },
  {
   "cell_type": "code",
   "execution_count": 200,
   "metadata": {},
   "outputs": [
    {
     "name": "stdout",
     "output_type": "stream",
     "text": [
      "+-------------+--------------------+-------+--------------------+---------+\n",
      "|         code|          categories|origins|manufacturing_places|countries|\n",
      "+-------------+--------------------+-------+--------------------+---------+\n",
      "|0000000274722|Plats préparés,Me...|     ct|                  ct|       ct|\n",
      "|0000001071894|Plant-based foods...|     up|                  up|       up|\n",
      "|0000020004552|Boissons,Boissons...|     ct|                  ct|       ct|\n",
      "|0000204286484|       Proteinpulver|     gm|                  gm|       gm|\n",
      "|0000204286644|Dietary supplemen...|     gm|                  gm|       gm|\n",
      "+-------------+--------------------+-------+--------------------+---------+\n",
      "only showing top 5 rows\n",
      "\n"
     ]
    }
   ],
   "source": [
    "target_products_categories_p.show(5)"
   ]
  },
  {
   "cell_type": "code",
   "execution_count": 201,
   "metadata": {},
   "outputs": [
    {
     "name": "stdout",
     "output_type": "stream",
     "text": [
      "+-------------+--------------------+-------+--------------------+---------+\n",
      "|         code|          categories|origins|manufacturing_places|countries|\n",
      "+-------------+--------------------+-------+--------------------+---------+\n",
      "|0000000274722|      Plats préparés|     ct|                  ct|       ct|\n",
      "|0000000274722| Meat-based products|     ct|                  ct|       ct|\n",
      "|0000000274722|Plats à base de v...|     ct|                  ct|       ct|\n",
      "|0000000274722|Plats préparés à ...|     ct|                  ct|       ct|\n",
      "|0000000274722|Plats à base de v...|     ct|                  ct|       ct|\n",
      "+-------------+--------------------+-------+--------------------+---------+\n",
      "only showing top 5 rows\n",
      "\n"
     ]
    }
   ],
   "source": [
    "# Flatten categories column\n",
    "target_products_categories_p = target_products_categories_p.withColumn('categories', F.explode_outer(F.split('categories', ',')))\n",
    "\n",
    "# Remove occurances of en: in name of categories\n",
    "target_products_categories_p = target_products_categories_p.withColumn('categories', F.regexp_replace('categories', 'en:', ''))\n",
    "\n",
    "target_products_categories_p.show(5)"
   ]
  },
  {
   "cell_type": "code",
   "execution_count": 202,
   "metadata": {},
   "outputs": [
    {
     "name": "stdout",
     "output_type": "stream",
     "text": [
      "+--------------------+-----+\n",
      "|          categories|Count|\n",
      "+--------------------+-----+\n",
      "|               Frais| 8569|\n",
      "|   Produits laitiers| 7959|\n",
      "|      Plats préparés| 5538|\n",
      "|Aliments et boiss...| 4899|\n",
      "|             Viandes| 4640|\n",
      "|Aliments d'origin...| 4403|\n",
      "|            Fromages| 4277|\n",
      "|        Charcuteries| 3719|\n",
      "|            Surgelés| 3228|\n",
      "|   Fromages de vache| 3053|\n",
      "|  Fromages de France| 3009|\n",
      "|  Produits de la mer| 2923|\n",
      "|            Boissons| 2913|\n",
      "|Plats préparés à ...| 2508|\n",
      "|           Conserves| 2429|\n",
      "|            Desserts| 2362|\n",
      "|  Produits fermentés| 2259|\n",
      "| Produits à tartiner| 2241|\n",
      "|Fromages pasteurisés| 2024|\n",
      "|       Snacks sucrés| 1995|\n",
      "+--------------------+-----+\n",
      "only showing top 20 rows\n",
      "\n",
      "Number of Categories:\n",
      "9742\n"
     ]
    }
   ],
   "source": [
    "# Find dominant categories\n",
    "target_products_categories_p.createOrReplaceTempView(\"target_products_categories_p\")\n",
    "target_categories = spark.sql(\"SELECT categories, COUNT(categories) FROM target_products_categories_p GROUP BY categories ORDER BY COUNT(categories) DESC\")\n",
    "target_categories = target_categories.withColumnRenamed('count(categories)' , 'Count')\n",
    "target_categories.show()\n",
    "\n",
    "print(\"Number of Categories:\\n\" + str(target_categories.count()))"
   ]
  },
  {
   "cell_type": "markdown",
   "metadata": {},
   "source": [
    "From above is seen that there are more than 9500 categories of aliments. For this reason, an additional categorization is made. Trying to map those 9742 categories to the most general 20 categories."
   ]
  },
  {
   "cell_type": "code",
   "execution_count": 209,
   "metadata": {},
   "outputs": [],
   "source": [
    "raw_categories = target_categories.toPandas()"
   ]
  },
  {
   "cell_type": "code",
   "execution_count": 213,
   "metadata": {},
   "outputs": [
    {
     "data": {
      "text/html": [
       "<div>\n",
       "<style scoped>\n",
       "    .dataframe tbody tr th:only-of-type {\n",
       "        vertical-align: middle;\n",
       "    }\n",
       "\n",
       "    .dataframe tbody tr th {\n",
       "        vertical-align: top;\n",
       "    }\n",
       "\n",
       "    .dataframe thead th {\n",
       "        text-align: right;\n",
       "    }\n",
       "</style>\n",
       "<table border=\"1\" class=\"dataframe\">\n",
       "  <thead>\n",
       "    <tr style=\"text-align: right;\">\n",
       "      <th></th>\n",
       "      <th>categories</th>\n",
       "      <th>Count</th>\n",
       "    </tr>\n",
       "  </thead>\n",
       "  <tbody>\n",
       "    <tr>\n",
       "      <th>0</th>\n",
       "      <td>Frais</td>\n",
       "      <td>8569</td>\n",
       "    </tr>\n",
       "    <tr>\n",
       "      <th>1</th>\n",
       "      <td>Produits laitiers</td>\n",
       "      <td>7959</td>\n",
       "    </tr>\n",
       "    <tr>\n",
       "      <th>2</th>\n",
       "      <td>Plats préparés</td>\n",
       "      <td>5538</td>\n",
       "    </tr>\n",
       "    <tr>\n",
       "      <th>3</th>\n",
       "      <td>Aliments et boissons à base de végétaux</td>\n",
       "      <td>4899</td>\n",
       "    </tr>\n",
       "    <tr>\n",
       "      <th>4</th>\n",
       "      <td>Viandes</td>\n",
       "      <td>4640</td>\n",
       "    </tr>\n",
       "  </tbody>\n",
       "</table>\n",
       "</div>"
      ],
      "text/plain": [
       "                                categories  Count\n",
       "0                                    Frais   8569\n",
       "1                        Produits laitiers   7959\n",
       "2                           Plats préparés   5538\n",
       "3  Aliments et boissons à base de végétaux   4899\n",
       "4                                  Viandes   4640"
      ]
     },
     "execution_count": 213,
     "metadata": {},
     "output_type": "execute_result"
    }
   ],
   "source": [
    "raw_categories.head()"
   ]
  },
  {
   "cell_type": "code",
   "execution_count": 205,
   "metadata": {},
   "outputs": [],
   "source": [
    "cleaned_categories = pd.read_csv(\"cleaning_data/categories_db.csv\")"
   ]
  },
  {
   "cell_type": "code",
   "execution_count": 215,
   "metadata": {},
   "outputs": [],
   "source": [
    "cleaned_categories['count_category'] = np.zeros(len(cleaned_categories))"
   ]
  },
  {
   "cell_type": "code",
   "execution_count": 214,
   "metadata": {},
   "outputs": [
    {
     "data": {
      "text/plain": [
       "'Frais'"
      ]
     },
     "execution_count": 214,
     "metadata": {},
     "output_type": "execute_result"
    }
   ],
   "source": [
    "cleaned_categories['categories'][0]"
   ]
  },
  {
   "cell_type": "code",
   "execution_count": 207,
   "metadata": {},
   "outputs": [
    {
     "data": {
      "text/html": [
       "<div>\n",
       "<style scoped>\n",
       "    .dataframe tbody tr th:only-of-type {\n",
       "        vertical-align: middle;\n",
       "    }\n",
       "\n",
       "    .dataframe tbody tr th {\n",
       "        vertical-align: top;\n",
       "    }\n",
       "\n",
       "    .dataframe thead th {\n",
       "        text-align: right;\n",
       "    }\n",
       "</style>\n",
       "<table border=\"1\" class=\"dataframe\">\n",
       "  <thead>\n",
       "    <tr style=\"text-align: right;\">\n",
       "      <th></th>\n",
       "      <th>Unnamed: 0</th>\n",
       "      <th>category_main</th>\n",
       "      <th>Count</th>\n",
       "      <th>categories</th>\n",
       "    </tr>\n",
       "  </thead>\n",
       "  <tbody>\n",
       "    <tr>\n",
       "      <th>0</th>\n",
       "      <td>0</td>\n",
       "      <td>Dried fruits and nuts</td>\n",
       "      <td>3</td>\n",
       "      <td>Cranberries sucrées et séchées, Figues sèches,...</td>\n",
       "    </tr>\n",
       "    <tr>\n",
       "      <th>1</th>\n",
       "      <td>1</td>\n",
       "      <td>Fruits</td>\n",
       "      <td>6</td>\n",
       "      <td>salade de fruits, Fruits frais, Kirschen, Toma...</td>\n",
       "    </tr>\n",
       "    <tr>\n",
       "      <th>2</th>\n",
       "      <td>2</td>\n",
       "      <td>Vegetables</td>\n",
       "      <td>6</td>\n",
       "      <td>Légumes, Vegetables, Coeurs d'artichauts, Légu...</td>\n",
       "    </tr>\n",
       "    <tr>\n",
       "      <th>3</th>\n",
       "      <td>3</td>\n",
       "      <td>Condiments</td>\n",
       "      <td>7</td>\n",
       "      <td>Condiments, Paprika, Piments, Epices, Assaison...</td>\n",
       "    </tr>\n",
       "    <tr>\n",
       "      <th>4</th>\n",
       "      <td>4</td>\n",
       "      <td>Honeys</td>\n",
       "      <td>10</td>\n",
       "      <td>Produits de la ruche, Miels, Miels liquides, M...</td>\n",
       "    </tr>\n",
       "    <tr>\n",
       "      <th>5</th>\n",
       "      <td>5</td>\n",
       "      <td>Oils</td>\n",
       "      <td>14</td>\n",
       "      <td>Huiles d'olive, Huiles, Olive oils, Vegetable ...</td>\n",
       "    </tr>\n",
       "    <tr>\n",
       "      <th>6</th>\n",
       "      <td>6</td>\n",
       "      <td>Fermented products</td>\n",
       "      <td>19</td>\n",
       "      <td>Produits fermentés</td>\n",
       "    </tr>\n",
       "    <tr>\n",
       "      <th>7</th>\n",
       "      <td>7</td>\n",
       "      <td>Tee and infusions</td>\n",
       "      <td>20</td>\n",
       "      <td>Infusions, Thés, Thés verts étuvés, Thés verts...</td>\n",
       "    </tr>\n",
       "    <tr>\n",
       "      <th>8</th>\n",
       "      <td>8</td>\n",
       "      <td>Baby food</td>\n",
       "      <td>22</td>\n",
       "      <td>Babynahrung, Compotes, Compotes de pomme, Comp...</td>\n",
       "    </tr>\n",
       "    <tr>\n",
       "      <th>9</th>\n",
       "      <td>9</td>\n",
       "      <td>Canned products</td>\n",
       "      <td>24</td>\n",
       "      <td>Conserves, Canned foods, Légumes en conserve, ...</td>\n",
       "    </tr>\n",
       "    <tr>\n",
       "      <th>10</th>\n",
       "      <td>10</td>\n",
       "      <td>Spreads</td>\n",
       "      <td>34</td>\n",
       "      <td>Produits à tartiner, Produits à tartiner sucré...</td>\n",
       "    </tr>\n",
       "    <tr>\n",
       "      <th>11</th>\n",
       "      <td>11</td>\n",
       "      <td>Sauces</td>\n",
       "      <td>37</td>\n",
       "      <td>Sauces, Sauces tomate, Ketchup, Sauces Pesto, ...</td>\n",
       "    </tr>\n",
       "    <tr>\n",
       "      <th>12</th>\n",
       "      <td>12</td>\n",
       "      <td>Frozen products</td>\n",
       "      <td>43</td>\n",
       "      <td>Frais, Surgelés, frozen-foods, Entrées et snac...</td>\n",
       "    </tr>\n",
       "    <tr>\n",
       "      <th>13</th>\n",
       "      <td>13</td>\n",
       "      <td>Alcoholic beverages</td>\n",
       "      <td>49</td>\n",
       "      <td>Boissons alcoolisées, Apéritif, Vins, Whiskys,...</td>\n",
       "    </tr>\n",
       "    <tr>\n",
       "      <th>14</th>\n",
       "      <td>14</td>\n",
       "      <td>Confections</td>\n",
       "      <td>78</td>\n",
       "      <td>Desserts, Snacks sucrés, Viennoiseries, sugary...</td>\n",
       "    </tr>\n",
       "    <tr>\n",
       "      <th>15</th>\n",
       "      <td>15</td>\n",
       "      <td>Ready meals</td>\n",
       "      <td>101</td>\n",
       "      <td>Plats préparés, Plats préparés à réchauffer au...</td>\n",
       "    </tr>\n",
       "    <tr>\n",
       "      <th>16</th>\n",
       "      <td>16</td>\n",
       "      <td>Drinks</td>\n",
       "      <td>134</td>\n",
       "      <td>Boissons, Boissons non sucrées, Eaux minérales...</td>\n",
       "    </tr>\n",
       "    <tr>\n",
       "      <th>17</th>\n",
       "      <td>17</td>\n",
       "      <td>Grains, beans and legumes</td>\n",
       "      <td>135</td>\n",
       "      <td>Céréales et pommes de terre, Petit-déjeuners, ...</td>\n",
       "    </tr>\n",
       "    <tr>\n",
       "      <th>18</th>\n",
       "      <td>18</td>\n",
       "      <td>Meat, fish and egg</td>\n",
       "      <td>163</td>\n",
       "      <td>Produits de la mer, Poissons, Charcuteries, Vi...</td>\n",
       "    </tr>\n",
       "    <tr>\n",
       "      <th>19</th>\n",
       "      <td>19</td>\n",
       "      <td>Plant based products</td>\n",
       "      <td>194</td>\n",
       "      <td>Aliments et boissons à base de végétaux, Alime...</td>\n",
       "    </tr>\n",
       "    <tr>\n",
       "      <th>20</th>\n",
       "      <td>20</td>\n",
       "      <td>Dairy products</td>\n",
       "      <td>337</td>\n",
       "      <td>Produits laitiers, Fromages, Fromages pasteuri...</td>\n",
       "    </tr>\n",
       "  </tbody>\n",
       "</table>\n",
       "</div>"
      ],
      "text/plain": [
       "    Unnamed: 0              category_main  Count  \\\n",
       "0            0      Dried fruits and nuts      3   \n",
       "1            1                     Fruits      6   \n",
       "2            2                 Vegetables      6   \n",
       "3            3                 Condiments      7   \n",
       "4            4                     Honeys     10   \n",
       "5            5                       Oils     14   \n",
       "6            6         Fermented products     19   \n",
       "7            7          Tee and infusions     20   \n",
       "8            8                  Baby food     22   \n",
       "9            9            Canned products     24   \n",
       "10          10                    Spreads     34   \n",
       "11          11                     Sauces     37   \n",
       "12          12            Frozen products     43   \n",
       "13          13        Alcoholic beverages     49   \n",
       "14          14                Confections     78   \n",
       "15          15                Ready meals    101   \n",
       "16          16                     Drinks    134   \n",
       "17          17  Grains, beans and legumes    135   \n",
       "18          18         Meat, fish and egg    163   \n",
       "19          19       Plant based products    194   \n",
       "20          20             Dairy products    337   \n",
       "\n",
       "                                           categories  \n",
       "0   Cranberries sucrées et séchées, Figues sèches,...  \n",
       "1   salade de fruits, Fruits frais, Kirschen, Toma...  \n",
       "2   Légumes, Vegetables, Coeurs d'artichauts, Légu...  \n",
       "3   Condiments, Paprika, Piments, Epices, Assaison...  \n",
       "4   Produits de la ruche, Miels, Miels liquides, M...  \n",
       "5   Huiles d'olive, Huiles, Olive oils, Vegetable ...  \n",
       "6                                  Produits fermentés  \n",
       "7   Infusions, Thés, Thés verts étuvés, Thés verts...  \n",
       "8   Babynahrung, Compotes, Compotes de pomme, Comp...  \n",
       "9   Conserves, Canned foods, Légumes en conserve, ...  \n",
       "10  Produits à tartiner, Produits à tartiner sucré...  \n",
       "11  Sauces, Sauces tomate, Ketchup, Sauces Pesto, ...  \n",
       "12  Frais, Surgelés, frozen-foods, Entrées et snac...  \n",
       "13  Boissons alcoolisées, Apéritif, Vins, Whiskys,...  \n",
       "14  Desserts, Snacks sucrés, Viennoiseries, sugary...  \n",
       "15  Plats préparés, Plats préparés à réchauffer au...  \n",
       "16  Boissons, Boissons non sucrées, Eaux minérales...  \n",
       "17  Céréales et pommes de terre, Petit-déjeuners, ...  \n",
       "18  Produits de la mer, Poissons, Charcuteries, Vi...  \n",
       "19  Aliments et boissons à base de végétaux, Alime...  \n",
       "20  Produits laitiers, Fromages, Fromages pasteuri...  "
      ]
     },
     "execution_count": 207,
     "metadata": {},
     "output_type": "execute_result"
    }
   ],
   "source": [
    "for i in range (0,len(raw_categories):\n",
    "    if (raw_categories['categorires'][])\n",
    "    cleaned_categories['categories'][i] = cleaned_categories['categories'][i]+raw_categories['Count'][i]"
   ]
  },
  {
   "cell_type": "code",
   "execution_count": 208,
   "metadata": {},
   "outputs": [
    {
     "data": {
      "image/png": "[encoded data removed]",
      "text/plain": [
       "<Figure size 432x288 with 1 Axes>"
      ]
     },
     "metadata": {
      "needs_background": "light"
     },
     "output_type": "display_data"
    }
   ],
   "source": [
    "# Extract the 15 most frequent categories and number of occurances.\n",
    "categories = cleaned_categories#target_categories.toPandas() \n",
    "categories = categories.head(15)\n",
    "\n",
    "# Plot the most frequent categories\n",
    "fig, ax = plt.subplots()\n",
    "ax.grid(zorder=-1)\n",
    "plt.barh(categories.category_main, categories.Count, zorder=3, color='skyblue')\n",
    "plt.xlabel('Number of products')   \n",
    "plt.title('Fig. The number of products sold in European Union')\n",
    "ax.invert_yaxis() \n",
    "plt.show()"
   ]
  },
  {
   "cell_type": "markdown",
   "metadata": {},
   "source": [
    "### Switzerland"
   ]
  },
  {
   "cell_type": "code",
   "execution_count": null,
   "metadata": {},
   "outputs": [],
   "source": []
  },
  {
   "cell_type": "markdown",
   "metadata": {},
   "source": [
    "## Manufacturing places of products"
   ]
  },
  {
   "cell_type": "markdown",
   "metadata": {},
   "source": [
    "TODO: VERIFY what the cleaning process is doing...seems that something really weird is happening...according to this Switzerland is not importing from any other country...\n",
    "Additionally, in \"mapping countries\" the assignation seems to have several pitfalls of assignation (does not seem to be insignificant)."
   ]
  },
  {
   "cell_type": "markdown",
   "metadata": {},
   "source": [
    "### European Union"
   ]
  },
  {
   "cell_type": "code",
   "execution_count": 193,
   "metadata": {},
   "outputs": [
    {
     "name": "stdout",
     "output_type": "stream",
     "text": [
      "Number of Importers:\n",
      "57\n",
      "+--------------------+-----+\n",
      "|manufacturing_places|Count|\n",
      "+--------------------+-----+\n",
      "|                  ct|48254|\n",
      "|                  sp| 3246|\n",
      "|                  gm| 2194|\n",
      "|                  be|  970|\n",
      "|                  up|  934|\n",
      "+--------------------+-----+\n",
      "only showing top 5 rows\n",
      "\n"
     ]
    }
   ],
   "source": [
    "# Find dominant importers of ingredients\n",
    "eu_sold_data.createOrReplaceTempView(\"eu_sold_data\")\n",
    "target_manufacture = spark.sql(\"SELECT manufacturing_places, COUNT(manufacturing_places) FROM eu_sold_data GROUP BY manufacturing_places ORDER BY COUNT(manufacturing_places) DESC\")\n",
    "target_manufacture = target_manufacture.withColumnRenamed('count(manufacturing_places)' , 'Count')\n",
    "print(\"Number of Importers:\\n\" + str(target_manufacture.count()))\n",
    "target_manufacture.show(5)"
   ]
  },
  {
   "cell_type": "code",
   "execution_count": 187,
   "metadata": {
    "scrolled": true
   },
   "outputs": [
    {
     "data": {
      "image/png": "[encoded data removed]",
      "text/plain": [
       "<Figure size 432x288 with 1 Axes>"
      ]
     },
     "metadata": {
      "needs_background": "light"
     },
     "output_type": "display_data"
    }
   ],
   "source": [
    "# Extract the 10 most important countries and number of occurances in ingredients.\n",
    "manufacture_countries = target_manufacture.toPandas() \n",
    "manufacture_countries = manufacture_countries.head(10)\n",
    "\n",
    "# Plot the number of products imported by 10 most important countries\n",
    "fig, ax = plt.subplots()\n",
    "ax.grid(zorder=-1)\n",
    "plt.bar(manufacture_countries.manufacturing_places, manufacture_countries.Count, zorder=3, color='skyblue')\n",
    "plt.ylabel('Number of products')   \n",
    "plt.xticks(manufacture_countries.manufacturing_places, rotation='80')\n",
    "plt.title('Number of products the European Union import from country')\n",
    "plt.show()"
   ]
  },
  {
   "cell_type": "markdown",
   "metadata": {},
   "source": [
    "### Switzerland"
   ]
  },
  {
   "cell_type": "code",
   "execution_count": 189,
   "metadata": {},
   "outputs": [
    {
     "name": "stdout",
     "output_type": "stream",
     "text": [
      "Number of Importers:\n",
      "1\n"
     ]
    }
   ],
   "source": [
    "# Find dominant importers of ingredients\n",
    "swiss_sold_data.createOrReplaceTempView(\"swiss_sold_data\")\n",
    "target_swiss_manufacture = spark.sql(\"SELECT manufacturing_places, COUNT(manufacturing_places) FROM swiss_sold_data GROUP BY manufacturing_places ORDER BY COUNT(manufacturing_places) DESC\")\n",
    "target_swiss_manufacture = target_swiss_manufacture.withColumnRenamed('count(manufacturing_places)' , 'Count')\n",
    "print(\"Number of Importers:\\n\" + str(target_swiss_manufacture.count()))"
   ]
  },
  {
   "cell_type": "code",
   "execution_count": 190,
   "metadata": {},
   "outputs": [
    {
     "data": {
      "image/png": "[encoded data removed]",
      "text/plain": [
       "<Figure size 432x288 with 1 Axes>"
      ]
     },
     "metadata": {
      "needs_background": "light"
     },
     "output_type": "display_data"
    }
   ],
   "source": [
    "# Extract the 10 most important countries and number of occurances in ingredients.\n",
    "manufacture_swiss_countries = target_swiss_manufacture.toPandas() \n",
    "manufacture_swiss_countries = manufacture_swiss_countries.head(10)\n",
    "\n",
    "# Plot the number of products imported by 10 most important countries\n",
    "fig, ax = plt.subplots()\n",
    "ax.grid(zorder=-1)\n",
    "plt.bar(manufacture_swiss_countries.manufacturing_places, manufacture_countries.Count, zorder=3, color='skyblue')\n",
    "plt.ylabel('Number of products')   \n",
    "plt.xticks(manufacture_swiss_countries.manufacturing_places, rotation='80')\n",
    "plt.title('Number of products Switzerland import from country')\n",
    "plt.show()"
   ]
  },
  {
   "cell_type": "markdown",
   "metadata": {},
   "source": [
    "## Principal categories of imported products"
   ]
  },
  {
   "cell_type": "markdown",
   "metadata": {},
   "source": [
    "### European Union"
   ]
  },
  {
   "cell_type": "code",
   "execution_count": null,
   "metadata": {},
   "outputs": [],
   "source": []
  },
  {
   "cell_type": "markdown",
   "metadata": {},
   "source": [
    "### Switzerland"
   ]
  },
  {
   "cell_type": "code",
   "execution_count": null,
   "metadata": {},
   "outputs": [],
   "source": []
  },
  {
   "cell_type": "markdown",
   "metadata": {},
   "source": [
    "## Evolution of local consumption in Switzerland"
   ]
  },
  {
   "cell_type": "code",
   "execution_count": null,
   "metadata": {},
   "outputs": [],
   "source": []
  },
  {
   "cell_type": "code",
   "execution_count": null,
   "metadata": {},
   "outputs": [],
   "source": []
  },
  {
   "cell_type": "code",
   "execution_count": null,
   "metadata": {},
   "outputs": [],
   "source": []
  },
  {
   "cell_type": "code",
   "execution_count": null,
   "metadata": {},
   "outputs": [],
   "source": []
  },
  {
   "cell_type": "code",
   "execution_count": null,
   "metadata": {},
   "outputs": [],
   "source": []
  },
  {
   "cell_type": "code",
   "execution_count": null,
   "metadata": {},
   "outputs": [],
   "source": [
    "# store products that are manufactured in Switzerland\n",
    "swiss_manu_data = off_p_df.filter(off_p_df[\"manufacturing_places\"].rlike(filter_ch))\n",
    "\n",
    "swiss_manu_size = swiss_manu_data.count()\n",
    "print(\"swiss_manufactored data Size:\\n\" + str(swiss_manu_size))"
   ]
  },
  {
   "cell_type": "code",
   "execution_count": null,
   "metadata": {},
   "outputs": [],
   "source": [
    "# store products that are both manufactured and originate from Switzerland\n",
    "swiss_origin_manu_data = off_p_df.filter(off_p_df[\"origins\"].rlike(filter_ch) & off_p_df[\"manufacturing_places\"].rlike(filter_ch))\n",
    "\n",
    "swiss_origin_manu_size = swiss_origin_manu_data.count()\n",
    "print(\"swiss_origin_manufactored data Size:\\n\" + str(swiss_origin_manu_size))"
   ]
  },
  {
   "cell_type": "code",
   "execution_count": null,
   "metadata": {},
   "outputs": [],
   "source": [
    "#count products whose ingredients from switzerland but which were not manufactured in Switzerland\n",
    "swiss_origin_tot = swiss_origin_data.filter(~ swiss_origin_data[\"manufacturing_places\"].rlike(filter_ch)).count()\n",
    "\n",
    "#Total of products sold in Switzerland\n",
    "swiss_sold_tot = swiss_sold_data.count()\n",
    "\n",
    "#count products that do not have swiss ingredients\n",
    "swiss_manu_tot = swiss_manu_data.filter(~ swiss_manu_data[\"origins\"].rlike(filter_ch)).count()\n",
    "\n",
    "#products that are sold in Switzerland but that were not manufactured in CH and that do not have swiss ingredients\n",
    "non_swiss_sold_tot = swiss_sold_data.filter(~ swiss_sold_data[\"manufacturing_places\"].rlike(filter_ch) & ~swiss_sold_data[\"origins\"].rlike(filter_ch)).count()\n",
    "\n",
    "#total of products that are both manufactured and has ingredients from Switzerland\n",
    "swiss_origin_manu_tot = swiss_origin_manu_data.count()\n",
    "\n",
    "labels = 'Swiss ingredients (but not manufactured in Switzerland)', 'Manufactured in Switzerland (with no swiss ingredients)', 'Completely foreign products', 'Both swiss ingredients and manufactured in Switzerland'\n",
    "sizes = [swiss_origin_tot, swiss_manu_tot, non_swiss_sold_tot, swiss_origin_manu_tot]\n",
    "fig1, ax1 = plt.subplots()\n",
    "ax1.pie(sizes, labels=labels, autopct='%1.1f%%', startangle=90)\n",
    "ax1.axis('equal')  # Equal aspect ratio ensures that pie is drawn as a circle.\n",
    "plt.title('Proportions for a total of ' + str(swiss_sold_tot) + ' products sold in Switzerland')\n",
    "\n",
    "plt.show()"
   ]
  },
  {
   "cell_type": "markdown",
   "metadata": {},
   "source": [
    "According to above chart, we can see that Switzerland tend to use local ingredients to manufacture products. Since most of products manufactured in Switzerland are produced by mostly Swiss ingredients."
   ]
  },
  {
   "cell_type": "code",
   "execution_count": null,
   "metadata": {},
   "outputs": [],
   "source": [
    "#Store products that are not manufactured in Switzerland\n",
    "non_swiss_sold = swiss_sold_data.filter(~swiss_sold_data[\"manufacturing_places\"].rlike(filter_ch))\n",
    "\n",
    "non_swiss_sold_size = non_swiss_sold.count()\n",
    "print(\"Non swiss/Sold in Switzerland data Size:\\n\" + str(non_swiss_sold_size))"
   ]
  },
  {
   "cell_type": "code",
   "execution_count": null,
   "metadata": {},
   "outputs": [],
   "source": [
    "#Store products that are manufactured in Switzerland\n",
    "swiss_m_sold = swiss_sold_data.filter(swiss_sold_data[\"manufacturing_places\"].rlike(filter_ch))\n",
    "\n",
    "swiss_m_sold_size = swiss_m_sold.count()\n",
    "print(\"Swiss/Sold in Switzerland data Size:\\n\" + str(swiss_m_sold_size))"
   ]
  },
  {
   "cell_type": "code",
   "execution_count": null,
   "metadata": {},
   "outputs": [],
   "source": [
    "# Plot the number Swiss vs non-swiss products (Manufacturing)\n",
    "fig, ax = plt.subplots()\n",
    "titles = ['Manufactured in Switzerland', 'Not manufactured in Switzerland']\n",
    "plt.bar(titles, [swiss_m_sold_size, non_swiss_sold_size])\n",
    "plt.ylabel('Number of products sold in Switzerland')   \n",
    "plt.xticks(titles)\n",
    "plt.title('Fig. Manufacturing products in Switzerland')\n",
    "plt.show()"
   ]
  },
  {
   "cell_type": "markdown",
   "metadata": {},
   "source": [
    "Out of __762__ products sold in Switzerland, Just about __51%__ of them was manufactured in Switzerland."
   ]
  },
  {
   "cell_type": "markdown",
   "metadata": {},
   "source": [
    "The dataset is not concistent with the country or places name, therefore, we have to clean the data by trying to unify a maximum the places names. First the database http://download.geonames.org/export/dump/ was used in order to match all the different ways of naming a country to a single convention but since there are some rows which need human intelligence to process(for example some fields contain name of ingredient or details) in the end we prefered to clean data manually. "
   ]
  },
  {
   "cell_type": "code",
   "execution_count": null,
   "metadata": {},
   "outputs": [],
   "source": [
    "cleaned_countries = pd.read_csv(\"cleaning_data/origins_cleaning.csv\")\n",
    "\n",
    "# Flatten origins column\n",
    "origins_p = non_swiss_sold.withColumn('origins', F.explode_outer(F.split('origins', ',')))\n",
    "\n",
    "# Clean origins countries\n",
    "for index, row in cleaned_countries.iterrows():\n",
    "    if(str(row['replace_with']) != \"nan\"):\n",
    "        origins_p = origins_p.withColumn('origins', F.regexp_replace('origins', \"^\" + row['origins'] + \"$\", row['replace_with']))\n",
    "    else:\n",
    "        origins_p = origins_p.withColumn('origins', F.regexp_replace('origins', row['origins'], \"Not Specified\"))"
   ]
  },
  {
   "cell_type": "code",
   "execution_count": null,
   "metadata": {},
   "outputs": [],
   "source": [
    "# Find dominant importers of ingredients\n",
    "\n",
    "origins_p.createOrReplaceTempView(\"origins_p\")\n",
    "target_origins = spark.sql(\"SELECT origins, COUNT(origins) FROM origins_p GROUP BY origins ORDER BY COUNT(origins) DESC\")\n",
    "target_origins = target_origins.withColumnRenamed('count(origins)' , 'Count')\n",
    "\n",
    "print(\"Number of ingredient importers:\\n\" + str(target_origins.count()))"
   ]
  },
  {
   "cell_type": "code",
   "execution_count": null,
   "metadata": {},
   "outputs": [],
   "source": [
    "target_origins.show(5)"
   ]
  },
  {
   "cell_type": "code",
   "execution_count": null,
   "metadata": {},
   "outputs": [],
   "source": [
    "# Extract the 10 most important countries and number of occurances in ingredients.\n",
    "origin_countries = target_origins.toPandas() \n",
    "origin_countries = origin_countries.head(10)\n",
    "\n",
    "# Plot the number of products imported by 10 most important countries\n",
    "fig, ax = plt.subplots()\n",
    "ax.grid(zorder=-1)\n",
    "plt.bar(origin_countries.origins, origin_countries.Count, zorder=3, color='skyblue')\n",
    "plt.ylabel('Number of products')   \n",
    "plt.xticks(origin_countries.origins, rotation='80')\n",
    "plt.title('Fig. The number of products which ingredients are from the 10 most frequent countries')\n",
    "plt.show()"
   ]
  },
  {
   "cell_type": "code",
   "execution_count": null,
   "metadata": {},
   "outputs": [],
   "source": [
    "# Export origins to CSV \n",
    "target_origins.select(\"origins\").toPandas().to_csv('output/origins.csv')"
   ]
  },
  {
   "cell_type": "markdown",
   "metadata": {},
   "source": [
    "Now that we found the most important countries in case of producing ingredients for products which are imported to Switzerland, We should take the same approach to find the most important manufacturers of this products."
   ]
  },
  {
   "cell_type": "code",
   "execution_count": null,
   "metadata": {},
   "outputs": [],
   "source": [
    "# Flatten manufacturing_places column\n",
    "manufacturers_p = non_swiss_sold.withColumn('manufacturing_places', F.explode_outer(F.split('manufacturing_places', ',')))\n",
    "\n",
    "# Clean manufacturers countries\n",
    "for index, row in cleaned_countries.iterrows():\n",
    "    if(str(row['replace_with']) != \"nan\"):\n",
    "        manufacturers_p = manufacturers_p.withColumn('manufacturing_places', F.regexp_replace('manufacturing_places', \"^\" + row['origins'] + \"$\", row['replace_with']))\n",
    "    else:\n",
    "        manufacturers_p = manufacturers_p.withColumn('manufacturing_places', F.regexp_replace('manufacturing_places', row['origins'], \"Not Specified\"))\n"
   ]
  },
  {
   "cell_type": "code",
   "execution_count": null,
   "metadata": {},
   "outputs": [],
   "source": [
    "# Find dominant importers (manufacturers)\n",
    "\n",
    "manufacturers_p.createOrReplaceTempView(\"manufacturers_p\")\n",
    "target_manufacturers = spark.sql(\"SELECT manufacturing_places, COUNT(manufacturing_places) FROM manufacturers_p GROUP BY manufacturing_places ORDER BY COUNT(manufacturing_places) DESC\")\n",
    "target_manufacturers = target_manufacturers.withColumnRenamed('count(manufacturing_places)' , 'Count')\n",
    "# target_manufacturers.show()\n",
    "\n",
    "print(\"Number of Manufacturers:\\n\" + str(target_manufacturers.count()))"
   ]
  },
  {
   "cell_type": "code",
   "execution_count": null,
   "metadata": {},
   "outputs": [],
   "source": [
    "# Extract the 10 most important manufacturers countries and number of occurances.\n",
    "manufacturer_countries = target_manufacturers.toPandas() \n",
    "manufacturer_countries = manufacturer_countries.head(10)\n",
    "\n",
    "# Plot the number of products manufactured by 10 most important countries\n",
    "fig, ax = plt.subplots()\n",
    "ax.grid(zorder=-1)\n",
    "plt.bar(manufacturer_countries.manufacturing_places, manufacturer_countries.Count, zorder=3, color='skyblue')\n",
    "plt.ylabel('Number of products')   \n",
    "plt.xticks(manufacturer_countries.manufacturing_places, rotation='80')\n",
    "plt.title('Fig. The number of products manufactured by 10 most important countries')\n",
    "plt.show()"
   ]
  },
  {
   "cell_type": "code",
   "execution_count": null,
   "metadata": {},
   "outputs": [],
   "source": [
    "# Export manufacturing_places to CSV \n",
    "target_manufacturers.select(\"manufacturing_places\").toPandas().to_csv('output/manufacturing_places.csv')"
   ]
  },
  {
   "cell_type": "markdown",
   "metadata": {},
   "source": [
    "### Working with products' categories"
   ]
  },
  {
   "cell_type": "markdown",
   "metadata": {},
   "source": [
    "We would like to find which countries import what products. In order to answer to this question, first we extract categories corresponding to the products sold in Switzerland but not manufactured in this country. Then we will combine the information provided for manufacturing places of these products with corresponding category. \n",
    "\n",
    "In the end we will extract the 5 most important importers of each category."
   ]
  },
  {
   "cell_type": "code",
   "execution_count": null,
   "metadata": {},
   "outputs": [],
   "source": [
    "extra_info_df = ' categories '\n",
    "categories_df = spark.sql(\"SELECT\" + p_id_col + extra_info_df + \" FROM data_main\")\n",
    "categories_df.show(10)"
   ]
  },
  {
   "cell_type": "code",
   "execution_count": null,
   "metadata": {},
   "outputs": [],
   "source": [
    "categories_df.select([count(when(isnan(c) | col(c).isNull(), c)).alias(c) for c in traces_df.columns]).show()"
   ]
  },
  {
   "cell_type": "code",
   "execution_count": null,
   "metadata": {},
   "outputs": [],
   "source": [
    "# Join table of categories with table of target products (Sold in Switzerland but not manufactured in it)\n",
    "non_swiss_sold.createOrReplaceTempView(\"target_products_df\")\n",
    "categories_df.createOrReplaceTempView(\"categories_df\")\n",
    "joined_df = spark.sql(\"SELECT p.code, c.categories, p.origins, p.manufacturing_places, p.countries  FROM target_products_df p INNER JOIN categories_df c ON p.code = c.code\")"
   ]
  },
  {
   "cell_type": "code",
   "execution_count": null,
   "metadata": {},
   "outputs": [],
   "source": [
    "joined_df.select([count(when(isnan(c) | col(c).isNull(), c)).alias(c) for c in joined_df.columns]).show()"
   ]
  },
  {
   "cell_type": "markdown",
   "metadata": {},
   "source": [
    "According to above table, just 15 products do not have category. "
   ]
  },
  {
   "cell_type": "code",
   "execution_count": null,
   "metadata": {},
   "outputs": [],
   "source": [
    "joined_df.createOrReplaceTempView(\"target_products_cats\")\n",
    "sql_filter = \"SELECT * FROM target_products_cats WHERE categories is not NULL\"\n",
    "target_products_categories_p = spark.sql(sql_filter)\n",
    "\n",
    "print(\"Number of Products sold in Switzerland with categories:\\n\" + str(target_products_categories_p.count()))"
   ]
  },
  {
   "cell_type": "code",
   "execution_count": null,
   "metadata": {},
   "outputs": [],
   "source": [
    "target_products_categories_p.show(5)"
   ]
  },
  {
   "cell_type": "code",
   "execution_count": null,
   "metadata": {},
   "outputs": [],
   "source": [
    "# Flatten categories column\n",
    "target_products_categories_p = target_products_categories_p.withColumn('categories', F.explode_outer(F.split('categories', ',')))\n",
    "\n",
    "# Remove occurances of en: in name of categories\n",
    "target_products_categories_p = target_products_categories_p.withColumn('categories', F.regexp_replace('categories', 'en:', ''))\n",
    "\n",
    "target_products_categories_p.show(5)"
   ]
  },
  {
   "cell_type": "code",
   "execution_count": null,
   "metadata": {},
   "outputs": [],
   "source": [
    "# Find dominant categories\n",
    "target_products_categories_p.createOrReplaceTempView(\"target_products_categories_p\")\n",
    "target_categories = spark.sql(\"SELECT categories, COUNT(categories) FROM target_products_categories_p GROUP BY categories ORDER BY COUNT(categories) DESC\")\n",
    "target_categories = target_categories.withColumnRenamed('count(categories)' , 'Count')\n",
    "target_categories.show()\n",
    "\n",
    "print(\"Number of Categories:\\n\" + str(target_categories.count()))"
   ]
  },
  {
   "cell_type": "markdown",
   "metadata": {},
   "source": [
    "According to above table not all categories are independant and they may contain similar products. We did not change categories for this milestone but we would like to merge some categories in future to have better distinction between countries which import these products. "
   ]
  },
  {
   "cell_type": "code",
   "execution_count": null,
   "metadata": {},
   "outputs": [],
   "source": [
    "# Export Categories to CSV \n",
    "target_categories.toPandas().to_csv('output/categories.csv')"
   ]
  },
  {
   "cell_type": "code",
   "execution_count": null,
   "metadata": {},
   "outputs": [],
   "source": [
    "# Extract the 15 most frequent categories and number of occurances.\n",
    "categories = target_categories.toPandas() \n",
    "categories = categories.head(15)\n",
    "\n",
    "# Plot the most frequent categories\n",
    "fig, ax = plt.subplots()\n",
    "ax.grid(zorder=-1)\n",
    "plt.barh(categories.categories, categories.Count, zorder=3, color='skyblue')\n",
    "plt.xlabel('Number of products')   \n",
    "plt.title('Fig. The number of products sold in Switzerland')\n",
    "ax.invert_yaxis() \n",
    "plt.show()"
   ]
  },
  {
   "cell_type": "code",
   "execution_count": null,
   "metadata": {},
   "outputs": [],
   "source": [
    "cleaned_countries = pd.read_csv(\"cleaning_data/origins_cleaning.csv\")"
   ]
  },
  {
   "cell_type": "code",
   "execution_count": null,
   "metadata": {},
   "outputs": [],
   "source": [
    "# Extract the most important manufacturer countries for 15 most frequent categories\n",
    "\n",
    "categories_countires_p = target_products_categories_p.withColumn('manufacturing_places', F.explode_outer(F.split('manufacturing_places', ',')))\n",
    "\n",
    "# Clean manufacturers countries\n",
    "for index, row in cleaned_countries.iterrows():\n",
    "    if(str(row['replace_with']) != \"nan\"):\n",
    "        categories_countires_p = categories_countires_p.withColumn('manufacturing_places', F.regexp_replace('manufacturing_places', \"^\" + row['origins'] + \"$\", row['replace_with']))\n",
    "    else:\n",
    "        categories_countires_p = categories_countires_p.withColumn('manufacturing_places', F.regexp_replace('manufacturing_places', row['origins'], \"Not Specified\"))\n",
    "\n",
    "categories_countires_p = categories_countires_p.withColumn('categories', F.explode_outer(F.split('categories', ',')))\n",
    "products_cats_df = categories_countires_p.toPandas()\n",
    "\n",
    "countries_cats = []\n",
    "cat = \"Snacks sucrés\"\n",
    "for index, row in categories.iterrows():\n",
    "    temp_df = products_cats_df[(products_cats_df.categories == row.categories)].groupby('manufacturing_places').count().sort_values(by=['code'], ascending=False).head(5)\n",
    "    countries_cats.append(temp_df)\n",
    "\n",
    "# Each element of countries_cats is a dataframe containing the most important manufacturers\n",
    "# of the corresponding category\n",
    "\n",
    "i = 0\n",
    "print(\"category: \" + str(categories.iloc[i].categories))\n",
    "print(\"The most important manufacturers:\")\n",
    "print(countries_cats[0].head(3).index.values)"
   ]
  },
  {
   "cell_type": "markdown",
   "metadata": {},
   "source": [
    "We will use extracted information about the most important manufacturer countries for 15 most frequent categories for our visualization."
   ]
  },
  {
   "cell_type": "markdown",
   "metadata": {},
   "source": [
    "## Descriptive Analysis"
   ]
  },
  {
   "cell_type": "code",
   "execution_count": null,
   "metadata": {},
   "outputs": [],
   "source": [
    "openfood = pd.read_csv(DATA_FOLDER + openfood_file, sep = '\\t')"
   ]
  },
  {
   "cell_type": "code",
   "execution_count": null,
   "metadata": {},
   "outputs": [],
   "source": [
    "foodSwitzerland = openfood[openfood['countries_tags']==\"en:switzerland\"]"
   ]
  },
  {
   "cell_type": "code",
   "execution_count": null,
   "metadata": {},
   "outputs": [],
   "source": [
    "nbProdSwit = len(foodSwitzerland)\n",
    "print(\"Number of products: \", nbProdSwit)"
   ]
  },
  {
   "cell_type": "markdown",
   "metadata": {},
   "source": [
    "# first perspective: Compare old vs new products inside the dataset"
   ]
  },
  {
   "cell_type": "markdown",
   "metadata": {},
   "source": [
    "A product in the dataset is considered \"old\" if its description was uploaded to the dataset before February 2017. By the contrary, it is considered as \"new\" if its description was uploaded after that date.\n",
    "\n",
    "_As that definition is a little rigid, in order to get closer to the real situation, the following assumption is made: From the total products uploaded to the dataset after February 2017, 20% are old products._  "
   ]
  },
  {
   "cell_type": "markdown",
   "metadata": {},
   "source": [
    "A first perspective to tackle the research question, is to compare how in this more than 6 years of existance of the dataset, the characteristics of the products have changed. Specifically, we would like to know if there have been some changes in the origin of the primary resources, or in the origin of the manufacture or in the labels of the products.\n",
    "\n",
    "The study of the evolution in time of each one of those features, will include an __exploratory data analysis__.\n",
    "Finally, a study including the three features will be done, aiming to find an aggregated differentiated behavior in time, reflected in different clusters of periods of time. For that the __K-modes algorithm__ will be used."
   ]
  },
  {
   "cell_type": "code",
   "execution_count": null,
   "metadata": {},
   "outputs": [],
   "source": [
    "print(\"Date of first upload: \", min(foodSwitzerland['created_datetime']))\n",
    "print(\"Date of last upload retrieved: \", max(foodSwitzerland['created_datetime']))"
   ]
  },
  {
   "cell_type": "code",
   "execution_count": null,
   "metadata": {},
   "outputs": [],
   "source": [
    "foodSwitzerland['created_datetime'] = pd.to_datetime(foodSwitzerland['created_datetime'])\n",
    "foodSwitzerland = foodSwitzerland.sort_values(by='created_datetime')"
   ]
  },
  {
   "cell_type": "markdown",
   "metadata": {},
   "source": [
    "The uploads of products sold in Switzerland, behaves differently in time. Taking into account the histogram presented below, two periods of time are defined:\n",
    "- Period 1: Created for studying the behaviour from \"old\" products. Products uploaded before Feb 2017.\n",
    "- Period 2: Created for studying the behaviour from \"new\" products. Products uploaded after Feb 2017."
   ]
  },
  {
   "cell_type": "code",
   "execution_count": null,
   "metadata": {},
   "outputs": [],
   "source": [
    "rateOldInNew = 0.2\n",
    "old_products = len(foodSwitzerland[foodSwitzerland['created_datetime']<\"2017-03-01 00:00:00\"])\n",
    "print(\"Old products: \", old_products + (len(foodSwitzerland)-old_products)*(rateOldInNew))\n",
    "print(\"New products: \", (len(foodSwitzerland)-old_products)*(1-rateOldInNew))\n",
    "foodSwitzerland['created_datetime'].hist()"
   ]
  },
  {
   "cell_type": "markdown",
   "metadata": {},
   "source": [
    "Before making subdivision of data:"
   ]
  },
  {
   "cell_type": "code",
   "execution_count": null,
   "metadata": {},
   "outputs": [],
   "source": [
    "filter_ch = '[Ss]witzerland|[Ss]uisse|[Ss]chweiz|[Ss]vizerra'\n",
    "filter_local = '[Ss]witzerland|[Ss]uisse|[Ss]chweiz|[Ss]vizerra|[Ll]ocal'\n",
    "\n",
    "place = pd.Series(['Other country','Switzerland', 'No information'], index=[0,1,2])\n",
    "refLabel = pd.Series(['Other Label','Related with Switzerland', 'No information'], index=[0,1,2]) \n",
    "\n",
    "foodSwitzerland[\"originsCat\"] = foodSwitzerland[\"origins\"].str.contains(filter_ch,regex=True).map(place,na_action='ignore')\n",
    "foodSwitzerland[\"manuCat\"] = foodSwitzerland[\"manufacturing_places\"].str.contains(filter_ch,regex=True).map(place,na_action='ignore')\n",
    "foodSwitzerland[\"labCat\"] = foodSwitzerland[\"labels_tags\"].str.contains(filter_local,regex=True).map(refLabel,na_action='ignore')"
   ]
  },
  {
   "cell_type": "markdown",
   "metadata": {},
   "source": [
    "Now, let's do the subdivision in the two periods, taking care of our assumption of 20%:"
   ]
  },
  {
   "cell_type": "code",
   "execution_count": null,
   "metadata": {},
   "outputs": [],
   "source": [
    "foodSwitzerlandBef = foodSwitzerland[foodSwitzerland['created_datetime']<\"2017-03-01 00:00:00\"]\n",
    "foodSwitzerlandAft = foodSwitzerland[foodSwitzerland['created_datetime']>=\"2017-03-01 00:00:00\"]\n",
    "\n",
    "befInAft = foodSwitzerlandAft.sample(n=int(rateOldInNew*len(foodSwitzerlandAft)), replace=False)\n",
    "foodSwitzerlandBef = pd.concat([foodSwitzerlandBef,befInAft],axis=0)\n",
    "\n",
    "for i in range (0,len(befInAft)):\n",
    "    foodSwitzerlandAft = foodSwitzerlandAft[foodSwitzerlandAft['code']!=befInAft['code'].iloc[i]]\n",
    "print(\"Number of Old products: \", np.shape(foodSwitzerlandBef))\n",
    "print(\"Number of New products: \", np.shape(foodSwitzerlandAft))"
   ]
  },
  {
   "cell_type": "markdown",
   "metadata": {},
   "source": [
    "### 2.1 Study of the evolution in time of each one of the interest features"
   ]
  },
  {
   "cell_type": "markdown",
   "metadata": {},
   "source": [
    "### 2.1.1 With respect to: Origin of the primary resources"
   ]
  },
  {
   "cell_type": "markdown",
   "metadata": {},
   "source": [
    "First, bootstrapping for include confidence intervals to results"
   ]
  },
  {
   "cell_type": "code",
   "execution_count": null,
   "metadata": {},
   "outputs": [],
   "source": [
    "#before\n",
    "propSB_100ite = np.zeros (100)\n",
    "propOCB_100ite = np.zeros (100)\n",
    "#after\n",
    "propSA_100ite = np.zeros (100)\n",
    "propOCA_100ite = np.zeros (100)\n",
    "\n",
    "for iteration in range(0,100):\n",
    "    #before\n",
    "    temp_bef = foodSwitzerlandBef[\"originsCat\"].sample(n=len(foodSwitzerlandBef), replace=True)\n",
    "    propSB_100ite[iteration] = (sum(temp_bef==\"Switzerland\")/len(foodSwitzerlandBef))\n",
    "    propOCB_100ite[iteration] = sum(temp_bef==\"Other country\")/len(foodSwitzerlandBef)\n",
    "    #after\n",
    "    temp_aft = foodSwitzerlandAft[\"originsCat\"].sample(n=len(foodSwitzerlandAft), replace=True)\n",
    "    propSA_100ite[iteration] = sum(temp_aft==\"Switzerland\")/len(foodSwitzerlandAft)\n",
    "    propOCA_100ite[iteration] = sum(temp_aft==\"Other country\")/len(foodSwitzerlandAft)\n",
    "    \n",
    "    #Relation of time evolution and difference of products in each categories\n",
    "    difpropB = propSB_100ite[iteration]-propOCB_100ite[iteration]\n",
    "    difpropA = propSB_100ite[iteration]-propOCA_100ite[iteration]\n",
    "\n",
    "#Calculating standard deviation of count of each category\n",
    "SBstd = np.std(propSB_100ite)\n",
    "OCBstd = np.std(propOCB_100ite)\n",
    "#Calculating standard deviation of count of each category\n",
    "SAstd = propSA_100ite.std()\n",
    "OCAstd = propOCA_100ite.std()"
   ]
  },
  {
   "cell_type": "markdown",
   "metadata": {},
   "source": [
    "Then, plotting of behavior "
   ]
  },
  {
   "cell_type": "code",
   "execution_count": null,
   "metadata": {
    "scrolled": true
   },
   "outputs": [],
   "source": [
    "#Report information of NAN cases\n",
    "fig, axes = plt.subplots(nrows=1, ncols=3, figsize=(15,5))\n",
    "print(\"There was not information for \",len(foodSwitzerlandBef[\"originsCat\"])-sum(foodSwitzerlandBef[\"originsCat\"]==\"Switzerland\")-sum(foodSwitzerlandBef[\"originsCat\"]==\"Other country\"),\" products in the period 1.\")\n",
    "print(\"There was not information for \",len(foodSwitzerlandAft[\"originsCat\"])-sum(foodSwitzerlandAft[\"originsCat\"]==\"Switzerland\")-sum(foodSwitzerlandAft[\"originsCat\"]==\"Other country\"),\" products in the period 2.\")\n",
    "\n",
    "#Plot origin of primary resources by periods\n",
    "plt.subplot(1,2,1)\n",
    "(foodSwitzerlandBef[\"originsCat\"].value_counts()/len(foodSwitzerlandBef[\"originsCat\"])).plot(kind='bar', yerr = [SBstd,OCBstd],title='Period 1')\n",
    "plt.subplot(1,2,2)\n",
    "(foodSwitzerlandAft[\"originsCat\"].value_counts()/len(foodSwitzerlandAft[\"originsCat\"])).plot(kind='bar', yerr = [SAstd,OCAstd],title='Period 2')\n",
    "\n",
    "plt.show()"
   ]
  },
  {
   "cell_type": "markdown",
   "metadata": {},
   "source": [
    "Most of old products have as origin of primary resources Switzerland. However, in new products, the origin of primary resources is for Switzerland and Other countries statistically the same."
   ]
  },
  {
   "cell_type": "markdown",
   "metadata": {},
   "source": [
    "### 2.1.2 With respect to: Manufacture"
   ]
  },
  {
   "cell_type": "markdown",
   "metadata": {},
   "source": [
    "First, bootstrapping for include confidence intervals to results"
   ]
  },
  {
   "cell_type": "code",
   "execution_count": null,
   "metadata": {},
   "outputs": [],
   "source": [
    "#before\n",
    "propSB_100ite = np.zeros (100)\n",
    "propOCB_100ite = np.zeros (100)\n",
    "\n",
    "#after\n",
    "propSA_100ite = np.zeros (100)\n",
    "propOCA_100ite = np.zeros (100)\n",
    "\n",
    "for iteration in range(0,100):\n",
    "    #before\n",
    "    temp_bef = foodSwitzerlandBef[\"manuCat\"].sample(n=len(foodSwitzerlandBef), replace=True)\n",
    "    propSB_100ite[iteration] = sum(temp_bef==\"Switzerland\")/len(foodSwitzerlandBef)\n",
    "    propOCB_100ite[iteration] = sum(temp_bef==\"Other country\")/len(foodSwitzerlandBef)\n",
    "    #after\n",
    "    temp_aft = foodSwitzerlandAft[\"manuCat\"].sample(n=len(foodSwitzerlandAft), replace=True)\n",
    "    propSA_100ite[iteration] = sum(temp_aft==\"Switzerland\")/len(foodSwitzerlandAft)\n",
    "    propOCA_100ite[iteration] = sum(temp_aft==\"Other country\")/len(foodSwitzerlandAft)\n",
    "    \n",
    "\n",
    "#Calculating standard deviation of count of each category\n",
    "SBstd = propSB_100ite.std()\n",
    "OCBstd = propOCB_100ite.std()\n",
    "#Calculating standard deviation of count of each category\n",
    "SAstd = propSA_100ite.std()\n",
    "OCAstd = propOCA_100ite.std()"
   ]
  },
  {
   "cell_type": "code",
   "execution_count": null,
   "metadata": {
    "scrolled": true
   },
   "outputs": [],
   "source": [
    "#Report information of NAN cases\n",
    "fig, axes = plt.subplots(nrows=1, ncols=2, figsize=(15,5))\n",
    "print(\"There was not information for \",len(foodSwitzerlandBef[\"manuCat\"])-sum(foodSwitzerlandBef[\"manuCat\"]==\"Switzerland\")-sum(foodSwitzerlandBef[\"manuCat\"]==\"Other country\"),\" products in the period 1.\")\n",
    "print(\"There was not information for \",len(foodSwitzerlandAft[\"manuCat\"])-sum(foodSwitzerlandAft[\"manuCat\"]==\"Switzerland\")-sum(foodSwitzerlandAft[\"manuCat\"]==\"Other country\"),\" products in the period 2.\")\n",
    "\n",
    "#Plot origin of primary resources by periods\n",
    "plt.subplot(1,2,1)\n",
    "(foodSwitzerlandBef[\"manuCat\"].value_counts()/len(foodSwitzerlandBef[\"manuCat\"])).plot(kind='bar', yerr = [SBstd,OCBstd],title='Period 1')\n",
    "plt.subplot(1,2,2)\n",
    "(foodSwitzerlandAft[\"manuCat\"].value_counts()/len(foodSwitzerlandBef[\"manuCat\"])).plot(kind='bar', yerr = [SAstd,OCAstd],title='Period 2')\n",
    "\n",
    "plt.show()"
   ]
  },
  {
   "cell_type": "markdown",
   "metadata": {},
   "source": [
    "Most of old products were manufactured in Switzerland. However, in new products, the manufacture is for Switzerland and Other countries statistically the same."
   ]
  },
  {
   "cell_type": "markdown",
   "metadata": {},
   "source": [
    "### 2.1.3 With respect to: Labels"
   ]
  },
  {
   "cell_type": "code",
   "execution_count": null,
   "metadata": {},
   "outputs": [],
   "source": [
    "#before\n",
    "propSB_100ite = np.zeros (100)\n",
    "propOCB_100ite = np.zeros (100)\n",
    "#after\n",
    "propSA_100ite = np.zeros (100)\n",
    "propOCA_100ite = np.zeros (100)\n",
    "\n",
    "for iteration in range(0,100):\n",
    "    #before\n",
    "    temp_bef = foodSwitzerlandBef[\"labCat\"].sample(n=len(foodSwitzerlandBef), replace=True)\n",
    "    propSB_100ite[iteration] = sum(temp_bef==\"Related with Switzerland\")/len(foodSwitzerlandBef)\n",
    "    propOCB_100ite[iteration] = sum(temp_bef==\"Other Label\")/len(foodSwitzerlandBef)\n",
    "    #after\n",
    "    temp_aft = foodSwitzerlandAft[\"labCat\"].sample(n=len(foodSwitzerlandAft), replace=True)\n",
    "    propSA_100ite[iteration] = sum(temp_aft==\"Related with Switzerland\")/len(foodSwitzerlandAft)\n",
    "    propOCA_100ite[iteration] = sum(temp_aft==\"Other Label\")/len(foodSwitzerlandAft)\n",
    "    \n",
    "    #Relation of time evolution and difference of products in each categories\n",
    "    difpropB = propSB_100ite[iteration]-propOCB_100ite[iteration]\n",
    "    difpropA = propSB_100ite[iteration]-propOCA_100ite[iteration]\n",
    "\n",
    "#Calculating standard deviation of count of each category\n",
    "SBstd = propSB_100ite.std()\n",
    "OCBstd = propOCB_100ite.std()\n",
    "#Calculating standard deviation of count of each category\n",
    "SAstd = propSA_100ite.std()\n",
    "OCAstd = propOCA_100ite.std()"
   ]
  },
  {
   "cell_type": "code",
   "execution_count": null,
   "metadata": {
    "scrolled": true
   },
   "outputs": [],
   "source": [
    "#Report information of NAN cases\n",
    "fig, axes = plt.subplots(nrows=1, ncols=2, figsize=(15,5))\n",
    "print(\"There was not information for \",len(foodSwitzerlandBef[\"labCat\"])-sum(foodSwitzerlandBef[\"labCat\"]==\"Switzerland\")-sum(foodSwitzerlandBef[\"labCat\"]==\"Other country\"),\" products in the period 1.\")\n",
    "print(\"There was not information for \",len(foodSwitzerlandAft[\"labCat\"])-sum(foodSwitzerlandAft[\"labCat\"]==\"Switzerland\")-sum(foodSwitzerlandAft[\"labCat\"]==\"Other country\"),\" products in the period 2.\")\n",
    "\n",
    "#Plot origin of primary resources by periods\n",
    "plt.subplot(1,2,1)\n",
    "(foodSwitzerlandBef[\"labCat\"].value_counts()/len(foodSwitzerlandBef[\"labCat\"])).plot(kind='bar', yerr = [SBstd,OCBstd],title='Period 1')\n",
    "plt.subplot(1,2,2)\n",
    "(foodSwitzerlandAft[\"labCat\"].value_counts()/len(foodSwitzerlandBef[\"labCat\"])).plot(kind='bar', yerr = [SAstd,OCAstd],title='Period 2')\n",
    "\n",
    "plt.show()"
   ]
  },
  {
   "cell_type": "markdown",
   "metadata": {},
   "source": [
    "For the two periods studied, other labels are more frequent than the related with Switzerland"
   ]
  },
  {
   "cell_type": "markdown",
   "metadata": {},
   "source": [
    "## Future plan"
   ]
  },
  {
   "cell_type": "markdown",
   "metadata": {},
   "source": []
  },
  {
   "cell_type": "markdown",
   "metadata": {},
   "source": [
    "### Improving data cleaning for countries \n",
    "\n",
    "Although we cleaned the data of name of countries but about 200 are still remained."
   ]
  },
  {
   "cell_type": "markdown",
   "metadata": {},
   "source": [
    "### Extend research questions to Europe\n",
    "\n",
    "After talking with TA, we decided to extend our research questions to Europe in order to have more data. The similar approach will be taken for answering our main questions about Europe."
   ]
  },
  {
   "cell_type": "markdown",
   "metadata": {},
   "source": [
    "### Evaluate and complement our results\n",
    "\n",
    "We would like to complement our results using following databases:\n",
    "- Additional datasets “Evolution de la consommation de denrées alimentaires en Suisse” (https://opendata.swiss/fr/dataset/entwicklung-des-nahrungsmittelverbrauches-in-der-schweiz-je-kopf-und-jahr1) and “Dépenses fédérales pour l’agriculture et l’alimentation” (https://opendata.swiss/fr/dataset/bundesausgaben-fur-die-landwirtschaft-und-die-ernahrung1) from https://opendata.swiss/fr/group/agriculture\n",
    "\n",
    "- A last additional dataset for the second question of the project https://www.gate.ezv.admin.ch/swissimpex/public/bereiche/waren/result.xhtml Total of imports of agriculture, forestry and fishing goods"
   ]
  },
  {
   "cell_type": "markdown",
   "metadata": {},
   "source": [
    "### Find the most important characteristic of Swiss-made products\n",
    "\n",
    "After answering our main research questions we would like to find which products are likely to import to Switzerland. To answer this question we would like to train a classifier in order to see which features are the most important features to decide if a product is Swiss made or not."
   ]
  },
  {
   "cell_type": "markdown",
   "metadata": {},
   "source": [
    "### Improve our assumption about date of entering products to the Swiss market\n",
    "\n",
    "Study of the evolution in time of the interest features combined\n",
    "- The k-modes and other machine learning algorithms are expected to be done for the milestone 3."
   ]
  },
  {
   "cell_type": "code",
   "execution_count": null,
   "metadata": {},
   "outputs": [],
   "source": []
  }
 ],
 "metadata": {
  "kernelspec": {
   "display_name": "Python 3",
   "language": "python",
   "name": "python3"
  },
  "language_info": {
   "codemirror_mode": {
    "name": "ipython",
    "version": 3
   },
   "file_extension": ".py",
   "mimetype": "text/x-python",
   "name": "python",
   "nbconvert_exporter": "python",
   "pygments_lexer": "ipython3",
   "version": "3.6.6"
  }
 },
 "nbformat": 4,
 "nbformat_minor": 2
}
